{
 "cells": [
  {
   "cell_type": "markdown",
   "metadata": {
    "id": "NGaJ_QJtTX4Y"
   },
   "source": [
    "# Environmental Analytics Lab 2\n",
    "## Semester 2, 2022-23\n",
    "## Dr. Bianca Schoen-Phelan\n",
    "\n",
    "\n",
    "**Task**: Run the cells that contain examples (either by using the play button or by typeing `shift+Enter`). Do the exercises that are marked with \"**Task**\"."
   ]
  },
  {
   "cell_type": "markdown",
   "metadata": {
    "id": "DdsVsUOhsJ93"
   },
   "source": [
    "For today' lab we need some specific versions. Please run the below code first to make sure we are all using the right versions of the libraries."
   ]
  },
  {
   "cell_type": "markdown",
   "metadata": {
    "id": "tA9-R17_cM6c"
   },
   "source": [
    "Like pandas, geopandas is also available in colab."
   ]
  },
  {
   "cell_type": "code",
   "execution_count": 2,
   "metadata": {
    "executionInfo": {
     "elapsed": 870,
     "status": "ok",
     "timestamp": 1681214964900,
     "user": {
      "displayName": "Luke Hallinan",
      "userId": "01579017842568082777"
     },
     "user_tz": -60
    },
    "id": "4yiOIdskqG1D"
   },
   "outputs": [
    {
     "name": "stdout",
     "output_type": "stream",
     "text": [
      "Collecting geopandas\n",
      "  Downloading geopandas-0.12.2-py3-none-any.whl (1.1 MB)\n",
      "     ---------------------------------------- 1.1/1.1 MB 13.3 MB/s eta 0:00:00\n",
      "Requirement already satisfied: pandas>=1.0.0 in c:\\users\\lukeh\\anaconda3\\lib\\site-packages (from geopandas) (1.4.4)\n",
      "Collecting pyproj>=2.6.1.post1\n",
      "  Downloading pyproj-3.5.0-cp39-cp39-win_amd64.whl (5.1 MB)\n",
      "     ---------------------------------------- 5.1/5.1 MB 29.6 MB/s eta 0:00:00\n",
      "Collecting shapely>=1.7\n",
      "  Downloading shapely-2.0.1-cp39-cp39-win_amd64.whl (1.4 MB)\n",
      "     ---------------------------------------- 1.4/1.4 MB 28.9 MB/s eta 0:00:00\n",
      "Collecting fiona>=1.8\n",
      "  Downloading Fiona-1.9.3-cp39-cp39-win_amd64.whl (22.0 MB)\n",
      "     --------------------------------------- 22.0/22.0 MB 40.9 MB/s eta 0:00:00\n",
      "Requirement already satisfied: packaging in c:\\users\\lukeh\\anaconda3\\lib\\site-packages (from geopandas) (21.3)\n",
      "Collecting munch>=2.3.2\n",
      "  Downloading munch-2.5.0-py2.py3-none-any.whl (10 kB)\n",
      "Collecting cligj>=0.5\n",
      "  Downloading cligj-0.7.2-py3-none-any.whl (7.1 kB)\n",
      "Requirement already satisfied: attrs>=19.2.0 in c:\\users\\lukeh\\anaconda3\\lib\\site-packages (from fiona>=1.8->geopandas) (21.4.0)\n",
      "Requirement already satisfied: certifi in c:\\users\\lukeh\\anaconda3\\lib\\site-packages (from fiona>=1.8->geopandas) (2022.9.14)\n",
      "Requirement already satisfied: importlib-metadata in c:\\users\\lukeh\\anaconda3\\lib\\site-packages (from fiona>=1.8->geopandas) (4.11.3)\n",
      "Requirement already satisfied: click~=8.0 in c:\\users\\lukeh\\anaconda3\\lib\\site-packages (from fiona>=1.8->geopandas) (8.0.4)\n",
      "Collecting click-plugins>=1.0\n",
      "  Downloading click_plugins-1.1.1-py2.py3-none-any.whl (7.5 kB)\n",
      "Requirement already satisfied: python-dateutil>=2.8.1 in c:\\users\\lukeh\\anaconda3\\lib\\site-packages (from pandas>=1.0.0->geopandas) (2.8.2)\n",
      "Requirement already satisfied: numpy>=1.18.5 in c:\\users\\lukeh\\anaconda3\\lib\\site-packages (from pandas>=1.0.0->geopandas) (1.21.5)\n",
      "Requirement already satisfied: pytz>=2020.1 in c:\\users\\lukeh\\anaconda3\\lib\\site-packages (from pandas>=1.0.0->geopandas) (2022.1)\n",
      "Requirement already satisfied: pyparsing!=3.0.5,>=2.0.2 in c:\\users\\lukeh\\anaconda3\\lib\\site-packages (from packaging->geopandas) (3.0.9)\n",
      "Requirement already satisfied: colorama in c:\\users\\lukeh\\anaconda3\\lib\\site-packages (from click~=8.0->fiona>=1.8->geopandas) (0.4.5)\n",
      "Requirement already satisfied: six in c:\\users\\lukeh\\anaconda3\\lib\\site-packages (from munch>=2.3.2->fiona>=1.8->geopandas) (1.16.0)\n",
      "Requirement already satisfied: zipp>=0.5 in c:\\users\\lukeh\\anaconda3\\lib\\site-packages (from importlib-metadata->fiona>=1.8->geopandas) (3.8.0)\n",
      "Installing collected packages: shapely, pyproj, munch, cligj, click-plugins, fiona, geopandas\n",
      "Successfully installed click-plugins-1.1.1 cligj-0.7.2 fiona-1.9.3 geopandas-0.12.2 munch-2.5.0 pyproj-3.5.0 shapely-2.0.1\n"
     ]
    }
   ],
   "source": [
    "# Import necessary modules\n",
    "!pip install geopandas\n",
    "import pandas as pd\n",
    "# !pip install geopandas\n",
    "import geopandas as gpd\n",
    "from shapely.geometry import Point, LineString, MultiLineString, Polygon, MultiPolygon, MultiPoint"
   ]
  },
  {
   "cell_type": "markdown",
   "metadata": {
    "id": "hLrTcvjbcR7A"
   },
   "source": [
    "Let's connect to our google drive."
   ]
  },
  {
   "cell_type": "code",
   "execution_count": 3,
   "metadata": {
    "colab": {
     "base_uri": "https://localhost:8080/"
    },
    "executionInfo": {
     "elapsed": 1374,
     "status": "ok",
     "timestamp": 1681214967166,
     "user": {
      "displayName": "Luke Hallinan",
      "userId": "01579017842568082777"
     },
     "user_tz": -60
    },
    "id": "rHfxtYwxrmSA",
    "outputId": "ca12fdfd-2202-4746-e625-64c496c2bb79"
   },
   "outputs": [
    {
     "ename": "ModuleNotFoundError",
     "evalue": "No module named 'google'",
     "output_type": "error",
     "traceback": [
      "\u001b[1;31m---------------------------------------------------------------------------\u001b[0m",
      "\u001b[1;31mModuleNotFoundError\u001b[0m                       Traceback (most recent call last)",
      "\u001b[1;32m~\\AppData\\Local\\Temp\\ipykernel_28204\\1408506528.py\u001b[0m in \u001b[0;36m<module>\u001b[1;34m\u001b[0m\n\u001b[1;32m----> 1\u001b[1;33m \u001b[1;32mfrom\u001b[0m \u001b[0mgoogle\u001b[0m\u001b[1;33m.\u001b[0m\u001b[0mcolab\u001b[0m \u001b[1;32mimport\u001b[0m \u001b[0mdrive\u001b[0m\u001b[1;33m\u001b[0m\u001b[1;33m\u001b[0m\u001b[0m\n\u001b[0m\u001b[0;32m      2\u001b[0m \u001b[0mdrive\u001b[0m\u001b[1;33m.\u001b[0m\u001b[0mmount\u001b[0m\u001b[1;33m(\u001b[0m\u001b[1;34m'/content/drive'\u001b[0m\u001b[1;33m)\u001b[0m\u001b[1;33m\u001b[0m\u001b[1;33m\u001b[0m\u001b[0m\n",
      "\u001b[1;31mModuleNotFoundError\u001b[0m: No module named 'google'"
     ]
    }
   ],
   "source": [
    "from google.colab import drive\n",
    "drive.mount('/content/drive')"
   ]
  },
  {
   "cell_type": "markdown",
   "metadata": {
    "id": "sWz-qGF10kxl"
   },
   "source": [
    "## Reading a CSV file\n",
    "Your `data_share` folder has a new file in it called `addresses.txt`. Please copy this to your own drive or if you have the `data_share` drive linked, use your path here!"
   ]
  },
  {
   "cell_type": "code",
   "execution_count": 4,
   "metadata": {
    "executionInfo": {
     "elapsed": 1,
     "status": "ok",
     "timestamp": 1681214967651,
     "user": {
      "displayName": "Luke Hallinan",
      "userId": "01579017842568082777"
     },
     "user_tz": -60
    },
    "id": "wK2N__9arv_U"
   },
   "outputs": [],
   "source": [
    "# Filepath\n",
    "fp_addresses = r\"C:\\Users\\lukeh\\Documents\\College\\4th-Year\\Environmental_Analytics\\Week 3\\addresses.txt\"\n",
    "# Read the data\n",
    "data_addresses = pd.read_csv(fp_addresses, sep=';')"
   ]
  },
  {
   "cell_type": "code",
   "execution_count": 5,
   "metadata": {
    "colab": {
     "base_uri": "https://localhost:8080/"
    },
    "executionInfo": {
     "elapsed": 8,
     "status": "ok",
     "timestamp": 1681214968060,
     "user": {
      "displayName": "Luke Hallinan",
      "userId": "01579017842568082777"
     },
     "user_tz": -60
    },
    "id": "7vdlZ81UsPRm",
    "outputId": "01d80426-8cb1-47f4-ae9f-5f2d49c71b6b"
   },
   "outputs": [
    {
     "data": {
      "text/plain": [
       "3"
      ]
     },
     "execution_count": 5,
     "metadata": {},
     "output_type": "execute_result"
    }
   ],
   "source": [
    "len(data_addresses)"
   ]
  },
  {
   "cell_type": "code",
   "execution_count": 6,
   "metadata": {
    "colab": {
     "base_uri": "https://localhost:8080/",
     "height": 143
    },
    "executionInfo": {
     "elapsed": 3,
     "status": "ok",
     "timestamp": 1681214968960,
     "user": {
      "displayName": "Luke Hallinan",
      "userId": "01579017842568082777"
     },
     "user_tz": -60
    },
    "id": "1DNb68TjsS2N",
    "outputId": "1ef595de-fa56-46af-e45f-d6ba63ac4f14"
   },
   "outputs": [
    {
     "data": {
      "text/html": [
       "<div>\n",
       "<style scoped>\n",
       "    .dataframe tbody tr th:only-of-type {\n",
       "        vertical-align: middle;\n",
       "    }\n",
       "\n",
       "    .dataframe tbody tr th {\n",
       "        vertical-align: top;\n",
       "    }\n",
       "\n",
       "    .dataframe thead th {\n",
       "        text-align: right;\n",
       "    }\n",
       "</style>\n",
       "<table border=\"1\" class=\"dataframe\">\n",
       "  <thead>\n",
       "    <tr style=\"text-align: right;\">\n",
       "      <th></th>\n",
       "      <th>id</th>\n",
       "      <th>addr</th>\n",
       "    </tr>\n",
       "  </thead>\n",
       "  <tbody>\n",
       "    <tr>\n",
       "      <th>0</th>\n",
       "      <td>1001</td>\n",
       "      <td>2 Drogheda St, Monasterevin, Co. Kildare, Ireland</td>\n",
       "    </tr>\n",
       "    <tr>\n",
       "      <th>1</th>\n",
       "      <td>1002</td>\n",
       "      <td>Finnegans Way, Trim, Co. Meath, Ireland</td>\n",
       "    </tr>\n",
       "    <tr>\n",
       "      <th>2</th>\n",
       "      <td>1003</td>\n",
       "      <td>20 Hyde Ct, Roscommon, Ireland</td>\n",
       "    </tr>\n",
       "  </tbody>\n",
       "</table>\n",
       "</div>"
      ],
      "text/plain": [
       "     id                                               addr\n",
       "0  1001  2 Drogheda St, Monasterevin, Co. Kildare, Ireland\n",
       "1  1002            Finnegans Way, Trim, Co. Meath, Ireland\n",
       "2  1003                     20 Hyde Ct, Roscommon, Ireland"
      ]
     },
     "execution_count": 6,
     "metadata": {},
     "output_type": "execute_result"
    }
   ],
   "source": [
    "data_addresses"
   ]
  },
  {
   "cell_type": "markdown",
   "metadata": {
    "id": "6acEigIv5qBE"
   },
   "source": [
    "## Geocoding with Nominatim\n",
    "\n",
    "Geocoding is the process of transforming a description of a location—such as a pair of coordinates, an address, or a name of a place—to a location on the Earth's surface. You can geocode by entering one location description at a time or by providing many of them at once in a table. The resulting locations are output as geographic features with attributes, which can be used for mapping or spatial analysis.\n",
    "\n",
    "[from: ArcGIS documentation]"
   ]
  },
  {
   "cell_type": "code",
   "execution_count": 7,
   "metadata": {
    "executionInfo": {
     "elapsed": 1,
     "status": "ok",
     "timestamp": 1681214970001,
     "user": {
      "displayName": "Luke Hallinan",
      "userId": "01579017842568082777"
     },
     "user_tz": -60
    },
    "id": "QsiLyHQcsTvN"
   },
   "outputs": [],
   "source": [
    "# Import the geocoding tool\n",
    "from geopandas.tools import geocode"
   ]
  },
  {
   "cell_type": "markdown",
   "metadata": {
    "id": "B-gLc1RI1Ecz"
   },
   "source": [
    "We are going to use [nominatim](https://nominatim.openstreetmap.org/ui/search.html) for geocoding. Nominatim has the advantage that you do not need to request a developer key. Defining your address in a way that it is recognisable by nominatim is **not trivial** and requires some trial and error. The address must be in [OpenStreetMap](https://www.openstreetmap.org/#map=17/53.32321/-8.21866).\n",
    "However, they apply load balancing. You also must provide a custom application name, see below. Also check out the [nominatim api documentation](https://nominatim.org/release-docs/develop/api/Overview/)."
   ]
  },
  {
   "cell_type": "markdown",
   "metadata": {
    "id": "ZFqqtSoLcvQn"
   },
   "source": [
    "You **must** change the entry in `user_agent` or we will exceed the service access for this class. you can choose a new name as you wish."
   ]
  },
  {
   "cell_type": "code",
   "execution_count": 9,
   "metadata": {
    "executionInfo": {
     "elapsed": 1756,
     "status": "ok",
     "timestamp": 1681214973081,
     "user": {
      "displayName": "Luke Hallinan",
      "userId": "01579017842568082777"
     },
     "user_tz": -60
    },
    "id": "RKM_AvKrse8W"
   },
   "outputs": [
    {
     "name": "stdout",
     "output_type": "stream",
     "text": [
      "Collecting geopy\n",
      "  Downloading geopy-2.3.0-py3-none-any.whl (119 kB)\n",
      "     -------------------------------------- 119.8/119.8 kB 6.8 MB/s eta 0:00:00\n",
      "Collecting geographiclib<3,>=1.52\n",
      "  Downloading geographiclib-2.0-py3-none-any.whl (40 kB)\n",
      "     ---------------------------------------- 40.3/40.3 kB ? eta 0:00:00\n",
      "Installing collected packages: geographiclib, geopy\n",
      "Successfully installed geographiclib-2.0 geopy-2.3.0\n"
     ]
    }
   ],
   "source": [
    "# Geocode addresses using Nominatim. Remember to provide a custom \n",
    "# \"application name\" in the user_agent parameter!\n",
    "# check the nominatim api documentation to understand the values that are passed\n",
    "# as parameters\n",
    "!pip install geopy\n",
    "geo = geocode(data_addresses['addr'], provider='nominatim', user_agent='D20125299_w3', timeout=4)"
   ]
  },
  {
   "cell_type": "code",
   "execution_count": 12,
   "metadata": {
    "colab": {
     "base_uri": "https://localhost:8080/",
     "height": 143
    },
    "executionInfo": {
     "elapsed": 4,
     "status": "ok",
     "timestamp": 1681214973081,
     "user": {
      "displayName": "Luke Hallinan",
      "userId": "01579017842568082777"
     },
     "user_tz": -60
    },
    "id": "6805BYsgslDb",
    "outputId": "a471cd47-81d6-4e35-d3b4-d249f64ab2fa"
   },
   "outputs": [
    {
     "data": {
      "text/html": [
       "\n",
       "  <div id=\"df-3f90572d-033e-41c5-9345-be94fd3602de\">\n",
       "    <div class=\"colab-df-container\">\n",
       "      <div>\n",
       "<style scoped>\n",
       "    .dataframe tbody tr th:only-of-type {\n",
       "        vertical-align: middle;\n",
       "    }\n",
       "\n",
       "    .dataframe tbody tr th {\n",
       "        vertical-align: top;\n",
       "    }\n",
       "\n",
       "    .dataframe thead th {\n",
       "        text-align: right;\n",
       "    }\n",
       "</style>\n",
       "<table border=\"1\" class=\"dataframe\">\n",
       "  <thead>\n",
       "    <tr style=\"text-align: right;\">\n",
       "      <th></th>\n",
       "      <th>geometry</th>\n",
       "      <th>address</th>\n",
       "    </tr>\n",
       "  </thead>\n",
       "  <tbody>\n",
       "    <tr>\n",
       "      <th>0</th>\n",
       "      <td>POINT (-7.06112 53.13905)</td>\n",
       "      <td>Drogheda Street, Cahill's Cross, Monasterevin ...</td>\n",
       "    </tr>\n",
       "    <tr>\n",
       "      <th>1</th>\n",
       "      <td>POINT EMPTY</td>\n",
       "      <td>None</td>\n",
       "    </tr>\n",
       "    <tr>\n",
       "      <th>2</th>\n",
       "      <td>POINT (-8.18129 53.62210)</td>\n",
       "      <td>Hyde Court, Roscommon Rural ED, Roscommon Muni...</td>\n",
       "    </tr>\n",
       "  </tbody>\n",
       "</table>\n",
       "</div>\n",
       "      <button class=\"colab-df-convert\" onclick=\"convertToInteractive('df-3f90572d-033e-41c5-9345-be94fd3602de')\"\n",
       "              title=\"Convert this dataframe to an interactive table.\"\n",
       "              style=\"display:none;\">\n",
       "        \n",
       "  <svg xmlns=\"http://www.w3.org/2000/svg\" height=\"24px\"viewBox=\"0 0 24 24\"\n",
       "       width=\"24px\">\n",
       "    <path d=\"M0 0h24v24H0V0z\" fill=\"none\"/>\n",
       "    <path d=\"M18.56 5.44l.94 2.06.94-2.06 2.06-.94-2.06-.94-.94-2.06-.94 2.06-2.06.94zm-11 1L8.5 8.5l.94-2.06 2.06-.94-2.06-.94L8.5 2.5l-.94 2.06-2.06.94zm10 10l.94 2.06.94-2.06 2.06-.94-2.06-.94-.94-2.06-.94 2.06-2.06.94z\"/><path d=\"M17.41 7.96l-1.37-1.37c-.4-.4-.92-.59-1.43-.59-.52 0-1.04.2-1.43.59L10.3 9.45l-7.72 7.72c-.78.78-.78 2.05 0 2.83L4 21.41c.39.39.9.59 1.41.59.51 0 1.02-.2 1.41-.59l7.78-7.78 2.81-2.81c.8-.78.8-2.07 0-2.86zM5.41 20L4 18.59l7.72-7.72 1.47 1.35L5.41 20z\"/>\n",
       "  </svg>\n",
       "      </button>\n",
       "      \n",
       "  <style>\n",
       "    .colab-df-container {\n",
       "      display:flex;\n",
       "      flex-wrap:wrap;\n",
       "      gap: 12px;\n",
       "    }\n",
       "\n",
       "    .colab-df-convert {\n",
       "      background-color: #E8F0FE;\n",
       "      border: none;\n",
       "      border-radius: 50%;\n",
       "      cursor: pointer;\n",
       "      display: none;\n",
       "      fill: #1967D2;\n",
       "      height: 32px;\n",
       "      padding: 0 0 0 0;\n",
       "      width: 32px;\n",
       "    }\n",
       "\n",
       "    .colab-df-convert:hover {\n",
       "      background-color: #E2EBFA;\n",
       "      box-shadow: 0px 1px 2px rgba(60, 64, 67, 0.3), 0px 1px 3px 1px rgba(60, 64, 67, 0.15);\n",
       "      fill: #174EA6;\n",
       "    }\n",
       "\n",
       "    [theme=dark] .colab-df-convert {\n",
       "      background-color: #3B4455;\n",
       "      fill: #D2E3FC;\n",
       "    }\n",
       "\n",
       "    [theme=dark] .colab-df-convert:hover {\n",
       "      background-color: #434B5C;\n",
       "      box-shadow: 0px 1px 3px 1px rgba(0, 0, 0, 0.15);\n",
       "      filter: drop-shadow(0px 1px 2px rgba(0, 0, 0, 0.3));\n",
       "      fill: #FFFFFF;\n",
       "    }\n",
       "  </style>\n",
       "\n",
       "      <script>\n",
       "        const buttonEl =\n",
       "          document.querySelector('#df-3f90572d-033e-41c5-9345-be94fd3602de button.colab-df-convert');\n",
       "        buttonEl.style.display =\n",
       "          google.colab.kernel.accessAllowed ? 'block' : 'none';\n",
       "\n",
       "        async function convertToInteractive(key) {\n",
       "          const element = document.querySelector('#df-3f90572d-033e-41c5-9345-be94fd3602de');\n",
       "          const dataTable =\n",
       "            await google.colab.kernel.invokeFunction('convertToInteractive',\n",
       "                                                     [key], {});\n",
       "          if (!dataTable) return;\n",
       "\n",
       "          const docLinkHtml = 'Like what you see? Visit the ' +\n",
       "            '<a target=\"_blank\" href=https://colab.research.google.com/notebooks/data_table.ipynb>data table notebook</a>'\n",
       "            + ' to learn more about interactive tables.';\n",
       "          element.innerHTML = '';\n",
       "          dataTable['output_type'] = 'display_data';\n",
       "          await google.colab.output.renderOutput(dataTable, element);\n",
       "          const docLink = document.createElement('div');\n",
       "          docLink.innerHTML = docLinkHtml;\n",
       "          element.appendChild(docLink);\n",
       "        }\n",
       "      </script>\n",
       "    </div>\n",
       "  </div>\n",
       "  "
      ],
      "text/plain": [
       "                    geometry  \\\n",
       "0  POINT (-7.06112 53.13905)   \n",
       "1                POINT EMPTY   \n",
       "2  POINT (-8.18129 53.62210)   \n",
       "\n",
       "                                             address  \n",
       "0  Drogheda Street, Cahill's Cross, Monasterevin ...  \n",
       "1                                               None  \n",
       "2  Hyde Court, Roscommon Rural ED, Roscommon Muni...  "
      ]
     },
     "execution_count": 12,
     "metadata": {},
     "output_type": "execute_result"
    }
   ],
   "source": [
    "geo"
   ]
  },
  {
   "cell_type": "markdown",
   "metadata": {
    "id": "c_q9BN7OW_lY"
   },
   "source": [
    "Some will come up empty. In this case, we have two choices:\n",
    "can't do anything else but to delete the offending rows.\n",
    "\n",
    "1.   try to find the correct address in OpenStreetMap and get it to work, or\n",
    "2.   delete the address.\n",
    "\n",
    "Here we will delete the address\n",
    "\n"
   ]
  },
  {
   "cell_type": "code",
   "execution_count": 13,
   "metadata": {
    "executionInfo": {
     "elapsed": 2,
     "status": "ok",
     "timestamp": 1681214973329,
     "user": {
      "displayName": "Luke Hallinan",
      "userId": "01579017842568082777"
     },
     "user_tz": -60
    },
    "id": "_t69d1_oXCuO"
   },
   "outputs": [],
   "source": [
    "# deleting a row by looking for the word None as part of the string.\n",
    "# notice how you have to cast the DataSeries first into a str object.\n",
    "\n",
    "geo = geo[geo[\"address\"].str.contains(\"None\") == False]\n"
   ]
  },
  {
   "cell_type": "code",
   "execution_count": 14,
   "metadata": {
    "colab": {
     "base_uri": "https://localhost:8080/",
     "height": 112
    },
    "executionInfo": {
     "elapsed": 4,
     "status": "ok",
     "timestamp": 1681214974261,
     "user": {
      "displayName": "Luke Hallinan",
      "userId": "01579017842568082777"
     },
     "user_tz": -60
    },
    "id": "WH1SG-BTYaBY",
    "outputId": "892fd6e3-858e-43fa-9a74-8cde466962cd"
   },
   "outputs": [
    {
     "data": {
      "text/html": [
       "\n",
       "  <div id=\"df-a1b83ff4-f745-4244-a8fe-e91de3f15db4\">\n",
       "    <div class=\"colab-df-container\">\n",
       "      <div>\n",
       "<style scoped>\n",
       "    .dataframe tbody tr th:only-of-type {\n",
       "        vertical-align: middle;\n",
       "    }\n",
       "\n",
       "    .dataframe tbody tr th {\n",
       "        vertical-align: top;\n",
       "    }\n",
       "\n",
       "    .dataframe thead th {\n",
       "        text-align: right;\n",
       "    }\n",
       "</style>\n",
       "<table border=\"1\" class=\"dataframe\">\n",
       "  <thead>\n",
       "    <tr style=\"text-align: right;\">\n",
       "      <th></th>\n",
       "      <th>geometry</th>\n",
       "      <th>address</th>\n",
       "    </tr>\n",
       "  </thead>\n",
       "  <tbody>\n",
       "    <tr>\n",
       "      <th>0</th>\n",
       "      <td>POINT (-7.06112 53.13905)</td>\n",
       "      <td>Drogheda Street, Cahill's Cross, Monasterevin ...</td>\n",
       "    </tr>\n",
       "    <tr>\n",
       "      <th>2</th>\n",
       "      <td>POINT (-8.18129 53.62210)</td>\n",
       "      <td>Hyde Court, Roscommon Rural ED, Roscommon Muni...</td>\n",
       "    </tr>\n",
       "  </tbody>\n",
       "</table>\n",
       "</div>\n",
       "      <button class=\"colab-df-convert\" onclick=\"convertToInteractive('df-a1b83ff4-f745-4244-a8fe-e91de3f15db4')\"\n",
       "              title=\"Convert this dataframe to an interactive table.\"\n",
       "              style=\"display:none;\">\n",
       "        \n",
       "  <svg xmlns=\"http://www.w3.org/2000/svg\" height=\"24px\"viewBox=\"0 0 24 24\"\n",
       "       width=\"24px\">\n",
       "    <path d=\"M0 0h24v24H0V0z\" fill=\"none\"/>\n",
       "    <path d=\"M18.56 5.44l.94 2.06.94-2.06 2.06-.94-2.06-.94-.94-2.06-.94 2.06-2.06.94zm-11 1L8.5 8.5l.94-2.06 2.06-.94-2.06-.94L8.5 2.5l-.94 2.06-2.06.94zm10 10l.94 2.06.94-2.06 2.06-.94-2.06-.94-.94-2.06-.94 2.06-2.06.94z\"/><path d=\"M17.41 7.96l-1.37-1.37c-.4-.4-.92-.59-1.43-.59-.52 0-1.04.2-1.43.59L10.3 9.45l-7.72 7.72c-.78.78-.78 2.05 0 2.83L4 21.41c.39.39.9.59 1.41.59.51 0 1.02-.2 1.41-.59l7.78-7.78 2.81-2.81c.8-.78.8-2.07 0-2.86zM5.41 20L4 18.59l7.72-7.72 1.47 1.35L5.41 20z\"/>\n",
       "  </svg>\n",
       "      </button>\n",
       "      \n",
       "  <style>\n",
       "    .colab-df-container {\n",
       "      display:flex;\n",
       "      flex-wrap:wrap;\n",
       "      gap: 12px;\n",
       "    }\n",
       "\n",
       "    .colab-df-convert {\n",
       "      background-color: #E8F0FE;\n",
       "      border: none;\n",
       "      border-radius: 50%;\n",
       "      cursor: pointer;\n",
       "      display: none;\n",
       "      fill: #1967D2;\n",
       "      height: 32px;\n",
       "      padding: 0 0 0 0;\n",
       "      width: 32px;\n",
       "    }\n",
       "\n",
       "    .colab-df-convert:hover {\n",
       "      background-color: #E2EBFA;\n",
       "      box-shadow: 0px 1px 2px rgba(60, 64, 67, 0.3), 0px 1px 3px 1px rgba(60, 64, 67, 0.15);\n",
       "      fill: #174EA6;\n",
       "    }\n",
       "\n",
       "    [theme=dark] .colab-df-convert {\n",
       "      background-color: #3B4455;\n",
       "      fill: #D2E3FC;\n",
       "    }\n",
       "\n",
       "    [theme=dark] .colab-df-convert:hover {\n",
       "      background-color: #434B5C;\n",
       "      box-shadow: 0px 1px 3px 1px rgba(0, 0, 0, 0.15);\n",
       "      filter: drop-shadow(0px 1px 2px rgba(0, 0, 0, 0.3));\n",
       "      fill: #FFFFFF;\n",
       "    }\n",
       "  </style>\n",
       "\n",
       "      <script>\n",
       "        const buttonEl =\n",
       "          document.querySelector('#df-a1b83ff4-f745-4244-a8fe-e91de3f15db4 button.colab-df-convert');\n",
       "        buttonEl.style.display =\n",
       "          google.colab.kernel.accessAllowed ? 'block' : 'none';\n",
       "\n",
       "        async function convertToInteractive(key) {\n",
       "          const element = document.querySelector('#df-a1b83ff4-f745-4244-a8fe-e91de3f15db4');\n",
       "          const dataTable =\n",
       "            await google.colab.kernel.invokeFunction('convertToInteractive',\n",
       "                                                     [key], {});\n",
       "          if (!dataTable) return;\n",
       "\n",
       "          const docLinkHtml = 'Like what you see? Visit the ' +\n",
       "            '<a target=\"_blank\" href=https://colab.research.google.com/notebooks/data_table.ipynb>data table notebook</a>'\n",
       "            + ' to learn more about interactive tables.';\n",
       "          element.innerHTML = '';\n",
       "          dataTable['output_type'] = 'display_data';\n",
       "          await google.colab.output.renderOutput(dataTable, element);\n",
       "          const docLink = document.createElement('div');\n",
       "          docLink.innerHTML = docLinkHtml;\n",
       "          element.appendChild(docLink);\n",
       "        }\n",
       "      </script>\n",
       "    </div>\n",
       "  </div>\n",
       "  "
      ],
      "text/plain": [
       "                    geometry  \\\n",
       "0  POINT (-7.06112 53.13905)   \n",
       "2  POINT (-8.18129 53.62210)   \n",
       "\n",
       "                                             address  \n",
       "0  Drogheda Street, Cahill's Cross, Monasterevin ...  \n",
       "2  Hyde Court, Roscommon Rural ED, Roscommon Muni...  "
      ]
     },
     "execution_count": 14,
     "metadata": {},
     "output_type": "execute_result"
    }
   ],
   "source": [
    "geo"
   ]
  },
  {
   "cell_type": "markdown",
   "metadata": {
    "id": "PUy4r-Q4KxPi"
   },
   "source": [
    "You should see the 2 point geometries containing longitude and latititude information for the selected addresses."
   ]
  },
  {
   "cell_type": "markdown",
   "metadata": {
    "id": "RJtfs5lTMZbi"
   },
   "source": [
    "We can also join the two DataFrames together using join. Notice how this is an inner join. This means that only information that is present in both will be displayed."
   ]
  },
  {
   "cell_type": "code",
   "execution_count": 15,
   "metadata": {
    "colab": {
     "base_uri": "https://localhost:8080/",
     "height": 143
    },
    "executionInfo": {
     "elapsed": 271,
     "status": "ok",
     "timestamp": 1681214975743,
     "user": {
      "displayName": "Luke Hallinan",
      "userId": "01579017842568082777"
     },
     "user_tz": -60
    },
    "id": "1ywE97BuMhE-",
    "outputId": "f30ae7a6-933f-43f1-a8b8-26d494fc7683"
   },
   "outputs": [
    {
     "data": {
      "text/html": [
       "\n",
       "  <div id=\"df-014d53e1-6b33-4e1e-b939-85ef820481e2\">\n",
       "    <div class=\"colab-df-container\">\n",
       "      <div>\n",
       "<style scoped>\n",
       "    .dataframe tbody tr th:only-of-type {\n",
       "        vertical-align: middle;\n",
       "    }\n",
       "\n",
       "    .dataframe tbody tr th {\n",
       "        vertical-align: top;\n",
       "    }\n",
       "\n",
       "    .dataframe thead th {\n",
       "        text-align: right;\n",
       "    }\n",
       "</style>\n",
       "<table border=\"1\" class=\"dataframe\">\n",
       "  <thead>\n",
       "    <tr style=\"text-align: right;\">\n",
       "      <th></th>\n",
       "      <th>id</th>\n",
       "      <th>addr</th>\n",
       "    </tr>\n",
       "  </thead>\n",
       "  <tbody>\n",
       "    <tr>\n",
       "      <th>0</th>\n",
       "      <td>1001</td>\n",
       "      <td>2 Drogheda St, Monasterevin, Co. Kildare, Ireland</td>\n",
       "    </tr>\n",
       "    <tr>\n",
       "      <th>1</th>\n",
       "      <td>1002</td>\n",
       "      <td>Finnegans Way, Trim, Co. Meath, Ireland</td>\n",
       "    </tr>\n",
       "    <tr>\n",
       "      <th>2</th>\n",
       "      <td>1003</td>\n",
       "      <td>20 Hyde Ct, Roscommon, Ireland</td>\n",
       "    </tr>\n",
       "  </tbody>\n",
       "</table>\n",
       "</div>\n",
       "      <button class=\"colab-df-convert\" onclick=\"convertToInteractive('df-014d53e1-6b33-4e1e-b939-85ef820481e2')\"\n",
       "              title=\"Convert this dataframe to an interactive table.\"\n",
       "              style=\"display:none;\">\n",
       "        \n",
       "  <svg xmlns=\"http://www.w3.org/2000/svg\" height=\"24px\"viewBox=\"0 0 24 24\"\n",
       "       width=\"24px\">\n",
       "    <path d=\"M0 0h24v24H0V0z\" fill=\"none\"/>\n",
       "    <path d=\"M18.56 5.44l.94 2.06.94-2.06 2.06-.94-2.06-.94-.94-2.06-.94 2.06-2.06.94zm-11 1L8.5 8.5l.94-2.06 2.06-.94-2.06-.94L8.5 2.5l-.94 2.06-2.06.94zm10 10l.94 2.06.94-2.06 2.06-.94-2.06-.94-.94-2.06-.94 2.06-2.06.94z\"/><path d=\"M17.41 7.96l-1.37-1.37c-.4-.4-.92-.59-1.43-.59-.52 0-1.04.2-1.43.59L10.3 9.45l-7.72 7.72c-.78.78-.78 2.05 0 2.83L4 21.41c.39.39.9.59 1.41.59.51 0 1.02-.2 1.41-.59l7.78-7.78 2.81-2.81c.8-.78.8-2.07 0-2.86zM5.41 20L4 18.59l7.72-7.72 1.47 1.35L5.41 20z\"/>\n",
       "  </svg>\n",
       "      </button>\n",
       "      \n",
       "  <style>\n",
       "    .colab-df-container {\n",
       "      display:flex;\n",
       "      flex-wrap:wrap;\n",
       "      gap: 12px;\n",
       "    }\n",
       "\n",
       "    .colab-df-convert {\n",
       "      background-color: #E8F0FE;\n",
       "      border: none;\n",
       "      border-radius: 50%;\n",
       "      cursor: pointer;\n",
       "      display: none;\n",
       "      fill: #1967D2;\n",
       "      height: 32px;\n",
       "      padding: 0 0 0 0;\n",
       "      width: 32px;\n",
       "    }\n",
       "\n",
       "    .colab-df-convert:hover {\n",
       "      background-color: #E2EBFA;\n",
       "      box-shadow: 0px 1px 2px rgba(60, 64, 67, 0.3), 0px 1px 3px 1px rgba(60, 64, 67, 0.15);\n",
       "      fill: #174EA6;\n",
       "    }\n",
       "\n",
       "    [theme=dark] .colab-df-convert {\n",
       "      background-color: #3B4455;\n",
       "      fill: #D2E3FC;\n",
       "    }\n",
       "\n",
       "    [theme=dark] .colab-df-convert:hover {\n",
       "      background-color: #434B5C;\n",
       "      box-shadow: 0px 1px 3px 1px rgba(0, 0, 0, 0.15);\n",
       "      filter: drop-shadow(0px 1px 2px rgba(0, 0, 0, 0.3));\n",
       "      fill: #FFFFFF;\n",
       "    }\n",
       "  </style>\n",
       "\n",
       "      <script>\n",
       "        const buttonEl =\n",
       "          document.querySelector('#df-014d53e1-6b33-4e1e-b939-85ef820481e2 button.colab-df-convert');\n",
       "        buttonEl.style.display =\n",
       "          google.colab.kernel.accessAllowed ? 'block' : 'none';\n",
       "\n",
       "        async function convertToInteractive(key) {\n",
       "          const element = document.querySelector('#df-014d53e1-6b33-4e1e-b939-85ef820481e2');\n",
       "          const dataTable =\n",
       "            await google.colab.kernel.invokeFunction('convertToInteractive',\n",
       "                                                     [key], {});\n",
       "          if (!dataTable) return;\n",
       "\n",
       "          const docLinkHtml = 'Like what you see? Visit the ' +\n",
       "            '<a target=\"_blank\" href=https://colab.research.google.com/notebooks/data_table.ipynb>data table notebook</a>'\n",
       "            + ' to learn more about interactive tables.';\n",
       "          element.innerHTML = '';\n",
       "          dataTable['output_type'] = 'display_data';\n",
       "          await google.colab.output.renderOutput(dataTable, element);\n",
       "          const docLink = document.createElement('div');\n",
       "          docLink.innerHTML = docLinkHtml;\n",
       "          element.appendChild(docLink);\n",
       "        }\n",
       "      </script>\n",
       "    </div>\n",
       "  </div>\n",
       "  "
      ],
      "text/plain": [
       "     id                                               addr\n",
       "0  1001  2 Drogheda St, Monasterevin, Co. Kildare, Ireland\n",
       "1  1002            Finnegans Way, Trim, Co. Meath, Ireland\n",
       "2  1003                     20 Hyde Ct, Roscommon, Ireland"
      ]
     },
     "execution_count": 15,
     "metadata": {},
     "output_type": "execute_result"
    }
   ],
   "source": [
    "# remind ourselves what is in data_addresses\n",
    "data_addresses"
   ]
  },
  {
   "cell_type": "code",
   "execution_count": 16,
   "metadata": {
    "colab": {
     "base_uri": "https://localhost:8080/",
     "height": 112
    },
    "executionInfo": {
     "elapsed": 4,
     "status": "ok",
     "timestamp": 1681214976333,
     "user": {
      "displayName": "Luke Hallinan",
      "userId": "01579017842568082777"
     },
     "user_tz": -60
    },
    "id": "jK_kYdCFtO_S",
    "outputId": "2411c607-0221-4c00-ab00-6bfc2c8f7a73"
   },
   "outputs": [
    {
     "data": {
      "text/html": [
       "\n",
       "  <div id=\"df-10b71a94-b2dc-4be0-b0f9-3df49d4e5639\">\n",
       "    <div class=\"colab-df-container\">\n",
       "      <div>\n",
       "<style scoped>\n",
       "    .dataframe tbody tr th:only-of-type {\n",
       "        vertical-align: middle;\n",
       "    }\n",
       "\n",
       "    .dataframe tbody tr th {\n",
       "        vertical-align: top;\n",
       "    }\n",
       "\n",
       "    .dataframe thead th {\n",
       "        text-align: right;\n",
       "    }\n",
       "</style>\n",
       "<table border=\"1\" class=\"dataframe\">\n",
       "  <thead>\n",
       "    <tr style=\"text-align: right;\">\n",
       "      <th></th>\n",
       "      <th>geometry</th>\n",
       "      <th>address</th>\n",
       "      <th>id</th>\n",
       "      <th>addr</th>\n",
       "    </tr>\n",
       "  </thead>\n",
       "  <tbody>\n",
       "    <tr>\n",
       "      <th>0</th>\n",
       "      <td>POINT (-7.06112 53.13905)</td>\n",
       "      <td>Drogheda Street, Cahill's Cross, Monasterevin ...</td>\n",
       "      <td>1001</td>\n",
       "      <td>2 Drogheda St, Monasterevin, Co. Kildare, Ireland</td>\n",
       "    </tr>\n",
       "    <tr>\n",
       "      <th>2</th>\n",
       "      <td>POINT (-8.18129 53.62210)</td>\n",
       "      <td>Hyde Court, Roscommon Rural ED, Roscommon Muni...</td>\n",
       "      <td>1003</td>\n",
       "      <td>20 Hyde Ct, Roscommon, Ireland</td>\n",
       "    </tr>\n",
       "  </tbody>\n",
       "</table>\n",
       "</div>\n",
       "      <button class=\"colab-df-convert\" onclick=\"convertToInteractive('df-10b71a94-b2dc-4be0-b0f9-3df49d4e5639')\"\n",
       "              title=\"Convert this dataframe to an interactive table.\"\n",
       "              style=\"display:none;\">\n",
       "        \n",
       "  <svg xmlns=\"http://www.w3.org/2000/svg\" height=\"24px\"viewBox=\"0 0 24 24\"\n",
       "       width=\"24px\">\n",
       "    <path d=\"M0 0h24v24H0V0z\" fill=\"none\"/>\n",
       "    <path d=\"M18.56 5.44l.94 2.06.94-2.06 2.06-.94-2.06-.94-.94-2.06-.94 2.06-2.06.94zm-11 1L8.5 8.5l.94-2.06 2.06-.94-2.06-.94L8.5 2.5l-.94 2.06-2.06.94zm10 10l.94 2.06.94-2.06 2.06-.94-2.06-.94-.94-2.06-.94 2.06-2.06.94z\"/><path d=\"M17.41 7.96l-1.37-1.37c-.4-.4-.92-.59-1.43-.59-.52 0-1.04.2-1.43.59L10.3 9.45l-7.72 7.72c-.78.78-.78 2.05 0 2.83L4 21.41c.39.39.9.59 1.41.59.51 0 1.02-.2 1.41-.59l7.78-7.78 2.81-2.81c.8-.78.8-2.07 0-2.86zM5.41 20L4 18.59l7.72-7.72 1.47 1.35L5.41 20z\"/>\n",
       "  </svg>\n",
       "      </button>\n",
       "      \n",
       "  <style>\n",
       "    .colab-df-container {\n",
       "      display:flex;\n",
       "      flex-wrap:wrap;\n",
       "      gap: 12px;\n",
       "    }\n",
       "\n",
       "    .colab-df-convert {\n",
       "      background-color: #E8F0FE;\n",
       "      border: none;\n",
       "      border-radius: 50%;\n",
       "      cursor: pointer;\n",
       "      display: none;\n",
       "      fill: #1967D2;\n",
       "      height: 32px;\n",
       "      padding: 0 0 0 0;\n",
       "      width: 32px;\n",
       "    }\n",
       "\n",
       "    .colab-df-convert:hover {\n",
       "      background-color: #E2EBFA;\n",
       "      box-shadow: 0px 1px 2px rgba(60, 64, 67, 0.3), 0px 1px 3px 1px rgba(60, 64, 67, 0.15);\n",
       "      fill: #174EA6;\n",
       "    }\n",
       "\n",
       "    [theme=dark] .colab-df-convert {\n",
       "      background-color: #3B4455;\n",
       "      fill: #D2E3FC;\n",
       "    }\n",
       "\n",
       "    [theme=dark] .colab-df-convert:hover {\n",
       "      background-color: #434B5C;\n",
       "      box-shadow: 0px 1px 3px 1px rgba(0, 0, 0, 0.15);\n",
       "      filter: drop-shadow(0px 1px 2px rgba(0, 0, 0, 0.3));\n",
       "      fill: #FFFFFF;\n",
       "    }\n",
       "  </style>\n",
       "\n",
       "      <script>\n",
       "        const buttonEl =\n",
       "          document.querySelector('#df-10b71a94-b2dc-4be0-b0f9-3df49d4e5639 button.colab-df-convert');\n",
       "        buttonEl.style.display =\n",
       "          google.colab.kernel.accessAllowed ? 'block' : 'none';\n",
       "\n",
       "        async function convertToInteractive(key) {\n",
       "          const element = document.querySelector('#df-10b71a94-b2dc-4be0-b0f9-3df49d4e5639');\n",
       "          const dataTable =\n",
       "            await google.colab.kernel.invokeFunction('convertToInteractive',\n",
       "                                                     [key], {});\n",
       "          if (!dataTable) return;\n",
       "\n",
       "          const docLinkHtml = 'Like what you see? Visit the ' +\n",
       "            '<a target=\"_blank\" href=https://colab.research.google.com/notebooks/data_table.ipynb>data table notebook</a>'\n",
       "            + ' to learn more about interactive tables.';\n",
       "          element.innerHTML = '';\n",
       "          dataTable['output_type'] = 'display_data';\n",
       "          await google.colab.output.renderOutput(dataTable, element);\n",
       "          const docLink = document.createElement('div');\n",
       "          docLink.innerHTML = docLinkHtml;\n",
       "          element.appendChild(docLink);\n",
       "        }\n",
       "      </script>\n",
       "    </div>\n",
       "  </div>\n",
       "  "
      ],
      "text/plain": [
       "                    geometry  \\\n",
       "0  POINT (-7.06112 53.13905)   \n",
       "2  POINT (-8.18129 53.62210)   \n",
       "\n",
       "                                             address    id  \\\n",
       "0  Drogheda Street, Cahill's Cross, Monasterevin ...  1001   \n",
       "2  Hyde Court, Roscommon Rural ED, Roscommon Muni...  1003   \n",
       "\n",
       "                                                addr  \n",
       "0  2 Drogheda St, Monasterevin, Co. Kildare, Ireland  \n",
       "2                     20 Hyde Ct, Roscommon, Ireland  "
      ]
     },
     "execution_count": 16,
     "metadata": {},
     "output_type": "execute_result"
    }
   ],
   "source": [
    "# now let's join our address with the geocoded information\n",
    "# see how the addresses are written by Norminatim\n",
    "# spend some time here to really understand the format and \n",
    "# what it takes to find an address. This can be a very time\n",
    "# consuming task!\n",
    "join_data = geo.join(data_addresses)\n",
    "join_data"
   ]
  },
  {
   "cell_type": "markdown",
   "metadata": {
    "id": "YdLiWnRFMoJS"
   },
   "source": [
    "Notice how the addresses are written differently. If the difference is not too big, nominatim will often be able to still find an address, even if it is not entered exact. This step to geo-code your addresses can end up being **very** timeconsuming, as you might end up researching individual addresses to conform with the format that your specific geo-coder requires."
   ]
  },
  {
   "cell_type": "code",
   "execution_count": 17,
   "metadata": {
    "colab": {
     "base_uri": "https://localhost:8080/"
    },
    "executionInfo": {
     "elapsed": 2,
     "status": "ok",
     "timestamp": 1681214977708,
     "user": {
      "displayName": "Luke Hallinan",
      "userId": "01579017842568082777"
     },
     "user_tz": -60
    },
    "id": "jz16C2jdwl_D",
    "outputId": "0563f816-594d-4951-9ea0-b62d55f22de4"
   },
   "outputs": [
    {
     "data": {
      "text/plain": [
       "geopandas.geodataframe.GeoDataFrame"
      ]
     },
     "execution_count": 17,
     "metadata": {},
     "output_type": "execute_result"
    }
   ],
   "source": [
    "type(join_data)\n",
    "# If you would do the join the other way around, i.e. data_addresses.join(geo), \n",
    "# the output would be a pandas DataFrame, not a GeoDataFrame!"
   ]
  },
  {
   "cell_type": "markdown",
   "metadata": {
    "id": "hTKGUhj51h4A"
   },
   "source": [
    "Remember to change the paths to suit your own system!"
   ]
  },
  {
   "cell_type": "markdown",
   "metadata": {
    "id": "e8YOQwvQUgLq"
   },
   "source": [
    "#### Saving our info as a Shapefile\n",
    "Shapefiles are simple, very popular files for storing the geometric location and attribute information of geographic features. This file format does not store topological information. Geographic features in a shapefile can be represented by points, lines, or polygons (areas). A shapefile is never really just 1 file. Typically, there are many files that make up \"the\" shapefile.\n",
    "\n",
    "In order to create these files, we need another library: GDAL! GDAL is a translator library for raster and vector geospatial data formats and you will encounter it a lot when dealing with files that contain geo-information!"
   ]
  },
  {
   "cell_type": "markdown",
   "metadata": {
    "id": "WIffNfYKOLHU"
   },
   "source": [
    "Here, we get to use another bash command. apt is short for 'advanced package installer'."
   ]
  },
  {
   "cell_type": "markdown",
   "metadata": {
    "id": "ukQcb-jGdOBD"
   },
   "source": [
    "GDAL and fiona are packages that are pre-installed on colab.\n",
    "\n",
    "GDAL is a translator library for raster and vector geospatial data formats.\n",
    "\n",
    "Fiona lets Python developers to interface geographic information systems with other computer systems by reading and writing geographic data files. Fiona includes extension modules that connect the Geospatial Data Abstraction Library to other applications (GDAL)."
   ]
  },
  {
   "cell_type": "code",
   "execution_count": 20,
   "metadata": {
    "colab": {
     "base_uri": "https://localhost:8080/",
     "height": 373
    },
    "executionInfo": {
     "elapsed": 6316,
     "status": "error",
     "timestamp": 1681215010397,
     "user": {
      "displayName": "Luke Hallinan",
      "userId": "01579017842568082777"
     },
     "user_tz": -60
    },
    "id": "4lT8Il9wOzBw",
    "outputId": "08c67a5e-84f9-4bea-c313-7924586c9d64"
   },
   "outputs": [
    {
     "name": "stdout",
     "output_type": "stream",
     "text": [
      "Looking in indexes: https://pypi.org/simple, https://us-python.pkg.dev/colab-wheels/public/simple/\n",
      "Requirement already satisfied: gdal in /usr/lib/python3/dist-packages (3.3.2)\n"
     ]
    },
    {
     "ename": "ModuleNotFoundError",
     "errorDetails": {
      "actions": [
       {
        "action": "open_url",
        "actionText": "Open Examples",
        "url": "/notebooks/snippets/importing_libraries.ipynb"
       }
      ]
     },
     "evalue": "ignored",
     "output_type": "error",
     "traceback": [
      "\u001b[0;31m---------------------------------------------------------------------------\u001b[0m",
      "\u001b[0;31mModuleNotFoundError\u001b[0m                       Traceback (most recent call last)",
      "\u001b[0;32m<ipython-input-20-de6b1f011451>\u001b[0m in \u001b[0;36m<cell line: 2>\u001b[0;34m()\u001b[0m\n\u001b[1;32m      1\u001b[0m \u001b[0mget_ipython\u001b[0m\u001b[0;34m(\u001b[0m\u001b[0;34m)\u001b[0m\u001b[0;34m.\u001b[0m\u001b[0msystem\u001b[0m\u001b[0;34m(\u001b[0m\u001b[0;34m'pip install gdal'\u001b[0m\u001b[0;34m)\u001b[0m\u001b[0;34m\u001b[0m\u001b[0;34m\u001b[0m\u001b[0m\n\u001b[0;32m----> 2\u001b[0;31m \u001b[0;32mimport\u001b[0m \u001b[0mgdal\u001b[0m\u001b[0;34m\u001b[0m\u001b[0;34m\u001b[0m\u001b[0m\n\u001b[0m\u001b[1;32m      3\u001b[0m \u001b[0mget_ipython\u001b[0m\u001b[0;34m(\u001b[0m\u001b[0;34m)\u001b[0m\u001b[0;34m.\u001b[0m\u001b[0msystem\u001b[0m\u001b[0;34m(\u001b[0m\u001b[0;34m'gdalinfo --version'\u001b[0m\u001b[0;34m)\u001b[0m\u001b[0;34m\u001b[0m\u001b[0;34m\u001b[0m\u001b[0m\n",
      "\u001b[0;31mModuleNotFoundError\u001b[0m: No module named 'gdal'",
      "",
      "\u001b[0;31m---------------------------------------------------------------------------\u001b[0;32m\nNOTE: If your import is failing due to a missing package, you can\nmanually install dependencies using either !pip or !apt.\n\nTo view examples of installing some common dependencies, click the\n\"Open Examples\" button below.\n\u001b[0;31m---------------------------------------------------------------------------\u001b[0m\n"
     ]
    }
   ],
   "source": [
    "!pip install gdal\n",
    "import gdal\n",
    "!gdalinfo --version"
   ]
  },
  {
   "cell_type": "code",
   "execution_count": null,
   "metadata": {
    "id": "dZ-kEnQAPNzb"
   },
   "outputs": [],
   "source": [
    "import fiona"
   ]
  },
  {
   "cell_type": "code",
   "execution_count": null,
   "metadata": {
    "colab": {
     "base_uri": "https://localhost:8080/"
    },
    "id": "4zTQsxefVhvb",
    "outputId": "9d6fb1b1-6221-4e0e-83cf-ce0f0335a904"
   },
   "outputs": [
    {
     "data": {
      "text/plain": [
       "{'DXF': 'rw',\n",
       " 'CSV': 'raw',\n",
       " 'OpenFileGDB': 'raw',\n",
       " 'ESRIJSON': 'r',\n",
       " 'ESRI Shapefile': 'raw',\n",
       " 'FlatGeobuf': 'raw',\n",
       " 'GeoJSON': 'raw',\n",
       " 'GeoJSONSeq': 'raw',\n",
       " 'GPKG': 'raw',\n",
       " 'GML': 'rw',\n",
       " 'OGR_GMT': 'rw',\n",
       " 'GPX': 'rw',\n",
       " 'Idrisi': 'r',\n",
       " 'MapInfo File': 'raw',\n",
       " 'DGN': 'raw',\n",
       " 'OGR_PDS': 'r',\n",
       " 'S57': 'r',\n",
       " 'SQLite': 'raw',\n",
       " 'TopoJSON': 'r'}"
      ]
     },
     "execution_count": 16,
     "metadata": {},
     "output_type": "execute_result"
    }
   ],
   "source": [
    "# Check supported format drivers\n",
    "fiona.drvsupport.supported_drivers"
   ]
  },
  {
   "cell_type": "markdown",
   "metadata": {
    "id": "IC2fMXZePgsd"
   },
   "source": [
    "###Task 1\n",
    "Change the path in the following command to save the file. We will work with this file later."
   ]
  },
  {
   "cell_type": "code",
   "execution_count": null,
   "metadata": {
    "colab": {
     "base_uri": "https://localhost:8080/"
    },
    "id": "ADMKH84Hwp6r",
    "outputId": "b7732a31-d561-486b-b9f3-73463190630a"
   },
   "outputs": [
    {
     "name": "stderr",
     "output_type": "stream",
     "text": [
      "WARNING:fiona._env:One or several characters couldn't be converted correctly from UTF-8 to ISO-8859-1.  This warning will not be emitted anymore.\n"
     ]
    }
   ],
   "source": [
    "# Output file path\n",
    "outfp = r\"/content/drive/My Drive/data_share/addresses.shp\"\n",
    "\n",
    "# Save to Shapefile\n",
    "# this is the piece of code where you start to need GDAL functionality!\n",
    "\n",
    "# if you have any rows in your file that contains the None geometries this \n",
    "# next line will fail!\n",
    "# there may be WARNING messages. These can be ignored for now.\n",
    "join_data.to_file(outfp)"
   ]
  },
  {
   "cell_type": "markdown",
   "metadata": {
    "id": "AzqnVNysPdIm"
   },
   "source": [
    "Check that the file is in your google drive at your destination!"
   ]
  },
  {
   "cell_type": "markdown",
   "metadata": {
    "id": "Ln6bbTXfxeOY"
   },
   "source": [
    "## Point Location\n",
    "Let's do some revision on Shapely geometries, and then see how we can combine this with our addresses from before in order to do some analysis."
   ]
  },
  {
   "cell_type": "code",
   "execution_count": null,
   "metadata": {
    "id": "-o3cra3Fw42c"
   },
   "outputs": [],
   "source": [
    "from shapely.geometry import Point, Polygon, MultiPolygon, MultiPoint, LineString, MultiLineString, LinearRing"
   ]
  },
  {
   "cell_type": "code",
   "execution_count": null,
   "metadata": {
    "id": "AzUpoViSxipE"
   },
   "outputs": [],
   "source": [
    "# Create Point objects\n",
    "# do you recognise the coordinates?\n",
    "p1 = Point(53.338311, -6.270298)\n",
    "p2 = Point(53.363835, -6.220330)"
   ]
  },
  {
   "cell_type": "code",
   "execution_count": null,
   "metadata": {
    "id": "MnG9TBW2youT"
   },
   "outputs": [],
   "source": [
    "# Create a Polygon\n",
    "coords = [(53.336226, -6.273095), (53.337610, -6.267312), (53.340609, -6.270072), (53.336226, -6.273095)]\n",
    "poly = Polygon(coords)"
   ]
  },
  {
   "cell_type": "markdown",
   "metadata": {
    "id": "ZqRGvqsVGKng"
   },
   "source": [
    "Shapely is a planar geometry library and z, the height above or below the plane, is ignored in geometric analysis. There is a potential pitfall for users here: coordinate tuples that differ only in z are not distinguished from each other and their application can result in suprisingly invalid geometry objects. For example, LineString([(0, 0, 0), (0, 0, 1)]) does not return a vertical line of unit length, but an invalid line in the plane with zero length. Similarly, Polygon([(0, 0, 0), (0, 0, 1), (1, 1, 1)]) is not bounded by a closed ring and is invalid."
   ]
  },
  {
   "cell_type": "markdown",
   "metadata": {
    "id": "krYLHQz6Gcpo"
   },
   "source": [
    "For examples on what a \"valid\" geometry looks like, [please read this documentation (click).](https://shapely.readthedocs.io/en/stable/manual.html)"
   ]
  },
  {
   "cell_type": "code",
   "execution_count": null,
   "metadata": {
    "colab": {
     "base_uri": "https://localhost:8080/"
    },
    "id": "g8foTYK_zfuR",
    "outputId": "ed03b486-bdac-4b1c-a781-1f6ac78db9bc"
   },
   "outputs": [
    {
     "data": {
      "text/plain": [
       "True"
      ]
     },
     "execution_count": 22,
     "metadata": {},
     "output_type": "execute_result"
    }
   ],
   "source": [
    "poly.is_valid"
   ]
  },
  {
   "cell_type": "code",
   "execution_count": null,
   "metadata": {
    "colab": {
     "base_uri": "https://localhost:8080/"
    },
    "id": "aF_KPJgWzkWO",
    "outputId": "d2f99ed0-4b99-4cbd-bfbe-499e8c91f10e"
   },
   "outputs": [
    {
     "data": {
      "text/plain": [
       "True"
      ]
     },
     "execution_count": 23,
     "metadata": {},
     "output_type": "execute_result"
    }
   ],
   "source": [
    "poly.is_simple"
   ]
  },
  {
   "cell_type": "code",
   "execution_count": null,
   "metadata": {
    "colab": {
     "base_uri": "https://localhost:8080/"
    },
    "id": "gJNPLObYznFt",
    "outputId": "cc0ec98a-7713-460d-fe66-dd35533f7f36"
   },
   "outputs": [
    {
     "data": {
      "text/plain": [
       "False"
      ]
     },
     "execution_count": 24,
     "metadata": {},
     "output_type": "execute_result"
    }
   ],
   "source": [
    "poly.is_closed # suprising?"
   ]
  },
  {
   "cell_type": "markdown",
   "metadata": {
    "id": "dWLdTXxMWK4Z"
   },
   "source": [
    "###Task 2\n",
    "Experiment with this. Consult the [shapely documentation](https://shapely.readthedocs.io/en/stable/manual.html#polygons). How can you make the `is_closed` check return `True`? \n",
    "\n",
    "**Hint**: what are we actually checking here vs what we should be checking? For example, you have learnt that Polygons are defined through an outer/exterior and and inner/interior. So was our question before valid? Probably not, as it wasn't precise enough. The difficulty is that Shapely won't refuse a non logical query. It will just assume that you know what you are asking and give you some result."
   ]
  },
  {
   "cell_type": "code",
   "execution_count": null,
   "metadata": {
    "id": "TnhKK46w8GnL"
   },
   "outputs": [],
   "source": [
    "# your code goes here"
   ]
  },
  {
   "cell_type": "code",
   "execution_count": null,
   "metadata": {
    "colab": {
     "base_uri": "https://localhost:8080/"
    },
    "id": "M1nrIBOwV6Hr",
    "outputId": "b9e653de-af0f-4748-e882-7189df01f6cb"
   },
   "outputs": [
    {
     "data": {
      "text/plain": [
       "[(53.336226, -6.273095),\n",
       " (53.33761, -6.267312),\n",
       " (53.340609, -6.270072),\n",
       " (53.336226, -6.273095)]"
      ]
     },
     "execution_count": 25,
     "metadata": {},
     "output_type": "execute_result"
    }
   ],
   "source": [
    "list(poly.exterior.coords)"
   ]
  },
  {
   "cell_type": "code",
   "execution_count": null,
   "metadata": {
    "colab": {
     "base_uri": "https://localhost:8080/"
    },
    "id": "4dyOmwhRWEpf",
    "outputId": "4e62c3b6-3c8a-4687-cd17-231cdd08d563"
   },
   "outputs": [
    {
     "data": {
      "text/plain": [
       "True"
      ]
     },
     "execution_count": 26,
     "metadata": {},
     "output_type": "execute_result"
    }
   ],
   "source": [
    "poly.exterior.is_closed"
   ]
  },
  {
   "cell_type": "markdown",
   "metadata": {
    "id": "mee-gvsIWe5a"
   },
   "source": [
    "###Task 3\n",
    "Before you move on, test behaviour as well for `LineString` and `LinearRing`. Using the following list of coordinates: \n",
    "`[(0, 0), (1, 1), (1, -1)]` and check for `is_ring`. To help you with the investigation, it can help to just print the shapes to screen."
   ]
  },
  {
   "cell_type": "code",
   "execution_count": null,
   "metadata": {
    "id": "280g1AcFQb0r"
   },
   "outputs": [],
   "source": [
    "# your code goes here"
   ]
  },
  {
   "cell_type": "code",
   "execution_count": null,
   "metadata": {
    "colab": {
     "base_uri": "https://localhost:8080/"
    },
    "id": "cQHVPKQnVEDH",
    "outputId": "6b65b174-932b-4fe1-fec2-239cd807ec18"
   },
   "outputs": [
    {
     "data": {
      "text/plain": [
       "False"
      ]
     },
     "execution_count": 27,
     "metadata": {},
     "output_type": "execute_result"
    }
   ],
   "source": [
    "l_s = LineString([(0, 0), (1, 1), (1, -1)])\n",
    "l_s.is_ring"
   ]
  },
  {
   "cell_type": "code",
   "execution_count": null,
   "metadata": {
    "colab": {
     "base_uri": "https://localhost:8080/"
    },
    "id": "qg4ikDqEWtuS",
    "outputId": "d9bdaff2-e67b-4806-fcc8-09852d378b48"
   },
   "outputs": [
    {
     "data": {
      "text/plain": [
       "True"
      ]
     },
     "execution_count": 28,
     "metadata": {},
     "output_type": "execute_result"
    }
   ],
   "source": [
    "l_r = LinearRing([(0, 0), (1, 1), (1, -1)])\n",
    "l_r.is_ring"
   ]
  },
  {
   "cell_type": "code",
   "execution_count": null,
   "metadata": {
    "colab": {
     "base_uri": "https://localhost:8080/",
     "height": 121
    },
    "id": "s4hwdllOVKAQ",
    "outputId": "1b48577b-3ed8-41c0-b6aa-09095359792f"
   },
   "outputs": [
    {
     "data": {
      "image/svg+xml": [
       "<svg xmlns=\"http://www.w3.org/2000/svg\" xmlns:xlink=\"http://www.w3.org/1999/xlink\" width=\"100.0\" height=\"100.0\" viewBox=\"-0.08 -1.08 1.1600000000000001 2.16\" preserveAspectRatio=\"xMinYMin meet\"><g transform=\"matrix(1,0,0,-1,0,0.0)\"><polyline fill=\"none\" stroke=\"#66cc99\" stroke-width=\"0.0432\" points=\"0.0,0.0 1.0,1.0 1.0,-1.0 0.0,0.0\" opacity=\"0.8\" /></g></svg>"
      ],
      "text/plain": [
       "<LINEARRING (0 0, 1 1, 1 -1, 0 0)>"
      ]
     },
     "execution_count": 29,
     "metadata": {},
     "output_type": "execute_result"
    }
   ],
   "source": [
    "l_r"
   ]
  },
  {
   "cell_type": "code",
   "execution_count": null,
   "metadata": {
    "colab": {
     "base_uri": "https://localhost:8080/",
     "height": 121
    },
    "id": "jI3qtPhWXOrr",
    "outputId": "74b32968-aa82-47bf-d319-26cf903fbaa1"
   },
   "outputs": [
    {
     "data": {
      "image/svg+xml": [
       "<svg xmlns=\"http://www.w3.org/2000/svg\" xmlns:xlink=\"http://www.w3.org/1999/xlink\" width=\"100.0\" height=\"100.0\" viewBox=\"-0.08 -1.08 1.1600000000000001 2.16\" preserveAspectRatio=\"xMinYMin meet\"><g transform=\"matrix(1,0,0,-1,0,0.0)\"><polyline fill=\"none\" stroke=\"#66cc99\" stroke-width=\"0.0432\" points=\"0.0,0.0 1.0,1.0 1.0,-1.0\" opacity=\"0.8\" /></g></svg>"
      ],
      "text/plain": [
       "<LINESTRING (0 0, 1 1, 1 -1)>"
      ]
     },
     "execution_count": 30,
     "metadata": {},
     "output_type": "execute_result"
    }
   ],
   "source": [
    "l_s"
   ]
  },
  {
   "cell_type": "code",
   "execution_count": null,
   "metadata": {
    "colab": {
     "base_uri": "https://localhost:8080/",
     "height": 121
    },
    "id": "fjrtEwOvztev",
    "outputId": "65a01044-c039-4708-fa9d-1634b548df83"
   },
   "outputs": [
    {
     "data": {
      "image/svg+xml": [
       "<svg xmlns=\"http://www.w3.org/2000/svg\" xmlns:xlink=\"http://www.w3.org/1999/xlink\" width=\"100.0\" height=\"100.0\" viewBox=\"53.335994680000006 -6.27332632 0.004845639999992102 0.006245639999999497\" preserveAspectRatio=\"xMinYMin meet\"><g transform=\"matrix(1,0,0,-1,0,-12.540407)\"><path fill-rule=\"evenodd\" fill=\"#66cc99\" stroke=\"#555555\" stroke-width=\"0.00012491279999998995\" opacity=\"0.6\" d=\"M 53.336226,-6.273095 L 53.33761,-6.267312 L 53.340609,-6.270072 L 53.336226,-6.273095 z\" /></g></svg>"
      ],
      "text/plain": [
       "<POLYGON ((53.336 -6.273, 53.338 -6.267, 53.341 -6.27, 53.336 -6.273))>"
      ]
     },
     "execution_count": 31,
     "metadata": {},
     "output_type": "execute_result"
    }
   ],
   "source": [
    "poly"
   ]
  },
  {
   "cell_type": "code",
   "execution_count": null,
   "metadata": {
    "colab": {
     "base_uri": "https://localhost:8080/"
    },
    "id": "XFZXJCMyzWCA",
    "outputId": "0e5d996d-c943-46e8-c513-669ebc249c3e"
   },
   "outputs": [
    {
     "name": "stdout",
     "output_type": "stream",
     "text": [
      "POINT (53.338311 -6.270298)\n",
      "POINT (53.363835 -6.22033)\n",
      "POLYGON ((53.336226 -6.273095, 53.33761 -6.267312, 53.340609 -6.270072, 53.336226 -6.273095))\n"
     ]
    }
   ],
   "source": [
    "# Let's check what we have\n",
    "print(p1)\n",
    "print(p2)\n",
    "print(poly)"
   ]
  },
  {
   "cell_type": "code",
   "execution_count": null,
   "metadata": {
    "colab": {
     "base_uri": "https://localhost:8080/"
    },
    "id": "j9CIn9dZzYcf",
    "outputId": "ef988edf-da3e-4231-e987-849d29dd9885"
   },
   "outputs": [
    {
     "data": {
      "text/plain": [
       "True"
      ]
     },
     "execution_count": 33,
     "metadata": {},
     "output_type": "execute_result"
    }
   ],
   "source": [
    "# Check if p1 is within the polygon using the within function\n",
    "p1.within(poly)"
   ]
  },
  {
   "cell_type": "code",
   "execution_count": null,
   "metadata": {
    "colab": {
     "base_uri": "https://localhost:8080/"
    },
    "id": "rsJsAIGdzbQg",
    "outputId": "9a914f22-1771-43e0-bf7a-40a39aa6d1e8"
   },
   "outputs": [
    {
     "data": {
      "text/plain": [
       "False"
      ]
     },
     "execution_count": 34,
     "metadata": {},
     "output_type": "execute_result"
    }
   ],
   "source": [
    "# Check if p2 is within the polygon\n",
    "p2.within(poly)"
   ]
  },
  {
   "cell_type": "code",
   "execution_count": null,
   "metadata": {
    "colab": {
     "base_uri": "https://localhost:8080/"
    },
    "id": "pUVQGWZSzemG",
    "outputId": "c9fdbaf4-4c82-4e7d-cdbc-b87033229240"
   },
   "outputs": [
    {
     "name": "stdout",
     "output_type": "stream",
     "text": [
      "POINT (53.338311 -6.270298)\n",
      "POINT (53.33814833333333 -6.270159666666666)\n"
     ]
    }
   ],
   "source": [
    "# Our point is very close to the centre of mass of the polygon\n",
    "print(p1)\n",
    "\n",
    "# The centroid\n",
    "print(poly.centroid)"
   ]
  },
  {
   "cell_type": "code",
   "execution_count": null,
   "metadata": {
    "colab": {
     "base_uri": "https://localhost:8080/"
    },
    "id": "AX5kR4orz6Er",
    "outputId": "248d943a-8590-4b1c-8c5f-adbd00c570a5"
   },
   "outputs": [
    {
     "data": {
      "text/plain": [
       "True"
      ]
     },
     "execution_count": 36,
     "metadata": {},
     "output_type": "execute_result"
    }
   ],
   "source": [
    "# Does polygon contain p1?\n",
    "poly.contains(p1)"
   ]
  },
  {
   "cell_type": "code",
   "execution_count": null,
   "metadata": {
    "colab": {
     "base_uri": "https://localhost:8080/"
    },
    "id": "4V4Y5nJsz-gU",
    "outputId": "51ebbdf5-04bf-4fe9-8309-5b551c98e72e"
   },
   "outputs": [
    {
     "data": {
      "text/plain": [
       "False"
      ]
     },
     "execution_count": 37,
     "metadata": {},
     "output_type": "execute_result"
    }
   ],
   "source": [
    "# Does polygon contain p2?\n",
    "poly.contains(p2)\n"
   ]
  },
  {
   "cell_type": "markdown",
   "metadata": {
    "id": "c1zn8nVskZ5u"
   },
   "source": [
    "### Intersections"
   ]
  },
  {
   "cell_type": "code",
   "execution_count": null,
   "metadata": {
    "id": "3nczPwj00BIu"
   },
   "outputs": [],
   "source": [
    "from shapely.geometry import LineString, MultiLineString"
   ]
  },
  {
   "cell_type": "code",
   "execution_count": null,
   "metadata": {
    "id": "EWqELBPd0Gyq"
   },
   "outputs": [],
   "source": [
    "# Create two lines\n",
    "line_a = LineString([(0, 0), (1, 1)])\n",
    "line_b = LineString([(1, 1), (0, 2)])"
   ]
  },
  {
   "cell_type": "code",
   "execution_count": null,
   "metadata": {
    "colab": {
     "base_uri": "https://localhost:8080/"
    },
    "id": "GvATokN_0Iov",
    "outputId": "d8c0359b-4ad0-41ca-85fb-c1c434870759"
   },
   "outputs": [
    {
     "data": {
      "text/plain": [
       "True"
      ]
     },
     "execution_count": 40,
     "metadata": {},
     "output_type": "execute_result"
    }
   ],
   "source": [
    "line_a.intersects(line_b)"
   ]
  },
  {
   "cell_type": "code",
   "execution_count": null,
   "metadata": {
    "colab": {
     "base_uri": "https://localhost:8080/"
    },
    "id": "65V2cX470LKH",
    "outputId": "5201db46-9af5-47fb-fdda-e16d0da08014"
   },
   "outputs": [
    {
     "data": {
      "text/plain": [
       "True"
      ]
     },
     "execution_count": 41,
     "metadata": {},
     "output_type": "execute_result"
    }
   ],
   "source": [
    "line_a.touches(line_b)"
   ]
  },
  {
   "cell_type": "code",
   "execution_count": null,
   "metadata": {
    "colab": {
     "base_uri": "https://localhost:8080/",
     "height": 121
    },
    "id": "YTFN7y5g0NO8",
    "outputId": "2ee5a6f8-8f15-4e0a-83c2-aac8f3bfb7e7"
   },
   "outputs": [
    {
     "data": {
      "image/svg+xml": [
       "<svg xmlns=\"http://www.w3.org/2000/svg\" xmlns:xlink=\"http://www.w3.org/1999/xlink\" width=\"100.0\" height=\"100.0\" viewBox=\"-0.08 -0.08 1.1600000000000001 2.16\" preserveAspectRatio=\"xMinYMin meet\"><g transform=\"matrix(1,0,0,-1,0,2.0)\"><g><polyline fill=\"none\" stroke=\"#66cc99\" stroke-width=\"0.0432\" points=\"0.0,0.0 1.0,1.0\" opacity=\"0.8\" /><polyline fill=\"none\" stroke=\"#66cc99\" stroke-width=\"0.0432\" points=\"1.0,1.0 0.0,2.0\" opacity=\"0.8\" /></g></g></svg>"
      ],
      "text/plain": [
       "<MULTILINESTRING ((0 0, 1 1), (1 1, 0 2))>"
      ]
     },
     "execution_count": 42,
     "metadata": {},
     "output_type": "execute_result"
    }
   ],
   "source": [
    "# Create a MultiLineString from line_a and line_b\n",
    "multi_line = MultiLineString([line_a, line_b])\n",
    "multi_line"
   ]
  },
  {
   "cell_type": "code",
   "execution_count": null,
   "metadata": {
    "colab": {
     "base_uri": "https://localhost:8080/"
    },
    "id": "4K7U0dPr0P2V",
    "outputId": "8a495aae-d0e7-4137-fce5-cfa61456ade2"
   },
   "outputs": [
    {
     "data": {
      "text/plain": [
       "False"
      ]
     },
     "execution_count": 43,
     "metadata": {},
     "output_type": "execute_result"
    }
   ],
   "source": [
    "# Does the line touch with itself?\n",
    "line_a.touches(line_a)"
   ]
  },
  {
   "cell_type": "code",
   "execution_count": null,
   "metadata": {
    "colab": {
     "base_uri": "https://localhost:8080/"
    },
    "id": "tJSFp1tg0TqX",
    "outputId": "c012a94f-d643-4305-dab7-34ee1d93e7c8"
   },
   "outputs": [
    {
     "data": {
      "text/plain": [
       "True"
      ]
     },
     "execution_count": 44,
     "metadata": {},
     "output_type": "execute_result"
    }
   ],
   "source": [
    "# Does the line intersect with itself?\n",
    "line_a.intersects(line_a)"
   ]
  },
  {
   "cell_type": "markdown",
   "metadata": {
    "id": "jjTEVFDQ0Za-"
   },
   "source": [
    "## Point in Polygon with Geopandas\n",
    "After having looked at some basics, let's move on to actual geometries and go back to our address information and let's learn some more about shapefiles.\n",
    "\n",
    "We are now going to use the addresses.shp shapefile that you have created earlier."
   ]
  },
  {
   "cell_type": "code",
   "execution_count": null,
   "metadata": {
    "colab": {
     "base_uri": "https://localhost:8080/",
     "height": 112
    },
    "id": "mKROJh780ebV",
    "outputId": "84e89dd7-55e9-41ed-bed6-1a795475f8db"
   },
   "outputs": [
    {
     "data": {
      "text/html": [
       "\n",
       "  <div id=\"df-bb9242a3-808e-40d2-901e-356a1390993d\">\n",
       "    <div class=\"colab-df-container\">\n",
       "      <div>\n",
       "<style scoped>\n",
       "    .dataframe tbody tr th:only-of-type {\n",
       "        vertical-align: middle;\n",
       "    }\n",
       "\n",
       "    .dataframe tbody tr th {\n",
       "        vertical-align: top;\n",
       "    }\n",
       "\n",
       "    .dataframe thead th {\n",
       "        text-align: right;\n",
       "    }\n",
       "</style>\n",
       "<table border=\"1\" class=\"dataframe\">\n",
       "  <thead>\n",
       "    <tr style=\"text-align: right;\">\n",
       "      <th></th>\n",
       "      <th>address</th>\n",
       "      <th>id</th>\n",
       "      <th>addr</th>\n",
       "      <th>geometry</th>\n",
       "    </tr>\n",
       "  </thead>\n",
       "  <tbody>\n",
       "    <tr>\n",
       "      <th>0</th>\n",
       "      <td>Drogheda Street, Cahill's Cross, Monasterevin ...</td>\n",
       "      <td>1001</td>\n",
       "      <td>2 Drogheda St, Monasterevin, Co. Kildare, Ireland</td>\n",
       "      <td>POINT (-7.06112 53.13905)</td>\n",
       "    </tr>\n",
       "    <tr>\n",
       "      <th>1</th>\n",
       "      <td>Hyde Court, Roscommon Rural ED, Roscommon Muni...</td>\n",
       "      <td>1003</td>\n",
       "      <td>20 Hyde Ct, Roscommon, Ireland</td>\n",
       "      <td>POINT (-8.18129 53.62210)</td>\n",
       "    </tr>\n",
       "  </tbody>\n",
       "</table>\n",
       "</div>\n",
       "      <button class=\"colab-df-convert\" onclick=\"convertToInteractive('df-bb9242a3-808e-40d2-901e-356a1390993d')\"\n",
       "              title=\"Convert this dataframe to an interactive table.\"\n",
       "              style=\"display:none;\">\n",
       "        \n",
       "  <svg xmlns=\"http://www.w3.org/2000/svg\" height=\"24px\"viewBox=\"0 0 24 24\"\n",
       "       width=\"24px\">\n",
       "    <path d=\"M0 0h24v24H0V0z\" fill=\"none\"/>\n",
       "    <path d=\"M18.56 5.44l.94 2.06.94-2.06 2.06-.94-2.06-.94-.94-2.06-.94 2.06-2.06.94zm-11 1L8.5 8.5l.94-2.06 2.06-.94-2.06-.94L8.5 2.5l-.94 2.06-2.06.94zm10 10l.94 2.06.94-2.06 2.06-.94-2.06-.94-.94-2.06-.94 2.06-2.06.94z\"/><path d=\"M17.41 7.96l-1.37-1.37c-.4-.4-.92-.59-1.43-.59-.52 0-1.04.2-1.43.59L10.3 9.45l-7.72 7.72c-.78.78-.78 2.05 0 2.83L4 21.41c.39.39.9.59 1.41.59.51 0 1.02-.2 1.41-.59l7.78-7.78 2.81-2.81c.8-.78.8-2.07 0-2.86zM5.41 20L4 18.59l7.72-7.72 1.47 1.35L5.41 20z\"/>\n",
       "  </svg>\n",
       "      </button>\n",
       "      \n",
       "  <style>\n",
       "    .colab-df-container {\n",
       "      display:flex;\n",
       "      flex-wrap:wrap;\n",
       "      gap: 12px;\n",
       "    }\n",
       "\n",
       "    .colab-df-convert {\n",
       "      background-color: #E8F0FE;\n",
       "      border: none;\n",
       "      border-radius: 50%;\n",
       "      cursor: pointer;\n",
       "      display: none;\n",
       "      fill: #1967D2;\n",
       "      height: 32px;\n",
       "      padding: 0 0 0 0;\n",
       "      width: 32px;\n",
       "    }\n",
       "\n",
       "    .colab-df-convert:hover {\n",
       "      background-color: #E2EBFA;\n",
       "      box-shadow: 0px 1px 2px rgba(60, 64, 67, 0.3), 0px 1px 3px 1px rgba(60, 64, 67, 0.15);\n",
       "      fill: #174EA6;\n",
       "    }\n",
       "\n",
       "    [theme=dark] .colab-df-convert {\n",
       "      background-color: #3B4455;\n",
       "      fill: #D2E3FC;\n",
       "    }\n",
       "\n",
       "    [theme=dark] .colab-df-convert:hover {\n",
       "      background-color: #434B5C;\n",
       "      box-shadow: 0px 1px 3px 1px rgba(0, 0, 0, 0.15);\n",
       "      filter: drop-shadow(0px 1px 2px rgba(0, 0, 0, 0.3));\n",
       "      fill: #FFFFFF;\n",
       "    }\n",
       "  </style>\n",
       "\n",
       "      <script>\n",
       "        const buttonEl =\n",
       "          document.querySelector('#df-bb9242a3-808e-40d2-901e-356a1390993d button.colab-df-convert');\n",
       "        buttonEl.style.display =\n",
       "          google.colab.kernel.accessAllowed ? 'block' : 'none';\n",
       "\n",
       "        async function convertToInteractive(key) {\n",
       "          const element = document.querySelector('#df-bb9242a3-808e-40d2-901e-356a1390993d');\n",
       "          const dataTable =\n",
       "            await google.colab.kernel.invokeFunction('convertToInteractive',\n",
       "                                                     [key], {});\n",
       "          if (!dataTable) return;\n",
       "\n",
       "          const docLinkHtml = 'Like what you see? Visit the ' +\n",
       "            '<a target=\"_blank\" href=https://colab.research.google.com/notebooks/data_table.ipynb>data table notebook</a>'\n",
       "            + ' to learn more about interactive tables.';\n",
       "          element.innerHTML = '';\n",
       "          dataTable['output_type'] = 'display_data';\n",
       "          await google.colab.output.renderOutput(dataTable, element);\n",
       "          const docLink = document.createElement('div');\n",
       "          docLink.innerHTML = docLinkHtml;\n",
       "          element.appendChild(docLink);\n",
       "        }\n",
       "      </script>\n",
       "    </div>\n",
       "  </div>\n",
       "  "
      ],
      "text/plain": [
       "                                             address    id  \\\n",
       "0  Drogheda Street, Cahill's Cross, Monasterevin ...  1001   \n",
       "1  Hyde Court, Roscommon Rural ED, Roscommon Muni...  1003   \n",
       "\n",
       "                                                addr  \\\n",
       "0  2 Drogheda St, Monasterevin, Co. Kildare, Ireland   \n",
       "1                     20 Hyde Ct, Roscommon, Ireland   \n",
       "\n",
       "                    geometry  \n",
       "0  POINT (-7.06112 53.13905)  \n",
       "1  POINT (-8.18129 53.62210)  "
      ]
     },
     "execution_count": 45,
     "metadata": {},
     "output_type": "execute_result"
    }
   ],
   "source": [
    "# this is the file we created earlier.\n",
    "# adjust the path to what it is on your system!\n",
    "fp_addr_shape = \"/content/drive/My Drive/data_share/addresses.shp\"\n",
    "data_shp = gpd.read_file(fp_addr_shape)\n",
    "\n",
    "data_shp.head()"
   ]
  },
  {
   "cell_type": "code",
   "execution_count": null,
   "metadata": {
    "colab": {
     "base_uri": "https://localhost:8080/"
    },
    "id": "FTVrHQYeVUj6",
    "outputId": "4b6d9141-bff8-4bdb-fc90-d67fcbb471ac"
   },
   "outputs": [
    {
     "data": {
      "text/plain": [
       "geopandas.geodataframe.GeoDataFrame"
      ]
     },
     "execution_count": 46,
     "metadata": {},
     "output_type": "execute_result"
    }
   ],
   "source": [
    "type(data_shp)"
   ]
  },
  {
   "cell_type": "markdown",
   "metadata": {
    "id": "gVWD5mxSVb_2"
   },
   "source": [
    "Our `data_shp `-variable is a `GeoDataFrame`. `GeoDataFrame` extends the functionalities of `pandas.DataFrame` in a way that it is possible to handle spatial data using similar approaches and data structures as in pandas."
   ]
  },
  {
   "cell_type": "markdown",
   "metadata": {
    "id": "3slU735CRCv7"
   },
   "source": [
    "You can see here how we have a `geometry` column in our shape file. The type of this `geometry` is `Point`. You have all the functionality of Shapely when using GeoPandas."
   ]
  },
  {
   "cell_type": "code",
   "execution_count": null,
   "metadata": {
    "colab": {
     "base_uri": "https://localhost:8080/"
    },
    "id": "NOs4ZAKxVycF",
    "outputId": "d71574f0-ba50-4353-cdf9-bde6cd70201a"
   },
   "outputs": [
    {
     "data": {
      "text/plain": [
       "Index(['address', 'id', 'addr', 'geometry'], dtype='object')"
      ]
     },
     "execution_count": 47,
     "metadata": {},
     "output_type": "execute_result"
    }
   ],
   "source": [
    "data_shp.columns"
   ]
  },
  {
   "cell_type": "code",
   "execution_count": null,
   "metadata": {
    "colab": {
     "base_uri": "https://localhost:8080/"
    },
    "id": "hunQeNILgb13",
    "outputId": "0f5d6a48-babf-4b7e-d507-b00dc5838dc0"
   },
   "outputs": [
    {
     "data": {
      "text/plain": [
       "0    Point\n",
       "1    Point\n",
       "dtype: object"
      ]
     },
     "execution_count": 48,
     "metadata": {},
     "output_type": "execute_result"
    }
   ],
   "source": [
    "data_shp.type"
   ]
  },
  {
   "cell_type": "markdown",
   "metadata": {
    "id": "5eJ7gomGXDx3"
   },
   "source": [
    "It is always a good idea to explore a visual of your data. Creating a simple map from a `GeoDataFrame` is really easy: you can use the `.plot()` -function from `GeoPandas` that creates a map based on the geometries of the data."
   ]
  },
  {
   "cell_type": "code",
   "execution_count": null,
   "metadata": {
    "colab": {
     "base_uri": "https://localhost:8080/",
     "height": 283
    },
    "id": "TnQZ4x6ig50B",
    "outputId": "18280f1a-c64e-426a-801b-367ca841b849"
   },
   "outputs": [
    {
     "data": {
      "text/plain": [
       "<matplotlib.axes._subplots.AxesSubplot at 0x7f16f61d80d0>"
      ]
     },
     "execution_count": 49,
     "metadata": {},
     "output_type": "execute_result"
    },
    {
     "data": {
      "image/png": "[encoded data removed]",
      "text/plain": [
       "<Figure size 432x288 with 1 Axes>"
      ]
     },
     "metadata": {
      "needs_background": "light"
     },
     "output_type": "display_data"
    }
   ],
   "source": [
    "data_shp.plot()"
   ]
  },
  {
   "cell_type": "code",
   "execution_count": null,
   "metadata": {
    "colab": {
     "base_uri": "https://localhost:8080/"
    },
    "id": "nHCRUNSeXa-K",
    "outputId": "e62d8f04-5ef5-4954-cae0-bae3eba140df"
   },
   "outputs": [
    {
     "name": "stdout",
     "output_type": "stream",
     "text": [
      "0    POINT (-7.06112 53.13905)\n",
      "1    POINT (-8.18129 53.62210)\n",
      "Name: geometry, dtype: geometry\n"
     ]
    }
   ],
   "source": [
    "# It is possible to get a specific column by specifying the column name \n",
    "# within square brackets []\n",
    "print(data_shp['geometry'].head())"
   ]
  },
  {
   "cell_type": "code",
   "execution_count": null,
   "metadata": {
    "colab": {
     "base_uri": "https://localhost:8080/",
     "height": 35
    },
    "id": "sd5p2YT6hIPT",
    "outputId": "c00ca16e-69a7-4859-8d71-6de1c1445820"
   },
   "outputs": [
    {
     "data": {
      "application/vnd.google.colaboratory.intrinsic+json": {
       "type": "string"
      },
      "text/plain": [
       "'geometry'"
      ]
     },
     "execution_count": 51,
     "metadata": {},
     "output_type": "execute_result"
    }
   ],
   "source": [
    "data_shp.geometry.name # this returns a kind of unintuitive name. \n",
    "# Let's change that in the next step."
   ]
  },
  {
   "cell_type": "code",
   "execution_count": null,
   "metadata": {
    "colab": {
     "base_uri": "https://localhost:8080/",
     "height": 35
    },
    "id": "eObbX1ykhVnu",
    "outputId": "a4268e80-e583-4ec7-d8a2-e26e484e346d"
   },
   "outputs": [
    {
     "data": {
      "application/vnd.google.colaboratory.intrinsic+json": {
       "type": "string"
      },
      "text/plain": [
       "'locations'"
      ]
     },
     "execution_count": 52,
     "metadata": {},
     "output_type": "execute_result"
    }
   ],
   "source": [
    "# change the name of the geometry column\n",
    "data_shp = data_shp.rename(columns={'geometry': 'locations'}).set_geometry('locations')\n",
    "data_shp.geometry.name"
   ]
  },
  {
   "cell_type": "markdown",
   "metadata": {
    "id": "H4j_E1dE84W4"
   },
   "source": [
    "The following counties of Ireland file is available in your `data_share` folder."
   ]
  },
  {
   "cell_type": "code",
   "execution_count": null,
   "metadata": {
    "colab": {
     "base_uri": "https://localhost:8080/",
     "height": 531
    },
    "id": "jwNQqGQgRlwx",
    "outputId": "5c1f5151-c2dd-4513-af38-0d73d4dff442"
   },
   "outputs": [
    {
     "data": {
      "text/html": [
       "\n",
       "  <div id=\"df-d891132b-82ad-405c-89a7-e490bb29dd94\">\n",
       "    <div class=\"colab-df-container\">\n",
       "      <div>\n",
       "<style scoped>\n",
       "    .dataframe tbody tr th:only-of-type {\n",
       "        vertical-align: middle;\n",
       "    }\n",
       "\n",
       "    .dataframe tbody tr th {\n",
       "        vertical-align: top;\n",
       "    }\n",
       "\n",
       "    .dataframe thead th {\n",
       "        text-align: right;\n",
       "    }\n",
       "</style>\n",
       "<table border=\"1\" class=\"dataframe\">\n",
       "  <thead>\n",
       "    <tr style=\"text-align: right;\">\n",
       "      <th></th>\n",
       "      <th>OBJECTID</th>\n",
       "      <th>CO_ID</th>\n",
       "      <th>ENGLISH</th>\n",
       "      <th>GAEILGE</th>\n",
       "      <th>LOGAINM_ID</th>\n",
       "      <th>GUID</th>\n",
       "      <th>CONTAE</th>\n",
       "      <th>COUNTY</th>\n",
       "      <th>PROVINCE</th>\n",
       "      <th>CENTROID_X</th>\n",
       "      <th>CENTROID_Y</th>\n",
       "      <th>AREA</th>\n",
       "      <th>SHAPE_Leng</th>\n",
       "      <th>SHAPE_Area</th>\n",
       "      <th>geometry</th>\n",
       "    </tr>\n",
       "  </thead>\n",
       "  <tbody>\n",
       "    <tr>\n",
       "      <th>0</th>\n",
       "      <td>1</td>\n",
       "      <td>50000</td>\n",
       "      <td>DONEGAL</td>\n",
       "      <td>Dún na nGall</td>\n",
       "      <td>100013</td>\n",
       "      <td>2ae19629-1452-13a3-e055-000000000001</td>\n",
       "      <td>Dún na nGall</td>\n",
       "      <td>DONEGAL</td>\n",
       "      <td>Ulster</td>\n",
       "      <td>607296.31</td>\n",
       "      <td>911848.45</td>\n",
       "      <td>4.860754e+09</td>\n",
       "      <td>1.859119e+06</td>\n",
       "      <td>4.860754e+09</td>\n",
       "      <td>MULTIPOLYGON (((594809.032 934698.617, 594809....</td>\n",
       "    </tr>\n",
       "    <tr>\n",
       "      <th>1</th>\n",
       "      <td>2</td>\n",
       "      <td>120000</td>\n",
       "      <td>LIMERICK</td>\n",
       "      <td>Luimneach</td>\n",
       "      <td>100022</td>\n",
       "      <td>2ae19629-1440-13a3-e055-000000000001</td>\n",
       "      <td>Luimneach</td>\n",
       "      <td>LIMERICK</td>\n",
       "      <td>Munster</td>\n",
       "      <td>548318.75</td>\n",
       "      <td>640943.05</td>\n",
       "      <td>2.754926e+09</td>\n",
       "      <td>3.897987e+05</td>\n",
       "      <td>2.754926e+09</td>\n",
       "      <td>POLYGON ((565662.328 665775.167, 565663.255 66...</td>\n",
       "    </tr>\n",
       "    <tr>\n",
       "      <th>2</th>\n",
       "      <td>3</td>\n",
       "      <td>80000</td>\n",
       "      <td>KILDARE</td>\n",
       "      <td>Cill Dara</td>\n",
       "      <td>100007</td>\n",
       "      <td>2ae19629-1455-13a3-e055-000000000001</td>\n",
       "      <td>Cill Dara</td>\n",
       "      <td>KILDARE</td>\n",
       "      <td>Leinster</td>\n",
       "      <td>678993.60</td>\n",
       "      <td>712090.40</td>\n",
       "      <td>1.694083e+09</td>\n",
       "      <td>2.970485e+05</td>\n",
       "      <td>1.694083e+09</td>\n",
       "      <td>POLYGON ((700193.727 734740.683, 700202.676 73...</td>\n",
       "    </tr>\n",
       "    <tr>\n",
       "      <th>3</th>\n",
       "      <td>4</td>\n",
       "      <td>220000</td>\n",
       "      <td>WATERFORD</td>\n",
       "      <td>Port Láirge</td>\n",
       "      <td>100026</td>\n",
       "      <td>2ae19629-144b-13a3-e055-000000000001</td>\n",
       "      <td>Port Láirge</td>\n",
       "      <td>WATERFORD</td>\n",
       "      <td>Munster</td>\n",
       "      <td>630336.80</td>\n",
       "      <td>599955.37</td>\n",
       "      <td>1.857038e+09</td>\n",
       "      <td>4.572206e+05</td>\n",
       "      <td>1.857038e+09</td>\n",
       "      <td>MULTIPOLYGON (((627774.638 593971.494, 627777....</td>\n",
       "    </tr>\n",
       "    <tr>\n",
       "      <th>4</th>\n",
       "      <td>5</td>\n",
       "      <td>260000</td>\n",
       "      <td>DUBLIN</td>\n",
       "      <td>Baile Átha Cliath</td>\n",
       "      <td>100002</td>\n",
       "      <td>2ae19629-144f-13a3-e055-000000000001</td>\n",
       "      <td>Baile Átha Cliath</td>\n",
       "      <td>DUBLIN</td>\n",
       "      <td>Leinster</td>\n",
       "      <td>714929.28</td>\n",
       "      <td>740960.44</td>\n",
       "      <td>9.257609e+08</td>\n",
       "      <td>3.661986e+05</td>\n",
       "      <td>9.257609e+08</td>\n",
       "      <td>MULTIPOLYGON (((703019.336 739044.540, 703020....</td>\n",
       "    </tr>\n",
       "  </tbody>\n",
       "</table>\n",
       "</div>\n",
       "      <button class=\"colab-df-convert\" onclick=\"convertToInteractive('df-d891132b-82ad-405c-89a7-e490bb29dd94')\"\n",
       "              title=\"Convert this dataframe to an interactive table.\"\n",
       "              style=\"display:none;\">\n",
       "        \n",
       "  <svg xmlns=\"http://www.w3.org/2000/svg\" height=\"24px\"viewBox=\"0 0 24 24\"\n",
       "       width=\"24px\">\n",
       "    <path d=\"M0 0h24v24H0V0z\" fill=\"none\"/>\n",
       "    <path d=\"M18.56 5.44l.94 2.06.94-2.06 2.06-.94-2.06-.94-.94-2.06-.94 2.06-2.06.94zm-11 1L8.5 8.5l.94-2.06 2.06-.94-2.06-.94L8.5 2.5l-.94 2.06-2.06.94zm10 10l.94 2.06.94-2.06 2.06-.94-2.06-.94-.94-2.06-.94 2.06-2.06.94z\"/><path d=\"M17.41 7.96l-1.37-1.37c-.4-.4-.92-.59-1.43-.59-.52 0-1.04.2-1.43.59L10.3 9.45l-7.72 7.72c-.78.78-.78 2.05 0 2.83L4 21.41c.39.39.9.59 1.41.59.51 0 1.02-.2 1.41-.59l7.78-7.78 2.81-2.81c.8-.78.8-2.07 0-2.86zM5.41 20L4 18.59l7.72-7.72 1.47 1.35L5.41 20z\"/>\n",
       "  </svg>\n",
       "      </button>\n",
       "      \n",
       "  <style>\n",
       "    .colab-df-container {\n",
       "      display:flex;\n",
       "      flex-wrap:wrap;\n",
       "      gap: 12px;\n",
       "    }\n",
       "\n",
       "    .colab-df-convert {\n",
       "      background-color: #E8F0FE;\n",
       "      border: none;\n",
       "      border-radius: 50%;\n",
       "      cursor: pointer;\n",
       "      display: none;\n",
       "      fill: #1967D2;\n",
       "      height: 32px;\n",
       "      padding: 0 0 0 0;\n",
       "      width: 32px;\n",
       "    }\n",
       "\n",
       "    .colab-df-convert:hover {\n",
       "      background-color: #E2EBFA;\n",
       "      box-shadow: 0px 1px 2px rgba(60, 64, 67, 0.3), 0px 1px 3px 1px rgba(60, 64, 67, 0.15);\n",
       "      fill: #174EA6;\n",
       "    }\n",
       "\n",
       "    [theme=dark] .colab-df-convert {\n",
       "      background-color: #3B4455;\n",
       "      fill: #D2E3FC;\n",
       "    }\n",
       "\n",
       "    [theme=dark] .colab-df-convert:hover {\n",
       "      background-color: #434B5C;\n",
       "      box-shadow: 0px 1px 3px 1px rgba(0, 0, 0, 0.15);\n",
       "      filter: drop-shadow(0px 1px 2px rgba(0, 0, 0, 0.3));\n",
       "      fill: #FFFFFF;\n",
       "    }\n",
       "  </style>\n",
       "\n",
       "      <script>\n",
       "        const buttonEl =\n",
       "          document.querySelector('#df-d891132b-82ad-405c-89a7-e490bb29dd94 button.colab-df-convert');\n",
       "        buttonEl.style.display =\n",
       "          google.colab.kernel.accessAllowed ? 'block' : 'none';\n",
       "\n",
       "        async function convertToInteractive(key) {\n",
       "          const element = document.querySelector('#df-d891132b-82ad-405c-89a7-e490bb29dd94');\n",
       "          const dataTable =\n",
       "            await google.colab.kernel.invokeFunction('convertToInteractive',\n",
       "                                                     [key], {});\n",
       "          if (!dataTable) return;\n",
       "\n",
       "          const docLinkHtml = 'Like what you see? Visit the ' +\n",
       "            '<a target=\"_blank\" href=https://colab.research.google.com/notebooks/data_table.ipynb>data table notebook</a>'\n",
       "            + ' to learn more about interactive tables.';\n",
       "          element.innerHTML = '';\n",
       "          dataTable['output_type'] = 'display_data';\n",
       "          await google.colab.output.renderOutput(dataTable, element);\n",
       "          const docLink = document.createElement('div');\n",
       "          docLink.innerHTML = docLinkHtml;\n",
       "          element.appendChild(docLink);\n",
       "        }\n",
       "      </script>\n",
       "    </div>\n",
       "  </div>\n",
       "  "
      ],
      "text/plain": [
       "   OBJECTID   CO_ID    ENGLISH            GAEILGE LOGAINM_ID  \\\n",
       "0         1   50000    DONEGAL       Dún na nGall     100013   \n",
       "1         2  120000   LIMERICK          Luimneach     100022   \n",
       "2         3   80000    KILDARE          Cill Dara     100007   \n",
       "3         4  220000  WATERFORD        Port Láirge     100026   \n",
       "4         5  260000     DUBLIN  Baile Átha Cliath     100002   \n",
       "\n",
       "                                   GUID             CONTAE     COUNTY  \\\n",
       "0  2ae19629-1452-13a3-e055-000000000001       Dún na nGall    DONEGAL   \n",
       "1  2ae19629-1440-13a3-e055-000000000001          Luimneach   LIMERICK   \n",
       "2  2ae19629-1455-13a3-e055-000000000001          Cill Dara    KILDARE   \n",
       "3  2ae19629-144b-13a3-e055-000000000001        Port Láirge  WATERFORD   \n",
       "4  2ae19629-144f-13a3-e055-000000000001  Baile Átha Cliath     DUBLIN   \n",
       "\n",
       "   PROVINCE  CENTROID_X  CENTROID_Y          AREA    SHAPE_Leng    SHAPE_Area  \\\n",
       "0    Ulster   607296.31   911848.45  4.860754e+09  1.859119e+06  4.860754e+09   \n",
       "1   Munster   548318.75   640943.05  2.754926e+09  3.897987e+05  2.754926e+09   \n",
       "2  Leinster   678993.60   712090.40  1.694083e+09  2.970485e+05  1.694083e+09   \n",
       "3   Munster   630336.80   599955.37  1.857038e+09  4.572206e+05  1.857038e+09   \n",
       "4  Leinster   714929.28   740960.44  9.257609e+08  3.661986e+05  9.257609e+08   \n",
       "\n",
       "                                            geometry  \n",
       "0  MULTIPOLYGON (((594809.032 934698.617, 594809....  \n",
       "1  POLYGON ((565662.328 665775.167, 565663.255 66...  \n",
       "2  POLYGON ((700193.727 734740.683, 700202.676 73...  \n",
       "3  MULTIPOLYGON (((627774.638 593971.494, 627777....  \n",
       "4  MULTIPOLYGON (((703019.336 739044.540, 703020....  "
      ]
     },
     "execution_count": 58,
     "metadata": {},
     "output_type": "execute_result"
    }
   ],
   "source": [
    "fp_counties = \"/content/drive/My Drive/data_share/Counties___OSi_National_Statutory_Boundaries_.shp\"\n",
    "\n",
    "counties = gpd.read_file(fp_counties)\n",
    "\n",
    "counties.head()"
   ]
  },
  {
   "cell_type": "code",
   "execution_count": null,
   "metadata": {
    "colab": {
     "base_uri": "https://localhost:8080/"
    },
    "id": "GFrNnTnlSLrS",
    "outputId": "d10cb72e-3df2-4057-8813-8876804d3e64"
   },
   "outputs": [
    {
     "data": {
      "text/plain": [
       "(26, 15)"
      ]
     },
     "execution_count": 59,
     "metadata": {},
     "output_type": "execute_result"
    }
   ],
   "source": [
    "counties.shape"
   ]
  },
  {
   "cell_type": "code",
   "execution_count": null,
   "metadata": {
    "colab": {
     "base_uri": "https://localhost:8080/"
    },
    "id": "h8QQHkR4Sm-i",
    "outputId": "d06165ed-34bb-4175-9955-692926278cc2"
   },
   "outputs": [
    {
     "data": {
      "text/plain": [
       "Index(['OBJECTID', 'CO_ID', 'ENGLISH', 'GAEILGE', 'LOGAINM_ID', 'GUID',\n",
       "       'CONTAE', 'COUNTY', 'PROVINCE', 'CENTROID_X', 'CENTROID_Y', 'AREA',\n",
       "       'SHAPE_Leng', 'SHAPE_Area', 'geometry'],\n",
       "      dtype='object')"
      ]
     },
     "execution_count": 60,
     "metadata": {},
     "output_type": "execute_result"
    }
   ],
   "source": [
    "counties.columns"
   ]
  },
  {
   "cell_type": "code",
   "execution_count": null,
   "metadata": {
    "colab": {
     "base_uri": "https://localhost:8080/"
    },
    "id": "X9ey5-bMeKEZ",
    "outputId": "f115bed3-1e25-46a5-8c36-c68bdb358424"
   },
   "outputs": [
    {
     "data": {
      "text/plain": [
       "26"
      ]
     },
     "execution_count": 61,
     "metadata": {},
     "output_type": "execute_result"
    }
   ],
   "source": [
    "len(counties)"
   ]
  },
  {
   "cell_type": "markdown",
   "metadata": {
    "id": "ISxD3WqXSdhM"
   },
   "source": [
    "As you can see the file contains only the 26 counties of the Republic of Ireland (not the 6 of Northern Ireland)."
   ]
  },
  {
   "cell_type": "code",
   "execution_count": null,
   "metadata": {
    "colab": {
     "base_uri": "https://localhost:8080/"
    },
    "id": "f4R4hgd_mvj6",
    "outputId": "a4680aed-a150-44ea-aec9-2c55f4c88873"
   },
   "outputs": [
    {
     "data": {
      "text/plain": [
       "geopandas.geodataframe.GeoDataFrame"
      ]
     },
     "execution_count": 62,
     "metadata": {},
     "output_type": "execute_result"
    }
   ],
   "source": [
    "type(counties)"
   ]
  },
  {
   "cell_type": "code",
   "execution_count": null,
   "metadata": {
    "colab": {
     "base_uri": "https://localhost:8080/"
    },
    "id": "YWBKY6KzaILO",
    "outputId": "a7d8457e-1763-466a-a91a-5242823c6435"
   },
   "outputs": [
    {
     "data": {
      "text/plain": [
       "0     True\n",
       "1     True\n",
       "2     True\n",
       "3     True\n",
       "4     True\n",
       "5     True\n",
       "6     True\n",
       "7     True\n",
       "8     True\n",
       "9     True\n",
       "10    True\n",
       "11    True\n",
       "12    True\n",
       "13    True\n",
       "14    True\n",
       "15    True\n",
       "16    True\n",
       "17    True\n",
       "18    True\n",
       "19    True\n",
       "20    True\n",
       "21    True\n",
       "22    True\n",
       "23    True\n",
       "24    True\n",
       "25    True\n",
       "dtype: bool"
      ]
     },
     "execution_count": 64,
     "metadata": {},
     "output_type": "execute_result"
    }
   ],
   "source": [
    "counties.is_valid"
   ]
  },
  {
   "cell_type": "code",
   "execution_count": null,
   "metadata": {
    "colab": {
     "base_uri": "https://localhost:8080/"
    },
    "id": "FheM6SgUY4RQ",
    "outputId": "efe7ac8a-0909-416d-e187-afc6b5db03b8"
   },
   "outputs": [
    {
     "data": {
      "text/plain": [
       "0     MultiPolygon\n",
       "1          Polygon\n",
       "2          Polygon\n",
       "3     MultiPolygon\n",
       "4     MultiPolygon\n",
       "5          Polygon\n",
       "6          Polygon\n",
       "7     MultiPolygon\n",
       "8     MultiPolygon\n",
       "9     MultiPolygon\n",
       "10         Polygon\n",
       "11    MultiPolygon\n",
       "12         Polygon\n",
       "13         Polygon\n",
       "14         Polygon\n",
       "15         Polygon\n",
       "16    MultiPolygon\n",
       "17    MultiPolygon\n",
       "18    MultiPolygon\n",
       "19    MultiPolygon\n",
       "20         Polygon\n",
       "21         Polygon\n",
       "22         Polygon\n",
       "23    MultiPolygon\n",
       "24         Polygon\n",
       "25    MultiPolygon\n",
       "dtype: object"
      ]
     },
     "execution_count": 65,
     "metadata": {},
     "output_type": "execute_result"
    }
   ],
   "source": [
    "counties.type"
   ]
  },
  {
   "cell_type": "code",
   "execution_count": null,
   "metadata": {
    "colab": {
     "base_uri": "https://localhost:8080/"
    },
    "id": "_-DsEpPVZur7",
    "outputId": "d7a9eac5-38b1-457f-b5d2-47131c0763b9"
   },
   "outputs": [
    {
     "data": {
      "text/plain": [
       "0     MultiPolygon\n",
       "1          Polygon\n",
       "2          Polygon\n",
       "3     MultiPolygon\n",
       "4     MultiPolygon\n",
       "5          Polygon\n",
       "6          Polygon\n",
       "7     MultiPolygon\n",
       "8     MultiPolygon\n",
       "9     MultiPolygon\n",
       "10         Polygon\n",
       "11    MultiPolygon\n",
       "12         Polygon\n",
       "13         Polygon\n",
       "14         Polygon\n",
       "15         Polygon\n",
       "16    MultiPolygon\n",
       "17    MultiPolygon\n",
       "18    MultiPolygon\n",
       "19    MultiPolygon\n",
       "20         Polygon\n",
       "21         Polygon\n",
       "22         Polygon\n",
       "23    MultiPolygon\n",
       "24         Polygon\n",
       "25    MultiPolygon\n",
       "dtype: object"
      ]
     },
     "execution_count": 66,
     "metadata": {},
     "output_type": "execute_result"
    }
   ],
   "source": [
    "# does the same as above, just uses a different library\n",
    "counties.geom_type"
   ]
  },
  {
   "cell_type": "code",
   "execution_count": null,
   "metadata": {
    "colab": {
     "base_uri": "https://localhost:8080/",
     "height": 283
    },
    "id": "St6Fi1NGxFjW",
    "outputId": "3cc7052b-e227-42a9-86e6-0bd49c264caf"
   },
   "outputs": [
    {
     "data": {
      "text/plain": [
       "<matplotlib.axes._subplots.AxesSubplot at 0x7f16f6121d00>"
      ]
     },
     "execution_count": 67,
     "metadata": {},
     "output_type": "execute_result"
    },
    {
     "data": {
      "image/png": "[encoded data removed]",
      "text/plain": [
       "<Figure size 432x288 with 1 Axes>"
      ]
     },
     "metadata": {
      "needs_background": "light"
     },
     "output_type": "display_data"
    }
   ],
   "source": [
    "counties.plot()"
   ]
  },
  {
   "cell_type": "markdown",
   "metadata": {
    "id": "U9QiYXob9jOV"
   },
   "source": [
    "Let's bring our different pieces of information together and learn how to overlay information on top of each other. For this, we need the matplotlib library.\n",
    "\n",
    "matplotlib is a comprehensive library for creating static, animated, and interactive visualizations in Python. matplotlib is widely used but not the only plotting library there is."
   ]
  },
  {
   "cell_type": "code",
   "execution_count": null,
   "metadata": {
    "id": "0R0S-_z_uDeJ"
   },
   "outputs": [],
   "source": [
    "import matplotlib.pyplot as plt"
   ]
  },
  {
   "cell_type": "code",
   "execution_count": null,
   "metadata": {
    "colab": {
     "base_uri": "https://localhost:8080/",
     "height": 297
    },
    "id": "Kib4943ytj8B",
    "outputId": "83677547-90d2-44e4-c420-2971f97f2e62"
   },
   "outputs": [
    {
     "data": {
      "image/png": "[encoded data removed]",
      "text/plain": [
       "<Figure size 432x288 with 1 Axes>"
      ]
     },
     "metadata": {
      "needs_background": "light"
     },
     "output_type": "display_data"
    }
   ],
   "source": [
    "# Create a figure with one subplot\n",
    "fig, ax = plt.subplots()\n",
    "# Plot polygons\n",
    "# counties.plot(ax=ax, facecolor='gray')\n",
    "counties.plot(ax=ax, facecolor='gray')\n",
    "# Plot points\n",
    "data_shp.plot(ax=ax, color='red', markersize=30)\n",
    "plt.tight_layout()"
   ]
  },
  {
   "cell_type": "markdown",
   "metadata": {
    "id": "ukz7yrxQTn82"
   },
   "source": [
    "This is probably not the result that you have expected. Let's examine what a reason could be for the strangely 'separated' output."
   ]
  },
  {
   "cell_type": "code",
   "execution_count": null,
   "metadata": {
    "colab": {
     "base_uri": "https://localhost:8080/"
    },
    "id": "emFjjTtbl_bO",
    "outputId": "6a1b7f0d-cdcc-4c14-e7d2-4c51ec4725b1"
   },
   "outputs": [
    {
     "name": "stdout",
     "output_type": "stream",
     "text": [
      "EPSG:2157\n",
      "EPSG:4326\n"
     ]
    }
   ],
   "source": [
    "# always check coordinate systems before doing anything. \n",
    "# We will try transformations next week!\n",
    "print(counties.crs)\n",
    "print(data_shp.crs)"
   ]
  },
  {
   "cell_type": "markdown",
   "metadata": {
    "id": "T-bCkQE_TwD2"
   },
   "source": [
    "**Map projections** try to portray the surface of the Earth on a flat piece of paper or computer screen. In layman’s term, map projections try to transform the Earth from its spherical shape (3D) to a planar shape (2D). This is similar to trying to flatten a whole orange peel on a table. You know that cracks appear when you try to do this. How we fill those cracks, is the strategy behind every coordinate reference system.\n",
    "\n",
    "A **coordinate reference system (CRS)** then defines how the two-dimensional, projected map relates to real places on the Earth. \n",
    "\n",
    "\n",
    "There are many many different CRS. The decision of which map projection and CRS to use depends on the regional extent of the area you want to work in, on the analysis you want to do, and often on the availability of data. This is something we will discuss deeper in the lecture later."
   ]
  },
  {
   "cell_type": "markdown",
   "metadata": {
    "id": "Mu4oI3A0X--_"
   },
   "source": [
    "You see in our example that the two data files are in different coordinate reference systems.\n",
    "\n",
    "Check out this spatial reference identifier (SRID) in the [epsg website](https://epsg.org/home.html)."
   ]
  },
  {
   "cell_type": "markdown",
   "metadata": {
    "id": "_cO9stBZW8Se"
   },
   "source": [
    "You see that \n",
    "2157 - Irish Transverse Mercator, and\n",
    "4326 - WGS 84.\n",
    "\n",
    "Both you will get to know more in today's lecture. For now, the first is a local coordinate reference system for Ireland. The second is a global coordinate reference system. \n",
    "\n",
    "In order to display the data together, we need both data sets to be in the same coordinate reference system. This is the case not just for displaying data, but also for any analysis you wish you do.\n"
   ]
  },
  {
   "cell_type": "code",
   "execution_count": null,
   "metadata": {
    "id": "ha0JqKFiZd-U"
   },
   "outputs": [],
   "source": [
    "# The .to_crs()-function has two alternative parameters 1) crs, and 2) epgs \n",
    "# that can be used to make the coordinate transformation and \n",
    "# re-project the data into the CRS that you want to.\n",
    "# Let's make a backup copy of our data\n",
    "\n",
    "# let's make a copy first, maybe you'd like to preserve the original\n",
    "data_wgs84 = data_shp.copy()\n",
    "\n",
    "# Reproject the data\n",
    "data_2157 = data_shp.to_crs(epsg=2157)"
   ]
  },
  {
   "cell_type": "code",
   "execution_count": null,
   "metadata": {
    "colab": {
     "base_uri": "https://localhost:8080/",
     "height": 112
    },
    "id": "UX_Y_XCIaAqo",
    "outputId": "ffc89340-e4a8-41cc-a654-4fca3bf9b349"
   },
   "outputs": [
    {
     "data": {
      "text/html": [
       "\n",
       "  <div id=\"df-043b8b8f-f231-402e-965f-f07ee5325ab3\">\n",
       "    <div class=\"colab-df-container\">\n",
       "      <div>\n",
       "<style scoped>\n",
       "    .dataframe tbody tr th:only-of-type {\n",
       "        vertical-align: middle;\n",
       "    }\n",
       "\n",
       "    .dataframe tbody tr th {\n",
       "        vertical-align: top;\n",
       "    }\n",
       "\n",
       "    .dataframe thead th {\n",
       "        text-align: right;\n",
       "    }\n",
       "</style>\n",
       "<table border=\"1\" class=\"dataframe\">\n",
       "  <thead>\n",
       "    <tr style=\"text-align: right;\">\n",
       "      <th></th>\n",
       "      <th>address</th>\n",
       "      <th>id</th>\n",
       "      <th>addr</th>\n",
       "      <th>locations</th>\n",
       "    </tr>\n",
       "  </thead>\n",
       "  <tbody>\n",
       "    <tr>\n",
       "      <th>0</th>\n",
       "      <td>Drogheda Street, Cahill's Cross, Monasterevin ...</td>\n",
       "      <td>1001</td>\n",
       "      <td>2 Drogheda St, Monasterevin, Co. Kildare, Ireland</td>\n",
       "      <td>POINT (662819.157 710247.815)</td>\n",
       "    </tr>\n",
       "    <tr>\n",
       "      <th>1</th>\n",
       "      <td>Hyde Court, Roscommon Rural ED, Roscommon Muni...</td>\n",
       "      <td>1003</td>\n",
       "      <td>20 Hyde Ct, Roscommon, Ireland</td>\n",
       "      <td>POINT (588006.815 763602.125)</td>\n",
       "    </tr>\n",
       "  </tbody>\n",
       "</table>\n",
       "</div>\n",
       "      <button class=\"colab-df-convert\" onclick=\"convertToInteractive('df-043b8b8f-f231-402e-965f-f07ee5325ab3')\"\n",
       "              title=\"Convert this dataframe to an interactive table.\"\n",
       "              style=\"display:none;\">\n",
       "        \n",
       "  <svg xmlns=\"http://www.w3.org/2000/svg\" height=\"24px\"viewBox=\"0 0 24 24\"\n",
       "       width=\"24px\">\n",
       "    <path d=\"M0 0h24v24H0V0z\" fill=\"none\"/>\n",
       "    <path d=\"M18.56 5.44l.94 2.06.94-2.06 2.06-.94-2.06-.94-.94-2.06-.94 2.06-2.06.94zm-11 1L8.5 8.5l.94-2.06 2.06-.94-2.06-.94L8.5 2.5l-.94 2.06-2.06.94zm10 10l.94 2.06.94-2.06 2.06-.94-2.06-.94-.94-2.06-.94 2.06-2.06.94z\"/><path d=\"M17.41 7.96l-1.37-1.37c-.4-.4-.92-.59-1.43-.59-.52 0-1.04.2-1.43.59L10.3 9.45l-7.72 7.72c-.78.78-.78 2.05 0 2.83L4 21.41c.39.39.9.59 1.41.59.51 0 1.02-.2 1.41-.59l7.78-7.78 2.81-2.81c.8-.78.8-2.07 0-2.86zM5.41 20L4 18.59l7.72-7.72 1.47 1.35L5.41 20z\"/>\n",
       "  </svg>\n",
       "      </button>\n",
       "      \n",
       "  <style>\n",
       "    .colab-df-container {\n",
       "      display:flex;\n",
       "      flex-wrap:wrap;\n",
       "      gap: 12px;\n",
       "    }\n",
       "\n",
       "    .colab-df-convert {\n",
       "      background-color: #E8F0FE;\n",
       "      border: none;\n",
       "      border-radius: 50%;\n",
       "      cursor: pointer;\n",
       "      display: none;\n",
       "      fill: #1967D2;\n",
       "      height: 32px;\n",
       "      padding: 0 0 0 0;\n",
       "      width: 32px;\n",
       "    }\n",
       "\n",
       "    .colab-df-convert:hover {\n",
       "      background-color: #E2EBFA;\n",
       "      box-shadow: 0px 1px 2px rgba(60, 64, 67, 0.3), 0px 1px 3px 1px rgba(60, 64, 67, 0.15);\n",
       "      fill: #174EA6;\n",
       "    }\n",
       "\n",
       "    [theme=dark] .colab-df-convert {\n",
       "      background-color: #3B4455;\n",
       "      fill: #D2E3FC;\n",
       "    }\n",
       "\n",
       "    [theme=dark] .colab-df-convert:hover {\n",
       "      background-color: #434B5C;\n",
       "      box-shadow: 0px 1px 3px 1px rgba(0, 0, 0, 0.15);\n",
       "      filter: drop-shadow(0px 1px 2px rgba(0, 0, 0, 0.3));\n",
       "      fill: #FFFFFF;\n",
       "    }\n",
       "  </style>\n",
       "\n",
       "      <script>\n",
       "        const buttonEl =\n",
       "          document.querySelector('#df-043b8b8f-f231-402e-965f-f07ee5325ab3 button.colab-df-convert');\n",
       "        buttonEl.style.display =\n",
       "          google.colab.kernel.accessAllowed ? 'block' : 'none';\n",
       "\n",
       "        async function convertToInteractive(key) {\n",
       "          const element = document.querySelector('#df-043b8b8f-f231-402e-965f-f07ee5325ab3');\n",
       "          const dataTable =\n",
       "            await google.colab.kernel.invokeFunction('convertToInteractive',\n",
       "                                                     [key], {});\n",
       "          if (!dataTable) return;\n",
       "\n",
       "          const docLinkHtml = 'Like what you see? Visit the ' +\n",
       "            '<a target=\"_blank\" href=https://colab.research.google.com/notebooks/data_table.ipynb>data table notebook</a>'\n",
       "            + ' to learn more about interactive tables.';\n",
       "          element.innerHTML = '';\n",
       "          dataTable['output_type'] = 'display_data';\n",
       "          await google.colab.output.renderOutput(dataTable, element);\n",
       "          const docLink = document.createElement('div');\n",
       "          docLink.innerHTML = docLinkHtml;\n",
       "          element.appendChild(docLink);\n",
       "        }\n",
       "      </script>\n",
       "    </div>\n",
       "  </div>\n",
       "  "
      ],
      "text/plain": [
       "                                             address    id  \\\n",
       "0  Drogheda Street, Cahill's Cross, Monasterevin ...  1001   \n",
       "1  Hyde Court, Roscommon Rural ED, Roscommon Muni...  1003   \n",
       "\n",
       "                                                addr  \\\n",
       "0  2 Drogheda St, Monasterevin, Co. Kildare, Ireland   \n",
       "1                     20 Hyde Ct, Roscommon, Ireland   \n",
       "\n",
       "                       locations  \n",
       "0  POINT (662819.157 710247.815)  \n",
       "1  POINT (588006.815 763602.125)  "
      ]
     },
     "execution_count": 72,
     "metadata": {},
     "output_type": "execute_result"
    }
   ],
   "source": [
    "data_2157"
   ]
  },
  {
   "cell_type": "code",
   "execution_count": null,
   "metadata": {
    "colab": {
     "base_uri": "https://localhost:8080/",
     "height": 112
    },
    "id": "_GEeWLJoaUcD",
    "outputId": "f3e4ba0b-136d-4fc2-b5c9-e50ba1eb7970"
   },
   "outputs": [
    {
     "data": {
      "text/html": [
       "\n",
       "  <div id=\"df-256f8585-2c68-4ca1-818c-a35612eb239b\">\n",
       "    <div class=\"colab-df-container\">\n",
       "      <div>\n",
       "<style scoped>\n",
       "    .dataframe tbody tr th:only-of-type {\n",
       "        vertical-align: middle;\n",
       "    }\n",
       "\n",
       "    .dataframe tbody tr th {\n",
       "        vertical-align: top;\n",
       "    }\n",
       "\n",
       "    .dataframe thead th {\n",
       "        text-align: right;\n",
       "    }\n",
       "</style>\n",
       "<table border=\"1\" class=\"dataframe\">\n",
       "  <thead>\n",
       "    <tr style=\"text-align: right;\">\n",
       "      <th></th>\n",
       "      <th>address</th>\n",
       "      <th>id</th>\n",
       "      <th>addr</th>\n",
       "      <th>locations</th>\n",
       "    </tr>\n",
       "  </thead>\n",
       "  <tbody>\n",
       "    <tr>\n",
       "      <th>0</th>\n",
       "      <td>Drogheda Street, Cahill's Cross, Monasterevin ...</td>\n",
       "      <td>1001</td>\n",
       "      <td>2 Drogheda St, Monasterevin, Co. Kildare, Ireland</td>\n",
       "      <td>POINT (-7.06112 53.13905)</td>\n",
       "    </tr>\n",
       "    <tr>\n",
       "      <th>1</th>\n",
       "      <td>Hyde Court, Roscommon Rural ED, Roscommon Muni...</td>\n",
       "      <td>1003</td>\n",
       "      <td>20 Hyde Ct, Roscommon, Ireland</td>\n",
       "      <td>POINT (-8.18129 53.62210)</td>\n",
       "    </tr>\n",
       "  </tbody>\n",
       "</table>\n",
       "</div>\n",
       "      <button class=\"colab-df-convert\" onclick=\"convertToInteractive('df-256f8585-2c68-4ca1-818c-a35612eb239b')\"\n",
       "              title=\"Convert this dataframe to an interactive table.\"\n",
       "              style=\"display:none;\">\n",
       "        \n",
       "  <svg xmlns=\"http://www.w3.org/2000/svg\" height=\"24px\"viewBox=\"0 0 24 24\"\n",
       "       width=\"24px\">\n",
       "    <path d=\"M0 0h24v24H0V0z\" fill=\"none\"/>\n",
       "    <path d=\"M18.56 5.44l.94 2.06.94-2.06 2.06-.94-2.06-.94-.94-2.06-.94 2.06-2.06.94zm-11 1L8.5 8.5l.94-2.06 2.06-.94-2.06-.94L8.5 2.5l-.94 2.06-2.06.94zm10 10l.94 2.06.94-2.06 2.06-.94-2.06-.94-.94-2.06-.94 2.06-2.06.94z\"/><path d=\"M17.41 7.96l-1.37-1.37c-.4-.4-.92-.59-1.43-.59-.52 0-1.04.2-1.43.59L10.3 9.45l-7.72 7.72c-.78.78-.78 2.05 0 2.83L4 21.41c.39.39.9.59 1.41.59.51 0 1.02-.2 1.41-.59l7.78-7.78 2.81-2.81c.8-.78.8-2.07 0-2.86zM5.41 20L4 18.59l7.72-7.72 1.47 1.35L5.41 20z\"/>\n",
       "  </svg>\n",
       "      </button>\n",
       "      \n",
       "  <style>\n",
       "    .colab-df-container {\n",
       "      display:flex;\n",
       "      flex-wrap:wrap;\n",
       "      gap: 12px;\n",
       "    }\n",
       "\n",
       "    .colab-df-convert {\n",
       "      background-color: #E8F0FE;\n",
       "      border: none;\n",
       "      border-radius: 50%;\n",
       "      cursor: pointer;\n",
       "      display: none;\n",
       "      fill: #1967D2;\n",
       "      height: 32px;\n",
       "      padding: 0 0 0 0;\n",
       "      width: 32px;\n",
       "    }\n",
       "\n",
       "    .colab-df-convert:hover {\n",
       "      background-color: #E2EBFA;\n",
       "      box-shadow: 0px 1px 2px rgba(60, 64, 67, 0.3), 0px 1px 3px 1px rgba(60, 64, 67, 0.15);\n",
       "      fill: #174EA6;\n",
       "    }\n",
       "\n",
       "    [theme=dark] .colab-df-convert {\n",
       "      background-color: #3B4455;\n",
       "      fill: #D2E3FC;\n",
       "    }\n",
       "\n",
       "    [theme=dark] .colab-df-convert:hover {\n",
       "      background-color: #434B5C;\n",
       "      box-shadow: 0px 1px 3px 1px rgba(0, 0, 0, 0.15);\n",
       "      filter: drop-shadow(0px 1px 2px rgba(0, 0, 0, 0.3));\n",
       "      fill: #FFFFFF;\n",
       "    }\n",
       "  </style>\n",
       "\n",
       "      <script>\n",
       "        const buttonEl =\n",
       "          document.querySelector('#df-256f8585-2c68-4ca1-818c-a35612eb239b button.colab-df-convert');\n",
       "        buttonEl.style.display =\n",
       "          google.colab.kernel.accessAllowed ? 'block' : 'none';\n",
       "\n",
       "        async function convertToInteractive(key) {\n",
       "          const element = document.querySelector('#df-256f8585-2c68-4ca1-818c-a35612eb239b');\n",
       "          const dataTable =\n",
       "            await google.colab.kernel.invokeFunction('convertToInteractive',\n",
       "                                                     [key], {});\n",
       "          if (!dataTable) return;\n",
       "\n",
       "          const docLinkHtml = 'Like what you see? Visit the ' +\n",
       "            '<a target=\"_blank\" href=https://colab.research.google.com/notebooks/data_table.ipynb>data table notebook</a>'\n",
       "            + ' to learn more about interactive tables.';\n",
       "          element.innerHTML = '';\n",
       "          dataTable['output_type'] = 'display_data';\n",
       "          await google.colab.output.renderOutput(dataTable, element);\n",
       "          const docLink = document.createElement('div');\n",
       "          docLink.innerHTML = docLinkHtml;\n",
       "          element.appendChild(docLink);\n",
       "        }\n",
       "      </script>\n",
       "    </div>\n",
       "  </div>\n",
       "  "
      ],
      "text/plain": [
       "                                             address    id  \\\n",
       "0  Drogheda Street, Cahill's Cross, Monasterevin ...  1001   \n",
       "1  Hyde Court, Roscommon Rural ED, Roscommon Muni...  1003   \n",
       "\n",
       "                                                addr  \\\n",
       "0  2 Drogheda St, Monasterevin, Co. Kildare, Ireland   \n",
       "1                     20 Hyde Ct, Roscommon, Ireland   \n",
       "\n",
       "                   locations  \n",
       "0  POINT (-7.06112 53.13905)  \n",
       "1  POINT (-8.18129 53.62210)  "
      ]
     },
     "execution_count": 73,
     "metadata": {},
     "output_type": "execute_result"
    }
   ],
   "source": [
    "# compare the values in the geometry column\n",
    "data_wgs84"
   ]
  },
  {
   "cell_type": "markdown",
   "metadata": {
    "id": "JpbqHRm9XmJ7"
   },
   "source": [
    "### Task 4\n",
    "Compare the values in the geometry column. Observe the different number values for longitude and latitude values.\n",
    "We still describe the same positions on the Earth. We just used a different system to refer to it."
   ]
  },
  {
   "cell_type": "markdown",
   "metadata": {
    "id": "2z9s3_6gYNUy"
   },
   "source": [
    "###Task 5\n",
    "Redo the drawing from earlier and this time use datasets with the same CRS."
   ]
  },
  {
   "cell_type": "code",
   "execution_count": null,
   "metadata": {
    "id": "1e8PhggTYS_b"
   },
   "outputs": [],
   "source": [
    "# your code goes here"
   ]
  },
  {
   "cell_type": "code",
   "execution_count": null,
   "metadata": {
    "colab": {
     "base_uri": "https://localhost:8080/",
     "height": 297
    },
    "id": "OhZJd5QZYUJ6",
    "outputId": "e166aba2-18d9-4112-c38b-14f78f15a9d5"
   },
   "outputs": [
    {
     "data": {
      "image/png": "[encoded data removed]",
      "text/plain": [
       "<Figure size 432x288 with 1 Axes>"
      ]
     },
     "metadata": {
      "needs_background": "light"
     },
     "output_type": "display_data"
    }
   ],
   "source": [
    "# Create a figure with one subplot\n",
    "fig, ax = plt.subplots()\n",
    "# Plot polygons\n",
    "# counties.plot(ax=ax, facecolor='gray')\n",
    "counties.plot(ax=ax, facecolor='gray')\n",
    "# Plot points\n",
    "data_2157.plot(ax=ax, color='red', markersize=30)\n",
    "plt.tight_layout()"
   ]
  },
  {
   "cell_type": "markdown",
   "metadata": {
    "id": "0AxBFd_pmv8b"
   },
   "source": [
    "###Task 6\n",
    "Transform your counties shapefile into the 3035 SRID and call it `counties_3035`.\n",
    "Look up on the epsg website what 3035 is."
   ]
  },
  {
   "cell_type": "code",
   "execution_count": null,
   "metadata": {
    "id": "b_O95ZWmmqP8"
   },
   "outputs": [],
   "source": [
    "# Your code goes here and compare the coordinates in the geometry"
   ]
  },
  {
   "cell_type": "code",
   "execution_count": null,
   "metadata": {
    "id": "52VZknpPm5-n"
   },
   "outputs": [],
   "source": [
    "counties_2157 = counties.copy()\n",
    "\n",
    "counties_3035 = counties.to_crs(epsg=3035)"
   ]
  },
  {
   "cell_type": "code",
   "execution_count": null,
   "metadata": {
    "colab": {
     "base_uri": "https://localhost:8080/",
     "height": 531
    },
    "id": "6YcpMVptnOaX",
    "outputId": "6480afae-ca33-446d-852e-a0b8dc5f9ae5"
   },
   "outputs": [
    {
     "data": {
      "text/html": [
       "\n",
       "  <div id=\"df-ee09fca5-fa4e-426f-9d59-b65764dc69b3\">\n",
       "    <div class=\"colab-df-container\">\n",
       "      <div>\n",
       "<style scoped>\n",
       "    .dataframe tbody tr th:only-of-type {\n",
       "        vertical-align: middle;\n",
       "    }\n",
       "\n",
       "    .dataframe tbody tr th {\n",
       "        vertical-align: top;\n",
       "    }\n",
       "\n",
       "    .dataframe thead th {\n",
       "        text-align: right;\n",
       "    }\n",
       "</style>\n",
       "<table border=\"1\" class=\"dataframe\">\n",
       "  <thead>\n",
       "    <tr style=\"text-align: right;\">\n",
       "      <th></th>\n",
       "      <th>OBJECTID</th>\n",
       "      <th>CO_ID</th>\n",
       "      <th>ENGLISH</th>\n",
       "      <th>GAEILGE</th>\n",
       "      <th>LOGAINM_ID</th>\n",
       "      <th>GUID</th>\n",
       "      <th>CONTAE</th>\n",
       "      <th>COUNTY</th>\n",
       "      <th>PROVINCE</th>\n",
       "      <th>CENTROID_X</th>\n",
       "      <th>CENTROID_Y</th>\n",
       "      <th>AREA</th>\n",
       "      <th>SHAPE_Leng</th>\n",
       "      <th>SHAPE_Area</th>\n",
       "      <th>geometry</th>\n",
       "    </tr>\n",
       "  </thead>\n",
       "  <tbody>\n",
       "    <tr>\n",
       "      <th>0</th>\n",
       "      <td>1</td>\n",
       "      <td>50000</td>\n",
       "      <td>DONEGAL</td>\n",
       "      <td>Dún na nGall</td>\n",
       "      <td>100013</td>\n",
       "      <td>2ae19629-1452-13a3-e055-000000000001</td>\n",
       "      <td>Dún na nGall</td>\n",
       "      <td>DONEGAL</td>\n",
       "      <td>Ulster</td>\n",
       "      <td>607296.31</td>\n",
       "      <td>911848.45</td>\n",
       "      <td>4.860754e+09</td>\n",
       "      <td>1.859119e+06</td>\n",
       "      <td>4.860754e+09</td>\n",
       "      <td>MULTIPOLYGON (((3182036.521 3705585.448, 31820...</td>\n",
       "    </tr>\n",
       "    <tr>\n",
       "      <th>1</th>\n",
       "      <td>2</td>\n",
       "      <td>120000</td>\n",
       "      <td>LIMERICK</td>\n",
       "      <td>Luimneach</td>\n",
       "      <td>100022</td>\n",
       "      <td>2ae19629-1440-13a3-e055-000000000001</td>\n",
       "      <td>Luimneach</td>\n",
       "      <td>LIMERICK</td>\n",
       "      <td>Munster</td>\n",
       "      <td>548318.75</td>\n",
       "      <td>640943.05</td>\n",
       "      <td>2.754926e+09</td>\n",
       "      <td>3.897987e+05</td>\n",
       "      <td>2.754926e+09</td>\n",
       "      <td>POLYGON ((3086579.463 3451053.366, 3086584.098...</td>\n",
       "    </tr>\n",
       "    <tr>\n",
       "      <th>2</th>\n",
       "      <td>3</td>\n",
       "      <td>80000</td>\n",
       "      <td>KILDARE</td>\n",
       "      <td>Cill Dara</td>\n",
       "      <td>100007</td>\n",
       "      <td>2ae19629-1455-13a3-e055-000000000001</td>\n",
       "      <td>Cill Dara</td>\n",
       "      <td>KILDARE</td>\n",
       "      <td>Leinster</td>\n",
       "      <td>678993.60</td>\n",
       "      <td>712090.40</td>\n",
       "      <td>1.694083e+09</td>\n",
       "      <td>2.970485e+05</td>\n",
       "      <td>1.694083e+09</td>\n",
       "      <td>POLYGON ((3233497.803 3485073.587, 3233505.206...</td>\n",
       "    </tr>\n",
       "    <tr>\n",
       "      <th>3</th>\n",
       "      <td>4</td>\n",
       "      <td>220000</td>\n",
       "      <td>WATERFORD</td>\n",
       "      <td>Port Láirge</td>\n",
       "      <td>100026</td>\n",
       "      <td>2ae19629-144b-13a3-e055-000000000001</td>\n",
       "      <td>Port Láirge</td>\n",
       "      <td>WATERFORD</td>\n",
       "      <td>Munster</td>\n",
       "      <td>630336.80</td>\n",
       "      <td>599955.37</td>\n",
       "      <td>1.857038e+09</td>\n",
       "      <td>4.572206e+05</td>\n",
       "      <td>1.857038e+09</td>\n",
       "      <td>MULTIPOLYGON (((3128791.890 3365858.810, 31287...</td>\n",
       "    </tr>\n",
       "    <tr>\n",
       "      <th>4</th>\n",
       "      <td>5</td>\n",
       "      <td>260000</td>\n",
       "      <td>DUBLIN</td>\n",
       "      <td>Baile Átha Cliath</td>\n",
       "      <td>100002</td>\n",
       "      <td>2ae19629-144f-13a3-e055-000000000001</td>\n",
       "      <td>Baile Átha Cliath</td>\n",
       "      <td>DUBLIN</td>\n",
       "      <td>Leinster</td>\n",
       "      <td>714929.28</td>\n",
       "      <td>740960.44</td>\n",
       "      <td>9.257609e+08</td>\n",
       "      <td>3.661986e+05</td>\n",
       "      <td>9.257609e+08</td>\n",
       "      <td>MULTIPOLYGON (((3237295.918 3488563.063, 32372...</td>\n",
       "    </tr>\n",
       "  </tbody>\n",
       "</table>\n",
       "</div>\n",
       "      <button class=\"colab-df-convert\" onclick=\"convertToInteractive('df-ee09fca5-fa4e-426f-9d59-b65764dc69b3')\"\n",
       "              title=\"Convert this dataframe to an interactive table.\"\n",
       "              style=\"display:none;\">\n",
       "        \n",
       "  <svg xmlns=\"http://www.w3.org/2000/svg\" height=\"24px\"viewBox=\"0 0 24 24\"\n",
       "       width=\"24px\">\n",
       "    <path d=\"M0 0h24v24H0V0z\" fill=\"none\"/>\n",
       "    <path d=\"M18.56 5.44l.94 2.06.94-2.06 2.06-.94-2.06-.94-.94-2.06-.94 2.06-2.06.94zm-11 1L8.5 8.5l.94-2.06 2.06-.94-2.06-.94L8.5 2.5l-.94 2.06-2.06.94zm10 10l.94 2.06.94-2.06 2.06-.94-2.06-.94-.94-2.06-.94 2.06-2.06.94z\"/><path d=\"M17.41 7.96l-1.37-1.37c-.4-.4-.92-.59-1.43-.59-.52 0-1.04.2-1.43.59L10.3 9.45l-7.72 7.72c-.78.78-.78 2.05 0 2.83L4 21.41c.39.39.9.59 1.41.59.51 0 1.02-.2 1.41-.59l7.78-7.78 2.81-2.81c.8-.78.8-2.07 0-2.86zM5.41 20L4 18.59l7.72-7.72 1.47 1.35L5.41 20z\"/>\n",
       "  </svg>\n",
       "      </button>\n",
       "      \n",
       "  <style>\n",
       "    .colab-df-container {\n",
       "      display:flex;\n",
       "      flex-wrap:wrap;\n",
       "      gap: 12px;\n",
       "    }\n",
       "\n",
       "    .colab-df-convert {\n",
       "      background-color: #E8F0FE;\n",
       "      border: none;\n",
       "      border-radius: 50%;\n",
       "      cursor: pointer;\n",
       "      display: none;\n",
       "      fill: #1967D2;\n",
       "      height: 32px;\n",
       "      padding: 0 0 0 0;\n",
       "      width: 32px;\n",
       "    }\n",
       "\n",
       "    .colab-df-convert:hover {\n",
       "      background-color: #E2EBFA;\n",
       "      box-shadow: 0px 1px 2px rgba(60, 64, 67, 0.3), 0px 1px 3px 1px rgba(60, 64, 67, 0.15);\n",
       "      fill: #174EA6;\n",
       "    }\n",
       "\n",
       "    [theme=dark] .colab-df-convert {\n",
       "      background-color: #3B4455;\n",
       "      fill: #D2E3FC;\n",
       "    }\n",
       "\n",
       "    [theme=dark] .colab-df-convert:hover {\n",
       "      background-color: #434B5C;\n",
       "      box-shadow: 0px 1px 3px 1px rgba(0, 0, 0, 0.15);\n",
       "      filter: drop-shadow(0px 1px 2px rgba(0, 0, 0, 0.3));\n",
       "      fill: #FFFFFF;\n",
       "    }\n",
       "  </style>\n",
       "\n",
       "      <script>\n",
       "        const buttonEl =\n",
       "          document.querySelector('#df-ee09fca5-fa4e-426f-9d59-b65764dc69b3 button.colab-df-convert');\n",
       "        buttonEl.style.display =\n",
       "          google.colab.kernel.accessAllowed ? 'block' : 'none';\n",
       "\n",
       "        async function convertToInteractive(key) {\n",
       "          const element = document.querySelector('#df-ee09fca5-fa4e-426f-9d59-b65764dc69b3');\n",
       "          const dataTable =\n",
       "            await google.colab.kernel.invokeFunction('convertToInteractive',\n",
       "                                                     [key], {});\n",
       "          if (!dataTable) return;\n",
       "\n",
       "          const docLinkHtml = 'Like what you see? Visit the ' +\n",
       "            '<a target=\"_blank\" href=https://colab.research.google.com/notebooks/data_table.ipynb>data table notebook</a>'\n",
       "            + ' to learn more about interactive tables.';\n",
       "          element.innerHTML = '';\n",
       "          dataTable['output_type'] = 'display_data';\n",
       "          await google.colab.output.renderOutput(dataTable, element);\n",
       "          const docLink = document.createElement('div');\n",
       "          docLink.innerHTML = docLinkHtml;\n",
       "          element.appendChild(docLink);\n",
       "        }\n",
       "      </script>\n",
       "    </div>\n",
       "  </div>\n",
       "  "
      ],
      "text/plain": [
       "   OBJECTID   CO_ID    ENGLISH            GAEILGE LOGAINM_ID  \\\n",
       "0         1   50000    DONEGAL       Dún na nGall     100013   \n",
       "1         2  120000   LIMERICK          Luimneach     100022   \n",
       "2         3   80000    KILDARE          Cill Dara     100007   \n",
       "3         4  220000  WATERFORD        Port Láirge     100026   \n",
       "4         5  260000     DUBLIN  Baile Átha Cliath     100002   \n",
       "\n",
       "                                   GUID             CONTAE     COUNTY  \\\n",
       "0  2ae19629-1452-13a3-e055-000000000001       Dún na nGall    DONEGAL   \n",
       "1  2ae19629-1440-13a3-e055-000000000001          Luimneach   LIMERICK   \n",
       "2  2ae19629-1455-13a3-e055-000000000001          Cill Dara    KILDARE   \n",
       "3  2ae19629-144b-13a3-e055-000000000001        Port Láirge  WATERFORD   \n",
       "4  2ae19629-144f-13a3-e055-000000000001  Baile Átha Cliath     DUBLIN   \n",
       "\n",
       "   PROVINCE  CENTROID_X  CENTROID_Y          AREA    SHAPE_Leng    SHAPE_Area  \\\n",
       "0    Ulster   607296.31   911848.45  4.860754e+09  1.859119e+06  4.860754e+09   \n",
       "1   Munster   548318.75   640943.05  2.754926e+09  3.897987e+05  2.754926e+09   \n",
       "2  Leinster   678993.60   712090.40  1.694083e+09  2.970485e+05  1.694083e+09   \n",
       "3   Munster   630336.80   599955.37  1.857038e+09  4.572206e+05  1.857038e+09   \n",
       "4  Leinster   714929.28   740960.44  9.257609e+08  3.661986e+05  9.257609e+08   \n",
       "\n",
       "                                            geometry  \n",
       "0  MULTIPOLYGON (((3182036.521 3705585.448, 31820...  \n",
       "1  POLYGON ((3086579.463 3451053.366, 3086584.098...  \n",
       "2  POLYGON ((3233497.803 3485073.587, 3233505.206...  \n",
       "3  MULTIPOLYGON (((3128791.890 3365858.810, 31287...  \n",
       "4  MULTIPOLYGON (((3237295.918 3488563.063, 32372...  "
      ]
     },
     "execution_count": 76,
     "metadata": {},
     "output_type": "execute_result"
    }
   ],
   "source": [
    "counties_3035.head()"
   ]
  },
  {
   "cell_type": "markdown",
   "metadata": {
    "id": "XGPPs7CknfK8"
   },
   "source": [
    "Lets also do a visual and compare the two different projections."
   ]
  },
  {
   "cell_type": "code",
   "execution_count": null,
   "metadata": {
    "colab": {
     "base_uri": "https://localhost:8080/",
     "height": 583
    },
    "id": "ntChlSQTneSu",
    "outputId": "a5c4f7ec-e266-4ab6-b79a-6cfee7bd8333"
   },
   "outputs": [
    {
     "data": {
      "image/png": "[encoded data removed]",
      "text/plain": [
       "<Figure size 864x576 with 2 Axes>"
      ]
     },
     "metadata": {
      "needs_background": "light"
     },
     "output_type": "display_data"
    }
   ],
   "source": [
    "import matplotlib.pyplot as plt\n",
    "\n",
    "# Make subplots that are next to each other\n",
    "fig, (ax1, ax2) = plt.subplots(nrows=1, ncols=2, figsize=(12, 8))\n",
    "\n",
    "# Plot the data in WGS84 CRS\n",
    "counties_2157.plot(ax=ax1, facecolor='gray');\n",
    "\n",
    "# Add title\n",
    "ax1.set_title(\"Europe Equal Area 2001\");\n",
    "\n",
    "# Plot the one with ETRS-LAEA projection\n",
    "counties_3035.plot(ax=ax2, facecolor='gold');\n",
    "\n",
    "# Add title\n",
    "ax2.set_title(\"Irish Transverse Mercator\");\n",
    "\n",
    "# Remove empty white space around the plot\n",
    "plt.tight_layout()"
   ]
  },
  {
   "cell_type": "markdown",
   "metadata": {
    "id": "QvFKCq3_n4Sk"
   },
   "source": [
    "Indeed, the maps look quite different. Which one are you more used to?"
   ]
  },
  {
   "cell_type": "markdown",
   "metadata": {
    "id": "rRUWjuIWoJhd"
   },
   "source": [
    "###Task 7\n",
    "Save your projected counties into a shapefile so we can use it later if we need it."
   ]
  },
  {
   "cell_type": "code",
   "execution_count": null,
   "metadata": {
    "id": "UNzlt0mOoPH2"
   },
   "outputs": [],
   "source": [
    "# Your code goes here"
   ]
  },
  {
   "cell_type": "code",
   "execution_count": null,
   "metadata": {
    "colab": {
     "base_uri": "https://localhost:8080/"
    },
    "id": "08Dh235yoQc4",
    "outputId": "a19766ab-8490-4224-95ce-ffd15779d6a4"
   },
   "outputs": [
    {
     "name": "stderr",
     "output_type": "stream",
     "text": [
      "WARNING:fiona._env:Value 4860754356.77000046 of field AREA of feature 0 not successfully written. Possibly due to too larger number with respect to field width\n",
      "WARNING:fiona._env:Value 4860754356.64263725 of field SHAPE_Area of feature 0 not successfully written. Possibly due to too larger number with respect to field width\n",
      "WARNING:fiona._env:Value 2754925824.53999996 of field AREA of feature 1 not successfully written. Possibly due to too larger number with respect to field width\n",
      "WARNING:fiona._env:Value 2754925824.43610811 of field SHAPE_Area of feature 1 not successfully written. Possibly due to too larger number with respect to field width\n",
      "WARNING:fiona._env:Value 1694083232.97000003 of field AREA of feature 2 not successfully written. Possibly due to too larger number with respect to field width\n",
      "WARNING:fiona._env:Value 1694083232.96402025 of field SHAPE_Area of feature 2 not successfully written. Possibly due to too larger number with respect to field width\n",
      "WARNING:fiona._env:Value 1857037813.92000008 of field AREA of feature 3 not successfully written. Possibly due to too larger number with respect to field width\n",
      "WARNING:fiona._env:Value 1857037813.83171439 of field SHAPE_Area of feature 3 not successfully written. Possibly due to too larger number with respect to field width\n",
      "WARNING:fiona._env:Value 925760879.360000014 of field AREA of feature 4 not successfully written. Possibly due to too larger number with respect to field width\n",
      "WARNING:fiona._env:Value 925760879.357332945 of field SHAPE_Area of feature 4 not successfully written. Possibly due to too larger number with respect to field width\n",
      "WARNING:fiona._env:Value 1838309833.24000001 of field AREA of feature 5 not successfully written. Possibly due to too larger number with respect to field width\n",
      "WARNING:fiona._env:Value 1838309833.244066 of field SHAPE_Area of feature 5 not successfully written. Possibly due to too larger number with respect to field width\n",
      "WARNING:fiona._env:Value 1294164120.67000008 of field AREA of feature 6 not successfully written. Possibly due to too larger number with respect to field width\n",
      "WARNING:fiona._env:Value 1294164120.66587305 of field SHAPE_Area of feature 6 not successfully written. Possibly due to too larger number with respect to field width\n",
      "WARNING:fiona._env:Value 2025160941.76999998 of field AREA of feature 7 not successfully written. Possibly due to too larger number with respect to field width\n",
      "WARNING:fiona._env:Value 2025160941.7779758 of field SHAPE_Area of feature 7 not successfully written. Possibly due to too larger number with respect to field width\n",
      "WARNING:fiona._env:Value 7502635495.38000011 of field AREA of feature 8 not successfully written. Possibly due to too larger number with respect to field width\n",
      "WARNING:fiona._env:Value 7502635495.38188934 of field SHAPE_Area of feature 8 not successfully written. Possibly due to too larger number with respect to field width\n",
      "WARNING:fiona._env:Value 4812988563.11999989 of field AREA of feature 9 not successfully written. Possibly due to too larger number with respect to field width\n",
      "WARNING:fiona._env:Value 4812988563.11785126 of field SHAPE_Area of feature 9 not successfully written. Possibly due to too larger number with respect to field width\n",
      "WARNING:fiona._env:Value 2547136217.23999977 of field AREA of feature 10 not successfully written. Possibly due to too larger number with respect to field width\n",
      "WARNING:fiona._env:Value 2547136217.24633503 of field SHAPE_Area of feature 10 not successfully written. Possibly due to too larger number with respect to field width\n",
      "WARNING:fiona._env:Value 2369837777.55999994 of field AREA of feature 11 not successfully written. Possibly due to too larger number with respect to field width\n",
      "WARNING:fiona._env:Value 2369837777.55685329 of field SHAPE_Area of feature 11 not successfully written. Possibly due to too larger number with respect to field width\n",
      "WARNING:fiona._env:Value 1091077827.6500001 of field AREA of feature 12 not successfully written. Possibly due to too larger number with respect to field width\n",
      "WARNING:fiona._env:Value 1091077827.65011525 of field SHAPE_Area of feature 12 not successfully written. Possibly due to too larger number with respect to field width\n",
      "WARNING:fiona._env:Value 2342048769.25 of field AREA of feature 13 not successfully written. Possibly due to too larger number with respect to field width\n",
      "WARNING:fiona._env:Value 2342048769.25417614 of field SHAPE_Area of feature 13 not successfully written. Possibly due to too larger number with respect to field width\n",
      "WARNING:fiona._env:Value 1931224564.02999997 of field AREA of feature 14 not successfully written. Possibly due to too larger number with respect to field width\n",
      "WARNING:fiona._env:Value 1931224564.03311563 of field SHAPE_Area of feature 14 not successfully written. Possibly due to too larger number with respect to field width\n",
      "WARNING:fiona._env:Value 896306186.00999999 of field AREA of feature 15 not successfully written. Possibly due to too larger number with respect to field width\n",
      "WARNING:fiona._env:Value 896306186.007666111 of field SHAPE_Area of feature 15 not successfully written. Possibly due to too larger number with respect to field width\n",
      "WARNING:fiona._env:Value 5587525208.64999962 of field AREA of feature 16 not successfully written. Possibly due to too larger number with respect to field width\n",
      "WARNING:fiona._env:Value 5587525208.65238285 of field SHAPE_Area of feature 16 not successfully written. Possibly due to too larger number with respect to field width\n",
      "WARNING:fiona._env:Value 826107030.370000005 of field AREA of feature 17 not successfully written. Possibly due to too larger number with respect to field width\n",
      "WARNING:fiona._env:Value 826107030.36341548 of field SHAPE_Area of feature 17 not successfully written. Possibly due to too larger number with respect to field width\n",
      "WARNING:fiona._env:Value 1836083206.41000009 of field AREA of feature 18 not successfully written. Possibly due to too larger number with respect to field width\n",
      "WARNING:fiona._env:Value 1836083206.40395761 of field SHAPE_Area of feature 18 not successfully written. Possibly due to too larger number with respect to field width\n",
      "WARNING:fiona._env:Value 1588030182.98000002 of field AREA of feature 19 not successfully written. Possibly due to too larger number with respect to field width\n",
      "WARNING:fiona._env:Value 1588030182.9883852 of field SHAPE_Area of feature 19 not successfully written. Possibly due to too larger number with respect to field width\n",
      "WARNING:fiona._env:Value 2071100205.46000004 of field AREA of feature 20 not successfully written. Possibly due to too larger number with respect to field width\n",
      "WARNING:fiona._env:Value 2071100205.45935345 of field SHAPE_Area of feature 20 not successfully written. Possibly due to too larger number with respect to field width\n",
      "WARNING:fiona._env:Value 2000024664.08999991 of field AREA of feature 21 not successfully written. Possibly due to too larger number with respect to field width\n",
      "WARNING:fiona._env:Value 2000024664.10214829 of field SHAPE_Area of feature 21 not successfully written. Possibly due to too larger number with respect to field width\n",
      "WARNING:fiona._env:Value 1719127150.1099999 of field AREA of feature 22 not successfully written. Possibly due to too larger number with respect to field width\n",
      "WARNING:fiona._env:Value 1719127150.11094189 of field SHAPE_Area of feature 22 not successfully written. Possibly due to too larger number with respect to field width\n",
      "WARNING:fiona._env:Value 6150926369.81000042 of field AREA of feature 23 not successfully written. Possibly due to too larger number with respect to field width\n",
      "WARNING:fiona._env:Value 6150926369.8020134 of field SHAPE_Area of feature 23 not successfully written. Possibly due to too larger number with respect to field width\n",
      "WARNING:fiona._env:Value 4303395908.86999989 of field AREA of feature 24 not successfully written. Possibly due to too larger number with respect to field width\n",
      "WARNING:fiona._env:Value 4303395908.87313938 of field SHAPE_Area of feature 24 not successfully written. Possibly due to too larger number with respect to field width\n",
      "WARNING:fiona._env:Value 3448615219.94000006 of field AREA of feature 25 not successfully written. Possibly due to too larger number with respect to field width\n",
      "WARNING:fiona._env:Value 3448615219.92521286 of field SHAPE_Area of feature 25 not successfully written. Possibly due to too larger number with respect to field width\n"
     ]
    }
   ],
   "source": [
    "# Output file path\n",
    "outfp = r\"/content/drive/My Drive/data_share/counties_3035.shp\"\n",
    "\n",
    "# Save to Shapefile\n",
    "counties_3035.to_file(outfp)"
   ]
  },
  {
   "cell_type": "markdown",
   "metadata": {
    "id": "4hO5PaVjrii9"
   },
   "source": [
    "## Global Map Projections\n",
    "For this go back to our data_share folder and look at the file called `ne_110m_land.shp `.\n",
    "This Shapefile was downloaded from https://www.naturalearthdata.com/."
   ]
  },
  {
   "cell_type": "markdown",
   "metadata": {
    "id": "hZ9Gf0eRsmS9"
   },
   "source": [
    "###Task 8\n",
    "Read the data file and plot different projections."
   ]
  },
  {
   "cell_type": "code",
   "execution_count": null,
   "metadata": {
    "id": "1hZeiGHVre1f"
   },
   "outputs": [],
   "source": [
    "# Your Code goes here"
   ]
  },
  {
   "cell_type": "code",
   "execution_count": null,
   "metadata": {
    "colab": {
     "base_uri": "https://localhost:8080/",
     "height": 424
    },
    "id": "eKQspbKVss--",
    "outputId": "403b0480-fc2b-4029-ae5b-177604e38338"
   },
   "outputs": [
    {
     "data": {
      "text/html": [
       "\n",
       "  <div id=\"df-e0ee9aff-00c2-4b2c-bb03-e7a7595cabe7\">\n",
       "    <div class=\"colab-df-container\">\n",
       "      <div>\n",
       "<style scoped>\n",
       "    .dataframe tbody tr th:only-of-type {\n",
       "        vertical-align: middle;\n",
       "    }\n",
       "\n",
       "    .dataframe tbody tr th {\n",
       "        vertical-align: top;\n",
       "    }\n",
       "\n",
       "    .dataframe thead th {\n",
       "        text-align: right;\n",
       "    }\n",
       "</style>\n",
       "<table border=\"1\" class=\"dataframe\">\n",
       "  <thead>\n",
       "    <tr style=\"text-align: right;\">\n",
       "      <th></th>\n",
       "      <th>featurecla</th>\n",
       "      <th>scalerank</th>\n",
       "      <th>min_zoom</th>\n",
       "      <th>geometry</th>\n",
       "    </tr>\n",
       "  </thead>\n",
       "  <tbody>\n",
       "    <tr>\n",
       "      <th>0</th>\n",
       "      <td>Land</td>\n",
       "      <td>1</td>\n",
       "      <td>1.0</td>\n",
       "      <td>POLYGON ((-59.57209 -80.04018, -59.86585 -80.5...</td>\n",
       "    </tr>\n",
       "    <tr>\n",
       "      <th>1</th>\n",
       "      <td>Land</td>\n",
       "      <td>1</td>\n",
       "      <td>1.0</td>\n",
       "      <td>POLYGON ((-159.20818 -79.49706, -161.12760 -79...</td>\n",
       "    </tr>\n",
       "    <tr>\n",
       "      <th>2</th>\n",
       "      <td>Land</td>\n",
       "      <td>1</td>\n",
       "      <td>0.0</td>\n",
       "      <td>POLYGON ((-45.15476 -78.04707, -43.92083 -78.4...</td>\n",
       "    </tr>\n",
       "    <tr>\n",
       "      <th>3</th>\n",
       "      <td>Land</td>\n",
       "      <td>1</td>\n",
       "      <td>1.0</td>\n",
       "      <td>POLYGON ((-121.21151 -73.50099, -119.91885 -73...</td>\n",
       "    </tr>\n",
       "    <tr>\n",
       "      <th>4</th>\n",
       "      <td>Land</td>\n",
       "      <td>1</td>\n",
       "      <td>1.0</td>\n",
       "      <td>POLYGON ((-125.55957 -73.48135, -124.03188 -73...</td>\n",
       "    </tr>\n",
       "    <tr>\n",
       "      <th>...</th>\n",
       "      <td>...</td>\n",
       "      <td>...</td>\n",
       "      <td>...</td>\n",
       "      <td>...</td>\n",
       "    </tr>\n",
       "    <tr>\n",
       "      <th>122</th>\n",
       "      <td>Land</td>\n",
       "      <td>1</td>\n",
       "      <td>1.0</td>\n",
       "      <td>POLYGON ((51.13619 80.54728, 49.79368 80.41543...</td>\n",
       "    </tr>\n",
       "    <tr>\n",
       "      <th>123</th>\n",
       "      <td>Land</td>\n",
       "      <td>0</td>\n",
       "      <td>0.0</td>\n",
       "      <td>POLYGON ((99.93976 78.88094, 97.75794 78.75620...</td>\n",
       "    </tr>\n",
       "    <tr>\n",
       "      <th>124</th>\n",
       "      <td>Land</td>\n",
       "      <td>0</td>\n",
       "      <td>0.0</td>\n",
       "      <td>POLYGON ((-87.02000 79.66000, -85.81435 79.336...</td>\n",
       "    </tr>\n",
       "    <tr>\n",
       "      <th>125</th>\n",
       "      <td>Land</td>\n",
       "      <td>0</td>\n",
       "      <td>0.0</td>\n",
       "      <td>POLYGON ((-68.50000 83.10632, -65.82735 83.028...</td>\n",
       "    </tr>\n",
       "    <tr>\n",
       "      <th>126</th>\n",
       "      <td>Land</td>\n",
       "      <td>0</td>\n",
       "      <td>0.0</td>\n",
       "      <td>POLYGON ((-27.10046 83.51966, -20.84539 82.726...</td>\n",
       "    </tr>\n",
       "  </tbody>\n",
       "</table>\n",
       "<p>127 rows × 4 columns</p>\n",
       "</div>\n",
       "      <button class=\"colab-df-convert\" onclick=\"convertToInteractive('df-e0ee9aff-00c2-4b2c-bb03-e7a7595cabe7')\"\n",
       "              title=\"Convert this dataframe to an interactive table.\"\n",
       "              style=\"display:none;\">\n",
       "        \n",
       "  <svg xmlns=\"http://www.w3.org/2000/svg\" height=\"24px\"viewBox=\"0 0 24 24\"\n",
       "       width=\"24px\">\n",
       "    <path d=\"M0 0h24v24H0V0z\" fill=\"none\"/>\n",
       "    <path d=\"M18.56 5.44l.94 2.06.94-2.06 2.06-.94-2.06-.94-.94-2.06-.94 2.06-2.06.94zm-11 1L8.5 8.5l.94-2.06 2.06-.94-2.06-.94L8.5 2.5l-.94 2.06-2.06.94zm10 10l.94 2.06.94-2.06 2.06-.94-2.06-.94-.94-2.06-.94 2.06-2.06.94z\"/><path d=\"M17.41 7.96l-1.37-1.37c-.4-.4-.92-.59-1.43-.59-.52 0-1.04.2-1.43.59L10.3 9.45l-7.72 7.72c-.78.78-.78 2.05 0 2.83L4 21.41c.39.39.9.59 1.41.59.51 0 1.02-.2 1.41-.59l7.78-7.78 2.81-2.81c.8-.78.8-2.07 0-2.86zM5.41 20L4 18.59l7.72-7.72 1.47 1.35L5.41 20z\"/>\n",
       "  </svg>\n",
       "      </button>\n",
       "      \n",
       "  <style>\n",
       "    .colab-df-container {\n",
       "      display:flex;\n",
       "      flex-wrap:wrap;\n",
       "      gap: 12px;\n",
       "    }\n",
       "\n",
       "    .colab-df-convert {\n",
       "      background-color: #E8F0FE;\n",
       "      border: none;\n",
       "      border-radius: 50%;\n",
       "      cursor: pointer;\n",
       "      display: none;\n",
       "      fill: #1967D2;\n",
       "      height: 32px;\n",
       "      padding: 0 0 0 0;\n",
       "      width: 32px;\n",
       "    }\n",
       "\n",
       "    .colab-df-convert:hover {\n",
       "      background-color: #E2EBFA;\n",
       "      box-shadow: 0px 1px 2px rgba(60, 64, 67, 0.3), 0px 1px 3px 1px rgba(60, 64, 67, 0.15);\n",
       "      fill: #174EA6;\n",
       "    }\n",
       "\n",
       "    [theme=dark] .colab-df-convert {\n",
       "      background-color: #3B4455;\n",
       "      fill: #D2E3FC;\n",
       "    }\n",
       "\n",
       "    [theme=dark] .colab-df-convert:hover {\n",
       "      background-color: #434B5C;\n",
       "      box-shadow: 0px 1px 3px 1px rgba(0, 0, 0, 0.15);\n",
       "      filter: drop-shadow(0px 1px 2px rgba(0, 0, 0, 0.3));\n",
       "      fill: #FFFFFF;\n",
       "    }\n",
       "  </style>\n",
       "\n",
       "      <script>\n",
       "        const buttonEl =\n",
       "          document.querySelector('#df-e0ee9aff-00c2-4b2c-bb03-e7a7595cabe7 button.colab-df-convert');\n",
       "        buttonEl.style.display =\n",
       "          google.colab.kernel.accessAllowed ? 'block' : 'none';\n",
       "\n",
       "        async function convertToInteractive(key) {\n",
       "          const element = document.querySelector('#df-e0ee9aff-00c2-4b2c-bb03-e7a7595cabe7');\n",
       "          const dataTable =\n",
       "            await google.colab.kernel.invokeFunction('convertToInteractive',\n",
       "                                                     [key], {});\n",
       "          if (!dataTable) return;\n",
       "\n",
       "          const docLinkHtml = 'Like what you see? Visit the ' +\n",
       "            '<a target=\"_blank\" href=https://colab.research.google.com/notebooks/data_table.ipynb>data table notebook</a>'\n",
       "            + ' to learn more about interactive tables.';\n",
       "          element.innerHTML = '';\n",
       "          dataTable['output_type'] = 'display_data';\n",
       "          await google.colab.output.renderOutput(dataTable, element);\n",
       "          const docLink = document.createElement('div');\n",
       "          docLink.innerHTML = docLinkHtml;\n",
       "          element.appendChild(docLink);\n",
       "        }\n",
       "      </script>\n",
       "    </div>\n",
       "  </div>\n",
       "  "
      ],
      "text/plain": [
       "    featurecla  scalerank  min_zoom  \\\n",
       "0         Land          1       1.0   \n",
       "1         Land          1       1.0   \n",
       "2         Land          1       0.0   \n",
       "3         Land          1       1.0   \n",
       "4         Land          1       1.0   \n",
       "..         ...        ...       ...   \n",
       "122       Land          1       1.0   \n",
       "123       Land          0       0.0   \n",
       "124       Land          0       0.0   \n",
       "125       Land          0       0.0   \n",
       "126       Land          0       0.0   \n",
       "\n",
       "                                              geometry  \n",
       "0    POLYGON ((-59.57209 -80.04018, -59.86585 -80.5...  \n",
       "1    POLYGON ((-159.20818 -79.49706, -161.12760 -79...  \n",
       "2    POLYGON ((-45.15476 -78.04707, -43.92083 -78.4...  \n",
       "3    POLYGON ((-121.21151 -73.50099, -119.91885 -73...  \n",
       "4    POLYGON ((-125.55957 -73.48135, -124.03188 -73...  \n",
       "..                                                 ...  \n",
       "122  POLYGON ((51.13619 80.54728, 49.79368 80.41543...  \n",
       "123  POLYGON ((99.93976 78.88094, 97.75794 78.75620...  \n",
       "124  POLYGON ((-87.02000 79.66000, -85.81435 79.336...  \n",
       "125  POLYGON ((-68.50000 83.10632, -65.82735 83.028...  \n",
       "126  POLYGON ((-27.10046 83.51966, -20.84539 82.726...  \n",
       "\n",
       "[127 rows x 4 columns]"
      ]
     },
     "execution_count": 79,
     "metadata": {},
     "output_type": "execute_result"
    }
   ],
   "source": [
    "# Read in data\n",
    "fp_world = \"/content/drive/My Drive/data_share/ne_110m_land.shp\"\n",
    "world_shp = gpd.read_file(fp_world)\n",
    "world_shp"
   ]
  },
  {
   "cell_type": "code",
   "execution_count": null,
   "metadata": {
    "colab": {
     "base_uri": "https://localhost:8080/"
    },
    "id": "Bp4YnDSquulv",
    "outputId": "c0c13741-e82e-4382-90f0-1f691c6e9bce"
   },
   "outputs": [
    {
     "data": {
      "text/plain": [
       "<Geographic 2D CRS: EPSG:4326>\n",
       "Name: WGS 84\n",
       "Axis Info [ellipsoidal]:\n",
       "- Lat[north]: Geodetic latitude (degree)\n",
       "- Lon[east]: Geodetic longitude (degree)\n",
       "Area of Use:\n",
       "- name: World.\n",
       "- bounds: (-180.0, -90.0, 180.0, 90.0)\n",
       "Datum: World Geodetic System 1984 ensemble\n",
       "- Ellipsoid: WGS 84\n",
       "- Prime Meridian: Greenwich"
      ]
     },
     "execution_count": 80,
     "metadata": {},
     "output_type": "execute_result"
    }
   ],
   "source": [
    "# Check input crs\n",
    "world_shp.crs"
   ]
  },
  {
   "cell_type": "code",
   "execution_count": null,
   "metadata": {
    "colab": {
     "base_uri": "https://localhost:8080/",
     "height": 405
    },
    "id": "2IqcLPj3u0hl",
    "outputId": "11025e50-f70f-4efe-f7dd-d90711decf40"
   },
   "outputs": [
    {
     "data": {
      "text/plain": [
       "Text(0.5, 1.0, 'WGS84')"
      ]
     },
     "execution_count": 81,
     "metadata": {},
     "output_type": "execute_result"
    },
    {
     "data": {
      "image/png": "[encoded data removed]",
      "text/plain": [
       "<Figure size 864x432 with 1 Axes>"
      ]
     },
     "metadata": {
      "needs_background": "light"
     },
     "output_type": "display_data"
    }
   ],
   "source": [
    "# Set fig size\n",
    "plt.rcParams['figure.figsize'] = [12, 6]\n",
    "#Plot in original crs\n",
    "world_shp.plot()\n",
    "plt.title(\"WGS84\")"
   ]
  },
  {
   "cell_type": "code",
   "execution_count": null,
   "metadata": {
    "colab": {
     "base_uri": "https://localhost:8080/",
     "height": 391
    },
    "id": "jbwd_Iddu_yK",
    "outputId": "f8665b0f-9ae4-42cc-f7ba-db24ece7f1c6"
   },
   "outputs": [
    {
     "data": {
      "text/plain": [
       "Text(0.5, 1.0, 'Web mercator')"
      ]
     },
     "execution_count": 83,
     "metadata": {},
     "output_type": "execute_result"
    },
    {
     "data": {
      "image/png": "[encoded data removed]",
      "text/plain": [
       "<Figure size 864x432 with 1 Axes>"
      ]
     },
     "metadata": {
      "needs_background": "light"
     },
     "output_type": "display_data"
    }
   ],
   "source": [
    "# Define projection as web mercator, 3785\n",
    "# Re-project and plot\n",
    "world_shp.to_crs(epsg=3785).plot()\n",
    "\n",
    "# Remove x and y axis\n",
    "plt.axis('off')\n",
    "plt.title(\"Web mercator\")"
   ]
  },
  {
   "cell_type": "markdown",
   "metadata": {
    "id": "IOt9catNfkuu"
   },
   "source": [
    "Define coordinate references esier with the CRS library:"
   ]
  },
  {
   "cell_type": "code",
   "execution_count": null,
   "metadata": {
    "id": "wLsY5ZjzfpSA"
   },
   "outputs": [],
   "source": [
    "from pyproj import CRS"
   ]
  },
  {
   "cell_type": "code",
   "execution_count": null,
   "metadata": {
    "colab": {
     "base_uri": "https://localhost:8080/",
     "height": 391
    },
    "id": "HUQwPq7VvHTp",
    "outputId": "aa3af1e3-e1a2-43b8-e810-23ac277a37b0"
   },
   "outputs": [
    {
     "data": {
      "text/plain": [
       "Text(0.5, 1.0, 'Eckert IV')"
      ]
     },
     "execution_count": 86,
     "metadata": {},
     "output_type": "execute_result"
    },
    {
     "data": {
      "image/png": "[encoded data removed]",
      "text/plain": [
       "<Figure size 864x432 with 1 Axes>"
      ]
     },
     "metadata": {
      "needs_background": "light"
     },
     "output_type": "display_data"
    }
   ],
   "source": [
    "eckert_IV = CRS.from_proj4(\"+proj=eck4 +lon_0=0 +x_0=0 +y_0=0 +ellps=WGS84 +datum=WGS84 +units=m +no_defs\")\n",
    "\n",
    "# Re-project and plot to eckert_iv\n",
    "world_shp.to_crs(eckert_IV).plot()\n",
    "\n",
    "# Remove x and y axis\n",
    "plt.axis('off')\n",
    "plt.title(\"Eckert IV\")"
   ]
  },
  {
   "cell_type": "code",
   "execution_count": null,
   "metadata": {
    "colab": {
     "base_uri": "https://localhost:8080/",
     "height": 391
    },
    "id": "af0g6bjuvOYq",
    "outputId": "1669d4b5-e27e-4c13-f563-669210e96f85"
   },
   "outputs": [
    {
     "data": {
      "text/plain": [
       "Text(0.5, 1.0, 'Orthographic')"
      ]
     },
     "execution_count": 87,
     "metadata": {},
     "output_type": "execute_result"
    },
    {
     "data": {
      "image/png": "[encoded data removed]",
      "text/plain": [
       "<Figure size 864x432 with 1 Axes>"
      ]
     },
     "metadata": {
      "needs_background": "light"
     },
     "output_type": "display_data"
    }
   ],
   "source": [
    "# Define an orthographic projection, centered in Finland! from: http://www.statsmapsnpix.com/2019/09/globe-projections-and-insets-in-qgis.html\n",
    "ortho = CRS.from_proj4(\"+proj=ortho +lat_0=60.00 +lon_0=23.0000 +x_0=0 +y_0=0 +a=6370997 +b=6370997 +units=m +no_defs\")\n",
    "\n",
    "# Re-project and plot\n",
    "world_shp.to_crs(ortho).plot()\n",
    "\n",
    "# Remove x and y axis\n",
    "plt.axis('off')\n",
    "plt.title(\"Orthographic\")"
   ]
  },
  {
   "cell_type": "markdown",
   "metadata": {
    "id": "eSrbuK3NJizc"
   },
   "source": [
    "Which one is your favourite?\n",
    "Try finding some more!"
   ]
  },
  {
   "cell_type": "code",
   "execution_count": null,
   "metadata": {
    "id": "vBsVtlYlJmE8"
   },
   "outputs": [],
   "source": []
  }
 ],
 "metadata": {
  "colab": {
   "provenance": [],
   "toc_visible": true
  },
  "kernelspec": {
   "display_name": "Python 3 (ipykernel)",
   "language": "python",
   "name": "python3"
  },
  "language_info": {
   "codemirror_mode": {
    "name": "ipython",
    "version": 3
   },
   "file_extension": ".py",
   "mimetype": "text/x-python",
   "name": "python",
   "nbconvert_exporter": "python",
   "pygments_lexer": "ipython3",
   "version": "3.9.13"
  }
 },
 "nbformat": 4,
 "nbformat_minor": 1
}
