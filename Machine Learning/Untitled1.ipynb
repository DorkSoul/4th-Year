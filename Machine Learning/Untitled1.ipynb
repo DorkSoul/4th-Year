{
 "cells": [
  {
   "cell_type": "code",
   "execution_count": 1,
   "id": "60df34cf-3f38-4a10-b419-17857b739197",
   "metadata": {},
   "outputs": [],
   "source": [
    "from random import random,randint\n",
    "import math\n",
    "\n",
    "def wineprice(rating,age):\n",
    "  peak_age=rating-50\n",
    "  \n",
    "  # Calculate price based on rating\n",
    "  price = rating/2\n",
    "  if age > peak_age:\n",
    "    # Past its peak, goes bad in 10 years\n",
    "    price = price*(5-(age-peak_age)/2)\n",
    "  else:\n",
    "    # Increases to 5x original value as it\n",
    "    # approaches its peak\n",
    "    price = price*(5*((age+1)/peak_age))\n",
    "  if price < 0: price=0\n",
    "\n",
    "  return price"
   ]
  },
  {
   "cell_type": "code",
   "execution_count": 2,
   "id": "d804e84a-b029-41b9-9ce4-6d53366b8d52",
   "metadata": {},
   "outputs": [
    {
     "data": {
      "text/plain": [
       "10.102040816326529"
      ]
     },
     "execution_count": 2,
     "metadata": {},
     "output_type": "execute_result"
    }
   ],
   "source": [
    "wineprice(95.0,3.0)\n",
    "wineprice(99.0,1.0)"
   ]
  },
  {
   "cell_type": "code",
   "execution_count": 3,
   "id": "ae11eef0-e8fa-41eb-acd3-5fc1ed1024ca",
   "metadata": {},
   "outputs": [],
   "source": [
    "def wineset1():\n",
    "  rows=[]\n",
    "  for i in range(300):\n",
    "    # Create a random age and rating\n",
    "    rating=random()*50+50\n",
    "    age=random()*50\n",
    "\n",
    "    # Get reference price\n",
    "    price=wineprice(rating,age)\n",
    "    \n",
    "    # Add some noise\n",
    "    price*=(random()*0.2+0.9)\n",
    "\n",
    "    # Add to the dataset\n",
    "    rows.append({'input':(rating,age),\n",
    "                 'result':price})\n",
    "  return rows\n"
   ]
  },
  {
   "cell_type": "code",
   "execution_count": 4,
   "id": "178f92a1-a19b-4fbb-b19f-0b3d216d69b5",
   "metadata": {},
   "outputs": [
    {
     "data": {
      "text/plain": [
       "{'input': (95.77418463778027, 23.656186219249747),\n",
       " 'result': 120.23641505160157}"
      ]
     },
     "execution_count": 4,
     "metadata": {},
     "output_type": "execute_result"
    }
   ],
   "source": [
    "data = wineset1( )\n",
    "data[0]"
   ]
  },
  {
   "cell_type": "code",
   "execution_count": 5,
   "id": "8bd5198d-34fc-4b95-a405-125bacbb122b",
   "metadata": {},
   "outputs": [
    {
     "data": {
      "text/plain": [
       "{'input': (77.95763791275188, 22.14948269927329), 'result': 160.22069306892328}"
      ]
     },
     "execution_count": 5,
     "metadata": {},
     "output_type": "execute_result"
    }
   ],
   "source": [
    "data[1]"
   ]
  },
  {
   "cell_type": "code",
   "execution_count": 6,
   "id": "1304d279-29b3-4204-8886-0056ccf180f0",
   "metadata": {},
   "outputs": [],
   "source": [
    "def euclidean(v1,v2):\n",
    "  d=0.0\n",
    "  for i in range(len(v1)):\n",
    "    d+=(v1[i]-v2[i])**2\n",
    "  return math.sqrt(d)\n"
   ]
  },
  {
   "cell_type": "code",
   "execution_count": 7,
   "id": "099491c3-734b-4499-808e-ffc36d032392",
   "metadata": {},
   "outputs": [
    {
     "data": {
      "text/plain": [
       "(95.77418463778027, 23.656186219249747)"
      ]
     },
     "execution_count": 7,
     "metadata": {},
     "output_type": "execute_result"
    }
   ],
   "source": [
    "data[0]['input']"
   ]
  },
  {
   "cell_type": "code",
   "execution_count": 8,
   "id": "bd5a9265-ba88-4876-8b19-0f21e2ee31a5",
   "metadata": {},
   "outputs": [
    {
     "data": {
      "text/plain": [
       "(77.95763791275188, 22.14948269927329)"
      ]
     },
     "execution_count": 8,
     "metadata": {},
     "output_type": "execute_result"
    }
   ],
   "source": [
    "data[1]['input']"
   ]
  },
  {
   "cell_type": "code",
   "execution_count": 9,
   "id": "795db4bb-d39a-437d-9ea5-b88b8c23c6e5",
   "metadata": {},
   "outputs": [
    {
     "data": {
      "text/plain": [
       "17.880142412806148"
      ]
     },
     "execution_count": 9,
     "metadata": {},
     "output_type": "execute_result"
    }
   ],
   "source": [
    "euclidean(data[0]['input'],data[1]['input'])"
   ]
  },
  {
   "cell_type": "code",
   "execution_count": 10,
   "id": "66f8d132-71d9-4127-93ea-6e74c857face",
   "metadata": {},
   "outputs": [],
   "source": [
    "import math"
   ]
  },
  {
   "cell_type": "code",
   "execution_count": 11,
   "id": "aaacbbc1-ad44-46fb-858c-52e1c2170496",
   "metadata": {},
   "outputs": [],
   "source": [
    "def manhattan(v1, v2):\n",
    "    d = 0.0\n",
    "    for x1, x2 in zip(v1, v2):\n",
    "        difference = x2 - x1\n",
    "        absolute_difference = abs(difference)\n",
    "        d += absolute_difference\n",
    "\n",
    "    return d"
   ]
  },
  {
   "cell_type": "code",
   "execution_count": 12,
   "id": "6322401c-216f-452e-b4dc-ea8ef377bbdd",
   "metadata": {},
   "outputs": [
    {
     "data": {
      "text/plain": [
       "1.0"
      ]
     },
     "execution_count": 12,
     "metadata": {},
     "output_type": "execute_result"
    }
   ],
   "source": [
    "manhattan([1,1],[1,0])"
   ]
  },
  {
   "cell_type": "code",
   "execution_count": 13,
   "id": "c986f628-d46f-4507-bb75-e1e4adcd1eef",
   "metadata": {},
   "outputs": [
    {
     "data": {
      "text/plain": [
       "2.0"
      ]
     },
     "execution_count": 13,
     "metadata": {},
     "output_type": "execute_result"
    }
   ],
   "source": [
    "manhattan([0,1],[1,0])"
   ]
  },
  {
   "cell_type": "code",
   "execution_count": 14,
   "id": "858c8917-5091-4c19-8546-f51c22fd8052",
   "metadata": {},
   "outputs": [],
   "source": [
    "\n",
    "import numpy as np"
   ]
  },
  {
   "cell_type": "code",
   "execution_count": 15,
   "id": "24079a30-d7f5-4a5d-bb4f-59607b9175b5",
   "metadata": {},
   "outputs": [],
   "source": [
    "def cosSim(v1,v2):\n",
    "    dot=0.0\n",
    "    for i in range(len(v1)):\n",
    "        dot+=(v1[i]*v2[i])\n",
    "        len1=0.0\n",
    "        len2=0.0\n",
    "    for i in range(len(v1)):\n",
    "        len1+=(v1[i]*v1[i])\n",
    "        len2+=(v2[i]*v2[i])\n",
    "        cos = dot/(math.sqrt(len1)*math.sqrt(len2))\n",
    "    return cos"
   ]
  },
  {
   "cell_type": "code",
   "execution_count": 16,
   "id": "a1d8df6c-ca47-4c87-afc8-b83ee9e910ba",
   "metadata": {},
   "outputs": [
    {
     "name": "stdout",
     "output_type": "stream",
     "text": [
      "0.9999999999999998\n"
     ]
    }
   ],
   "source": [
    "cosval = cosSim([1,1],[2,2])\n",
    "print(cosval)"
   ]
  },
  {
   "cell_type": "code",
   "execution_count": 17,
   "id": "a6a5c5db-6b9f-4fea-a8ac-4ba89be326c2",
   "metadata": {},
   "outputs": [
    {
     "name": "stdout",
     "output_type": "stream",
     "text": [
      "-1.0\n"
     ]
    }
   ],
   "source": [
    "cosval = cosSim([-1,0],[1,0])\n",
    "print(cosval)"
   ]
  },
  {
   "cell_type": "code",
   "execution_count": 18,
   "id": "71e826d4-2efa-48eb-9670-329442b6b63a",
   "metadata": {},
   "outputs": [],
   "source": [
    "def getdistances(data,vec1):\n",
    "  distancelist=[]\n",
    "  \n",
    "  # Loop over every item in the dataset\n",
    "  for i in range(len(data)):\n",
    "    vec2=data[i]['input']\n",
    "    \n",
    "    # Add the distance and the index\n",
    "    distancelist.append((euclidean(vec1,vec2),i))\n",
    "  \n",
    "  # Sort by distance\n",
    "  distancelist.sort()\n",
    "  return distancelist\n"
   ]
  },
  {
   "cell_type": "code",
   "execution_count": 19,
   "id": "5801a2a2-7c81-4ee7-9d33-d702d3c45fbf",
   "metadata": {},
   "outputs": [],
   "source": [
    "\n",
    "def knnestimate(data,vec1,k=5):\n",
    "  # Get sorted distances\n",
    "  dlist=getdistances(data,vec1)\n",
    "  avg=0.0\n",
    "  \n",
    "  # Take the average of the top k results\n",
    "  for i in range(k):\n",
    "    idx=dlist[i][1]\n",
    "    avg+=data[idx]['result']\n",
    "  avg=avg/k\n",
    "  return avg\n",
    "\n",
    "#"
   ]
  },
  {
   "cell_type": "code",
   "execution_count": 20,
   "id": "6078067d-d96e-405c-a2e4-2fd8804e6373",
   "metadata": {},
   "outputs": [
    {
     "data": {
      "text/plain": [
       "23.02820281121638"
      ]
     },
     "execution_count": 20,
     "metadata": {},
     "output_type": "execute_result"
    }
   ],
   "source": [
    "knnestimate(data,(95.0,3.0))"
   ]
  },
  {
   "cell_type": "code",
   "execution_count": 21,
   "id": "587ff258-515f-48b6-b95e-81e6c970fb5f",
   "metadata": {},
   "outputs": [],
   "source": [
    "def inverseweight(dist,num=1.0,const=0.1):\n",
    "  return num/(dist+const)"
   ]
  },
  {
   "cell_type": "code",
   "execution_count": 22,
   "id": "75e5bbf8-6174-4653-8481-1a5af56456c9",
   "metadata": {},
   "outputs": [],
   "source": [
    "def subtractweight(dist,const=1.0):\n",
    "  if dist>const: \n",
    "    return 0\n",
    "  else: \n",
    "    return const-dist"
   ]
  },
  {
   "cell_type": "code",
   "execution_count": 23,
   "id": "351b0a22-ae78-424f-ac0d-695a50a12f7a",
   "metadata": {},
   "outputs": [],
   "source": [
    "def gaussian(dist,sigma=5.0):\n",
    "  return math.e**(-dist**2/(2*sigma**2))"
   ]
  },
  {
   "cell_type": "code",
   "execution_count": 24,
   "id": "616c91e0-18d4-47a7-b5c7-1e27bddf5950",
   "metadata": {},
   "outputs": [
    {
     "data": {
      "text/plain": [
       "5.0"
      ]
     },
     "execution_count": 24,
     "metadata": {},
     "output_type": "execute_result"
    }
   ],
   "source": [
    "inverseweight(0.1)"
   ]
  },
  {
   "cell_type": "code",
   "execution_count": 25,
   "id": "29f44844-0482-463a-b5d4-73bed6080ac8",
   "metadata": {},
   "outputs": [
    {
     "data": {
      "text/plain": [
       "0.9"
      ]
     },
     "execution_count": 25,
     "metadata": {},
     "output_type": "execute_result"
    }
   ],
   "source": [
    "subtractweight(0.1)"
   ]
  },
  {
   "cell_type": "code",
   "execution_count": 26,
   "id": "3526f77c-de41-4b40-8f68-394f9e65fffb",
   "metadata": {},
   "outputs": [
    {
     "data": {
      "text/plain": [
       "0.9998000199986667"
      ]
     },
     "execution_count": 26,
     "metadata": {},
     "output_type": "execute_result"
    }
   ],
   "source": [
    "gaussian(0.1)"
   ]
  },
  {
   "cell_type": "code",
   "execution_count": 27,
   "id": "1e44599b-d6c6-4f48-98f5-de7bb85ec3e4",
   "metadata": {},
   "outputs": [
    {
     "data": {
      "text/plain": [
       "0.9090909090909091"
      ]
     },
     "execution_count": 27,
     "metadata": {},
     "output_type": "execute_result"
    }
   ],
   "source": [
    "inverseweight(1.0)"
   ]
  },
  {
   "cell_type": "code",
   "execution_count": 28,
   "id": "317b0cb6-81a1-44a4-9ce2-c9be2dd8891c",
   "metadata": {},
   "outputs": [
    {
     "data": {
      "text/plain": [
       "0.0"
      ]
     },
     "execution_count": 28,
     "metadata": {},
     "output_type": "execute_result"
    }
   ],
   "source": [
    "subtractweight(1.0)"
   ]
  },
  {
   "cell_type": "code",
   "execution_count": 29,
   "id": "365ba27c-27b4-4276-8f32-9d3495bb9764",
   "metadata": {},
   "outputs": [
    {
     "data": {
      "text/plain": [
       "0.9801986733067553"
      ]
     },
     "execution_count": 29,
     "metadata": {},
     "output_type": "execute_result"
    }
   ],
   "source": [
    "gaussian(1.0)"
   ]
  },
  {
   "cell_type": "code",
   "execution_count": 30,
   "id": "42ae98da-4a90-4550-88b9-c7729c0dffac",
   "metadata": {},
   "outputs": [],
   "source": [
    "def applyWeigthMethod(weightMethod,inputs):\n",
    "    weights=[]\n",
    "    for i in range(len(inputs)):\n",
    "        weights.append(weightMethod(inputs[i]))\n",
    "    return weights\n"
   ]
  },
  {
   "cell_type": "code",
   "execution_count": 31,
   "id": "2ff7282a-21db-4e52-9aef-cb0506b07882",
   "metadata": {},
   "outputs": [
    {
     "data": {
      "text/plain": [
       "[5.0,\n",
       " 3.333333333333333,\n",
       " 2.5,\n",
       " 2.0,\n",
       " 1.6666666666666667,\n",
       " 1.4285714285714286,\n",
       " 1.25,\n",
       " 1.1111111111111112,\n",
       " 1.0,\n",
       " 0.9090909090909091]"
      ]
     },
     "execution_count": 31,
     "metadata": {},
     "output_type": "execute_result"
    }
   ],
   "source": [
    "distances = [0.1,0.2,0.3,0.4,0.5,0.6,0.7,0.8,0.9,1.0]\n",
    "applyWeigthMethod(inverseweight,distances)"
   ]
  },
  {
   "cell_type": "code",
   "execution_count": 32,
   "id": "3e51402c-46e6-419f-9f63-3c8f4635a048",
   "metadata": {},
   "outputs": [
    {
     "data": {
      "text/plain": [
       "[0.9,\n",
       " 0.8,\n",
       " 0.7,\n",
       " 0.6,\n",
       " 0.5,\n",
       " 0.4,\n",
       " 0.30000000000000004,\n",
       " 0.19999999999999996,\n",
       " 0.09999999999999998,\n",
       " 0.0]"
      ]
     },
     "execution_count": 32,
     "metadata": {},
     "output_type": "execute_result"
    }
   ],
   "source": [
    "applyWeigthMethod(subtractweight,distances)"
   ]
  },
  {
   "cell_type": "code",
   "execution_count": 33,
   "id": "7f3570c9-5c1a-45eb-aab8-47a2a66fee66",
   "metadata": {},
   "outputs": [
    {
     "data": {
      "text/plain": [
       "[0.9998000199986667,\n",
       " 0.9992003199146837,\n",
       " 0.9982016190284373,\n",
       " 0.9968051145430329,\n",
       " 0.9950124791926823,\n",
       " 0.9928258579038134,\n",
       " 0.9902478635182347,\n",
       " 0.9872815715902905,\n",
       " 0.9839305142725083,\n",
       " 0.9801986733067553]"
      ]
     },
     "execution_count": 33,
     "metadata": {},
     "output_type": "execute_result"
    }
   ],
   "source": [
    "applyWeigthMethod(gaussian,distances)"
   ]
  },
  {
   "cell_type": "code",
   "execution_count": 34,
   "id": "347d1376-b299-4101-9b33-fd784bffc81c",
   "metadata": {},
   "outputs": [],
   "source": [
    "\n",
    "def weightedknn(data,vec1,k=5,weightf=gaussian):\n",
    "  # Get distances\n",
    "  dlist=getdistances(data,vec1)\n",
    "  avg=0.0\n",
    "  totalweight=0.0\n",
    "  \n",
    "  # Get weighted average\n",
    "  for i in range(k):\n",
    "    dist=dlist[i][0]\n",
    "    idx=dlist[i][1]\n",
    "    weight=weightf(dist)\n",
    "    avg+=weight*data[idx]['result']\n",
    "    totalweight+=weight\n",
    "  if totalweight==0: return 0\n",
    "  avg=avg/totalweight\n",
    "  return avg"
   ]
  },
  {
   "cell_type": "code",
   "execution_count": 35,
   "id": "d99f67f4-a16b-4a54-9f73-ae3b3d9c10b4",
   "metadata": {},
   "outputs": [
    {
     "data": {
      "text/plain": [
       "39.86537148728295"
      ]
     },
     "execution_count": 35,
     "metadata": {},
     "output_type": "execute_result"
    }
   ],
   "source": [
    "weightedknn(data,(99.0,5.0))"
   ]
  },
  {
   "cell_type": "code",
   "execution_count": 36,
   "id": "bb6f1a37-c708-4eb6-aced-917785306456",
   "metadata": {},
   "outputs": [],
   "source": [
    "def dividedata(data,test=0.05):\n",
    "  trainset=[]\n",
    "  testset=[]\n",
    "  for row in data:\n",
    "    if random()<test:\n",
    "      testset.append(row)\n",
    "    else:\n",
    "      trainset.append(row)\n",
    "  return trainset,testset\n",
    "  "
   ]
  },
  {
   "cell_type": "code",
   "execution_count": 37,
   "id": "f1d260f5-888b-48aa-9168-bb40c9c5f29d",
   "metadata": {},
   "outputs": [],
   "source": [
    "def testalgorithm(algf,trainset,testset):\n",
    "  error=0.0\n",
    "  for row in testset:\n",
    "    guess=algf(trainset,row['input'])\n",
    "    error+=(row['result']-guess)**2\n",
    "    #print row['result'],guess\n",
    "    \n",
    "  #print error/len(testset)\n",
    "  return error/len(testset)\n"
   ]
  },
  {
   "cell_type": "code",
   "execution_count": 38,
   "id": "d39a3b39-a306-4112-ae70-44e2fbd1dffc",
   "metadata": {},
   "outputs": [],
   "source": [
    "def crossvalidate(algf,data,trials=100,test=0.1):\n",
    "  error=0.0\n",
    "  for i in range(trials):\n",
    "    trainset,testset=dividedata(data,test)\n",
    "    error+=testalgorithm(algf,trainset,testset)\n",
    "  return error/trials"
   ]
  },
  {
   "cell_type": "code",
   "execution_count": 39,
   "id": "e7e681bb-6645-41a3-8203-5975b75a0e4b",
   "metadata": {},
   "outputs": [
    {
     "data": {
      "text/plain": [
       "286.22050079836947"
      ]
     },
     "execution_count": 39,
     "metadata": {},
     "output_type": "execute_result"
    }
   ],
   "source": [
    "crossvalidate(knnestimate,data)"
   ]
  },
  {
   "cell_type": "code",
   "execution_count": 40,
   "id": "95a9114d-c6f1-4404-aa49-4a6bcbaa0ec3",
   "metadata": {},
   "outputs": [
    {
     "data": {
      "text/plain": [
       "269.9394450708061"
      ]
     },
     "execution_count": 40,
     "metadata": {},
     "output_type": "execute_result"
    }
   ],
   "source": [
    "def knn3(d,v): return knnestimate(d,v,k=3)\n",
    "crossvalidate(knn3,data)"
   ]
  },
  {
   "cell_type": "code",
   "execution_count": 41,
   "id": "ac3cd535-996e-4b61-b3bf-9257e374dab9",
   "metadata": {},
   "outputs": [
    {
     "data": {
      "text/plain": [
       "268.16735131487565"
      ]
     },
     "execution_count": 41,
     "metadata": {},
     "output_type": "execute_result"
    }
   ],
   "source": [
    "def knn1(d,v): return knnestimate(d,v,k=1)\n",
    "crossvalidate(knn1,data)"
   ]
  },
  {
   "cell_type": "code",
   "execution_count": 42,
   "id": "52cf2d00-0dd9-43a1-9fc3-a8820672314f",
   "metadata": {},
   "outputs": [
    {
     "data": {
      "text/plain": [
       "249.59661139759854"
      ]
     },
     "execution_count": 42,
     "metadata": {},
     "output_type": "execute_result"
    }
   ],
   "source": [
    "crossvalidate(weightedknn,data)"
   ]
  },
  {
   "cell_type": "code",
   "execution_count": 43,
   "id": "f00d7cd3-f778-4409-947a-14741d8b4fab",
   "metadata": {},
   "outputs": [
    {
     "data": {
      "text/plain": [
       "214.8237376084945"
      ]
     },
     "execution_count": 43,
     "metadata": {},
     "output_type": "execute_result"
    }
   ],
   "source": [
    "def knninverse(d,v):\n",
    "    return weightedknn(d,v,weightf=inverseweight)\n",
    "crossvalidate(knninverse,data)"
   ]
  },
  {
   "cell_type": "code",
   "execution_count": 44,
   "id": "ae609fb1-96f2-456c-ac31-fb3fcd2ee9bf",
   "metadata": {},
   "outputs": [],
   "source": [
    "def wineset2():\n",
    "  rows=[]\n",
    "  for i in range(300):\n",
    "    rating=random()*50+50\n",
    "    age=random()*50\n",
    "    aisle=float(randint(1,20)) #\n",
    "    bottlesize=[375.0,750.0,1500.0][randint(0,2)] #\n",
    "    price=wineprice(rating,age)\n",
    "    price*=(bottlesize/750) #\n",
    "    price*=(random()*0.2+0.9)\n",
    "    rows.append({'input':(rating,age,aisle,bottlesize),\n",
    "                 'result':price})\n",
    "  return rows"
   ]
  },
  {
   "cell_type": "code",
   "execution_count": 45,
   "id": "79c19e85-62e4-4ff1-9d38-e23a2099beb5",
   "metadata": {},
   "outputs": [],
   "source": [
    "data1 = wineset2()"
   ]
  },
  {
   "cell_type": "code",
   "execution_count": 46,
   "id": "96f5dbc9-c942-49cf-af95-0c8bb858e73c",
   "metadata": {},
   "outputs": [
    {
     "data": {
      "text/plain": [
       "1455.993665947539"
      ]
     },
     "execution_count": 46,
     "metadata": {},
     "output_type": "execute_result"
    }
   ],
   "source": [
    "crossvalidate(knn3,data1)"
   ]
  },
  {
   "cell_type": "code",
   "execution_count": 47,
   "id": "4fcd4b0b-f7d8-44e2-8a99-963b3efd84f4",
   "metadata": {},
   "outputs": [
    {
     "data": {
      "text/plain": [
       "263.49264223862343"
      ]
     },
     "execution_count": 47,
     "metadata": {},
     "output_type": "execute_result"
    }
   ],
   "source": [
    "crossvalidate(weightedknn,data)"
   ]
  },
  {
   "cell_type": "code",
   "execution_count": 48,
   "id": "f86cafb2-8615-4848-8395-cb3f0e5fa453",
   "metadata": {},
   "outputs": [],
   "source": [
    "def rescale(data,scale):\n",
    "  scaleddata=[]\n",
    "  for row in data:\n",
    "    scaled=[scale[i]*row['input'][i] for i in range(len(scale))]\n",
    "    scaleddata.append({'input':scaled,'result':row['result']})\n",
    "  return scaleddata"
   ]
  },
  {
   "cell_type": "code",
   "execution_count": 49,
   "id": "90a00324-35b9-403a-a455-2a109bab45f9",
   "metadata": {},
   "outputs": [
    {
     "data": {
      "text/plain": [
       "898.5113273226365"
      ]
     },
     "execution_count": 49,
     "metadata": {},
     "output_type": "execute_result"
    }
   ],
   "source": [
    "sdata=rescale(data1,[10,10,0,0.5])\n",
    "crossvalidate(knn3,sdata)"
   ]
  },
  {
   "cell_type": "code",
   "execution_count": 50,
   "id": "7bb0df4b-4ad8-4864-bbca-459b6e3a9fa8",
   "metadata": {},
   "outputs": [
    {
     "data": {
      "text/plain": [
       "890.54466679497"
      ]
     },
     "execution_count": 50,
     "metadata": {},
     "output_type": "execute_result"
    }
   ],
   "source": [
    "crossvalidate(weightedknn,sdata)"
   ]
  },
  {
   "cell_type": "code",
   "execution_count": 55,
   "id": "3f9bb11e",
   "metadata": {},
   "outputs": [],
   "source": [
    "def rescale(data,scale):\n",
    "  scaleddata=[]\n",
    "  for row in data:\n",
    "    scaled=[scale[i]*row['input'][i] for i in range(len(scale))]\n",
    "    scaleddata.append({'input':scaled,'result':row['result']})\n",
    "  return scaleddata"
   ]
  },
  {
   "cell_type": "code",
   "execution_count": 56,
   "id": "a0249790",
   "metadata": {},
   "outputs": [
    {
     "data": {
      "text/plain": [
       "862.4621933919443"
      ]
     },
     "execution_count": 56,
     "metadata": {},
     "output_type": "execute_result"
    }
   ],
   "source": [
    "sdata=rescale(data1,[10,10,0,0.5])\n",
    "crossvalidate(knn3,sdata)"
   ]
  },
  {
   "cell_type": "code",
   "execution_count": 57,
   "id": "68d6395c",
   "metadata": {},
   "outputs": [
    {
     "data": {
      "text/plain": [
       "917.4831652151703"
      ]
     },
     "execution_count": 57,
     "metadata": {},
     "output_type": "execute_result"
    }
   ],
   "source": [
    "crossvalidate(weightedknn,sdata)"
   ]
  },
  {
   "cell_type": "code",
   "execution_count": 51,
   "id": "58f54424-fa83-4d6f-982e-96681aa973ed",
   "metadata": {},
   "outputs": [],
   "source": [
    "training_data = [ \n",
    "    [100,3.6,85,107],\n",
    "    [102,2.9,99,129],\n",
    "    [107,2.2,75,118],\n",
    "    [141,1.2,150,256],\n",
    "    [154,1.7,177,263],\n",
    "    [165,0.8,183,244],\n",
    "    [211,6,22,308],\n",
    "    [229,5.7,32,333],\n",
    "    [233,4.8,62,316]\n",
    "]"
   ]
  },
  {
   "cell_type": "code",
   "execution_count": 52,
   "id": "a6732ff7-9f3a-48cb-9533-57eb67e21c91",
   "metadata": {},
   "outputs": [],
   "source": [
    "query = [244,0.75,0.285714286, 0]"
   ]
  },
  {
   "cell_type": "code",
   "execution_count": 53,
   "id": "0930c0e4-1451-4e6c-abef-58d4b3a59634",
   "metadata": {},
   "outputs": [],
   "source": [
    "def weightedknn(data,vec1,k=5,weightf=gaussian):\n",
    "  # Get distances\n",
    "  dlist=getdistances(data,vec1)\n",
    "  avg=0.0\n",
    "  totalweight=0.0\n",
    "  \n",
    "  # Get weighted average\n",
    "  for i in range(k):\n",
    "    dist=dlist[i][0]\n",
    "    idx=dlist[i][1]\n",
    "    weight=weightf(dist)\n",
    "    avg+=weight*data[idx]['result']\n",
    "    totalweight+=weight\n",
    "  if totalweight==0: return 0\n",
    "  avg=avg/totalweight\n",
    "  return avg"
   ]
  },
  {
   "cell_type": "code",
   "execution_count": 54,
   "id": "c12e285c-8bf0-4c7c-a959-2210439d6140",
   "metadata": {},
   "outputs": [
    {
     "ename": "ZeroDivisionError",
     "evalue": "float division by zero",
     "output_type": "error",
     "traceback": [
      "\u001b[1;31m---------------------------------------------------------------------------\u001b[0m",
      "\u001b[1;31mZeroDivisionError\u001b[0m                         Traceback (most recent call last)",
      "\u001b[1;32m<ipython-input-54-95e5cface09b>\u001b[0m in \u001b[0;36m<module>\u001b[1;34m\u001b[0m\n\u001b[1;32m----> 1\u001b[1;33m \u001b[0mcrossvalidate\u001b[0m\u001b[1;33m(\u001b[0m\u001b[0mknn3\u001b[0m\u001b[1;33m,\u001b[0m\u001b[0mtraining_data\u001b[0m\u001b[1;33m)\u001b[0m\u001b[1;33m\u001b[0m\u001b[1;33m\u001b[0m\u001b[0m\n\u001b[0m",
      "\u001b[1;32m<ipython-input-38-7355cd6e6e03>\u001b[0m in \u001b[0;36mcrossvalidate\u001b[1;34m(algf, data, trials, test)\u001b[0m\n\u001b[0;32m      3\u001b[0m   \u001b[1;32mfor\u001b[0m \u001b[0mi\u001b[0m \u001b[1;32min\u001b[0m \u001b[0mrange\u001b[0m\u001b[1;33m(\u001b[0m\u001b[0mtrials\u001b[0m\u001b[1;33m)\u001b[0m\u001b[1;33m:\u001b[0m\u001b[1;33m\u001b[0m\u001b[1;33m\u001b[0m\u001b[0m\n\u001b[0;32m      4\u001b[0m     \u001b[0mtrainset\u001b[0m\u001b[1;33m,\u001b[0m\u001b[0mtestset\u001b[0m\u001b[1;33m=\u001b[0m\u001b[0mdividedata\u001b[0m\u001b[1;33m(\u001b[0m\u001b[0mdata\u001b[0m\u001b[1;33m,\u001b[0m\u001b[0mtest\u001b[0m\u001b[1;33m)\u001b[0m\u001b[1;33m\u001b[0m\u001b[1;33m\u001b[0m\u001b[0m\n\u001b[1;32m----> 5\u001b[1;33m     \u001b[0merror\u001b[0m\u001b[1;33m+=\u001b[0m\u001b[0mtestalgorithm\u001b[0m\u001b[1;33m(\u001b[0m\u001b[0malgf\u001b[0m\u001b[1;33m,\u001b[0m\u001b[0mtrainset\u001b[0m\u001b[1;33m,\u001b[0m\u001b[0mtestset\u001b[0m\u001b[1;33m)\u001b[0m\u001b[1;33m\u001b[0m\u001b[1;33m\u001b[0m\u001b[0m\n\u001b[0m\u001b[0;32m      6\u001b[0m   \u001b[1;32mreturn\u001b[0m \u001b[0merror\u001b[0m\u001b[1;33m/\u001b[0m\u001b[0mtrials\u001b[0m\u001b[1;33m\u001b[0m\u001b[1;33m\u001b[0m\u001b[0m\n",
      "\u001b[1;32m<ipython-input-37-c2ab1c56fcd2>\u001b[0m in \u001b[0;36mtestalgorithm\u001b[1;34m(algf, trainset, testset)\u001b[0m\n\u001b[0;32m      7\u001b[0m \u001b[1;33m\u001b[0m\u001b[0m\n\u001b[0;32m      8\u001b[0m   \u001b[1;31m#print error/len(testset)\u001b[0m\u001b[1;33m\u001b[0m\u001b[1;33m\u001b[0m\u001b[1;33m\u001b[0m\u001b[0m\n\u001b[1;32m----> 9\u001b[1;33m   \u001b[1;32mreturn\u001b[0m \u001b[0merror\u001b[0m\u001b[1;33m/\u001b[0m\u001b[0mlen\u001b[0m\u001b[1;33m(\u001b[0m\u001b[0mtestset\u001b[0m\u001b[1;33m)\u001b[0m\u001b[1;33m\u001b[0m\u001b[1;33m\u001b[0m\u001b[0m\n\u001b[0m",
      "\u001b[1;31mZeroDivisionError\u001b[0m: float division by zero"
     ]
    }
   ],
   "source": [
    "crossvalidate(knn3,training_data)"
   ]
  },
  {
   "cell_type": "code",
   "execution_count": null,
   "id": "a362dd13-4f33-4e03-81b7-e145f60bda87",
   "metadata": {},
   "outputs": [],
   "source": [
    "def getdistances(data,vec1):\n",
    "  distancelist=[]\n",
    "  \n",
    "  # Loop over every item in the dataset\n",
    "  for i in range(len(data)):\n",
    "    vec2=data[i]['input']\n",
    "    \n",
    "    # Add the distance and the index\n",
    "    distancelist.append((euclidean(vec1,vec2),i))\n",
    "  \n",
    "  # Sort by distance\n",
    "  distancelist.sort()\n",
    "  return distancelist\n",
    "\n",
    "#\n",
    "# The kNN function uses the list of distances and\n",
    "# averages the top k results\n",
    "#\n",
    "\n",
    "def knnestimate(data,vec1,k=5):\n",
    "  # Get sorted distances\n",
    "  dlist=getdistances(data,vec1)\n",
    "  avg=0.0\n",
    "  \n",
    "  # Take the average of the top k results\n",
    "  for i in range(k):\n",
    "    idx=dlist[i][1]\n",
    "    avg+=data[idx]['result']\n",
    "  avg=avg/k\n",
    "  return avg"
   ]
  },
  {
   "cell_type": "code",
   "execution_count": null,
   "id": "b71b9018-6644-4b1d-bd5e-07a00b4715a1",
   "metadata": {},
   "outputs": [],
   "source": []
  },
  {
   "cell_type": "code",
   "execution_count": null,
   "id": "dc074043-560d-41b2-9cbb-3c87ec051529",
   "metadata": {},
   "outputs": [],
   "source": []
  }
 ],
 "metadata": {
  "kernelspec": {
   "display_name": "Python 3",
   "language": "python",
   "name": "python3"
  },
  "language_info": {
   "codemirror_mode": {
    "name": "ipython",
    "version": 3
   },
   "file_extension": ".py",
   "mimetype": "text/x-python",
   "name": "python",
   "nbconvert_exporter": "python",
   "pygments_lexer": "ipython3",
   "version": "3.8.8"
  }
 },
 "nbformat": 4,
 "nbformat_minor": 5
}
