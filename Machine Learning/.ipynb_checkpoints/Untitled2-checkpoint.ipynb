{
 "cells": [
  {
   "cell_type": "code",
   "execution_count": 1,
   "id": "26680087-dd69-448a-8220-0d68ee78692b",
   "metadata": {},
   "outputs": [],
   "source": [
    "import re #regular expression library\n",
    "import math"
   ]
  },
  {
   "cell_type": "code",
   "execution_count": 2,
   "id": "4e9bc6d0-7e44-4978-8767-a7615fa3550e",
   "metadata": {},
   "outputs": [],
   "source": [
    "def getwords(doc):\n",
    "  splitter=re.compile('\\W+') \n",
    "\n",
    "  # Split the words by non-alpha characters\n",
    "  # Exclude words with a length 2 character or less or\n",
    "  # greater than 20 (words longer the 20 letters are\n",
    "  # likely to be either errors in the splitting or\n",
    "  # so rare as to be useless for classifying\n",
    "  words = [s.lower() for s in splitter.split(doc) \n",
    "                if len(s)>2 and len(s)<20]\n",
    "  \n",
    "  # Return the unique set of words only\n",
    "  return dict([(w,1) for w in words])"
   ]
  },
  {
   "cell_type": "code",
   "execution_count": 3,
   "id": "161ad983-3a8f-4049-8a76-7c47c015613e",
   "metadata": {},
   "outputs": [
    {
     "data": {
      "text/plain": [
       "{'this': 1, 'test': 1, 'sentence': 1}"
      ]
     },
     "execution_count": 3,
     "metadata": {},
     "output_type": "execute_result"
    }
   ],
   "source": [
    "getwords('this is a test sentence')"
   ]
  },
  {
   "cell_type": "code",
   "execution_count": 4,
   "id": "d5b7a033-b660-48c9-952b-29a7cf7cad9f",
   "metadata": {},
   "outputs": [],
   "source": [
    "\n",
    "class classifier:\n",
    "  def __init__(self, getfeatures, filename=None):\n",
    "    # Counts of feature/category combinations\n",
    "    self.fc = {}\n",
    "    # Counts of documents in each category\n",
    "    self.cc = {}\n",
    "    self.getfeatures = getfeatures\n",
    "\n",
    "# The fc variable will store the counts for different features in\n",
    "# different classifications.\n",
    "# - For example:\n",
    "#   {'python': {'bad': 0, 'good': 6}, 'the': {'bad': 3, 'good': 3}}\n",
    "# This indicates that the word “the” has appeared in documents\n",
    "# classified as bad three times, and in documents that were\n",
    "# classified as good three times. The word “Python”\n",
    "# has only appeared in good documents.\n",
    "# \n",
    "# The cc variable is a dictionary of how many times every\n",
    "# classification has been used. This is needed for the probability\n",
    "# calculations that we’ll discuss shortly.\n",
    "# \n",
    "# The final instance variable, getfeatures, is the function that will\n",
    "# be used to extract the features from the items being classified\n",
    "# —in this example, it is the getwords function wejust defined.\n",
    "\n",
    "# \n",
    "# We also need helper methods to increment and get the counts of\n",
    "# the features\n",
    "# \n",
    "    \n",
    "  # Increase the count of a feature/category pair\n",
    "  def incf(self,f,cat):\n",
    "    self.fc.setdefault(f,{}) \n",
    "    self.fc[f].setdefault(cat,0)\n",
    "    self.fc[f][cat]+=1\n",
    "\n",
    "  # Increase the count of a category\n",
    "  def incc(self,cat):\n",
    "    self.cc.setdefault(cat,0)\n",
    "    self.cc[cat]+=1\n",
    "\n",
    "  # The number of times a feature has appeared in a category\n",
    "  def fcount(self,f,cat):\n",
    "    if f in self.fc and cat in self.fc[f]:\n",
    "      return float(self.fc[f][cat])\n",
    "    return 0.0\n",
    "\n",
    "  # The number of items in a category\n",
    "  def catcount(self,cat):\n",
    "    if cat in self.cc:\n",
    "      return float(self.cc[cat])\n",
    "    return 0\n",
    "\n",
    "  # The total number of items\n",
    "  def totalcount(self):\n",
    "    return sum(self.cc.values())\n",
    "\n",
    "  # The list of all categories\n",
    "  def categories(self):\n",
    "    return self.cc.keys()\n",
    "\n",
    "\n",
    "# The train method takes an item (a document in this case) and a\n",
    "# classification.\n",
    "# \n",
    "# It uses the getfeatures function of the class to break the item\n",
    "# into its separate features.\n",
    "# \n",
    "# It then calls incf to increase the counts for this classification\n",
    "# for every feature.\n",
    "# \n",
    "# Finally, it increases the total count for this classification:\n",
    "\n",
    "  def train(self,item,cat):\n",
    "    features=self.getfeatures(item)\n",
    "    # Increment the count for every feature with this category\n",
    "    for f in features:\n",
    "      self.incf(f,cat)\n",
    "    # Increment the count for this category\n",
    "    self.incc(cat)\n",
    "    \n",
    "  def fprob(self,f,cat):\n",
    "    if self.catcount(cat)==0: return 0\n",
    "    # The total number of times this feature appeared in this \n",
    "    # category divided by the total number of items in this category\n",
    "    return self.fcount(f,cat)/self.catcount(cat)\n"
   ]
  },
  {
   "cell_type": "code",
   "execution_count": 5,
   "id": "767baccf-d0e3-4f23-9d09-97caf4c60c7b",
   "metadata": {},
   "outputs": [],
   "source": [
    "cl = classifier(getwords)\n",
    "cl.train('the quick brown fox jumped over the lazy dog', 'good')"
   ]
  },
  {
   "cell_type": "code",
   "execution_count": 6,
   "id": "c874e6bb-ef12-44b3-9817-52ad6c74d899",
   "metadata": {},
   "outputs": [],
   "source": [
    " cl.train('make quick money in the online casino', 'bad')"
   ]
  },
  {
   "cell_type": "code",
   "execution_count": 7,
   "id": "7c894587-0ca8-4114-9b06-9c5cee01e768",
   "metadata": {},
   "outputs": [
    {
     "data": {
      "text/plain": [
       "1.0"
      ]
     },
     "execution_count": 7,
     "metadata": {},
     "output_type": "execute_result"
    }
   ],
   "source": [
    "cl.fcount('quick','good')"
   ]
  },
  {
   "cell_type": "code",
   "execution_count": 8,
   "id": "6476df93-dd1f-4d5e-907e-c6ebb76b574c",
   "metadata": {},
   "outputs": [
    {
     "data": {
      "text/plain": [
       "1.0"
      ]
     },
     "execution_count": 8,
     "metadata": {},
     "output_type": "execute_result"
    }
   ],
   "source": [
    "cl.fcount('quick','bad')"
   ]
  },
  {
   "cell_type": "code",
   "execution_count": 9,
   "id": "3deaff57-c7eb-4501-906c-210e2ed47e1b",
   "metadata": {},
   "outputs": [
    {
     "data": {
      "text/plain": [
       "0.0"
      ]
     },
     "execution_count": 9,
     "metadata": {},
     "output_type": "execute_result"
    }
   ],
   "source": [
    "cl.fcount('jumped','bad')"
   ]
  },
  {
   "cell_type": "code",
   "execution_count": 10,
   "id": "0ecf53ba-b129-4691-96ee-ece50f7e28b9",
   "metadata": {},
   "outputs": [],
   "source": [
    "cl.train('Nobody owns the water. The quick rabbit jumps fences buy pharmaceuticals now make quick money at the online casino the quick brown fox jumps','good')"
   ]
  },
  {
   "cell_type": "code",
   "execution_count": 48,
   "id": "5344b45a-44c7-4242-9959-69f5c6a05353",
   "metadata": {},
   "outputs": [
    {
     "data": {
      "text/plain": [
       "1.0"
      ]
     },
     "execution_count": 48,
     "metadata": {},
     "output_type": "execute_result"
    }
   ],
   "source": [
    "cl.fprob('quick','good')"
   ]
  },
  {
   "cell_type": "code",
   "execution_count": null,
   "id": "58eaae4b-9d62-440a-9158-6a120d6b4ff5",
   "metadata": {},
   "outputs": [],
   "source": []
  }
 ],
 "metadata": {
  "kernelspec": {
   "display_name": "Python 3",
   "language": "python",
   "name": "python3"
  },
  "language_info": {
   "codemirror_mode": {
    "name": "ipython",
    "version": 3
   },
   "file_extension": ".py",
   "mimetype": "text/x-python",
   "name": "python",
   "nbconvert_exporter": "python",
   "pygments_lexer": "ipython3",
   "version": "3.8.8"
  }
 },
 "nbformat": 4,
 "nbformat_minor": 5
}
