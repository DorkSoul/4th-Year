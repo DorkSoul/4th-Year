{
 "cells": [
  {
   "cell_type": "markdown",
   "metadata": {},
   "source": [
    "# 5.  Comparison"
   ]
  },
  {
   "cell_type": "markdown",
   "metadata": {},
   "source": [
    "# Part one:\n",
    "\n",
    " - Find a dataset with categorical and numeric data - e.g.:\n",
    "     - airports.csv \n",
    "     - movies.csv or\n",
    "     - vgsales.csv\n",
    " - Ensure that it is suitable for representing as a histogram and a box plot.\n",
    " - Generate:\n",
    "     - a histogram and a box plot.\n",
    "     - a bar chart comparing sets of values"
   ]
  },
  {
   "cell_type": "markdown",
   "metadata": {},
   "source": [
    "# Part Two:\n",
    " - Use a hierarchical dataset\n",
    "     - sample superstore (in Datasets folder),\n",
    "     - Pokemon data set \n",
    "         -install.packages(\"highcharter\")\n",
    "         - data(\"pokemon\", package = \"highcharter\")\n",
    "     - world population dataset (https://www.kaggle.com/datasets/iamsouravbanerjee/world-population-dataset)\n",
    " - make a treemap\n",
    "     - Decide on the hierarchy\n",
    "     - Reduce your dataset to just those COLUMNS!!!\n",
    "     - Summarise it to add a count of the number of rows for that combination\n",
    "     Make your treemap.  (if it's not visible, you can cut down on the rows).\n",
    "                "
   ]
  },
  {
   "cell_type": "markdown",
   "metadata": {},
   "source": [
    "# Part Three:\n",
    "Refer to the notes from week 4.\n",
    "- Enhance and evaluate one of your charts in terms of Gestalt"
   ]
  },
  {
   "cell_type": "code",
   "execution_count": null,
   "metadata": {},
   "outputs": [],
   "source": []
  }
 ],
 "metadata": {
  "kernelspec": {
   "display_name": "R",
   "language": "R",
   "name": "ir"
  },
  "language_info": {
   "codemirror_mode": "r",
   "file_extension": ".r",
   "mimetype": "text/x-r-source",
   "name": "R",
   "pygments_lexer": "r",
   "version": "4.2.2"
  }
 },
 "nbformat": 4,
 "nbformat_minor": 4
}
