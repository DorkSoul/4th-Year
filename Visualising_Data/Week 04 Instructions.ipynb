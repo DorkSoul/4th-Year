{
 "cells": [
  {
   "cell_type": "markdown",
   "metadata": {},
   "source": [
    "# Visualising time trends using animation and interactive streams"
   ]
  },
  {
   "cell_type": "markdown",
   "metadata": {},
   "source": [
    "### This week's exercise tests your abilities in the following:\n",
    "\n",
    " - Preparing your data for animation\n",
    " - Animating your charts\n",
    " - Making the chart more attractive and memorable.\n",
    "\n",
    " - Using stream charts interactively"
   ]
  },
  {
   "cell_type": "markdown",
   "metadata": {},
   "source": [
    "## 1. Preliminary work\n",
    " - Load your libraries.  You'll need tidyverse.  Others can be added later.\n",
    " - If there are libraries you like for aesthetics, add them too."
   ]
  },
  {
   "cell_type": "code",
   "execution_count": 1,
   "metadata": {},
   "outputs": [
    {
     "name": "stdout",
     "output_type": "stream",
     "text": [
      "package 'tweenr' successfully unpacked and MD5 sums checked\n"
     ]
    },
    {
     "name": "stderr",
     "output_type": "stream",
     "text": [
      "Warning message:\n",
      "\"cannot remove prior installation of package 'tweenr'\"\n",
      "Warning message in file.copy(savedcopy, lib, recursive = TRUE):\n",
      "\"problem copying C:\\Users\\lukeh\\anaconda3\\envs\\Visdata\\Lib\\R\\library\\00LOCK\\tweenr\\libs\\x64\\tweenr.dll to C:\\Users\\lukeh\\anaconda3\\envs\\Visdata\\Lib\\R\\library\\tweenr\\libs\\x64\\tweenr.dll: Permission denied\"\n",
      "Warning message:\n",
      "\"restored 'tweenr'\"\n"
     ]
    },
    {
     "name": "stdout",
     "output_type": "stream",
     "text": [
      "\n",
      "The downloaded binary packages are in\n",
      "\tC:\\Users\\lukeh\\AppData\\Local\\Temp\\RtmpsfTgBQ\\downloaded_packages\n"
     ]
    },
    {
     "name": "stderr",
     "output_type": "stream",
     "text": [
      "Loading required package: usethis\n",
      "\n",
      "Skipping install of 'gganimate' from a github remote, the SHA1 (7cd46dc2) has not changed since last install.\n",
      "  Use `force = TRUE` to force installation\n",
      "\n",
      "Skipping install of 'streamgraph' from a github remote, the SHA1 (76f7173e) has not changed since last install.\n",
      "  Use `force = TRUE` to force installation\n",
      "\n"
     ]
    }
   ],
   "source": [
    "install.packages(\"tweenr\")\n",
    "# install.packages(\"gganimate\")\n",
    "library(devtools)\n",
    "devtools::install_github(\"dgrtwo/gganimate\")\n",
    "devtools::install_github(\"hrbrmstr/streamgraph\")"
   ]
  },
  {
   "cell_type": "code",
   "execution_count": 2,
   "metadata": {},
   "outputs": [
    {
     "name": "stderr",
     "output_type": "stream",
     "text": [
      "-- \u001b[1mAttaching packages\u001b[22m --------------------------------------- tidyverse 1.3.2 --\n",
      "\u001b[32mv\u001b[39m \u001b[34mggplot2\u001b[39m 3.4.1      \u001b[32mv\u001b[39m \u001b[34mpurrr  \u001b[39m 1.0.1 \n",
      "\u001b[32mv\u001b[39m \u001b[34mtibble \u001b[39m 3.1.8      \u001b[32mv\u001b[39m \u001b[34mdplyr  \u001b[39m 1.0.10\n",
      "\u001b[32mv\u001b[39m \u001b[34mtidyr  \u001b[39m 1.3.0      \u001b[32mv\u001b[39m \u001b[34mstringr\u001b[39m 1.5.0 \n",
      "\u001b[32mv\u001b[39m \u001b[34mreadr  \u001b[39m 2.1.3      \u001b[32mv\u001b[39m \u001b[34mforcats\u001b[39m 0.5.2 \n",
      "-- \u001b[1mConflicts\u001b[22m ------------------------------------------ tidyverse_conflicts() --\n",
      "\u001b[31mx\u001b[39m \u001b[34mdplyr\u001b[39m::\u001b[32mfilter()\u001b[39m masks \u001b[34mstats\u001b[39m::filter()\n",
      "\u001b[31mx\u001b[39m \u001b[34mdplyr\u001b[39m::\u001b[32mlag()\u001b[39m    masks \u001b[34mstats\u001b[39m::lag()\n",
      "No renderer backend detected. gganimate will default to writing frames to separate files\n",
      "Consider installing:\n",
      "- the `gifski` package for gif output\n",
      "- the `av` package for video output\n",
      "and restarting the R session\n",
      "\n"
     ]
    }
   ],
   "source": [
    "library(tidyverse)\n",
    "library(gganimate)\n",
    "library(streamgraph)\n",
    "library(ggplot2)\n"
   ]
  },
  {
   "cell_type": "markdown",
   "metadata": {},
   "source": [
    "## 2. Source your data\n",
    "\n",
    "The Irish Weather monitoring service, Met Eireann, publishes data that has been collected at weather stations over the years.  The data recorded can be hourly, daily or monthly.  Let's focus on monthly data this time around.\n",
    "\n",
    " - Go to https://data.gov.ie/organization/meteireann.  In the search box, look for monthly data.  Pick a weather station, first checking that there is valid data there.  \n",
    " - Read the data into a dataframe.\n",
    " - Remember that some of the datasets start with comments (see sample code, week 3).\n",
    " - Make sure that the dataset you choose has month and year values (or dates, that you can convert to month and year) and that every row has a value for month and year."
   ]
  },
  {
   "cell_type": "code",
   "execution_count": 3,
   "metadata": {},
   "outputs": [
    {
     "data": {
      "text/html": [
       "<table class=\"dataframe\">\n",
       "<caption>A data.frame: 6 × 7</caption>\n",
       "<thead>\n",
       "\t<tr><th></th><th scope=col>year</th><th scope=col>month</th><th scope=col>ind</th><th scope=col>rain</th><th scope=col>gdf</th><th scope=col>rd</th><th scope=col>wd</th></tr>\n",
       "\t<tr><th></th><th scope=col>&lt;int&gt;</th><th scope=col>&lt;int&gt;</th><th scope=col>&lt;int&gt;</th><th scope=col>&lt;dbl&gt;</th><th scope=col>&lt;dbl&gt;</th><th scope=col>&lt;int&gt;</th><th scope=col>&lt;int&gt;</th></tr>\n",
       "</thead>\n",
       "<tbody>\n",
       "\t<tr><th scope=row>1</th><td>1956</td><td>1</td><td>8</td><td>NA</td><td>NA</td><td>NA</td><td>NA</td></tr>\n",
       "\t<tr><th scope=row>2</th><td>1956</td><td>2</td><td>8</td><td>NA</td><td>NA</td><td>NA</td><td>NA</td></tr>\n",
       "\t<tr><th scope=row>3</th><td>1956</td><td>3</td><td>8</td><td>NA</td><td>NA</td><td>NA</td><td>NA</td></tr>\n",
       "\t<tr><th scope=row>4</th><td>1956</td><td>4</td><td>8</td><td>NA</td><td>NA</td><td>NA</td><td>NA</td></tr>\n",
       "\t<tr><th scope=row>5</th><td>1956</td><td>5</td><td>8</td><td>NA</td><td>NA</td><td>NA</td><td>NA</td></tr>\n",
       "\t<tr><th scope=row>6</th><td>1956</td><td>6</td><td>8</td><td>NA</td><td>NA</td><td>NA</td><td>NA</td></tr>\n",
       "</tbody>\n",
       "</table>\n"
      ],
      "text/latex": [
       "A data.frame: 6 × 7\n",
       "\\begin{tabular}{r|lllllll}\n",
       "  & year & month & ind & rain & gdf & rd & wd\\\\\n",
       "  & <int> & <int> & <int> & <dbl> & <dbl> & <int> & <int>\\\\\n",
       "\\hline\n",
       "\t1 & 1956 & 1 & 8 & NA & NA & NA & NA\\\\\n",
       "\t2 & 1956 & 2 & 8 & NA & NA & NA & NA\\\\\n",
       "\t3 & 1956 & 3 & 8 & NA & NA & NA & NA\\\\\n",
       "\t4 & 1956 & 4 & 8 & NA & NA & NA & NA\\\\\n",
       "\t5 & 1956 & 5 & 8 & NA & NA & NA & NA\\\\\n",
       "\t6 & 1956 & 6 & 8 & NA & NA & NA & NA\\\\\n",
       "\\end{tabular}\n"
      ],
      "text/markdown": [
       "\n",
       "A data.frame: 6 × 7\n",
       "\n",
       "| <!--/--> | year &lt;int&gt; | month &lt;int&gt; | ind &lt;int&gt; | rain &lt;dbl&gt; | gdf &lt;dbl&gt; | rd &lt;int&gt; | wd &lt;int&gt; |\n",
       "|---|---|---|---|---|---|---|---|\n",
       "| 1 | 1956 | 1 | 8 | NA | NA | NA | NA |\n",
       "| 2 | 1956 | 2 | 8 | NA | NA | NA | NA |\n",
       "| 3 | 1956 | 3 | 8 | NA | NA | NA | NA |\n",
       "| 4 | 1956 | 4 | 8 | NA | NA | NA | NA |\n",
       "| 5 | 1956 | 5 | 8 | NA | NA | NA | NA |\n",
       "| 6 | 1956 | 6 | 8 | NA | NA | NA | NA |\n",
       "\n"
      ],
      "text/plain": [
       "  year month ind rain gdf rd wd\n",
       "1 1956 1     8   NA   NA  NA NA\n",
       "2 1956 2     8   NA   NA  NA NA\n",
       "3 1956 3     8   NA   NA  NA NA\n",
       "4 1956 4     8   NA   NA  NA NA\n",
       "5 1956 5     8   NA   NA  NA NA\n",
       "6 1956 6     8   NA   NA  NA NA"
      ]
     },
     "metadata": {},
     "output_type": "display_data"
    }
   ],
   "source": [
    "# Set the working directory to where the CSV file is located\n",
    "setwd(\"C:/Users/lukeh/Documents/College/4th-Year/Visualising_Data\")\n",
    "\n",
    "# Load the CSV file into a data frame\n",
    "data <- read.csv(\"mly2615.csv\")\n",
    "\n",
    "# View the first few rows of the data frame\n",
    "head(data)"
   ]
  },
  {
   "cell_type": "markdown",
   "metadata": {},
   "source": [
    "## 3. Check out your data:\n",
    " - What is the structure? (str)\n",
    " - Check the summary - what is the range of each value?  Are there many NAs?\n",
    " - How many unique values are there for each variable?\n",
    "     - df %>% summarise_all(n_distinct)\n",
    " - Is there any column that only has a few values, so could be used for small multiples or stacking?\n",
    " - Are there columns that have more or less the same range of values?  Maybe that could be pivoted and used for stacking?\n",
    " - Is there any column you could use to change the size in a point chart?"
   ]
  },
  {
   "cell_type": "code",
   "execution_count": 4,
   "metadata": {},
   "outputs": [
    {
     "name": "stdout",
     "output_type": "stream",
     "text": [
      "'data.frame':\t627 obs. of  7 variables:\n",
      " $ year : int  1956 1956 1956 1956 1956 1956 1956 1956 1956 1956 ...\n",
      " $ month: int  1 2 3 4 5 6 7 8 9 10 ...\n",
      " $ ind  : int  8 8 8 8 8 8 8 8 8 8 ...\n",
      " $ rain : num  NA NA NA NA NA NA NA NA NA NA ...\n",
      " $ gdf  : num  NA NA NA NA NA NA NA NA NA NA ...\n",
      " $ rd   : int  NA NA NA NA NA NA NA NA NA NA ...\n",
      " $ wd   : int  NA NA NA NA NA NA NA NA NA NA ...\n"
     ]
    }
   ],
   "source": [
    "str(data)"
   ]
  },
  {
   "cell_type": "code",
   "execution_count": 5,
   "metadata": {},
   "outputs": [
    {
     "data": {
      "text/html": [
       "<table class=\"dataframe\">\n",
       "<caption>A data.frame: 1 × 7</caption>\n",
       "<thead>\n",
       "\t<tr><th scope=col>year</th><th scope=col>month</th><th scope=col>ind</th><th scope=col>rain</th><th scope=col>gdf</th><th scope=col>rd</th><th scope=col>wd</th></tr>\n",
       "\t<tr><th scope=col>&lt;int&gt;</th><th scope=col>&lt;int&gt;</th><th scope=col>&lt;int&gt;</th><th scope=col>&lt;int&gt;</th><th scope=col>&lt;int&gt;</th><th scope=col>&lt;int&gt;</th><th scope=col>&lt;int&gt;</th></tr>\n",
       "</thead>\n",
       "<tbody>\n",
       "\t<tr><td>53</td><td>12</td><td>3</td><td>502</td><td>289</td><td>28</td><td>26</td></tr>\n",
       "</tbody>\n",
       "</table>\n"
      ],
      "text/latex": [
       "A data.frame: 1 × 7\n",
       "\\begin{tabular}{lllllll}\n",
       " year & month & ind & rain & gdf & rd & wd\\\\\n",
       " <int> & <int> & <int> & <int> & <int> & <int> & <int>\\\\\n",
       "\\hline\n",
       "\t 53 & 12 & 3 & 502 & 289 & 28 & 26\\\\\n",
       "\\end{tabular}\n"
      ],
      "text/markdown": [
       "\n",
       "A data.frame: 1 × 7\n",
       "\n",
       "| year &lt;int&gt; | month &lt;int&gt; | ind &lt;int&gt; | rain &lt;int&gt; | gdf &lt;int&gt; | rd &lt;int&gt; | wd &lt;int&gt; |\n",
       "|---|---|---|---|---|---|---|\n",
       "| 53 | 12 | 3 | 502 | 289 | 28 | 26 |\n",
       "\n"
      ],
      "text/plain": [
       "  year month ind rain gdf rd wd\n",
       "1 53   12    3   502  289 28 26"
      ]
     },
     "metadata": {},
     "output_type": "display_data"
    }
   ],
   "source": [
    "data %>% summarise_all(n_distinct)"
   ]
  },
  {
   "cell_type": "markdown",
   "metadata": {},
   "source": [
    "## 4. Start charting\n",
    "- If you need to summarise, to get one row per month, do that now.\n",
    "- Do a preliminary chart, limited to a single year. Keep it as simple as possible for the moment.  A geom_line chart is fine to start with, but to transition through time, it must be a geom_point chart.\n",
    "- For your second chart, add in colour and size parameters."
   ]
  },
  {
   "cell_type": "code",
   "execution_count": 6,
   "metadata": {},
   "outputs": [],
   "source": [
    "# Set the plot dimensions\n",
    "options(repr.plot.width=15, repr.plot.height=8)"
   ]
  },
  {
   "cell_type": "code",
   "execution_count": 7,
   "metadata": {},
   "outputs": [
    {
     "name": "stdout",
     "output_type": "stream",
     "text": [
      "   month   rain\n",
      "1      1 4883.6\n",
      "2      2 3548.9\n",
      "3      3 3442.3\n",
      "4      4 3008.3\n",
      "5      5 2903.3\n",
      "6      6 2673.6\n",
      "7      7 2734.9\n",
      "8      8 3516.8\n",
      "9      9 4010.2\n",
      "10    10 5180.7\n",
      "11    11 5169.6\n",
      "12    12 5084.6\n"
     ]
    }
   ],
   "source": [
    "# Aggregate the data by month to get the total rainfall\n",
    "summarized_data <- aggregate(rain ~ month, data, sum)\n",
    "\n",
    "# Print the summarized data\n",
    "print(summarized_data)"
   ]
  },
  {
   "cell_type": "code",
   "execution_count": 8,
   "metadata": {},
   "outputs": [
    {
     "data": {
      "image/png": "[encoded data removed]",
      "text/plain": [
       "plot without title"
      ]
     },
     "metadata": {
      "image/png": {
       "height": 480,
       "width": 900
      }
     },
     "output_type": "display_data"
    }
   ],
   "source": [
    "# Filter the data to include only observations from a single year\n",
    "year_data <- subset(data, year == 1960)\n",
    "\n",
    "# Create a line chart of the monthly rainfall with color and linewidth parameters\n",
    "ggplot(year_data, aes(x = month, y = rain, color = factor(month), group = 1)) + \n",
    "  geom_line(aes(linewidth = rain)) +\n",
    "  scale_color_discrete(name = \"Month\") +\n",
    "  labs(title = \"Monthly Rainfall in 1960\",\n",
    "       x = \"Month\",\n",
    "       y = \"Rainfall (mm)\")"
   ]
  },
  {
   "cell_type": "code",
   "execution_count": 9,
   "metadata": {},
   "outputs": [
    {
     "data": {
      "image/png": "[encoded data removed]",
      "text/plain": [
       "plot without title"
      ]
     },
     "metadata": {
      "image/png": {
       "height": 480,
       "width": 900
      }
     },
     "output_type": "display_data"
    }
   ],
   "source": [
    "# Filter the data to include only observations from 1960\n",
    "year_data <- subset(data, year == 1960)\n",
    "\n",
    "# Create a point chart of the monthly rainfall with color and size parameters\n",
    "ggplot(year_data, aes(x = month, y = rain, color = factor(month), size = rain)) +\n",
    "  geom_point() +\n",
    "  scale_color_discrete(name = \"Month\") +\n",
    "  labs(title = \"Monthly Rainfall in 1960\",\n",
    "       x = \"Month\",\n",
    "       y = \"Rainfall (mm)\")"
   ]
  },
  {
   "cell_type": "code",
   "execution_count": 10,
   "metadata": {},
   "outputs": [
    {
     "data": {
      "text/html": [
       "<table class=\"dataframe\">\n",
       "<caption>A data.frame: 6 × 7</caption>\n",
       "<thead>\n",
       "\t<tr><th></th><th scope=col>year</th><th scope=col>month</th><th scope=col>ind</th><th scope=col>rain</th><th scope=col>gdf</th><th scope=col>rd</th><th scope=col>wd</th></tr>\n",
       "\t<tr><th></th><th scope=col>&lt;int&gt;</th><th scope=col>&lt;chr&gt;</th><th scope=col>&lt;int&gt;</th><th scope=col>&lt;dbl&gt;</th><th scope=col>&lt;dbl&gt;</th><th scope=col>&lt;int&gt;</th><th scope=col>&lt;int&gt;</th></tr>\n",
       "</thead>\n",
       "<tbody>\n",
       "\t<tr><th scope=row>1</th><td>1956</td><td>January </td><td>8</td><td>NA</td><td>NA</td><td>NA</td><td>NA</td></tr>\n",
       "\t<tr><th scope=row>2</th><td>1956</td><td>February</td><td>8</td><td>NA</td><td>NA</td><td>NA</td><td>NA</td></tr>\n",
       "\t<tr><th scope=row>3</th><td>1956</td><td>March   </td><td>8</td><td>NA</td><td>NA</td><td>NA</td><td>NA</td></tr>\n",
       "\t<tr><th scope=row>4</th><td>1956</td><td>April   </td><td>8</td><td>NA</td><td>NA</td><td>NA</td><td>NA</td></tr>\n",
       "\t<tr><th scope=row>5</th><td>1956</td><td>May     </td><td>8</td><td>NA</td><td>NA</td><td>NA</td><td>NA</td></tr>\n",
       "\t<tr><th scope=row>6</th><td>1956</td><td>June    </td><td>8</td><td>NA</td><td>NA</td><td>NA</td><td>NA</td></tr>\n",
       "</tbody>\n",
       "</table>\n"
      ],
      "text/latex": [
       "A data.frame: 6 × 7\n",
       "\\begin{tabular}{r|lllllll}\n",
       "  & year & month & ind & rain & gdf & rd & wd\\\\\n",
       "  & <int> & <chr> & <int> & <dbl> & <dbl> & <int> & <int>\\\\\n",
       "\\hline\n",
       "\t1 & 1956 & January  & 8 & NA & NA & NA & NA\\\\\n",
       "\t2 & 1956 & February & 8 & NA & NA & NA & NA\\\\\n",
       "\t3 & 1956 & March    & 8 & NA & NA & NA & NA\\\\\n",
       "\t4 & 1956 & April    & 8 & NA & NA & NA & NA\\\\\n",
       "\t5 & 1956 & May      & 8 & NA & NA & NA & NA\\\\\n",
       "\t6 & 1956 & June     & 8 & NA & NA & NA & NA\\\\\n",
       "\\end{tabular}\n"
      ],
      "text/markdown": [
       "\n",
       "A data.frame: 6 × 7\n",
       "\n",
       "| <!--/--> | year &lt;int&gt; | month &lt;chr&gt; | ind &lt;int&gt; | rain &lt;dbl&gt; | gdf &lt;dbl&gt; | rd &lt;int&gt; | wd &lt;int&gt; |\n",
       "|---|---|---|---|---|---|---|---|\n",
       "| 1 | 1956 | January  | 8 | NA | NA | NA | NA |\n",
       "| 2 | 1956 | February | 8 | NA | NA | NA | NA |\n",
       "| 3 | 1956 | March    | 8 | NA | NA | NA | NA |\n",
       "| 4 | 1956 | April    | 8 | NA | NA | NA | NA |\n",
       "| 5 | 1956 | May      | 8 | NA | NA | NA | NA |\n",
       "| 6 | 1956 | June     | 8 | NA | NA | NA | NA |\n",
       "\n"
      ],
      "text/plain": [
       "  year month    ind rain gdf rd wd\n",
       "1 1956 January  8   NA   NA  NA NA\n",
       "2 1956 February 8   NA   NA  NA NA\n",
       "3 1956 March    8   NA   NA  NA NA\n",
       "4 1956 April    8   NA   NA  NA NA\n",
       "5 1956 May      8   NA   NA  NA NA\n",
       "6 1956 June     8   NA   NA  NA NA"
      ]
     },
     "metadata": {},
     "output_type": "display_data"
    }
   ],
   "source": [
    "# Convert the month column to month names\n",
    "data_edited <- data %>%\n",
    "  mutate(month = month.name[month])\n",
    "\n",
    "head(data_edited)"
   ]
  },
  {
   "cell_type": "code",
   "execution_count": 11,
   "metadata": {},
   "outputs": [
    {
     "data": {
      "image/png": "[encoded data removed]",
      "text/plain": [
       "plot without title"
      ]
     },
     "metadata": {
      "image/png": {
       "height": 480,
       "width": 900
      }
     },
     "output_type": "display_data"
    }
   ],
   "source": [
    "# Filter the data to include only observations from 1960\n",
    "year_data <- subset(data_edited, year == 1960)\n",
    "\n",
    "# Create a point chart of the monthly rainfall with color and size parameters and apply the theme\n",
    "ggplot(year_data, aes(x = month, y = rain, color = factor(month), size = rain)) +\n",
    "  geom_point() +\n",
    "  scale_color_discrete(name = \"Month\") +\n",
    "  labs(title = \"Monthly Rainfall in 1960\",\n",
    "       x = \"Month\",\n",
    "       y = \"Rainfall (mm)\") +\n",
    "  theme_minimal()"
   ]
  },
  {
   "cell_type": "markdown",
   "metadata": {},
   "source": [
    "## 5. When you are happy with your geom_point() chart, animate it.\n",
    "- Load gganimate.  If you haven't already installed it, do that first, then comment out the install and just load it using library().\n",
    "- Copy the cell from your last successful point chart.  This time, don't limit the dataset to a year, but use the year column to animate the chart.  If you are animating by a column named YR:\n",
    "- Add   transition_time(YR)  term\n",
    "- Make sure the title or subtitle includes Year: {frame_time}\n",
    "- Save the latest animation, using anim_save (see sample code, week 4), giving the file a name (e.g. week4.gif)\n",
    "- display the gif using - display_gif(\"week4.gif\")"
   ]
  },
  {
   "cell_type": "code",
   "execution_count": 18,
   "metadata": {},
   "outputs": [
    {
     "name": "stderr",
     "output_type": "stream",
     "text": [
      "Warning message:\n",
      "\"file_renderer failed to copy frames to the destination directory\"\n"
     ]
    },
    {
     "data": {
      "text/html": [
       "<style>\n",
       ".list-inline {list-style: none; margin:0; padding: 0}\n",
       ".list-inline>li {display: inline-block}\n",
       ".list-inline>li:not(:last-child)::after {content: \"\\00b7\"; padding: 0 .5ex}\n",
       "</style>\n",
       "<ol class=list-inline><li>'./gganim_plot0001.png'</li><li>'./gganim_plot0002.png'</li><li>'./gganim_plot0003.png'</li><li>'./gganim_plot0004.png'</li><li>'./gganim_plot0005.png'</li><li>'./gganim_plot0006.png'</li><li>'./gganim_plot0007.png'</li><li>'./gganim_plot0008.png'</li><li>'./gganim_plot0009.png'</li><li>'./gganim_plot0010.png'</li><li>'./gganim_plot0011.png'</li><li>'./gganim_plot0012.png'</li><li>'./gganim_plot0013.png'</li><li>'./gganim_plot0014.png'</li><li>'./gganim_plot0015.png'</li><li>'./gganim_plot0016.png'</li><li>'./gganim_plot0017.png'</li><li>'./gganim_plot0018.png'</li><li>'./gganim_plot0019.png'</li><li>'./gganim_plot0020.png'</li><li>'./gganim_plot0021.png'</li><li>'./gganim_plot0022.png'</li><li>'./gganim_plot0023.png'</li><li>'./gganim_plot0024.png'</li><li>'./gganim_plot0025.png'</li><li>'./gganim_plot0026.png'</li><li>'./gganim_plot0027.png'</li><li>'./gganim_plot0028.png'</li><li>'./gganim_plot0029.png'</li><li>'./gganim_plot0030.png'</li><li>'./gganim_plot0031.png'</li><li>'./gganim_plot0032.png'</li><li>'./gganim_plot0033.png'</li><li>'./gganim_plot0034.png'</li><li>'./gganim_plot0035.png'</li><li>'./gganim_plot0036.png'</li><li>'./gganim_plot0037.png'</li><li>'./gganim_plot0038.png'</li><li>'./gganim_plot0039.png'</li><li>'./gganim_plot0040.png'</li><li>'./gganim_plot0041.png'</li><li>'./gganim_plot0042.png'</li><li>'./gganim_plot0043.png'</li><li>'./gganim_plot0044.png'</li><li>'./gganim_plot0045.png'</li><li>'./gganim_plot0046.png'</li><li>'./gganim_plot0047.png'</li><li>'./gganim_plot0048.png'</li><li>'./gganim_plot0049.png'</li><li>'./gganim_plot0050.png'</li><li>'./gganim_plot0051.png'</li><li>'./gganim_plot0052.png'</li><li>'./gganim_plot0053.png'</li><li>'./gganim_plot0054.png'</li><li>'./gganim_plot0055.png'</li><li>'./gganim_plot0056.png'</li><li>'./gganim_plot0057.png'</li><li>'./gganim_plot0058.png'</li><li>'./gganim_plot0059.png'</li><li>'./gganim_plot0060.png'</li><li>'./gganim_plot0061.png'</li><li>'./gganim_plot0062.png'</li><li>'./gganim_plot0063.png'</li><li>'./gganim_plot0064.png'</li><li>'./gganim_plot0065.png'</li><li>'./gganim_plot0066.png'</li><li>'./gganim_plot0067.png'</li><li>'./gganim_plot0068.png'</li><li>'./gganim_plot0069.png'</li><li>'./gganim_plot0070.png'</li><li>'./gganim_plot0071.png'</li><li>'./gganim_plot0072.png'</li><li>'./gganim_plot0073.png'</li><li>'./gganim_plot0074.png'</li><li>'./gganim_plot0075.png'</li><li>'./gganim_plot0076.png'</li><li>'./gganim_plot0077.png'</li><li>'./gganim_plot0078.png'</li><li>'./gganim_plot0079.png'</li><li>'./gganim_plot0080.png'</li><li>'./gganim_plot0081.png'</li><li>'./gganim_plot0082.png'</li><li>'./gganim_plot0083.png'</li><li>'./gganim_plot0084.png'</li><li>'./gganim_plot0085.png'</li><li>'./gganim_plot0086.png'</li><li>'./gganim_plot0087.png'</li><li>'./gganim_plot0088.png'</li><li>'./gganim_plot0089.png'</li><li>'./gganim_plot0090.png'</li><li>'./gganim_plot0091.png'</li><li>'./gganim_plot0092.png'</li><li>'./gganim_plot0093.png'</li><li>'./gganim_plot0094.png'</li><li>'./gganim_plot0095.png'</li><li>'./gganim_plot0096.png'</li><li>'./gganim_plot0097.png'</li><li>'./gganim_plot0098.png'</li><li>'./gganim_plot0099.png'</li><li>'./gganim_plot0100.png'</li></ol>\n"
      ],
      "text/latex": [
       "\\begin{enumerate*}\n",
       "\\item './gganim\\_plot0001.png'\n",
       "\\item './gganim\\_plot0002.png'\n",
       "\\item './gganim\\_plot0003.png'\n",
       "\\item './gganim\\_plot0004.png'\n",
       "\\item './gganim\\_plot0005.png'\n",
       "\\item './gganim\\_plot0006.png'\n",
       "\\item './gganim\\_plot0007.png'\n",
       "\\item './gganim\\_plot0008.png'\n",
       "\\item './gganim\\_plot0009.png'\n",
       "\\item './gganim\\_plot0010.png'\n",
       "\\item './gganim\\_plot0011.png'\n",
       "\\item './gganim\\_plot0012.png'\n",
       "\\item './gganim\\_plot0013.png'\n",
       "\\item './gganim\\_plot0014.png'\n",
       "\\item './gganim\\_plot0015.png'\n",
       "\\item './gganim\\_plot0016.png'\n",
       "\\item './gganim\\_plot0017.png'\n",
       "\\item './gganim\\_plot0018.png'\n",
       "\\item './gganim\\_plot0019.png'\n",
       "\\item './gganim\\_plot0020.png'\n",
       "\\item './gganim\\_plot0021.png'\n",
       "\\item './gganim\\_plot0022.png'\n",
       "\\item './gganim\\_plot0023.png'\n",
       "\\item './gganim\\_plot0024.png'\n",
       "\\item './gganim\\_plot0025.png'\n",
       "\\item './gganim\\_plot0026.png'\n",
       "\\item './gganim\\_plot0027.png'\n",
       "\\item './gganim\\_plot0028.png'\n",
       "\\item './gganim\\_plot0029.png'\n",
       "\\item './gganim\\_plot0030.png'\n",
       "\\item './gganim\\_plot0031.png'\n",
       "\\item './gganim\\_plot0032.png'\n",
       "\\item './gganim\\_plot0033.png'\n",
       "\\item './gganim\\_plot0034.png'\n",
       "\\item './gganim\\_plot0035.png'\n",
       "\\item './gganim\\_plot0036.png'\n",
       "\\item './gganim\\_plot0037.png'\n",
       "\\item './gganim\\_plot0038.png'\n",
       "\\item './gganim\\_plot0039.png'\n",
       "\\item './gganim\\_plot0040.png'\n",
       "\\item './gganim\\_plot0041.png'\n",
       "\\item './gganim\\_plot0042.png'\n",
       "\\item './gganim\\_plot0043.png'\n",
       "\\item './gganim\\_plot0044.png'\n",
       "\\item './gganim\\_plot0045.png'\n",
       "\\item './gganim\\_plot0046.png'\n",
       "\\item './gganim\\_plot0047.png'\n",
       "\\item './gganim\\_plot0048.png'\n",
       "\\item './gganim\\_plot0049.png'\n",
       "\\item './gganim\\_plot0050.png'\n",
       "\\item './gganim\\_plot0051.png'\n",
       "\\item './gganim\\_plot0052.png'\n",
       "\\item './gganim\\_plot0053.png'\n",
       "\\item './gganim\\_plot0054.png'\n",
       "\\item './gganim\\_plot0055.png'\n",
       "\\item './gganim\\_plot0056.png'\n",
       "\\item './gganim\\_plot0057.png'\n",
       "\\item './gganim\\_plot0058.png'\n",
       "\\item './gganim\\_plot0059.png'\n",
       "\\item './gganim\\_plot0060.png'\n",
       "\\item './gganim\\_plot0061.png'\n",
       "\\item './gganim\\_plot0062.png'\n",
       "\\item './gganim\\_plot0063.png'\n",
       "\\item './gganim\\_plot0064.png'\n",
       "\\item './gganim\\_plot0065.png'\n",
       "\\item './gganim\\_plot0066.png'\n",
       "\\item './gganim\\_plot0067.png'\n",
       "\\item './gganim\\_plot0068.png'\n",
       "\\item './gganim\\_plot0069.png'\n",
       "\\item './gganim\\_plot0070.png'\n",
       "\\item './gganim\\_plot0071.png'\n",
       "\\item './gganim\\_plot0072.png'\n",
       "\\item './gganim\\_plot0073.png'\n",
       "\\item './gganim\\_plot0074.png'\n",
       "\\item './gganim\\_plot0075.png'\n",
       "\\item './gganim\\_plot0076.png'\n",
       "\\item './gganim\\_plot0077.png'\n",
       "\\item './gganim\\_plot0078.png'\n",
       "\\item './gganim\\_plot0079.png'\n",
       "\\item './gganim\\_plot0080.png'\n",
       "\\item './gganim\\_plot0081.png'\n",
       "\\item './gganim\\_plot0082.png'\n",
       "\\item './gganim\\_plot0083.png'\n",
       "\\item './gganim\\_plot0084.png'\n",
       "\\item './gganim\\_plot0085.png'\n",
       "\\item './gganim\\_plot0086.png'\n",
       "\\item './gganim\\_plot0087.png'\n",
       "\\item './gganim\\_plot0088.png'\n",
       "\\item './gganim\\_plot0089.png'\n",
       "\\item './gganim\\_plot0090.png'\n",
       "\\item './gganim\\_plot0091.png'\n",
       "\\item './gganim\\_plot0092.png'\n",
       "\\item './gganim\\_plot0093.png'\n",
       "\\item './gganim\\_plot0094.png'\n",
       "\\item './gganim\\_plot0095.png'\n",
       "\\item './gganim\\_plot0096.png'\n",
       "\\item './gganim\\_plot0097.png'\n",
       "\\item './gganim\\_plot0098.png'\n",
       "\\item './gganim\\_plot0099.png'\n",
       "\\item './gganim\\_plot0100.png'\n",
       "\\end{enumerate*}\n"
      ],
      "text/markdown": [
       "1. './gganim_plot0001.png'\n",
       "2. './gganim_plot0002.png'\n",
       "3. './gganim_plot0003.png'\n",
       "4. './gganim_plot0004.png'\n",
       "5. './gganim_plot0005.png'\n",
       "6. './gganim_plot0006.png'\n",
       "7. './gganim_plot0007.png'\n",
       "8. './gganim_plot0008.png'\n",
       "9. './gganim_plot0009.png'\n",
       "10. './gganim_plot0010.png'\n",
       "11. './gganim_plot0011.png'\n",
       "12. './gganim_plot0012.png'\n",
       "13. './gganim_plot0013.png'\n",
       "14. './gganim_plot0014.png'\n",
       "15. './gganim_plot0015.png'\n",
       "16. './gganim_plot0016.png'\n",
       "17. './gganim_plot0017.png'\n",
       "18. './gganim_plot0018.png'\n",
       "19. './gganim_plot0019.png'\n",
       "20. './gganim_plot0020.png'\n",
       "21. './gganim_plot0021.png'\n",
       "22. './gganim_plot0022.png'\n",
       "23. './gganim_plot0023.png'\n",
       "24. './gganim_plot0024.png'\n",
       "25. './gganim_plot0025.png'\n",
       "26. './gganim_plot0026.png'\n",
       "27. './gganim_plot0027.png'\n",
       "28. './gganim_plot0028.png'\n",
       "29. './gganim_plot0029.png'\n",
       "30. './gganim_plot0030.png'\n",
       "31. './gganim_plot0031.png'\n",
       "32. './gganim_plot0032.png'\n",
       "33. './gganim_plot0033.png'\n",
       "34. './gganim_plot0034.png'\n",
       "35. './gganim_plot0035.png'\n",
       "36. './gganim_plot0036.png'\n",
       "37. './gganim_plot0037.png'\n",
       "38. './gganim_plot0038.png'\n",
       "39. './gganim_plot0039.png'\n",
       "40. './gganim_plot0040.png'\n",
       "41. './gganim_plot0041.png'\n",
       "42. './gganim_plot0042.png'\n",
       "43. './gganim_plot0043.png'\n",
       "44. './gganim_plot0044.png'\n",
       "45. './gganim_plot0045.png'\n",
       "46. './gganim_plot0046.png'\n",
       "47. './gganim_plot0047.png'\n",
       "48. './gganim_plot0048.png'\n",
       "49. './gganim_plot0049.png'\n",
       "50. './gganim_plot0050.png'\n",
       "51. './gganim_plot0051.png'\n",
       "52. './gganim_plot0052.png'\n",
       "53. './gganim_plot0053.png'\n",
       "54. './gganim_plot0054.png'\n",
       "55. './gganim_plot0055.png'\n",
       "56. './gganim_plot0056.png'\n",
       "57. './gganim_plot0057.png'\n",
       "58. './gganim_plot0058.png'\n",
       "59. './gganim_plot0059.png'\n",
       "60. './gganim_plot0060.png'\n",
       "61. './gganim_plot0061.png'\n",
       "62. './gganim_plot0062.png'\n",
       "63. './gganim_plot0063.png'\n",
       "64. './gganim_plot0064.png'\n",
       "65. './gganim_plot0065.png'\n",
       "66. './gganim_plot0066.png'\n",
       "67. './gganim_plot0067.png'\n",
       "68. './gganim_plot0068.png'\n",
       "69. './gganim_plot0069.png'\n",
       "70. './gganim_plot0070.png'\n",
       "71. './gganim_plot0071.png'\n",
       "72. './gganim_plot0072.png'\n",
       "73. './gganim_plot0073.png'\n",
       "74. './gganim_plot0074.png'\n",
       "75. './gganim_plot0075.png'\n",
       "76. './gganim_plot0076.png'\n",
       "77. './gganim_plot0077.png'\n",
       "78. './gganim_plot0078.png'\n",
       "79. './gganim_plot0079.png'\n",
       "80. './gganim_plot0080.png'\n",
       "81. './gganim_plot0081.png'\n",
       "82. './gganim_plot0082.png'\n",
       "83. './gganim_plot0083.png'\n",
       "84. './gganim_plot0084.png'\n",
       "85. './gganim_plot0085.png'\n",
       "86. './gganim_plot0086.png'\n",
       "87. './gganim_plot0087.png'\n",
       "88. './gganim_plot0088.png'\n",
       "89. './gganim_plot0089.png'\n",
       "90. './gganim_plot0090.png'\n",
       "91. './gganim_plot0091.png'\n",
       "92. './gganim_plot0092.png'\n",
       "93. './gganim_plot0093.png'\n",
       "94. './gganim_plot0094.png'\n",
       "95. './gganim_plot0095.png'\n",
       "96. './gganim_plot0096.png'\n",
       "97. './gganim_plot0097.png'\n",
       "98. './gganim_plot0098.png'\n",
       "99. './gganim_plot0099.png'\n",
       "100. './gganim_plot0100.png'\n",
       "\n",
       "\n"
      ],
      "text/plain": [
       "  [1] \"./gganim_plot0001.png\" \"./gganim_plot0002.png\" \"./gganim_plot0003.png\"\n",
       "  [4] \"./gganim_plot0004.png\" \"./gganim_plot0005.png\" \"./gganim_plot0006.png\"\n",
       "  [7] \"./gganim_plot0007.png\" \"./gganim_plot0008.png\" \"./gganim_plot0009.png\"\n",
       " [10] \"./gganim_plot0010.png\" \"./gganim_plot0011.png\" \"./gganim_plot0012.png\"\n",
       " [13] \"./gganim_plot0013.png\" \"./gganim_plot0014.png\" \"./gganim_plot0015.png\"\n",
       " [16] \"./gganim_plot0016.png\" \"./gganim_plot0017.png\" \"./gganim_plot0018.png\"\n",
       " [19] \"./gganim_plot0019.png\" \"./gganim_plot0020.png\" \"./gganim_plot0021.png\"\n",
       " [22] \"./gganim_plot0022.png\" \"./gganim_plot0023.png\" \"./gganim_plot0024.png\"\n",
       " [25] \"./gganim_plot0025.png\" \"./gganim_plot0026.png\" \"./gganim_plot0027.png\"\n",
       " [28] \"./gganim_plot0028.png\" \"./gganim_plot0029.png\" \"./gganim_plot0030.png\"\n",
       " [31] \"./gganim_plot0031.png\" \"./gganim_plot0032.png\" \"./gganim_plot0033.png\"\n",
       " [34] \"./gganim_plot0034.png\" \"./gganim_plot0035.png\" \"./gganim_plot0036.png\"\n",
       " [37] \"./gganim_plot0037.png\" \"./gganim_plot0038.png\" \"./gganim_plot0039.png\"\n",
       " [40] \"./gganim_plot0040.png\" \"./gganim_plot0041.png\" \"./gganim_plot0042.png\"\n",
       " [43] \"./gganim_plot0043.png\" \"./gganim_plot0044.png\" \"./gganim_plot0045.png\"\n",
       " [46] \"./gganim_plot0046.png\" \"./gganim_plot0047.png\" \"./gganim_plot0048.png\"\n",
       " [49] \"./gganim_plot0049.png\" \"./gganim_plot0050.png\" \"./gganim_plot0051.png\"\n",
       " [52] \"./gganim_plot0052.png\" \"./gganim_plot0053.png\" \"./gganim_plot0054.png\"\n",
       " [55] \"./gganim_plot0055.png\" \"./gganim_plot0056.png\" \"./gganim_plot0057.png\"\n",
       " [58] \"./gganim_plot0058.png\" \"./gganim_plot0059.png\" \"./gganim_plot0060.png\"\n",
       " [61] \"./gganim_plot0061.png\" \"./gganim_plot0062.png\" \"./gganim_plot0063.png\"\n",
       " [64] \"./gganim_plot0064.png\" \"./gganim_plot0065.png\" \"./gganim_plot0066.png\"\n",
       " [67] \"./gganim_plot0067.png\" \"./gganim_plot0068.png\" \"./gganim_plot0069.png\"\n",
       " [70] \"./gganim_plot0070.png\" \"./gganim_plot0071.png\" \"./gganim_plot0072.png\"\n",
       " [73] \"./gganim_plot0073.png\" \"./gganim_plot0074.png\" \"./gganim_plot0075.png\"\n",
       " [76] \"./gganim_plot0076.png\" \"./gganim_plot0077.png\" \"./gganim_plot0078.png\"\n",
       " [79] \"./gganim_plot0079.png\" \"./gganim_plot0080.png\" \"./gganim_plot0081.png\"\n",
       " [82] \"./gganim_plot0082.png\" \"./gganim_plot0083.png\" \"./gganim_plot0084.png\"\n",
       " [85] \"./gganim_plot0085.png\" \"./gganim_plot0086.png\" \"./gganim_plot0087.png\"\n",
       " [88] \"./gganim_plot0088.png\" \"./gganim_plot0089.png\" \"./gganim_plot0090.png\"\n",
       " [91] \"./gganim_plot0091.png\" \"./gganim_plot0092.png\" \"./gganim_plot0093.png\"\n",
       " [94] \"./gganim_plot0094.png\" \"./gganim_plot0095.png\" \"./gganim_plot0096.png\"\n",
       " [97] \"./gganim_plot0097.png\" \"./gganim_plot0098.png\" \"./gganim_plot0099.png\"\n",
       "[100] \"./gganim_plot0100.png\"\n",
       "attr(,\"frame_vars\")\n",
       "    frame nframes progress frame_time\n",
       "1       1     100     0.01       1956\n",
       "2       2     100     0.02       1957\n",
       "3       3     100     0.03       1957\n",
       "4       4     100     0.04       1958\n",
       "5       5     100     0.05       1958\n",
       "6       6     100     0.06       1959\n",
       "7       7     100     0.07       1959\n",
       "8       8     100     0.08       1960\n",
       "9       9     100     0.09       1960\n",
       "10     10     100     0.10       1961\n",
       "11     11     100     0.11       1961\n",
       "12     12     100     0.12       1962\n",
       "13     13     100     0.13       1962\n",
       "14     14     100     0.14       1963\n",
       "15     15     100     0.15       1963\n",
       "16     16     100     0.16       1964\n",
       "17     17     100     0.17       1964\n",
       "18     18     100     0.18       1965\n",
       "19     19     100     0.19       1965\n",
       "20     20     100     0.20       1966\n",
       "21     21     100     0.21       1967\n",
       "22     22     100     0.22       1967\n",
       "23     23     100     0.23       1968\n",
       "24     24     100     0.24       1968\n",
       "25     25     100     0.25       1969\n",
       "26     26     100     0.26       1969\n",
       "27     27     100     0.27       1970\n",
       "28     28     100     0.28       1970\n",
       "29     29     100     0.29       1971\n",
       "30     30     100     0.30       1971\n",
       "31     31     100     0.31       1972\n",
       "32     32     100     0.32       1972\n",
       "33     33     100     0.33       1973\n",
       "34     34     100     0.34       1973\n",
       "35     35     100     0.35       1974\n",
       "36     36     100     0.36       1974\n",
       "37     37     100     0.37       1975\n",
       "38     38     100     0.38       1975\n",
       "39     39     100     0.39       1976\n",
       "40     40     100     0.40       1976\n",
       "41     41     100     0.41       1977\n",
       "42     42     100     0.42       1978\n",
       "43     43     100     0.43       1978\n",
       "44     44     100     0.44       1979\n",
       "45     45     100     0.45       1979\n",
       "46     46     100     0.46       1980\n",
       "47     47     100     0.47       1980\n",
       "48     48     100     0.48       1981\n",
       "49     49     100     0.49       1981\n",
       "50     50     100     0.50       1982\n",
       "51     51     100     0.51       1982\n",
       "52     52     100     0.52       1983\n",
       "53     53     100     0.53       1983\n",
       "54     54     100     0.54       1984\n",
       "55     55     100     0.55       1984\n",
       "56     56     100     0.56       1985\n",
       "57     57     100     0.57       1985\n",
       "58     58     100     0.58       1986\n",
       "59     59     100     0.59       1986\n",
       "60     60     100     0.60       1987\n",
       "61     61     100     0.61       1988\n",
       "62     62     100     0.62       1988\n",
       "63     63     100     0.63       1989\n",
       "64     64     100     0.64       1989\n",
       "65     65     100     0.65       1990\n",
       "66     66     100     0.66       1990\n",
       "67     67     100     0.67       1991\n",
       "68     68     100     0.68       1991\n",
       "69     69     100     0.69       1992\n",
       "70     70     100     0.70       1992\n",
       "71     71     100     0.71       1993\n",
       "72     72     100     0.72       1993\n",
       "73     73     100     0.73       1994\n",
       "74     74     100     0.74       1994\n",
       "75     75     100     0.75       1995\n",
       "76     76     100     0.76       1995\n",
       "77     77     100     0.77       1996\n",
       "78     78     100     0.78       1996\n",
       "79     79     100     0.79       1997\n",
       "80     80     100     0.80       1997\n",
       "81     81     100     0.81       1998\n",
       "82     82     100     0.82       1999\n",
       "83     83     100     0.83       1999\n",
       "84     84     100     0.84       2000\n",
       "85     85     100     0.85       2000\n",
       "86     86     100     0.86       2001\n",
       "87     87     100     0.87       2001\n",
       "88     88     100     0.88       2002\n",
       "89     89     100     0.89       2002\n",
       "90     90     100     0.90       2003\n",
       "91     91     100     0.91       2003\n",
       "92     92     100     0.92       2004\n",
       "93     93     100     0.93       2004\n",
       "94     94     100     0.94       2005\n",
       "95     95     100     0.95       2005\n",
       "96     96     100     0.96       2006\n",
       "97     97     100     0.97       2006\n",
       "98     98     100     0.98       2007\n",
       "99     99     100     0.99       2007\n",
       "100   100     100     1.00       2008\n",
       "                                                                           frame_source\n",
       "1   C:\\\\Users\\\\lukeh\\\\AppData\\\\Local\\\\Temp\\\\RtmpsfTgBQ\\\\11bc5a7b8d8/gganim_plot0001.png\n",
       "2   C:\\\\Users\\\\lukeh\\\\AppData\\\\Local\\\\Temp\\\\RtmpsfTgBQ\\\\11bc5a7b8d8/gganim_plot0002.png\n",
       "3   C:\\\\Users\\\\lukeh\\\\AppData\\\\Local\\\\Temp\\\\RtmpsfTgBQ\\\\11bc5a7b8d8/gganim_plot0003.png\n",
       "4   C:\\\\Users\\\\lukeh\\\\AppData\\\\Local\\\\Temp\\\\RtmpsfTgBQ\\\\11bc5a7b8d8/gganim_plot0004.png\n",
       "5   C:\\\\Users\\\\lukeh\\\\AppData\\\\Local\\\\Temp\\\\RtmpsfTgBQ\\\\11bc5a7b8d8/gganim_plot0005.png\n",
       "6   C:\\\\Users\\\\lukeh\\\\AppData\\\\Local\\\\Temp\\\\RtmpsfTgBQ\\\\11bc5a7b8d8/gganim_plot0006.png\n",
       "7   C:\\\\Users\\\\lukeh\\\\AppData\\\\Local\\\\Temp\\\\RtmpsfTgBQ\\\\11bc5a7b8d8/gganim_plot0007.png\n",
       "8   C:\\\\Users\\\\lukeh\\\\AppData\\\\Local\\\\Temp\\\\RtmpsfTgBQ\\\\11bc5a7b8d8/gganim_plot0008.png\n",
       "9   C:\\\\Users\\\\lukeh\\\\AppData\\\\Local\\\\Temp\\\\RtmpsfTgBQ\\\\11bc5a7b8d8/gganim_plot0009.png\n",
       "10  C:\\\\Users\\\\lukeh\\\\AppData\\\\Local\\\\Temp\\\\RtmpsfTgBQ\\\\11bc5a7b8d8/gganim_plot0010.png\n",
       "11  C:\\\\Users\\\\lukeh\\\\AppData\\\\Local\\\\Temp\\\\RtmpsfTgBQ\\\\11bc5a7b8d8/gganim_plot0011.png\n",
       "12  C:\\\\Users\\\\lukeh\\\\AppData\\\\Local\\\\Temp\\\\RtmpsfTgBQ\\\\11bc5a7b8d8/gganim_plot0012.png\n",
       "13  C:\\\\Users\\\\lukeh\\\\AppData\\\\Local\\\\Temp\\\\RtmpsfTgBQ\\\\11bc5a7b8d8/gganim_plot0013.png\n",
       "14  C:\\\\Users\\\\lukeh\\\\AppData\\\\Local\\\\Temp\\\\RtmpsfTgBQ\\\\11bc5a7b8d8/gganim_plot0014.png\n",
       "15  C:\\\\Users\\\\lukeh\\\\AppData\\\\Local\\\\Temp\\\\RtmpsfTgBQ\\\\11bc5a7b8d8/gganim_plot0015.png\n",
       "16  C:\\\\Users\\\\lukeh\\\\AppData\\\\Local\\\\Temp\\\\RtmpsfTgBQ\\\\11bc5a7b8d8/gganim_plot0016.png\n",
       "17  C:\\\\Users\\\\lukeh\\\\AppData\\\\Local\\\\Temp\\\\RtmpsfTgBQ\\\\11bc5a7b8d8/gganim_plot0017.png\n",
       "18  C:\\\\Users\\\\lukeh\\\\AppData\\\\Local\\\\Temp\\\\RtmpsfTgBQ\\\\11bc5a7b8d8/gganim_plot0018.png\n",
       "19  C:\\\\Users\\\\lukeh\\\\AppData\\\\Local\\\\Temp\\\\RtmpsfTgBQ\\\\11bc5a7b8d8/gganim_plot0019.png\n",
       "20  C:\\\\Users\\\\lukeh\\\\AppData\\\\Local\\\\Temp\\\\RtmpsfTgBQ\\\\11bc5a7b8d8/gganim_plot0020.png\n",
       "21  C:\\\\Users\\\\lukeh\\\\AppData\\\\Local\\\\Temp\\\\RtmpsfTgBQ\\\\11bc5a7b8d8/gganim_plot0021.png\n",
       "22  C:\\\\Users\\\\lukeh\\\\AppData\\\\Local\\\\Temp\\\\RtmpsfTgBQ\\\\11bc5a7b8d8/gganim_plot0022.png\n",
       "23  C:\\\\Users\\\\lukeh\\\\AppData\\\\Local\\\\Temp\\\\RtmpsfTgBQ\\\\11bc5a7b8d8/gganim_plot0023.png\n",
       "24  C:\\\\Users\\\\lukeh\\\\AppData\\\\Local\\\\Temp\\\\RtmpsfTgBQ\\\\11bc5a7b8d8/gganim_plot0024.png\n",
       "25  C:\\\\Users\\\\lukeh\\\\AppData\\\\Local\\\\Temp\\\\RtmpsfTgBQ\\\\11bc5a7b8d8/gganim_plot0025.png\n",
       "26  C:\\\\Users\\\\lukeh\\\\AppData\\\\Local\\\\Temp\\\\RtmpsfTgBQ\\\\11bc5a7b8d8/gganim_plot0026.png\n",
       "27  C:\\\\Users\\\\lukeh\\\\AppData\\\\Local\\\\Temp\\\\RtmpsfTgBQ\\\\11bc5a7b8d8/gganim_plot0027.png\n",
       "28  C:\\\\Users\\\\lukeh\\\\AppData\\\\Local\\\\Temp\\\\RtmpsfTgBQ\\\\11bc5a7b8d8/gganim_plot0028.png\n",
       "29  C:\\\\Users\\\\lukeh\\\\AppData\\\\Local\\\\Temp\\\\RtmpsfTgBQ\\\\11bc5a7b8d8/gganim_plot0029.png\n",
       "30  C:\\\\Users\\\\lukeh\\\\AppData\\\\Local\\\\Temp\\\\RtmpsfTgBQ\\\\11bc5a7b8d8/gganim_plot0030.png\n",
       "31  C:\\\\Users\\\\lukeh\\\\AppData\\\\Local\\\\Temp\\\\RtmpsfTgBQ\\\\11bc5a7b8d8/gganim_plot0031.png\n",
       "32  C:\\\\Users\\\\lukeh\\\\AppData\\\\Local\\\\Temp\\\\RtmpsfTgBQ\\\\11bc5a7b8d8/gganim_plot0032.png\n",
       "33  C:\\\\Users\\\\lukeh\\\\AppData\\\\Local\\\\Temp\\\\RtmpsfTgBQ\\\\11bc5a7b8d8/gganim_plot0033.png\n",
       "34  C:\\\\Users\\\\lukeh\\\\AppData\\\\Local\\\\Temp\\\\RtmpsfTgBQ\\\\11bc5a7b8d8/gganim_plot0034.png\n",
       "35  C:\\\\Users\\\\lukeh\\\\AppData\\\\Local\\\\Temp\\\\RtmpsfTgBQ\\\\11bc5a7b8d8/gganim_plot0035.png\n",
       "36  C:\\\\Users\\\\lukeh\\\\AppData\\\\Local\\\\Temp\\\\RtmpsfTgBQ\\\\11bc5a7b8d8/gganim_plot0036.png\n",
       "37  C:\\\\Users\\\\lukeh\\\\AppData\\\\Local\\\\Temp\\\\RtmpsfTgBQ\\\\11bc5a7b8d8/gganim_plot0037.png\n",
       "38  C:\\\\Users\\\\lukeh\\\\AppData\\\\Local\\\\Temp\\\\RtmpsfTgBQ\\\\11bc5a7b8d8/gganim_plot0038.png\n",
       "39  C:\\\\Users\\\\lukeh\\\\AppData\\\\Local\\\\Temp\\\\RtmpsfTgBQ\\\\11bc5a7b8d8/gganim_plot0039.png\n",
       "40  C:\\\\Users\\\\lukeh\\\\AppData\\\\Local\\\\Temp\\\\RtmpsfTgBQ\\\\11bc5a7b8d8/gganim_plot0040.png\n",
       "41  C:\\\\Users\\\\lukeh\\\\AppData\\\\Local\\\\Temp\\\\RtmpsfTgBQ\\\\11bc5a7b8d8/gganim_plot0041.png\n",
       "42  C:\\\\Users\\\\lukeh\\\\AppData\\\\Local\\\\Temp\\\\RtmpsfTgBQ\\\\11bc5a7b8d8/gganim_plot0042.png\n",
       "43  C:\\\\Users\\\\lukeh\\\\AppData\\\\Local\\\\Temp\\\\RtmpsfTgBQ\\\\11bc5a7b8d8/gganim_plot0043.png\n",
       "44  C:\\\\Users\\\\lukeh\\\\AppData\\\\Local\\\\Temp\\\\RtmpsfTgBQ\\\\11bc5a7b8d8/gganim_plot0044.png\n",
       "45  C:\\\\Users\\\\lukeh\\\\AppData\\\\Local\\\\Temp\\\\RtmpsfTgBQ\\\\11bc5a7b8d8/gganim_plot0045.png\n",
       "46  C:\\\\Users\\\\lukeh\\\\AppData\\\\Local\\\\Temp\\\\RtmpsfTgBQ\\\\11bc5a7b8d8/gganim_plot0046.png\n",
       "47  C:\\\\Users\\\\lukeh\\\\AppData\\\\Local\\\\Temp\\\\RtmpsfTgBQ\\\\11bc5a7b8d8/gganim_plot0047.png\n",
       "48  C:\\\\Users\\\\lukeh\\\\AppData\\\\Local\\\\Temp\\\\RtmpsfTgBQ\\\\11bc5a7b8d8/gganim_plot0048.png\n",
       "49  C:\\\\Users\\\\lukeh\\\\AppData\\\\Local\\\\Temp\\\\RtmpsfTgBQ\\\\11bc5a7b8d8/gganim_plot0049.png\n",
       "50  C:\\\\Users\\\\lukeh\\\\AppData\\\\Local\\\\Temp\\\\RtmpsfTgBQ\\\\11bc5a7b8d8/gganim_plot0050.png\n",
       "51  C:\\\\Users\\\\lukeh\\\\AppData\\\\Local\\\\Temp\\\\RtmpsfTgBQ\\\\11bc5a7b8d8/gganim_plot0051.png\n",
       "52  C:\\\\Users\\\\lukeh\\\\AppData\\\\Local\\\\Temp\\\\RtmpsfTgBQ\\\\11bc5a7b8d8/gganim_plot0052.png\n",
       "53  C:\\\\Users\\\\lukeh\\\\AppData\\\\Local\\\\Temp\\\\RtmpsfTgBQ\\\\11bc5a7b8d8/gganim_plot0053.png\n",
       "54  C:\\\\Users\\\\lukeh\\\\AppData\\\\Local\\\\Temp\\\\RtmpsfTgBQ\\\\11bc5a7b8d8/gganim_plot0054.png\n",
       "55  C:\\\\Users\\\\lukeh\\\\AppData\\\\Local\\\\Temp\\\\RtmpsfTgBQ\\\\11bc5a7b8d8/gganim_plot0055.png\n",
       "56  C:\\\\Users\\\\lukeh\\\\AppData\\\\Local\\\\Temp\\\\RtmpsfTgBQ\\\\11bc5a7b8d8/gganim_plot0056.png\n",
       "57  C:\\\\Users\\\\lukeh\\\\AppData\\\\Local\\\\Temp\\\\RtmpsfTgBQ\\\\11bc5a7b8d8/gganim_plot0057.png\n",
       "58  C:\\\\Users\\\\lukeh\\\\AppData\\\\Local\\\\Temp\\\\RtmpsfTgBQ\\\\11bc5a7b8d8/gganim_plot0058.png\n",
       "59  C:\\\\Users\\\\lukeh\\\\AppData\\\\Local\\\\Temp\\\\RtmpsfTgBQ\\\\11bc5a7b8d8/gganim_plot0059.png\n",
       "60  C:\\\\Users\\\\lukeh\\\\AppData\\\\Local\\\\Temp\\\\RtmpsfTgBQ\\\\11bc5a7b8d8/gganim_plot0060.png\n",
       "61  C:\\\\Users\\\\lukeh\\\\AppData\\\\Local\\\\Temp\\\\RtmpsfTgBQ\\\\11bc5a7b8d8/gganim_plot0061.png\n",
       "62  C:\\\\Users\\\\lukeh\\\\AppData\\\\Local\\\\Temp\\\\RtmpsfTgBQ\\\\11bc5a7b8d8/gganim_plot0062.png\n",
       "63  C:\\\\Users\\\\lukeh\\\\AppData\\\\Local\\\\Temp\\\\RtmpsfTgBQ\\\\11bc5a7b8d8/gganim_plot0063.png\n",
       "64  C:\\\\Users\\\\lukeh\\\\AppData\\\\Local\\\\Temp\\\\RtmpsfTgBQ\\\\11bc5a7b8d8/gganim_plot0064.png\n",
       "65  C:\\\\Users\\\\lukeh\\\\AppData\\\\Local\\\\Temp\\\\RtmpsfTgBQ\\\\11bc5a7b8d8/gganim_plot0065.png\n",
       "66  C:\\\\Users\\\\lukeh\\\\AppData\\\\Local\\\\Temp\\\\RtmpsfTgBQ\\\\11bc5a7b8d8/gganim_plot0066.png\n",
       "67  C:\\\\Users\\\\lukeh\\\\AppData\\\\Local\\\\Temp\\\\RtmpsfTgBQ\\\\11bc5a7b8d8/gganim_plot0067.png\n",
       "68  C:\\\\Users\\\\lukeh\\\\AppData\\\\Local\\\\Temp\\\\RtmpsfTgBQ\\\\11bc5a7b8d8/gganim_plot0068.png\n",
       "69  C:\\\\Users\\\\lukeh\\\\AppData\\\\Local\\\\Temp\\\\RtmpsfTgBQ\\\\11bc5a7b8d8/gganim_plot0069.png\n",
       "70  C:\\\\Users\\\\lukeh\\\\AppData\\\\Local\\\\Temp\\\\RtmpsfTgBQ\\\\11bc5a7b8d8/gganim_plot0070.png\n",
       "71  C:\\\\Users\\\\lukeh\\\\AppData\\\\Local\\\\Temp\\\\RtmpsfTgBQ\\\\11bc5a7b8d8/gganim_plot0071.png\n",
       "72  C:\\\\Users\\\\lukeh\\\\AppData\\\\Local\\\\Temp\\\\RtmpsfTgBQ\\\\11bc5a7b8d8/gganim_plot0072.png\n",
       "73  C:\\\\Users\\\\lukeh\\\\AppData\\\\Local\\\\Temp\\\\RtmpsfTgBQ\\\\11bc5a7b8d8/gganim_plot0073.png\n",
       "74  C:\\\\Users\\\\lukeh\\\\AppData\\\\Local\\\\Temp\\\\RtmpsfTgBQ\\\\11bc5a7b8d8/gganim_plot0074.png\n",
       "75  C:\\\\Users\\\\lukeh\\\\AppData\\\\Local\\\\Temp\\\\RtmpsfTgBQ\\\\11bc5a7b8d8/gganim_plot0075.png\n",
       "76  C:\\\\Users\\\\lukeh\\\\AppData\\\\Local\\\\Temp\\\\RtmpsfTgBQ\\\\11bc5a7b8d8/gganim_plot0076.png\n",
       "77  C:\\\\Users\\\\lukeh\\\\AppData\\\\Local\\\\Temp\\\\RtmpsfTgBQ\\\\11bc5a7b8d8/gganim_plot0077.png\n",
       "78  C:\\\\Users\\\\lukeh\\\\AppData\\\\Local\\\\Temp\\\\RtmpsfTgBQ\\\\11bc5a7b8d8/gganim_plot0078.png\n",
       "79  C:\\\\Users\\\\lukeh\\\\AppData\\\\Local\\\\Temp\\\\RtmpsfTgBQ\\\\11bc5a7b8d8/gganim_plot0079.png\n",
       "80  C:\\\\Users\\\\lukeh\\\\AppData\\\\Local\\\\Temp\\\\RtmpsfTgBQ\\\\11bc5a7b8d8/gganim_plot0080.png\n",
       "81  C:\\\\Users\\\\lukeh\\\\AppData\\\\Local\\\\Temp\\\\RtmpsfTgBQ\\\\11bc5a7b8d8/gganim_plot0081.png\n",
       "82  C:\\\\Users\\\\lukeh\\\\AppData\\\\Local\\\\Temp\\\\RtmpsfTgBQ\\\\11bc5a7b8d8/gganim_plot0082.png\n",
       "83  C:\\\\Users\\\\lukeh\\\\AppData\\\\Local\\\\Temp\\\\RtmpsfTgBQ\\\\11bc5a7b8d8/gganim_plot0083.png\n",
       "84  C:\\\\Users\\\\lukeh\\\\AppData\\\\Local\\\\Temp\\\\RtmpsfTgBQ\\\\11bc5a7b8d8/gganim_plot0084.png\n",
       "85  C:\\\\Users\\\\lukeh\\\\AppData\\\\Local\\\\Temp\\\\RtmpsfTgBQ\\\\11bc5a7b8d8/gganim_plot0085.png\n",
       "86  C:\\\\Users\\\\lukeh\\\\AppData\\\\Local\\\\Temp\\\\RtmpsfTgBQ\\\\11bc5a7b8d8/gganim_plot0086.png\n",
       "87  C:\\\\Users\\\\lukeh\\\\AppData\\\\Local\\\\Temp\\\\RtmpsfTgBQ\\\\11bc5a7b8d8/gganim_plot0087.png\n",
       "88  C:\\\\Users\\\\lukeh\\\\AppData\\\\Local\\\\Temp\\\\RtmpsfTgBQ\\\\11bc5a7b8d8/gganim_plot0088.png\n",
       "89  C:\\\\Users\\\\lukeh\\\\AppData\\\\Local\\\\Temp\\\\RtmpsfTgBQ\\\\11bc5a7b8d8/gganim_plot0089.png\n",
       "90  C:\\\\Users\\\\lukeh\\\\AppData\\\\Local\\\\Temp\\\\RtmpsfTgBQ\\\\11bc5a7b8d8/gganim_plot0090.png\n",
       "91  C:\\\\Users\\\\lukeh\\\\AppData\\\\Local\\\\Temp\\\\RtmpsfTgBQ\\\\11bc5a7b8d8/gganim_plot0091.png\n",
       "92  C:\\\\Users\\\\lukeh\\\\AppData\\\\Local\\\\Temp\\\\RtmpsfTgBQ\\\\11bc5a7b8d8/gganim_plot0092.png\n",
       "93  C:\\\\Users\\\\lukeh\\\\AppData\\\\Local\\\\Temp\\\\RtmpsfTgBQ\\\\11bc5a7b8d8/gganim_plot0093.png\n",
       "94  C:\\\\Users\\\\lukeh\\\\AppData\\\\Local\\\\Temp\\\\RtmpsfTgBQ\\\\11bc5a7b8d8/gganim_plot0094.png\n",
       "95  C:\\\\Users\\\\lukeh\\\\AppData\\\\Local\\\\Temp\\\\RtmpsfTgBQ\\\\11bc5a7b8d8/gganim_plot0095.png\n",
       "96  C:\\\\Users\\\\lukeh\\\\AppData\\\\Local\\\\Temp\\\\RtmpsfTgBQ\\\\11bc5a7b8d8/gganim_plot0096.png\n",
       "97  C:\\\\Users\\\\lukeh\\\\AppData\\\\Local\\\\Temp\\\\RtmpsfTgBQ\\\\11bc5a7b8d8/gganim_plot0097.png\n",
       "98  C:\\\\Users\\\\lukeh\\\\AppData\\\\Local\\\\Temp\\\\RtmpsfTgBQ\\\\11bc5a7b8d8/gganim_plot0098.png\n",
       "99  C:\\\\Users\\\\lukeh\\\\AppData\\\\Local\\\\Temp\\\\RtmpsfTgBQ\\\\11bc5a7b8d8/gganim_plot0099.png\n",
       "100 C:\\\\Users\\\\lukeh\\\\AppData\\\\Local\\\\Temp\\\\RtmpsfTgBQ\\\\11bc5a7b8d8/gganim_plot0100.png"
      ]
     },
     "metadata": {},
     "output_type": "display_data"
    },
    {
     "ename": "ERROR",
     "evalue": "Error: The animation object does not specify a save_animation method\n",
     "output_type": "error",
     "traceback": [
      "Error: The animation object does not specify a save_animation method\nTraceback:\n",
      "1. anim_save(\"GP5.gif\", animation = last_animation(), renderer = gifski_renderer())",
      "2. save_animation(animation, filename)",
      "3. save_animation.default(animation, filename)",
      "4. stop(\"The animation object does not specify a save_animation method\", \n .     call. = FALSE)"
     ]
    }
   ],
   "source": [
    "data_filtered <- na.omit(data_edited)\n",
    "\n",
    "# Create a point chart of the monthly rainfall with color and size parameters and apply the animation\n",
    "p <- ggplot(data_filtered, aes(x = month, y = rain, color = factor(month), size = rain)) +\n",
    "  geom_point() +\n",
    "  scale_color_discrete(name = \"Month\") +\n",
    "  labs(title = \"Monthly Rainfall by Year\",\n",
    "       x = \"Month\",\n",
    "       y = \"Rainfall (mm)\") +\n",
    "  transition_time(year)\n",
    "\n",
    "# Animate the chart and set the animation parameters\n",
    "animate(p, fps = 10, duration = 10, width = 800, height = 600)\n"
   ]
  },
  {
   "cell_type": "markdown",
   "metadata": {},
   "source": [
    "## 6. Install and load the streamgraph package \n",
    " - Copy the code from https://hrbrmstr.github.io/streamgraph/\n",
    " - Adapt the code, to show names around your own name.\n",
    "\n",
    "With a new dataset:\n",
    "- Read in the \"vaccine-preventable-disease-cases-by-county-and-year-2.csv\"\n",
    "- Generate a streamgraph showing vaccinations across the years\n",
    "    - You can decide on the breakdown of what is displayed.\n"
   ]
  },
  {
   "cell_type": "code",
   "execution_count": 13,
   "metadata": {},
   "outputs": [
    {
     "name": "stderr",
     "output_type": "stream",
     "text": [
      "\u001b[1mRows: \u001b[22m\u001b[34m8319\u001b[39m \u001b[1mColumns: \u001b[22m\u001b[34m4\u001b[39m\n",
      "\u001b[36m--\u001b[39m \u001b[1mColumn specification\u001b[22m \u001b[36m--------------------------------------------------------\u001b[39m\n",
      "\u001b[1mDelimiter:\u001b[22m \",\"\n",
      "\u001b[31mchr\u001b[39m (2): disease, county\n",
      "\u001b[32mdbl\u001b[39m (2): year, count\n",
      "\n",
      "\u001b[36mi\u001b[39m Use `spec()` to retrieve the full column specification for this data.\n",
      "\u001b[36mi\u001b[39m Specify the column types or set `show_col_types = FALSE` to quiet this message.\n"
     ]
    },
    {
     "data": {
      "text/html": [
       "<table class=\"dataframe\">\n",
       "<caption>A tibble: 6 × 4</caption>\n",
       "<thead>\n",
       "\t<tr><th scope=col>disease</th><th scope=col>county</th><th scope=col>year</th><th scope=col>count</th></tr>\n",
       "\t<tr><th scope=col>&lt;chr&gt;</th><th scope=col>&lt;chr&gt;</th><th scope=col>&lt;dbl&gt;</th><th scope=col>&lt;dbl&gt;</th></tr>\n",
       "</thead>\n",
       "<tbody>\n",
       "\t<tr><td>Diphtheria</td><td>Alameda</td><td>2001</td><td>0</td></tr>\n",
       "\t<tr><td>Diphtheria</td><td>Alameda</td><td>2002</td><td>0</td></tr>\n",
       "\t<tr><td>Diphtheria</td><td>Alameda</td><td>2003</td><td>0</td></tr>\n",
       "\t<tr><td>Diphtheria</td><td>Alameda</td><td>2004</td><td>0</td></tr>\n",
       "\t<tr><td>Diphtheria</td><td>Alameda</td><td>2005</td><td>0</td></tr>\n",
       "\t<tr><td>Diphtheria</td><td>Alameda</td><td>2006</td><td>0</td></tr>\n",
       "</tbody>\n",
       "</table>\n"
      ],
      "text/latex": [
       "A tibble: 6 × 4\n",
       "\\begin{tabular}{llll}\n",
       " disease & county & year & count\\\\\n",
       " <chr> & <chr> & <dbl> & <dbl>\\\\\n",
       "\\hline\n",
       "\t Diphtheria & Alameda & 2001 & 0\\\\\n",
       "\t Diphtheria & Alameda & 2002 & 0\\\\\n",
       "\t Diphtheria & Alameda & 2003 & 0\\\\\n",
       "\t Diphtheria & Alameda & 2004 & 0\\\\\n",
       "\t Diphtheria & Alameda & 2005 & 0\\\\\n",
       "\t Diphtheria & Alameda & 2006 & 0\\\\\n",
       "\\end{tabular}\n"
      ],
      "text/markdown": [
       "\n",
       "A tibble: 6 × 4\n",
       "\n",
       "| disease &lt;chr&gt; | county &lt;chr&gt; | year &lt;dbl&gt; | count &lt;dbl&gt; |\n",
       "|---|---|---|---|\n",
       "| Diphtheria | Alameda | 2001 | 0 |\n",
       "| Diphtheria | Alameda | 2002 | 0 |\n",
       "| Diphtheria | Alameda | 2003 | 0 |\n",
       "| Diphtheria | Alameda | 2004 | 0 |\n",
       "| Diphtheria | Alameda | 2005 | 0 |\n",
       "| Diphtheria | Alameda | 2006 | 0 |\n",
       "\n"
      ],
      "text/plain": [
       "  disease    county  year count\n",
       "1 Diphtheria Alameda 2001 0    \n",
       "2 Diphtheria Alameda 2002 0    \n",
       "3 Diphtheria Alameda 2003 0    \n",
       "4 Diphtheria Alameda 2004 0    \n",
       "5 Diphtheria Alameda 2005 0    \n",
       "6 Diphtheria Alameda 2006 0    "
      ]
     },
     "metadata": {},
     "output_type": "display_data"
    }
   ],
   "source": [
    "# Set the working directory to the folder where the file is located\n",
    "setwd(\"C:/Users/lukeh/Documents/College/4th-Year/Visualising_Data\")\n",
    "\n",
    "# Install and load the necessary packages\n",
    "# install.packages(\"readr\")   # If not already installed\n",
    "library(readr)\n",
    "\n",
    "# Read in the file\n",
    "vaccine_data <- read_csv(\"vaccine-preventable-disease-cases-by-county-and-year-2.csv\")\n",
    "\n",
    "head(vaccine_data)"
   ]
  },
  {
   "cell_type": "code",
   "execution_count": 14,
   "metadata": {},
   "outputs": [],
   "source": [
    "# Aggregate the data by year and sum the number of vaccinations\n",
    "vaccine_year <- vaccine_data %>% \n",
    "  group_by(year) %>% \n",
    "  summarize(vaccinations = sum(count)) \n",
    "\n",
    "# Convert the data to long format\n",
    "vaccine_long <- vaccine_year %>% \n",
    "  pivot_longer(cols = vaccinations, names_to = \"vaccination_type\", values_to = \"count\")"
   ]
  },
  {
   "cell_type": "code",
   "execution_count": 17,
   "metadata": {},
   "outputs": [
    {
     "ename": "ERROR",
     "evalue": "Error in FUN(X[[i]], ...): argument is not a character vector\n",
     "output_type": "error",
     "traceback": [
      "Error in FUN(X[[i]], ...): argument is not a character vector\nTraceback:\n",
      "1. HTML(streamgraph(vaccine_long, key = \"vaccination_type\", value = \"count\", \n .     date = \"year\", interpolate = \"basis\", width = 1000, height = 500))",
      "2. paste8(htmlText, collapse = \" \")",
      "3. lapply(list(...), enc2utf8)"
     ]
    }
   ],
   "source": [
    "library(htmltools)\n",
    "\n",
    "# Aggregate the data by year and sum the number of vaccinations\n",
    "vaccine_year <- vaccine_data %>% \n",
    "  group_by(year) %>% \n",
    "  summarize(vaccinations = sum(count)) \n",
    "\n",
    "# Convert the data to long format\n",
    "vaccine_long <- vaccine_year %>% \n",
    "  pivot_longer(cols = vaccinations, names_to = \"vaccination_type\", values_to = \"count\")\n",
    "\n",
    "# Create the streamgraph and wrap it in an HTML object\n",
    "streamgraph_output <- HTML(streamgraph(vaccine_long, key = \"vaccination_type\", value = \"count\", date = \"year\", interpolate = \"basis\", width = 1000, height = 500))\n",
    "\n",
    "# Display the streamgraph\n",
    "streamgraph_output"
   ]
  },
  {
   "cell_type": "code",
   "execution_count": null,
   "metadata": {},
   "outputs": [],
   "source": []
  }
 ],
 "metadata": {
  "kernelspec": {
   "display_name": "R",
   "language": "R",
   "name": "ir"
  },
  "language_info": {
   "codemirror_mode": "r",
   "file_extension": ".r",
   "mimetype": "text/x-r-source",
   "name": "R",
   "pygments_lexer": "r",
   "version": "4.1.3"
  }
 },
 "nbformat": 4,
 "nbformat_minor": 4
}
