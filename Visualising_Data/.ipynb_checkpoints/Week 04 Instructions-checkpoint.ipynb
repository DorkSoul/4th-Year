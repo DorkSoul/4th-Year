{
 "cells": [
  {
   "cell_type": "markdown",
   "metadata": {},
   "source": [
    "# Visualising time trends using animation and interactive streams"
   ]
  },
  {
   "cell_type": "markdown",
   "metadata": {},
   "source": [
    "### This week's exercise tests your abilities in the following:\n",
    "\n",
    " - Preparing your data for animation\n",
    " - Animating your charts\n",
    " - Making the chart more attractive and memorable.\n",
    "\n",
    " - Using stream charts interactively"
   ]
  },
  {
   "cell_type": "markdown",
   "metadata": {},
   "source": [
    "## 1. Preliminary work\n",
    " - Load your libraries.  You'll need tidyverse.  Others can be added later.\n",
    " - If there are libraries you like for aesthetics, add them too."
   ]
  },
  {
   "cell_type": "code",
   "execution_count": 1,
   "metadata": {},
   "outputs": [
    {
     "name": "stdout",
     "output_type": "stream",
     "text": [
      "package 'tweenr' successfully unpacked and MD5 sums checked\n"
     ]
    },
    {
     "name": "stderr",
     "output_type": "stream",
     "text": [
      "Warning message:\n",
      "\"cannot remove prior installation of package 'tweenr'\"\n",
      "Warning message in file.copy(savedcopy, lib, recursive = TRUE):\n",
      "\"problem copying C:\\Users\\lukeh\\anaconda3\\envs\\Visdata\\Lib\\R\\library\\00LOCK\\tweenr\\libs\\x64\\tweenr.dll to C:\\Users\\lukeh\\anaconda3\\envs\\Visdata\\Lib\\R\\library\\tweenr\\libs\\x64\\tweenr.dll: Permission denied\"\n",
      "Warning message:\n",
      "\"restored 'tweenr'\"\n"
     ]
    },
    {
     "name": "stdout",
     "output_type": "stream",
     "text": [
      "\n",
      "The downloaded binary packages are in\n",
      "\tC:\\Users\\lukeh\\AppData\\Local\\Temp\\RtmpY7sfyx\\downloaded_packages\n"
     ]
    },
    {
     "name": "stderr",
     "output_type": "stream",
     "text": [
      "Loading required package: usethis\n",
      "\n",
      "Downloading GitHub repo dgrtwo/gganimate@HEAD\n",
      "\n"
     ]
    },
    {
     "name": "stdout",
     "output_type": "stream",
     "text": [
      "utf8    (1.2.2 -> 1.2.3) [CRAN]\n",
      "ggplot2 (3.4.0 -> 3.4.1) [CRAN]\n"
     ]
    },
    {
     "name": "stderr",
     "output_type": "stream",
     "text": [
      "Installing 2 packages: utf8, ggplot2\n",
      "\n"
     ]
    },
    {
     "name": "stdout",
     "output_type": "stream",
     "text": [
      "package 'utf8' successfully unpacked and MD5 sums checked\n"
     ]
    },
    {
     "name": "stderr",
     "output_type": "stream",
     "text": [
      "Warning message:\n",
      "\"cannot remove prior installation of package 'utf8'\"\n",
      "Warning message in file.copy(savedcopy, lib, recursive = TRUE):\n",
      "\"problem copying C:\\Users\\lukeh\\anaconda3\\envs\\Visdata\\Lib\\R\\library\\00LOCK\\utf8\\libs\\x64\\utf8.dll to C:\\Users\\lukeh\\anaconda3\\envs\\Visdata\\Lib\\R\\library\\utf8\\libs\\x64\\utf8.dll: Permission denied\"\n",
      "Warning message:\n",
      "\"restored 'utf8'\"\n"
     ]
    },
    {
     "name": "stdout",
     "output_type": "stream",
     "text": [
      "package 'ggplot2' successfully unpacked and MD5 sums checked\n",
      "\n",
      "The downloaded binary packages are in\n",
      "\tC:\\Users\\lukeh\\AppData\\Local\\Temp\\RtmpY7sfyx\\downloaded_packages\n",
      "\u001b[36m--\u001b[39m \u001b[36mR CMD build\u001b[39m \u001b[36m-----------------------------------------------------------------\u001b[39m\n",
      "* checking for file 'C:\\Users\\lukeh\\AppData\\Local\\Temp\\RtmpY7sfyx\\remotes2e3c2ad3222e\\thomasp85-gganimate-7cd46dc/DESCRIPTION' ... OK\n",
      "* preparing 'gganimate':\n",
      "* checking DESCRIPTION meta-information ... OK\n",
      "* checking for LF line-endings in source and make files and shell scripts\n",
      "* checking for empty or unneeded directories\n",
      "* building 'gganimate_1.0.8.9000.tar.gz'\n",
      "\n"
     ]
    },
    {
     "name": "stderr",
     "output_type": "stream",
     "text": [
      "Skipping install of 'streamgraph' from a github remote, the SHA1 (76f7173e) has not changed since last install.\n",
      "  Use `force = TRUE` to force installation\n",
      "\n",
      "-- \u001b[1mAttaching packages\u001b[22m --------------------------------------- tidyverse 1.3.2 --\n",
      "\u001b[32mv\u001b[39m \u001b[34mggplot2\u001b[39m 3.4.1      \u001b[32mv\u001b[39m \u001b[34mpurrr  \u001b[39m 1.0.1 \n",
      "\u001b[32mv\u001b[39m \u001b[34mtibble \u001b[39m 3.1.8      \u001b[32mv\u001b[39m \u001b[34mdplyr  \u001b[39m 1.0.10\n",
      "\u001b[32mv\u001b[39m \u001b[34mtidyr  \u001b[39m 1.3.0      \u001b[32mv\u001b[39m \u001b[34mstringr\u001b[39m 1.5.0 \n",
      "\u001b[32mv\u001b[39m \u001b[34mreadr  \u001b[39m 2.1.3      \u001b[32mv\u001b[39m \u001b[34mforcats\u001b[39m 0.5.2 \n",
      "-- \u001b[1mConflicts\u001b[22m ------------------------------------------ tidyverse_conflicts() --\n",
      "\u001b[31mx\u001b[39m \u001b[34mdplyr\u001b[39m::\u001b[32mfilter()\u001b[39m masks \u001b[34mstats\u001b[39m::filter()\n",
      "\u001b[31mx\u001b[39m \u001b[34mdplyr\u001b[39m::\u001b[32mlag()\u001b[39m    masks \u001b[34mstats\u001b[39m::lag()\n",
      "No renderer backend detected. gganimate will default to writing frames to separate files\n",
      "Consider installing:\n",
      "- the `gifski` package for gif output\n",
      "- the `av` package for video output\n",
      "and restarting the R session\n",
      "\n"
     ]
    }
   ],
   "source": [
    "install.packages(\"tweenr\")\n",
    "# install.packages(\"gganimate\")\n",
    "library(devtools)\n",
    "devtools::install_github(\"dgrtwo/gganimate\")\n",
    "devtools::install_github(\"hrbrmstr/streamgraph\")"
   ]
  },
  {
   "cell_type": "code",
   "execution_count": 2,
   "metadata": {},
   "outputs": [],
   "source": [
    "library(tidyverse)\n",
    "library(gganimate)\n",
    "library(streamgraph)"
   ]
  },
  {
   "cell_type": "markdown",
   "metadata": {},
   "source": [
    "## 2. Source your data\n",
    "\n",
    "The Irish Weather monitoring service, Met Eireann, publishes data that has been collected at weather stations over the years.  The data recorded can be hourly, daily or monthly.  Let's focus on monthly data this time around.\n",
    "\n",
    " - Go to https://data.gov.ie/organization/meteireann.  In the search box, look for monthly data.  Pick a weather station, first checking that there is valid data there.  \n",
    " - Read the data into a dataframe.\n",
    " - Remember that some of the datasets start with comments (see sample code, week 3).\n",
    " - Make sure that the dataset you choose has month and year values (or dates, that you can convert to month and year) and that every row has a value for month and year."
   ]
  },
  {
   "cell_type": "code",
   "execution_count": null,
   "metadata": {},
   "outputs": [],
   "source": []
  },
  {
   "cell_type": "markdown",
   "metadata": {},
   "source": [
    "## 3. Check out your data:\n",
    " - What is the structure? (str)\n",
    " - Check the summary - what is the range of each value?  Are there many NAs?\n",
    " - How many unique values are there for each variable?\n",
    "     - df %>% summarise_all(n_distinct)\n",
    " - Is there any column that only has a few values, so could be used for small multiples or stacking?\n",
    " - Are there columns that have more or less the same range of values?  Maybe that could be pivoted and used for stacking?\n",
    " - Is there any column you could use to change the size in a point chart?"
   ]
  },
  {
   "cell_type": "code",
   "execution_count": null,
   "metadata": {},
   "outputs": [],
   "source": []
  },
  {
   "cell_type": "markdown",
   "metadata": {},
   "source": [
    "## 4. Start charting\n",
    "- If you need to summarise, to get one row per month, do that now.\n",
    "- Do a preliminary chart, limited to a single year. Keep it as simple as possible for the moment.  A geom_line chart is fine to start with, but to transition through time, it must be a geom_point chart.\n",
    "- For your second chart, add in colour and size parameters."
   ]
  },
  {
   "cell_type": "code",
   "execution_count": null,
   "metadata": {},
   "outputs": [],
   "source": []
  },
  {
   "cell_type": "markdown",
   "metadata": {},
   "source": [
    "## 5. When you are happy with your geom_point() chart, animate it.\n",
    "- Load gganimate.  If you haven't already installed it, do that first, then comment out the install and just load it using library().\n",
    "- Copy the cell from your last successful point chart.  This time, don't limit the dataset to a year, but use the year column to animate the chart.  If you are animating by a column named YR:\n",
    "- Add   transition_time(YR)  term\n",
    "- Make sure the title or subtitle includes Year: {frame_time}\n",
    "- Save the latest animation, using anim_save (see sample code, week 4), giving the file a name (e.g. week4.gif)\n",
    "- display the gif using - display_gif(\"week4.gif\")"
   ]
  },
  {
   "cell_type": "code",
   "execution_count": null,
   "metadata": {},
   "outputs": [],
   "source": []
  },
  {
   "cell_type": "markdown",
   "metadata": {},
   "source": [
    "## 6. Install and load the streamgraph package \n",
    " - Copy the code from https://hrbrmstr.github.io/streamgraph/\n",
    " - Adapt the code, to show names around your own name.\n",
    "\n",
    "With a new dataset:\n",
    "- Read in the \"vaccine-preventable-disease-cases-by-county-and-year-2.csv\"\n",
    "- Generate a streamgraph showing vaccinations across the years\n",
    "    - You can decide on the breakdown of what is displayed.\n"
   ]
  },
  {
   "cell_type": "code",
   "execution_count": null,
   "metadata": {},
   "outputs": [],
   "source": []
  }
 ],
 "metadata": {
  "kernelspec": {
   "display_name": "R",
   "language": "R",
   "name": "ir"
  },
  "language_info": {
   "codemirror_mode": "r",
   "file_extension": ".r",
   "mimetype": "text/x-r-source",
   "name": "R",
   "pygments_lexer": "r",
   "version": "4.1.3"
  }
 },
 "nbformat": 4,
 "nbformat_minor": 4
}
