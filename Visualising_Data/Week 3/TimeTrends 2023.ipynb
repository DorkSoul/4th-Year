{
 "cells": [
  {
   "cell_type": "markdown",
   "metadata": {},
   "source": [
    "# Visualising time trends"
   ]
  },
  {
   "cell_type": "markdown",
   "metadata": {},
   "source": [
    "http://www.sthda.com/english/articles/32-r-graphics-essentials/128-plot-time-series-data-using-ggplot/"
   ]
  },
  {
   "cell_type": "markdown",
   "metadata": {},
   "source": [
    "### We will use:\n",
    "\n",
    " - Discrete points in time:\n",
    "    - Bar Chart \n",
    "    - Scatter Plot\n",
    " - Continuous points in time\n",
    "    - Line Chart\n",
    "    - Step Chart\n",
    "- Handling multiple dimensions over time\n",
    "    - Stacked bar chart\n",
    "    - Area Chart\n",
    "    - Stream Graph\n",
    "    - Small Multiples\n",
    "    - Animation"
   ]
  },
  {
   "cell_type": "markdown",
   "metadata": {},
   "source": [
    "### But first:\n",
    " - Find time trend data.\n",
    "     - Source the data, and **check that it read properly**\n",
    "     - Make sure the 'time' columns are properly formatted. (Use the packages 'lubridate' and 'zoo')\n",
    " - Reshape the data so we have:\n",
    "    - A numeric / ordinal x-axis representing time.\n",
    "    - A numeric y-axis\n",
    "    - Encodings for other dimensions."
   ]
  },
  {
   "cell_type": "markdown",
   "metadata": {},
   "source": [
    "https://data.gov.ie/dataset/dublin-airport-daily-data\n",
    "\n",
    "This table contains daily elements measured at our synoptic station in Dublin_Airport, Co Dublin. The file is updated monthly.\n"
   ]
  },
  {
   "cell_type": "markdown",
   "metadata": {},
   "source": [
    " ### Daily Elements:\n",
    " \n",
    "\n",
    "ID\t|    ELEMENT   |   Unit      \n",
    ":---|:---|:---\n",
    "rain\t|        Precipitation Amount      |  mm|\n",
    "maxtp     |  \tMaximum Air Temperature\t   |   °C\t|  \n",
    "mintp      |   \tMinimum  Air Temperature\t|   °C|\n",
    "gmin\t\t|09utc Grass Minimum Temperature\t| \t\t\t\t\t\t  °C|\n",
    "soil\t|\tMean 10cm Soil Temperature \t\t\t| \t\t\t          °C\t|\n",
    "wdsp\t|\tMean Wind Speed\t\t\t\t    |                               \t  knot|\n",
    "hm\t|\tHighest 10 minute mean wind speed\t\t\t| \t\t          knot |                \n",
    "ddhm\t|\tMean wind direction over 10 minutes at time of highest mean\t\t |         degree|\n",
    "hg\t\t| Highest Gust\t\t\t| \t\t\t\t\t          knot|\n",
    "cbl\t\t| Mean CBL Pressure \t\t\t\t\t\t\t|          hpa |\n",
    "sun\t\t| Sunshine duration\t\t\t\t\t\t\t    |      hours|\n",
    "g_rad  |   \tGlobal Radiation \t\t\t\t\t\t\t|          j/cm sq.| \n",
    "pe\t\t| Potential Evapotranspiration - calculated using Penman-Monteith Equation |\t  mm|\n",
    "evap\t| \tEvaporation - calculated using Penman formula \t\t\t\t  |        mm|\n",
    "smd_wd\t| \tSoil Moisture Deficits for well drained soils         |\t         \t\t  mm|\n",
    "smd_md\t| \tSoil Moisture Deficits for moderately drained soils   |\tcalculated values\t  mm|\n",
    "smd_pd\t| \tSoil Moisture Deficits for poorly drained soils\t      | \t\t\t  mm\n",
    "dos\t\t| Dept of Snow\t\t\t\t\t\t\t\t          cm\n",
    "ind\t|\tIndicator| (i)"
   ]
  },
  {
   "cell_type": "markdown",
   "metadata": {},
   "source": [
    "### Load the libraries\n",
    " - tidyverse provides ggplot and some of the tidying libraries.\n",
    " - lubridate and zoo are good for handling dates.\n",
    " - ggstream allows us to do stream graphs.\n",
    " - if we want to use specialized themes, we could includ ggthemes."
   ]
  },
  {
   "cell_type": "code",
   "execution_count": 1,
   "metadata": {},
   "outputs": [
    {
     "name": "stderr",
     "output_type": "stream",
     "text": [
      "── \u001b[1mAttaching packages\u001b[22m ─────────────────────────────────────────────────────────────────────────────── tidyverse 1.3.2 ──\n",
      "\u001b[32m✔\u001b[39m \u001b[34mggplot2\u001b[39m 3.4.0      \u001b[32m✔\u001b[39m \u001b[34mpurrr  \u001b[39m 0.3.5 \n",
      "\u001b[32m✔\u001b[39m \u001b[34mtibble \u001b[39m 3.1.8      \u001b[32m✔\u001b[39m \u001b[34mdplyr  \u001b[39m 1.0.10\n",
      "\u001b[32m✔\u001b[39m \u001b[34mtidyr  \u001b[39m 1.2.1      \u001b[32m✔\u001b[39m \u001b[34mstringr\u001b[39m 1.5.0 \n",
      "\u001b[32m✔\u001b[39m \u001b[34mreadr  \u001b[39m 2.1.3      \u001b[32m✔\u001b[39m \u001b[34mforcats\u001b[39m 0.5.2 \n",
      "── \u001b[1mConflicts\u001b[22m ────────────────────────────────────────────────────────────────────────────────── tidyverse_conflicts() ──\n",
      "\u001b[31m✖\u001b[39m \u001b[34mdplyr\u001b[39m::\u001b[32mfilter()\u001b[39m masks \u001b[34mstats\u001b[39m::filter()\n",
      "\u001b[31m✖\u001b[39m \u001b[34mdplyr\u001b[39m::\u001b[32mlag()\u001b[39m    masks \u001b[34mstats\u001b[39m::lag()\n",
      "Loading required package: timechange\n",
      "\n",
      "\n",
      "Attaching package: 'lubridate'\n",
      "\n",
      "\n",
      "The following objects are masked from 'package:base':\n",
      "\n",
      "    date, intersect, setdiff, union\n",
      "\n",
      "\n",
      "\n",
      "Attaching package: 'zoo'\n",
      "\n",
      "\n",
      "The following objects are masked from 'package:base':\n",
      "\n",
      "    as.Date, as.Date.numeric\n",
      "\n",
      "\n"
     ]
    }
   ],
   "source": [
    "library(tidyverse)#  This library includes ggplot and a few others.\n",
    "library(lubridate)\n",
    "library(zoo)\n",
    "\n",
    "library(ggstream)\n"
   ]
  },
  {
   "cell_type": "markdown",
   "metadata": {},
   "source": [
    "### Handle file reading errors\n",
    "\n",
    " - In this file there is an explanation of the rows at the start of the file, so a standard read.csv doesn't work.  In this case, let's intercept it and see what the problem is.\n",
    " - As in other languages, try ... will attempt the read and trap the error if one occurs."
   ]
  },
  {
   "cell_type": "code",
   "execution_count": 72,
   "metadata": {},
   "outputs": [
    {
     "name": "stderr",
     "output_type": "stream",
     "text": [
      "File doesn't exist, please check\n",
      "\n"
     ]
    }
   ],
   "source": [
    "datasetname = \"https://cli.fusio.net/cli/climate_data/webdata/dly532.csv\"\n",
    "# dfdub<-read.csv(datasetname)\n",
    "\n",
    "\n",
    "mtry <- try(read.csv(datasetname), \n",
    "            silent = TRUE)\n",
    "\n",
    "if (class(mtry) != \"try-error\") {\n",
    "  read.csv(datasetname, sep = \",\", header = TRUE)\n",
    "} else {\n",
    "  message(\"File doesn't exist, please check\")\n",
    "}"
   ]
  },
  {
   "cell_type": "markdown",
   "metadata": {},
   "source": [
    "What happened?  Let's open the file in Excel..."
   ]
  },
  {
   "cell_type": "markdown",
   "metadata": {},
   "source": [
    "It turns out that the top 25 lines are comments.  We'll skip them."
   ]
  },
  {
   "cell_type": "code",
   "execution_count": 2,
   "metadata": {},
   "outputs": [
    {
     "name": "stdout",
     "output_type": "stream",
     "text": [
      "'data.frame':\t29612 obs. of  26 variables:\n",
      " $ date  : chr  \"01-jan-1942\" \"02-jan-1942\" \"03-jan-1942\" \"04-jan-1942\" ...\n",
      " $ ind   : int  0 0 0 0 0 0 0 0 0 0 ...\n",
      " $ maxtp : num  9.7 9.9 11.2 9.2 3.5 5.1 7.1 7.1 4.5 5.3 ...\n",
      " $ ind.1 : int  0 0 0 0 1 0 0 0 0 1 ...\n",
      " $ mintp : num  6.8 7.9 8.9 2.7 -0.8 0.7 0.5 1.4 0.7 -2.8 ...\n",
      " $ igmin : int  0 0 0 0 0 1 1 0 0 1 ...\n",
      " $ gmin  : num  4.7 6.7 7.2 3.4 0 -3.7 -1 0.2 0.9 -4.1 ...\n",
      " $ ind.2 : int  2 0 0 0 0 2 3 3 0 3 ...\n",
      " $ rain  : num  0 0.1 1.5 3.5 0.6 0 0 0 0.2 0 ...\n",
      " $ cbl   : num  1020 1016 1007 1002 1013 ...\n",
      " $ wdsp  : num  17.2 15.2 14 17 13 9.7 10.3 9.3 11.8 4 ...\n",
      " $ ind.3 : int  1 1 1 1 1 1 1 1 1 1 ...\n",
      " $ hm    : int  NA NA NA NA NA NA NA NA NA NA ...\n",
      " $ ind.4 : int  1 1 1 1 1 1 1 1 1 1 ...\n",
      " $ ddhm  : int  NA NA NA NA NA NA NA NA NA NA ...\n",
      " $ ind.5 : int  1 1 1 1 1 1 1 1 1 1 ...\n",
      " $ hg    : int  NA NA NA NA NA NA NA NA NA NA ...\n",
      " $ sun   : num  0 0 0.1 0.6 3.4 0.1 4 3.7 0.6 5 ...\n",
      " $ dos   : int  0 0 0 0 0 0 0 0 0 0 ...\n",
      " $ g_rad : int  NA NA NA NA NA NA NA NA NA NA ...\n",
      " $ soil  : num  NA NA NA NA NA NA NA NA NA NA ...\n",
      " $ pe    : num  1.1 0.7 0.5 0.6 0.6 0.4 0.2 0.2 0.5 0 ...\n",
      " $ evap  : num  1.4 0.9 0.6 0.7 0.7 0.5 0.2 0.2 0.7 0.1 ...\n",
      " $ smd_wd: num  NA NA NA NA NA NA NA NA NA NA ...\n",
      " $ smd_md: num  NA NA NA NA NA NA NA NA NA NA ...\n",
      " $ smd_pd: num  NA NA NA NA NA NA NA NA NA NA ...\n"
     ]
    }
   ],
   "source": [
    "dfdub<-read.csv(datasetname,skip=25)\n",
    "\n",
    "str(dfdub)"
   ]
  },
  {
   "cell_type": "markdown",
   "metadata": {},
   "source": [
    "### Preparing our data.  \n",
    "\n",
    "We need to \n",
    " - make our time column be time / date.\n",
    " - Check out what is in our dataset.\n",
    " - Pick or make columns we want to visualise.\n",
    " - How many dimensions do we want to visualise?  How will we encode them?\n",
    " - Are they in the right format or do we need to pivot?\n",
    " - Do we have the correct relationship between the x and y axis (do we need to summarise?)."
   ]
  },
  {
   "cell_type": "markdown",
   "metadata": {},
   "source": [
    "Oh, the date is a string.  Let's convert that."
   ]
  },
  {
   "cell_type": "code",
   "execution_count": 3,
   "metadata": {},
   "outputs": [
    {
     "data": {
      "text/html": [
       "<time datetime=\"1942-01-10\">1942-01-10</time>"
      ],
      "text/latex": [
       "1942-01-10"
      ],
      "text/markdown": [
       "1942-01-10"
      ],
      "text/plain": [
       "[1] \"1942-01-10\""
      ]
     },
     "metadata": {},
     "output_type": "display_data"
    }
   ],
   "source": [
    "as.Date('10-jan-1942', format = \"%d-%b-%Y\")"
   ]
  },
  {
   "cell_type": "markdown",
   "metadata": {},
   "source": [
    "That works, so we'll apply that format to our dates,"
   ]
  },
  {
   "cell_type": "code",
   "execution_count": 4,
   "metadata": {},
   "outputs": [],
   "source": [
    "dfdub$date <- as.Date(dfdub$date,  format = \"%d-%b-%Y\")"
   ]
  },
  {
   "cell_type": "code",
   "execution_count": 5,
   "metadata": {},
   "outputs": [
    {
     "data": {
      "text/html": [
       "<table class=\"dataframe\">\n",
       "<caption>A data.frame: 6 × 26</caption>\n",
       "<thead>\n",
       "\t<tr><th></th><th scope=col>date</th><th scope=col>ind</th><th scope=col>maxtp</th><th scope=col>ind.1</th><th scope=col>mintp</th><th scope=col>igmin</th><th scope=col>gmin</th><th scope=col>ind.2</th><th scope=col>rain</th><th scope=col>cbl</th><th scope=col>⋯</th><th scope=col>hg</th><th scope=col>sun</th><th scope=col>dos</th><th scope=col>g_rad</th><th scope=col>soil</th><th scope=col>pe</th><th scope=col>evap</th><th scope=col>smd_wd</th><th scope=col>smd_md</th><th scope=col>smd_pd</th></tr>\n",
       "\t<tr><th></th><th scope=col>&lt;date&gt;</th><th scope=col>&lt;int&gt;</th><th scope=col>&lt;dbl&gt;</th><th scope=col>&lt;int&gt;</th><th scope=col>&lt;dbl&gt;</th><th scope=col>&lt;int&gt;</th><th scope=col>&lt;dbl&gt;</th><th scope=col>&lt;int&gt;</th><th scope=col>&lt;dbl&gt;</th><th scope=col>&lt;dbl&gt;</th><th scope=col>⋯</th><th scope=col>&lt;int&gt;</th><th scope=col>&lt;dbl&gt;</th><th scope=col>&lt;int&gt;</th><th scope=col>&lt;int&gt;</th><th scope=col>&lt;dbl&gt;</th><th scope=col>&lt;dbl&gt;</th><th scope=col>&lt;dbl&gt;</th><th scope=col>&lt;dbl&gt;</th><th scope=col>&lt;dbl&gt;</th><th scope=col>&lt;dbl&gt;</th></tr>\n",
       "</thead>\n",
       "<tbody>\n",
       "\t<tr><th scope=row>1</th><td>1942-01-01</td><td>0</td><td> 9.7</td><td>0</td><td> 6.8</td><td>0</td><td> 4.7</td><td>2</td><td>0.0</td><td>1020.3</td><td>⋯</td><td>NA</td><td>0.0</td><td>0</td><td>NA</td><td>NA</td><td>1.1</td><td>1.4</td><td>NA</td><td>NA</td><td>NA</td></tr>\n",
       "\t<tr><th scope=row>2</th><td>1942-01-02</td><td>0</td><td> 9.9</td><td>0</td><td> 7.9</td><td>0</td><td> 6.7</td><td>0</td><td>0.1</td><td>1016.2</td><td>⋯</td><td>NA</td><td>0.0</td><td>0</td><td>NA</td><td>NA</td><td>0.7</td><td>0.9</td><td>NA</td><td>NA</td><td>NA</td></tr>\n",
       "\t<tr><th scope=row>3</th><td>1942-01-03</td><td>0</td><td>11.2</td><td>0</td><td> 8.9</td><td>0</td><td> 7.2</td><td>0</td><td>1.5</td><td>1006.8</td><td>⋯</td><td>NA</td><td>0.1</td><td>0</td><td>NA</td><td>NA</td><td>0.5</td><td>0.6</td><td>NA</td><td>NA</td><td>NA</td></tr>\n",
       "\t<tr><th scope=row>4</th><td>1942-01-04</td><td>0</td><td> 9.2</td><td>0</td><td> 2.7</td><td>0</td><td> 3.4</td><td>0</td><td>3.5</td><td>1001.5</td><td>⋯</td><td>NA</td><td>0.6</td><td>0</td><td>NA</td><td>NA</td><td>0.6</td><td>0.7</td><td>NA</td><td>NA</td><td>NA</td></tr>\n",
       "\t<tr><th scope=row>5</th><td>1942-01-05</td><td>0</td><td> 3.5</td><td>1</td><td>-0.8</td><td>0</td><td> 0.0</td><td>0</td><td>0.6</td><td>1013.4</td><td>⋯</td><td>NA</td><td>3.4</td><td>0</td><td>NA</td><td>NA</td><td>0.6</td><td>0.7</td><td>NA</td><td>NA</td><td>NA</td></tr>\n",
       "\t<tr><th scope=row>6</th><td>1942-01-06</td><td>0</td><td> 5.1</td><td>0</td><td> 0.7</td><td>1</td><td>-3.7</td><td>2</td><td>0.0</td><td>1021.1</td><td>⋯</td><td>NA</td><td>0.1</td><td>0</td><td>NA</td><td>NA</td><td>0.4</td><td>0.5</td><td>NA</td><td>NA</td><td>NA</td></tr>\n",
       "</tbody>\n",
       "</table>\n"
      ],
      "text/latex": [
       "A data.frame: 6 × 26\n",
       "\\begin{tabular}{r|lllllllllllllllllllll}\n",
       "  & date & ind & maxtp & ind.1 & mintp & igmin & gmin & ind.2 & rain & cbl & ⋯ & hg & sun & dos & g\\_rad & soil & pe & evap & smd\\_wd & smd\\_md & smd\\_pd\\\\\n",
       "  & <date> & <int> & <dbl> & <int> & <dbl> & <int> & <dbl> & <int> & <dbl> & <dbl> & ⋯ & <int> & <dbl> & <int> & <int> & <dbl> & <dbl> & <dbl> & <dbl> & <dbl> & <dbl>\\\\\n",
       "\\hline\n",
       "\t1 & 1942-01-01 & 0 &  9.7 & 0 &  6.8 & 0 &  4.7 & 2 & 0.0 & 1020.3 & ⋯ & NA & 0.0 & 0 & NA & NA & 1.1 & 1.4 & NA & NA & NA\\\\\n",
       "\t2 & 1942-01-02 & 0 &  9.9 & 0 &  7.9 & 0 &  6.7 & 0 & 0.1 & 1016.2 & ⋯ & NA & 0.0 & 0 & NA & NA & 0.7 & 0.9 & NA & NA & NA\\\\\n",
       "\t3 & 1942-01-03 & 0 & 11.2 & 0 &  8.9 & 0 &  7.2 & 0 & 1.5 & 1006.8 & ⋯ & NA & 0.1 & 0 & NA & NA & 0.5 & 0.6 & NA & NA & NA\\\\\n",
       "\t4 & 1942-01-04 & 0 &  9.2 & 0 &  2.7 & 0 &  3.4 & 0 & 3.5 & 1001.5 & ⋯ & NA & 0.6 & 0 & NA & NA & 0.6 & 0.7 & NA & NA & NA\\\\\n",
       "\t5 & 1942-01-05 & 0 &  3.5 & 1 & -0.8 & 0 &  0.0 & 0 & 0.6 & 1013.4 & ⋯ & NA & 3.4 & 0 & NA & NA & 0.6 & 0.7 & NA & NA & NA\\\\\n",
       "\t6 & 1942-01-06 & 0 &  5.1 & 0 &  0.7 & 1 & -3.7 & 2 & 0.0 & 1021.1 & ⋯ & NA & 0.1 & 0 & NA & NA & 0.4 & 0.5 & NA & NA & NA\\\\\n",
       "\\end{tabular}\n"
      ],
      "text/markdown": [
       "\n",
       "A data.frame: 6 × 26\n",
       "\n",
       "| <!--/--> | date &lt;date&gt; | ind &lt;int&gt; | maxtp &lt;dbl&gt; | ind.1 &lt;int&gt; | mintp &lt;dbl&gt; | igmin &lt;int&gt; | gmin &lt;dbl&gt; | ind.2 &lt;int&gt; | rain &lt;dbl&gt; | cbl &lt;dbl&gt; | ⋯ ⋯ | hg &lt;int&gt; | sun &lt;dbl&gt; | dos &lt;int&gt; | g_rad &lt;int&gt; | soil &lt;dbl&gt; | pe &lt;dbl&gt; | evap &lt;dbl&gt; | smd_wd &lt;dbl&gt; | smd_md &lt;dbl&gt; | smd_pd &lt;dbl&gt; |\n",
       "|---|---|---|---|---|---|---|---|---|---|---|---|---|---|---|---|---|---|---|---|---|---|\n",
       "| 1 | 1942-01-01 | 0 |  9.7 | 0 |  6.8 | 0 |  4.7 | 2 | 0.0 | 1020.3 | ⋯ | NA | 0.0 | 0 | NA | NA | 1.1 | 1.4 | NA | NA | NA |\n",
       "| 2 | 1942-01-02 | 0 |  9.9 | 0 |  7.9 | 0 |  6.7 | 0 | 0.1 | 1016.2 | ⋯ | NA | 0.0 | 0 | NA | NA | 0.7 | 0.9 | NA | NA | NA |\n",
       "| 3 | 1942-01-03 | 0 | 11.2 | 0 |  8.9 | 0 |  7.2 | 0 | 1.5 | 1006.8 | ⋯ | NA | 0.1 | 0 | NA | NA | 0.5 | 0.6 | NA | NA | NA |\n",
       "| 4 | 1942-01-04 | 0 |  9.2 | 0 |  2.7 | 0 |  3.4 | 0 | 3.5 | 1001.5 | ⋯ | NA | 0.6 | 0 | NA | NA | 0.6 | 0.7 | NA | NA | NA |\n",
       "| 5 | 1942-01-05 | 0 |  3.5 | 1 | -0.8 | 0 |  0.0 | 0 | 0.6 | 1013.4 | ⋯ | NA | 3.4 | 0 | NA | NA | 0.6 | 0.7 | NA | NA | NA |\n",
       "| 6 | 1942-01-06 | 0 |  5.1 | 0 |  0.7 | 1 | -3.7 | 2 | 0.0 | 1021.1 | ⋯ | NA | 0.1 | 0 | NA | NA | 0.4 | 0.5 | NA | NA | NA |\n",
       "\n"
      ],
      "text/plain": [
       "  date       ind maxtp ind.1 mintp igmin gmin ind.2 rain cbl    ⋯ hg sun dos\n",
       "1 1942-01-01 0    9.7  0      6.8  0      4.7 2     0.0  1020.3 ⋯ NA 0.0 0  \n",
       "2 1942-01-02 0    9.9  0      7.9  0      6.7 0     0.1  1016.2 ⋯ NA 0.0 0  \n",
       "3 1942-01-03 0   11.2  0      8.9  0      7.2 0     1.5  1006.8 ⋯ NA 0.1 0  \n",
       "4 1942-01-04 0    9.2  0      2.7  0      3.4 0     3.5  1001.5 ⋯ NA 0.6 0  \n",
       "5 1942-01-05 0    3.5  1     -0.8  0      0.0 0     0.6  1013.4 ⋯ NA 3.4 0  \n",
       "6 1942-01-06 0    5.1  0      0.7  1     -3.7 2     0.0  1021.1 ⋯ NA 0.1 0  \n",
       "  g_rad soil pe  evap smd_wd smd_md smd_pd\n",
       "1 NA    NA   1.1 1.4  NA     NA     NA    \n",
       "2 NA    NA   0.7 0.9  NA     NA     NA    \n",
       "3 NA    NA   0.5 0.6  NA     NA     NA    \n",
       "4 NA    NA   0.6 0.7  NA     NA     NA    \n",
       "5 NA    NA   0.6 0.7  NA     NA     NA    \n",
       "6 NA    NA   0.4 0.5  NA     NA     NA    "
      ]
     },
     "metadata": {},
     "output_type": "display_data"
    }
   ],
   "source": [
    "head(dfdub)"
   ]
  },
  {
   "cell_type": "markdown",
   "metadata": {},
   "source": [
    "Have a quick look at the data.  What about NAs?  What is ind.1 and what are its values?  How many rows are there?"
   ]
  },
  {
   "cell_type": "markdown",
   "metadata": {},
   "source": [
    "What unique values do we have?"
   ]
  },
  {
   "cell_type": "code",
   "execution_count": 6,
   "metadata": {},
   "outputs": [
    {
     "data": {
      "text/html": [
       "<style>\n",
       ".list-inline {list-style: none; margin:0; padding: 0}\n",
       ".list-inline>li {display: inline-block}\n",
       ".list-inline>li:not(:last-child)::after {content: \"\\00b7\"; padding: 0 .5ex}\n",
       "</style>\n",
       "<ol class=list-inline><li>&lt;NA&gt;</li><li>40</li><li>14</li><li>35</li><li>46</li><li>31</li><li>41</li><li>38</li><li>22</li><li>13</li><li>27</li><li>24</li><li>25</li><li>9</li><li>32</li><li>33</li><li>26</li><li>30</li><li>20</li><li>43</li><li>37</li><li>29</li><li>28</li><li>23</li><li>36</li><li>17</li><li>16</li><li>19</li><li>18</li><li>7</li><li>34</li><li>15</li><li>10</li><li>39</li><li>52</li><li>47</li><li>21</li><li>11</li><li>49</li><li>12</li><li>44</li><li>42</li><li>54</li><li>45</li><li>53</li><li>50</li><li>51</li><li>5</li><li>8</li><li>59</li><li>48</li><li>55</li><li>62</li><li>58</li><li>6</li><li>68</li><li>56</li><li>57</li><li>60</li><li>61</li><li>73</li><li>67</li><li>63</li><li>69</li><li>64</li><li>71</li><li>66</li><li>70</li><li>75</li><li>65</li><li>4</li><li>3</li><li>76</li><li>80</li></ol>\n"
      ],
      "text/latex": [
       "\\begin{enumerate*}\n",
       "\\item <NA>\n",
       "\\item 40\n",
       "\\item 14\n",
       "\\item 35\n",
       "\\item 46\n",
       "\\item 31\n",
       "\\item 41\n",
       "\\item 38\n",
       "\\item 22\n",
       "\\item 13\n",
       "\\item 27\n",
       "\\item 24\n",
       "\\item 25\n",
       "\\item 9\n",
       "\\item 32\n",
       "\\item 33\n",
       "\\item 26\n",
       "\\item 30\n",
       "\\item 20\n",
       "\\item 43\n",
       "\\item 37\n",
       "\\item 29\n",
       "\\item 28\n",
       "\\item 23\n",
       "\\item 36\n",
       "\\item 17\n",
       "\\item 16\n",
       "\\item 19\n",
       "\\item 18\n",
       "\\item 7\n",
       "\\item 34\n",
       "\\item 15\n",
       "\\item 10\n",
       "\\item 39\n",
       "\\item 52\n",
       "\\item 47\n",
       "\\item 21\n",
       "\\item 11\n",
       "\\item 49\n",
       "\\item 12\n",
       "\\item 44\n",
       "\\item 42\n",
       "\\item 54\n",
       "\\item 45\n",
       "\\item 53\n",
       "\\item 50\n",
       "\\item 51\n",
       "\\item 5\n",
       "\\item 8\n",
       "\\item 59\n",
       "\\item 48\n",
       "\\item 55\n",
       "\\item 62\n",
       "\\item 58\n",
       "\\item 6\n",
       "\\item 68\n",
       "\\item 56\n",
       "\\item 57\n",
       "\\item 60\n",
       "\\item 61\n",
       "\\item 73\n",
       "\\item 67\n",
       "\\item 63\n",
       "\\item 69\n",
       "\\item 64\n",
       "\\item 71\n",
       "\\item 66\n",
       "\\item 70\n",
       "\\item 75\n",
       "\\item 65\n",
       "\\item 4\n",
       "\\item 3\n",
       "\\item 76\n",
       "\\item 80\n",
       "\\end{enumerate*}\n"
      ],
      "text/markdown": [
       "1. &lt;NA&gt;\n",
       "2. 40\n",
       "3. 14\n",
       "4. 35\n",
       "5. 46\n",
       "6. 31\n",
       "7. 41\n",
       "8. 38\n",
       "9. 22\n",
       "10. 13\n",
       "11. 27\n",
       "12. 24\n",
       "13. 25\n",
       "14. 9\n",
       "15. 32\n",
       "16. 33\n",
       "17. 26\n",
       "18. 30\n",
       "19. 20\n",
       "20. 43\n",
       "21. 37\n",
       "22. 29\n",
       "23. 28\n",
       "24. 23\n",
       "25. 36\n",
       "26. 17\n",
       "27. 16\n",
       "28. 19\n",
       "29. 18\n",
       "30. 7\n",
       "31. 34\n",
       "32. 15\n",
       "33. 10\n",
       "34. 39\n",
       "35. 52\n",
       "36. 47\n",
       "37. 21\n",
       "38. 11\n",
       "39. 49\n",
       "40. 12\n",
       "41. 44\n",
       "42. 42\n",
       "43. 54\n",
       "44. 45\n",
       "45. 53\n",
       "46. 50\n",
       "47. 51\n",
       "48. 5\n",
       "49. 8\n",
       "50. 59\n",
       "51. 48\n",
       "52. 55\n",
       "53. 62\n",
       "54. 58\n",
       "55. 6\n",
       "56. 68\n",
       "57. 56\n",
       "58. 57\n",
       "59. 60\n",
       "60. 61\n",
       "61. 73\n",
       "62. 67\n",
       "63. 63\n",
       "64. 69\n",
       "65. 64\n",
       "66. 71\n",
       "67. 66\n",
       "68. 70\n",
       "69. 75\n",
       "70. 65\n",
       "71. 4\n",
       "72. 3\n",
       "73. 76\n",
       "74. 80\n",
       "\n",
       "\n"
      ],
      "text/plain": [
       " [1] NA 40 14 35 46 31 41 38 22 13 27 24 25  9 32 33 26 30 20 43 37 29 28 23 36\n",
       "[26] 17 16 19 18  7 34 15 10 39 52 47 21 11 49 12 44 42 54 45 53 50 51  5  8 59\n",
       "[51] 48 55 62 58  6 68 56 57 60 61 73 67 63 69 64 71 66 70 75 65  4  3 76 80"
      ]
     },
     "metadata": {},
     "output_type": "display_data"
    }
   ],
   "source": [
    "unique(dfdub$hg)"
   ]
  },
  {
   "cell_type": "markdown",
   "metadata": {},
   "source": [
    "Let's look at the rows that have NAs in hg"
   ]
  },
  {
   "cell_type": "code",
   "execution_count": 88,
   "metadata": {},
   "outputs": [
    {
     "data": {
      "text/html": [
       "887"
      ],
      "text/latex": [
       "887"
      ],
      "text/markdown": [
       "887"
      ],
      "text/plain": [
       "[1] 887"
      ]
     },
     "metadata": {},
     "output_type": "display_data"
    },
    {
     "data": {
      "text/html": [
       "<table class=\"dataframe\">\n",
       "<caption>A data.frame: 6 × 26</caption>\n",
       "<thead>\n",
       "\t<tr><th></th><th scope=col>date</th><th scope=col>ind</th><th scope=col>maxtp</th><th scope=col>ind.1</th><th scope=col>mintp</th><th scope=col>igmin</th><th scope=col>gmin</th><th scope=col>ind.2</th><th scope=col>rain</th><th scope=col>cbl</th><th scope=col>⋯</th><th scope=col>hg</th><th scope=col>sun</th><th scope=col>dos</th><th scope=col>g_rad</th><th scope=col>soil</th><th scope=col>pe</th><th scope=col>evap</th><th scope=col>smd_wd</th><th scope=col>smd_md</th><th scope=col>smd_pd</th></tr>\n",
       "\t<tr><th></th><th scope=col>&lt;date&gt;</th><th scope=col>&lt;int&gt;</th><th scope=col>&lt;dbl&gt;</th><th scope=col>&lt;int&gt;</th><th scope=col>&lt;dbl&gt;</th><th scope=col>&lt;int&gt;</th><th scope=col>&lt;dbl&gt;</th><th scope=col>&lt;int&gt;</th><th scope=col>&lt;dbl&gt;</th><th scope=col>&lt;dbl&gt;</th><th scope=col>⋯</th><th scope=col>&lt;int&gt;</th><th scope=col>&lt;dbl&gt;</th><th scope=col>&lt;int&gt;</th><th scope=col>&lt;int&gt;</th><th scope=col>&lt;dbl&gt;</th><th scope=col>&lt;dbl&gt;</th><th scope=col>&lt;dbl&gt;</th><th scope=col>&lt;dbl&gt;</th><th scope=col>&lt;dbl&gt;</th><th scope=col>&lt;dbl&gt;</th></tr>\n",
       "</thead>\n",
       "<tbody>\n",
       "\t<tr><th scope=row>1</th><td>1942-01-01</td><td>0</td><td> 9.7</td><td>0</td><td> 6.8</td><td>0</td><td> 4.7</td><td>2</td><td>0.0</td><td>1020.3</td><td>⋯</td><td>NA</td><td>0.0</td><td>0</td><td>NA</td><td>NA</td><td>1.1</td><td>1.4</td><td>NA</td><td>NA</td><td>NA</td></tr>\n",
       "\t<tr><th scope=row>2</th><td>1942-01-02</td><td>0</td><td> 9.9</td><td>0</td><td> 7.9</td><td>0</td><td> 6.7</td><td>0</td><td>0.1</td><td>1016.2</td><td>⋯</td><td>NA</td><td>0.0</td><td>0</td><td>NA</td><td>NA</td><td>0.7</td><td>0.9</td><td>NA</td><td>NA</td><td>NA</td></tr>\n",
       "\t<tr><th scope=row>3</th><td>1942-01-03</td><td>0</td><td>11.2</td><td>0</td><td> 8.9</td><td>0</td><td> 7.2</td><td>0</td><td>1.5</td><td>1006.8</td><td>⋯</td><td>NA</td><td>0.1</td><td>0</td><td>NA</td><td>NA</td><td>0.5</td><td>0.6</td><td>NA</td><td>NA</td><td>NA</td></tr>\n",
       "\t<tr><th scope=row>4</th><td>1942-01-04</td><td>0</td><td> 9.2</td><td>0</td><td> 2.7</td><td>0</td><td> 3.4</td><td>0</td><td>3.5</td><td>1001.5</td><td>⋯</td><td>NA</td><td>0.6</td><td>0</td><td>NA</td><td>NA</td><td>0.6</td><td>0.7</td><td>NA</td><td>NA</td><td>NA</td></tr>\n",
       "\t<tr><th scope=row>5</th><td>1942-01-05</td><td>0</td><td> 3.5</td><td>1</td><td>-0.8</td><td>0</td><td> 0.0</td><td>0</td><td>0.6</td><td>1013.4</td><td>⋯</td><td>NA</td><td>3.4</td><td>0</td><td>NA</td><td>NA</td><td>0.6</td><td>0.7</td><td>NA</td><td>NA</td><td>NA</td></tr>\n",
       "\t<tr><th scope=row>6</th><td>1942-01-06</td><td>0</td><td> 5.1</td><td>0</td><td> 0.7</td><td>1</td><td>-3.7</td><td>2</td><td>0.0</td><td>1021.1</td><td>⋯</td><td>NA</td><td>0.1</td><td>0</td><td>NA</td><td>NA</td><td>0.4</td><td>0.5</td><td>NA</td><td>NA</td><td>NA</td></tr>\n",
       "</tbody>\n",
       "</table>\n"
      ],
      "text/latex": [
       "A data.frame: 6 × 26\n",
       "\\begin{tabular}{r|lllllllllllllllllllll}\n",
       "  & date & ind & maxtp & ind.1 & mintp & igmin & gmin & ind.2 & rain & cbl & ⋯ & hg & sun & dos & g\\_rad & soil & pe & evap & smd\\_wd & smd\\_md & smd\\_pd\\\\\n",
       "  & <date> & <int> & <dbl> & <int> & <dbl> & <int> & <dbl> & <int> & <dbl> & <dbl> & ⋯ & <int> & <dbl> & <int> & <int> & <dbl> & <dbl> & <dbl> & <dbl> & <dbl> & <dbl>\\\\\n",
       "\\hline\n",
       "\t1 & 1942-01-01 & 0 &  9.7 & 0 &  6.8 & 0 &  4.7 & 2 & 0.0 & 1020.3 & ⋯ & NA & 0.0 & 0 & NA & NA & 1.1 & 1.4 & NA & NA & NA\\\\\n",
       "\t2 & 1942-01-02 & 0 &  9.9 & 0 &  7.9 & 0 &  6.7 & 0 & 0.1 & 1016.2 & ⋯ & NA & 0.0 & 0 & NA & NA & 0.7 & 0.9 & NA & NA & NA\\\\\n",
       "\t3 & 1942-01-03 & 0 & 11.2 & 0 &  8.9 & 0 &  7.2 & 0 & 1.5 & 1006.8 & ⋯ & NA & 0.1 & 0 & NA & NA & 0.5 & 0.6 & NA & NA & NA\\\\\n",
       "\t4 & 1942-01-04 & 0 &  9.2 & 0 &  2.7 & 0 &  3.4 & 0 & 3.5 & 1001.5 & ⋯ & NA & 0.6 & 0 & NA & NA & 0.6 & 0.7 & NA & NA & NA\\\\\n",
       "\t5 & 1942-01-05 & 0 &  3.5 & 1 & -0.8 & 0 &  0.0 & 0 & 0.6 & 1013.4 & ⋯ & NA & 3.4 & 0 & NA & NA & 0.6 & 0.7 & NA & NA & NA\\\\\n",
       "\t6 & 1942-01-06 & 0 &  5.1 & 0 &  0.7 & 1 & -3.7 & 2 & 0.0 & 1021.1 & ⋯ & NA & 0.1 & 0 & NA & NA & 0.4 & 0.5 & NA & NA & NA\\\\\n",
       "\\end{tabular}\n"
      ],
      "text/markdown": [
       "\n",
       "A data.frame: 6 × 26\n",
       "\n",
       "| <!--/--> | date &lt;date&gt; | ind &lt;int&gt; | maxtp &lt;dbl&gt; | ind.1 &lt;int&gt; | mintp &lt;dbl&gt; | igmin &lt;int&gt; | gmin &lt;dbl&gt; | ind.2 &lt;int&gt; | rain &lt;dbl&gt; | cbl &lt;dbl&gt; | ⋯ ⋯ | hg &lt;int&gt; | sun &lt;dbl&gt; | dos &lt;int&gt; | g_rad &lt;int&gt; | soil &lt;dbl&gt; | pe &lt;dbl&gt; | evap &lt;dbl&gt; | smd_wd &lt;dbl&gt; | smd_md &lt;dbl&gt; | smd_pd &lt;dbl&gt; |\n",
       "|---|---|---|---|---|---|---|---|---|---|---|---|---|---|---|---|---|---|---|---|---|---|\n",
       "| 1 | 1942-01-01 | 0 |  9.7 | 0 |  6.8 | 0 |  4.7 | 2 | 0.0 | 1020.3 | ⋯ | NA | 0.0 | 0 | NA | NA | 1.1 | 1.4 | NA | NA | NA |\n",
       "| 2 | 1942-01-02 | 0 |  9.9 | 0 |  7.9 | 0 |  6.7 | 0 | 0.1 | 1016.2 | ⋯ | NA | 0.0 | 0 | NA | NA | 0.7 | 0.9 | NA | NA | NA |\n",
       "| 3 | 1942-01-03 | 0 | 11.2 | 0 |  8.9 | 0 |  7.2 | 0 | 1.5 | 1006.8 | ⋯ | NA | 0.1 | 0 | NA | NA | 0.5 | 0.6 | NA | NA | NA |\n",
       "| 4 | 1942-01-04 | 0 |  9.2 | 0 |  2.7 | 0 |  3.4 | 0 | 3.5 | 1001.5 | ⋯ | NA | 0.6 | 0 | NA | NA | 0.6 | 0.7 | NA | NA | NA |\n",
       "| 5 | 1942-01-05 | 0 |  3.5 | 1 | -0.8 | 0 |  0.0 | 0 | 0.6 | 1013.4 | ⋯ | NA | 3.4 | 0 | NA | NA | 0.6 | 0.7 | NA | NA | NA |\n",
       "| 6 | 1942-01-06 | 0 |  5.1 | 0 |  0.7 | 1 | -3.7 | 2 | 0.0 | 1021.1 | ⋯ | NA | 0.1 | 0 | NA | NA | 0.4 | 0.5 | NA | NA | NA |\n",
       "\n"
      ],
      "text/plain": [
       "  date       ind maxtp ind.1 mintp igmin gmin ind.2 rain cbl    ⋯ hg sun dos\n",
       "1 1942-01-01 0    9.7  0      6.8  0      4.7 2     0.0  1020.3 ⋯ NA 0.0 0  \n",
       "2 1942-01-02 0    9.9  0      7.9  0      6.7 0     0.1  1016.2 ⋯ NA 0.0 0  \n",
       "3 1942-01-03 0   11.2  0      8.9  0      7.2 0     1.5  1006.8 ⋯ NA 0.1 0  \n",
       "4 1942-01-04 0    9.2  0      2.7  0      3.4 0     3.5  1001.5 ⋯ NA 0.6 0  \n",
       "5 1942-01-05 0    3.5  1     -0.8  0      0.0 0     0.6  1013.4 ⋯ NA 3.4 0  \n",
       "6 1942-01-06 0    5.1  0      0.7  1     -3.7 2     0.0  1021.1 ⋯ NA 0.1 0  \n",
       "  g_rad soil pe  evap smd_wd smd_md smd_pd\n",
       "1 NA    NA   1.1 1.4  NA     NA     NA    \n",
       "2 NA    NA   0.7 0.9  NA     NA     NA    \n",
       "3 NA    NA   0.5 0.6  NA     NA     NA    \n",
       "4 NA    NA   0.6 0.7  NA     NA     NA    \n",
       "5 NA    NA   0.6 0.7  NA     NA     NA    \n",
       "6 NA    NA   0.4 0.5  NA     NA     NA    "
      ]
     },
     "metadata": {},
     "output_type": "display_data"
    }
   ],
   "source": [
    "nrow(dfdub[is.na(dfdub$hg),])\n",
    "head(dfdub[is.na(dfdub$hg),])\n"
   ]
  },
  {
   "cell_type": "code",
   "execution_count": 7,
   "metadata": {},
   "outputs": [
    {
     "data": {
      "text/html": [
       "<style>\n",
       ".list-inline {list-style: none; margin:0; padding: 0}\n",
       ".list-inline>li {display: inline-block}\n",
       ".list-inline>li:not(:last-child)::after {content: \"\\00b7\"; padding: 0 .5ex}\n",
       "</style>\n",
       "<ol class=list-inline><li>0</li><li>1</li><li>2</li></ol>\n"
      ],
      "text/latex": [
       "\\begin{enumerate*}\n",
       "\\item 0\n",
       "\\item 1\n",
       "\\item 2\n",
       "\\end{enumerate*}\n"
      ],
      "text/markdown": [
       "1. 0\n",
       "2. 1\n",
       "3. 2\n",
       "\n",
       "\n"
      ],
      "text/plain": [
       "[1] 0 1 2"
      ]
     },
     "metadata": {},
     "output_type": "display_data"
    }
   ],
   "source": [
    "unique(dfdub$ind.1)"
   ]
  },
  {
   "cell_type": "code",
   "execution_count": 8,
   "metadata": {},
   "outputs": [
    {
     "data": {
      "text/html": [
       "29612"
      ],
      "text/latex": [
       "29612"
      ],
      "text/markdown": [
       "29612"
      ],
      "text/plain": [
       "[1] 29612"
      ]
     },
     "metadata": {},
     "output_type": "display_data"
    }
   ],
   "source": [
    "nrow(dfdub)"
   ]
  },
  {
   "cell_type": "markdown",
   "metadata": {},
   "source": [
    "Often we're only interested in some of the attributes:"
   ]
  },
  {
   "cell_type": "code",
   "execution_count": 9,
   "metadata": {},
   "outputs": [
    {
     "data": {
      "text/html": [
       "<style>\n",
       ".list-inline {list-style: none; margin:0; padding: 0}\n",
       ".list-inline>li {display: inline-block}\n",
       ".list-inline>li:not(:last-child)::after {content: \"\\00b7\"; padding: 0 .5ex}\n",
       "</style>\n",
       "<ol class=list-inline><li>'date'</li><li>'ind'</li><li>'maxtp'</li><li>'ind.1'</li><li>'mintp'</li><li>'igmin'</li><li>'gmin'</li><li>'ind.2'</li><li>'rain'</li><li>'cbl'</li><li>'wdsp'</li><li>'ind.3'</li><li>'hm'</li><li>'ind.4'</li><li>'ddhm'</li><li>'ind.5'</li><li>'hg'</li><li>'sun'</li><li>'dos'</li><li>'g_rad'</li><li>'soil'</li><li>'pe'</li><li>'evap'</li><li>'smd_wd'</li><li>'smd_md'</li><li>'smd_pd'</li></ol>\n"
      ],
      "text/latex": [
       "\\begin{enumerate*}\n",
       "\\item 'date'\n",
       "\\item 'ind'\n",
       "\\item 'maxtp'\n",
       "\\item 'ind.1'\n",
       "\\item 'mintp'\n",
       "\\item 'igmin'\n",
       "\\item 'gmin'\n",
       "\\item 'ind.2'\n",
       "\\item 'rain'\n",
       "\\item 'cbl'\n",
       "\\item 'wdsp'\n",
       "\\item 'ind.3'\n",
       "\\item 'hm'\n",
       "\\item 'ind.4'\n",
       "\\item 'ddhm'\n",
       "\\item 'ind.5'\n",
       "\\item 'hg'\n",
       "\\item 'sun'\n",
       "\\item 'dos'\n",
       "\\item 'g\\_rad'\n",
       "\\item 'soil'\n",
       "\\item 'pe'\n",
       "\\item 'evap'\n",
       "\\item 'smd\\_wd'\n",
       "\\item 'smd\\_md'\n",
       "\\item 'smd\\_pd'\n",
       "\\end{enumerate*}\n"
      ],
      "text/markdown": [
       "1. 'date'\n",
       "2. 'ind'\n",
       "3. 'maxtp'\n",
       "4. 'ind.1'\n",
       "5. 'mintp'\n",
       "6. 'igmin'\n",
       "7. 'gmin'\n",
       "8. 'ind.2'\n",
       "9. 'rain'\n",
       "10. 'cbl'\n",
       "11. 'wdsp'\n",
       "12. 'ind.3'\n",
       "13. 'hm'\n",
       "14. 'ind.4'\n",
       "15. 'ddhm'\n",
       "16. 'ind.5'\n",
       "17. 'hg'\n",
       "18. 'sun'\n",
       "19. 'dos'\n",
       "20. 'g_rad'\n",
       "21. 'soil'\n",
       "22. 'pe'\n",
       "23. 'evap'\n",
       "24. 'smd_wd'\n",
       "25. 'smd_md'\n",
       "26. 'smd_pd'\n",
       "\n",
       "\n"
      ],
      "text/plain": [
       " [1] \"date\"   \"ind\"    \"maxtp\"  \"ind.1\"  \"mintp\"  \"igmin\"  \"gmin\"   \"ind.2\" \n",
       " [9] \"rain\"   \"cbl\"    \"wdsp\"   \"ind.3\"  \"hm\"     \"ind.4\"  \"ddhm\"   \"ind.5\" \n",
       "[17] \"hg\"     \"sun\"    \"dos\"    \"g_rad\"  \"soil\"   \"pe\"     \"evap\"   \"smd_wd\"\n",
       "[25] \"smd_md\" \"smd_pd\""
      ]
     },
     "metadata": {},
     "output_type": "display_data"
    }
   ],
   "source": [
    "colnames(dfdub)"
   ]
  },
  {
   "cell_type": "markdown",
   "metadata": {},
   "source": [
    "Let's stick with temperature, rain and sun."
   ]
  },
  {
   "cell_type": "code",
   "execution_count": 89,
   "metadata": {},
   "outputs": [],
   "source": [
    "tdf <- dfdub[c('date','maxtp','mintp','rain','sun')]"
   ]
  },
  {
   "cell_type": "code",
   "execution_count": 90,
   "metadata": {},
   "outputs": [
    {
     "name": "stdout",
     "output_type": "stream",
     "text": [
      "'data.frame':\t29612 obs. of  5 variables:\n",
      " $ date : Date, format: \"1942-01-01\" \"1942-01-02\" ...\n",
      " $ maxtp: num  9.7 9.9 11.2 9.2 3.5 5.1 7.1 7.1 4.5 5.3 ...\n",
      " $ mintp: num  6.8 7.9 8.9 2.7 -0.8 0.7 0.5 1.4 0.7 -2.8 ...\n",
      " $ rain : num  0 0.1 1.5 3.5 0.6 0 0 0 0.2 0 ...\n",
      " $ sun  : num  0 0 0.1 0.6 3.4 0.1 4 3.7 0.6 5 ...\n"
     ]
    }
   ],
   "source": [
    "str(tdf)"
   ]
  },
  {
   "cell_type": "markdown",
   "metadata": {},
   "source": [
    "Let's pivot our data, so we can visualise it on a line chart:"
   ]
  },
  {
   "cell_type": "code",
   "execution_count": 91,
   "metadata": {},
   "outputs": [],
   "source": [
    "dfl <- tdf %>%\n",
    "    pivot_longer( \n",
    "    cols = !date,\n",
    "    names_to = \"measurement\",\n",
    "    values_to = \"value\")"
   ]
  },
  {
   "cell_type": "markdown",
   "metadata": {},
   "source": [
    "We'll work with dates a lot, so we'll add the month and year to the dataframe"
   ]
  },
  {
   "cell_type": "code",
   "execution_count": 92,
   "metadata": {},
   "outputs": [
    {
     "name": "stdout",
     "output_type": "stream",
     "text": [
      "tibble [118,448 × 6] (S3: tbl_df/tbl/data.frame)\n",
      " $ date       : Date[1:118448], format: \"1942-01-01\" \"1942-01-01\" ...\n",
      " $ measurement: chr [1:118448] \"maxtp\" \"mintp\" \"rain\" \"sun\" ...\n",
      " $ value      : num [1:118448] 9.7 6.8 0 0 9.9 7.9 0.1 0 11.2 8.9 ...\n",
      " $ year       : num [1:118448] 1942 1942 1942 1942 1942 ...\n",
      " $ month      : num [1:118448] 1 1 1 1 1 1 1 1 1 1 ...\n",
      " $ Yearmon    : 'yearmon' num [1:118448] Jan 1942 Jan 1942 Jan 1942 Jan 1942 ...\n"
     ]
    }
   ],
   "source": [
    "dfl$year <- year(ymd(dfl$date))\n",
    "dfl$month <- month(ymd(dfl$date))\n",
    "dfl$Yearmon <- as.yearmon(ymd(dfl$date))\n",
    "str(dfl)"
   ]
  },
  {
   "cell_type": "markdown",
   "metadata": {},
   "source": [
    "#### Let's try to do a bar chart with what we have, just for sunshine.  What dimensions do we have?\n",
    " - x axis - date\n",
    " - y axis - value"
   ]
  },
  {
   "cell_type": "code",
   "execution_count": 94,
   "metadata": {},
   "outputs": [
    {
     "data": {
      "image/png": "[encoded data removed]",
      "text/plain": [
       "plot without title"
      ]
     },
     "metadata": {
      "image/png": {
       "height": 420,
       "width": 420
      }
     },
     "output_type": "display_data"
    }
   ],
   "source": [
    "dflsun <- dfl[dfl$measurement == 'sun',]\n",
    "ggplot(dflsun, aes(x=date, y=value))  +\n",
    "geom_bar(stat='identity')"
   ]
  },
  {
   "cell_type": "markdown",
   "metadata": {},
   "source": [
    "Try a scatter plot:"
   ]
  },
  {
   "cell_type": "code",
   "execution_count": 95,
   "metadata": {},
   "outputs": [
    {
     "data": {
      "image/png": "[encoded data removed]",
      "text/plain": [
       "plot without title"
      ]
     },
     "metadata": {
      "image/png": {
       "height": 420,
       "width": 420
      }
     },
     "output_type": "display_data"
    }
   ],
   "source": [
    "ggplot(dflsun, aes(x=date, y=value))  +\n",
    "geom_point()"
   ]
  },
  {
   "cell_type": "markdown",
   "metadata": {},
   "source": [
    "These charts on their own are not helpful.  We'll go back to the pivotted data with all values:"
   ]
  },
  {
   "cell_type": "code",
   "execution_count": 78,
   "metadata": {},
   "outputs": [
    {
     "name": "stdout",
     "output_type": "stream",
     "text": [
      "tibble [118,448 × 7] (S3: tbl_df/tbl/data.frame)\n",
      " $ date       : Date[1:118448], format: \"1942-01-01\" \"1942-01-01\" ...\n",
      " $ measurement: chr [1:118448] \"maxtp\" \"mintp\" \"rain\" \"sun\" ...\n",
      " $ value      : num [1:118448] 9.7 6.8 0 0 9.9 7.9 0.1 0 11.2 8.9 ...\n",
      " $ year       : num [1:118448] 1942 1942 1942 1942 1942 ...\n",
      " $ month      : num [1:118448] 1 1 1 1 1 1 1 1 1 1 ...\n",
      " $ yearmon    : 'yearmon' num [1:118448] Jan 1942 Jan 1942 Jan 1942 Jan 1942 ...\n",
      " $ Yearmon    : 'yearmon' num [1:118448] Jan 1942 Jan 1942 Jan 1942 Jan 1942 ...\n"
     ]
    }
   ],
   "source": [
    "str(dfl)"
   ]
  },
  {
   "cell_type": "markdown",
   "metadata": {},
   "source": [
    "Let's try using month, instead of date:"
   ]
  },
  {
   "cell_type": "code",
   "execution_count": 96,
   "metadata": {},
   "outputs": [
    {
     "data": {
      "image/png": "[encoded data removed]",
      "text/plain": [
       "plot without title"
      ]
     },
     "metadata": {
      "image/png": {
       "height": 420,
       "width": 420
      }
     },
     "output_type": "display_data"
    }
   ],
   "source": [
    "ggplot(dflsun, aes(x=month, y=value))  +\n",
    "geom_point()"
   ]
  },
  {
   "cell_type": "code",
   "execution_count": 98,
   "metadata": {},
   "outputs": [
    {
     "data": {
      "image/png": "[encoded data removed]",
      "text/plain": [
       "plot without title"
      ]
     },
     "metadata": {
      "image/png": {
       "height": 420,
       "width": 420
      }
     },
     "output_type": "display_data"
    }
   ],
   "source": [
    "ggplot(dflsun, aes(x=month, y=value))  +\n",
    "geom_bar(stat = 'identity')"
   ]
  },
  {
   "cell_type": "markdown",
   "metadata": {},
   "source": [
    "### Conclusion\n",
    "Bar charts and scatter plots work better with discrete time (months) rather than continuous time (dates)"
   ]
  },
  {
   "cell_type": "markdown",
   "metadata": {},
   "source": [
    "### Line plots"
   ]
  },
  {
   "cell_type": "code",
   "execution_count": 100,
   "metadata": {},
   "outputs": [
    {
     "data": {
      "image/png": "[encoded data removed]",
      "text/plain": [
       "plot without title"
      ]
     },
     "metadata": {
      "image/png": {
       "height": 420,
       "width": 420
      }
     },
     "output_type": "display_data"
    }
   ],
   "source": [
    "\n",
    "ggplot(dflsun, aes(x=month, y=value)) + geom_line()"
   ]
  },
  {
   "cell_type": "markdown",
   "metadata": {},
   "source": [
    "This didn't work, because there are many values for each month.  We need to manipulate our data frame so that we have one value (we'll go for average) for each month, regardless of year."
   ]
  },
  {
   "cell_type": "code",
   "execution_count": 17,
   "metadata": {},
   "outputs": [
    {
     "name": "stdout",
     "output_type": "stream",
     "text": [
      "tibble [118,448 × 5] (S3: tbl_df/tbl/data.frame)\n",
      " $ date       : Date[1:118448], format: \"1942-01-01\" \"1942-01-01\" ...\n",
      " $ measurement: chr [1:118448] \"maxtp\" \"mintp\" \"rain\" \"sun\" ...\n",
      " $ value      : num [1:118448] 9.7 6.8 0 0 9.9 7.9 0.1 0 11.2 8.9 ...\n",
      " $ year       : num [1:118448] 1942 1942 1942 1942 1942 ...\n",
      " $ month      : num [1:118448] 1 1 1 1 1 1 1 1 1 1 ...\n"
     ]
    }
   ],
   "source": [
    "str(dfl)"
   ]
  },
  {
   "cell_type": "code",
   "execution_count": 18,
   "metadata": {},
   "outputs": [
    {
     "data": {
      "text/html": [
       "<style>\n",
       ".list-inline {list-style: none; margin:0; padding: 0}\n",
       ".list-inline>li {display: inline-block}\n",
       ".list-inline>li:not(:last-child)::after {content: \"\\00b7\"; padding: 0 .5ex}\n",
       "</style>\n",
       "<ol class=list-inline><li>1</li><li>2</li><li>3</li><li>4</li><li>5</li><li>6</li><li>7</li><li>8</li><li>9</li><li>10</li><li>11</li><li>12</li></ol>\n"
      ],
      "text/latex": [
       "\\begin{enumerate*}\n",
       "\\item 1\n",
       "\\item 2\n",
       "\\item 3\n",
       "\\item 4\n",
       "\\item 5\n",
       "\\item 6\n",
       "\\item 7\n",
       "\\item 8\n",
       "\\item 9\n",
       "\\item 10\n",
       "\\item 11\n",
       "\\item 12\n",
       "\\end{enumerate*}\n"
      ],
      "text/markdown": [
       "1. 1\n",
       "2. 2\n",
       "3. 3\n",
       "4. 4\n",
       "5. 5\n",
       "6. 6\n",
       "7. 7\n",
       "8. 8\n",
       "9. 9\n",
       "10. 10\n",
       "11. 11\n",
       "12. 12\n",
       "\n",
       "\n"
      ],
      "text/plain": [
       " [1]  1  2  3  4  5  6  7  8  9 10 11 12"
      ]
     },
     "metadata": {},
     "output_type": "display_data"
    }
   ],
   "source": [
    "unique(dfl$month)"
   ]
  },
  {
   "cell_type": "code",
   "execution_count": 102,
   "metadata": {},
   "outputs": [],
   "source": [
    "mondf <-\n",
    "dfl %>%\n",
    "  group_by(month, measurement) %>%\n",
    "  summarize_at(vars(value), list(Average=mean), na.rm=TRUE)"
   ]
  },
  {
   "cell_type": "code",
   "execution_count": 104,
   "metadata": {},
   "outputs": [
    {
     "name": "stdout",
     "output_type": "stream",
     "text": [
      "gropd_df [48 × 3] (S3: grouped_df/tbl_df/tbl/data.frame)\n",
      " $ month      : num [1:48] 1 1 1 1 2 2 2 2 3 3 ...\n",
      " $ measurement: chr [1:48] \"maxtp\" \"mintp\" \"rain\" \"sun\" ...\n",
      " $ Average    : num [1:48] 7.75 2.34 2.13 1.94 7.96 ...\n",
      " - attr(*, \"groups\")= tibble [12 × 2] (S3: tbl_df/tbl/data.frame)\n",
      "  ..$ month: num [1:12] 1 2 3 4 5 6 7 8 9 10 ...\n",
      "  ..$ .rows: list<int> [1:12] \n",
      "  .. ..$ : int [1:4] 1 2 3 4\n",
      "  .. ..$ : int [1:4] 5 6 7 8\n",
      "  .. ..$ : int [1:4] 9 10 11 12\n",
      "  .. ..$ : int [1:4] 13 14 15 16\n",
      "  .. ..$ : int [1:4] 17 18 19 20\n",
      "  .. ..$ : int [1:4] 21 22 23 24\n",
      "  .. ..$ : int [1:4] 25 26 27 28\n",
      "  .. ..$ : int [1:4] 29 30 31 32\n",
      "  .. ..$ : int [1:4] 33 34 35 36\n",
      "  .. ..$ : int [1:4] 37 38 39 40\n",
      "  .. ..$ : int [1:4] 41 42 43 44\n",
      "  .. ..$ : int [1:4] 45 46 47 48\n",
      "  .. ..@ ptype: int(0) \n",
      "  ..- attr(*, \".drop\")= logi TRUE\n"
     ]
    }
   ],
   "source": [
    "str(mondf)"
   ]
  },
  {
   "cell_type": "code",
   "execution_count": 105,
   "metadata": {},
   "outputs": [
    {
     "data": {
      "image/png": "[encoded data removed]",
      "text/plain": [
       "plot without title"
      ]
     },
     "metadata": {
      "image/png": {
       "height": 420,
       "width": 420
      }
     },
     "output_type": "display_data"
    }
   ],
   "source": [
    "ggplot(mondf[mondf$measurement == 'sun',], aes(x=month, y=Average)) + geom_line()"
   ]
  },
  {
   "cell_type": "code",
   "execution_count": 19,
   "metadata": {},
   "outputs": [
    {
     "data": {
      "text/html": [
       "<style>\n",
       ".list-inline {list-style: none; margin:0; padding: 0}\n",
       ".list-inline>li {display: inline-block}\n",
       ".list-inline>li:not(:last-child)::after {content: \"\\00b7\"; padding: 0 .5ex}\n",
       "</style>\n",
       "<ol class=list-inline><li>1942</li><li>1943</li><li>1944</li><li>1945</li><li>1946</li><li>1947</li><li>1948</li><li>1949</li><li>1950</li><li>1951</li><li>1952</li><li>1953</li><li>1954</li><li>1955</li><li>1956</li><li>1957</li><li>1958</li><li>1959</li><li>1960</li><li>1961</li><li>1962</li><li>1963</li><li>1964</li><li>1965</li><li>1966</li><li>1967</li><li>1968</li><li>1969</li><li>1970</li><li>1971</li><li>1972</li><li>1973</li><li>1974</li><li>1975</li><li>1976</li><li>1977</li><li>1978</li><li>1979</li><li>1980</li><li>1981</li><li>1982</li><li>1983</li><li>1984</li><li>1985</li><li>1986</li><li>1987</li><li>1988</li><li>1989</li><li>1990</li><li>1991</li><li>1992</li><li>1993</li><li>1994</li><li>1995</li><li>1996</li><li>1997</li><li>1998</li><li>1999</li><li>2000</li><li>2001</li><li>2002</li><li>2003</li><li>2004</li><li>2005</li><li>2006</li><li>2007</li><li>2008</li><li>2009</li><li>2010</li><li>2011</li><li>2012</li><li>2013</li><li>2014</li><li>2015</li><li>2016</li><li>2017</li><li>2018</li><li>2019</li><li>2020</li><li>2021</li><li>2022</li><li>2023</li></ol>\n"
      ],
      "text/latex": [
       "\\begin{enumerate*}\n",
       "\\item 1942\n",
       "\\item 1943\n",
       "\\item 1944\n",
       "\\item 1945\n",
       "\\item 1946\n",
       "\\item 1947\n",
       "\\item 1948\n",
       "\\item 1949\n",
       "\\item 1950\n",
       "\\item 1951\n",
       "\\item 1952\n",
       "\\item 1953\n",
       "\\item 1954\n",
       "\\item 1955\n",
       "\\item 1956\n",
       "\\item 1957\n",
       "\\item 1958\n",
       "\\item 1959\n",
       "\\item 1960\n",
       "\\item 1961\n",
       "\\item 1962\n",
       "\\item 1963\n",
       "\\item 1964\n",
       "\\item 1965\n",
       "\\item 1966\n",
       "\\item 1967\n",
       "\\item 1968\n",
       "\\item 1969\n",
       "\\item 1970\n",
       "\\item 1971\n",
       "\\item 1972\n",
       "\\item 1973\n",
       "\\item 1974\n",
       "\\item 1975\n",
       "\\item 1976\n",
       "\\item 1977\n",
       "\\item 1978\n",
       "\\item 1979\n",
       "\\item 1980\n",
       "\\item 1981\n",
       "\\item 1982\n",
       "\\item 1983\n",
       "\\item 1984\n",
       "\\item 1985\n",
       "\\item 1986\n",
       "\\item 1987\n",
       "\\item 1988\n",
       "\\item 1989\n",
       "\\item 1990\n",
       "\\item 1991\n",
       "\\item 1992\n",
       "\\item 1993\n",
       "\\item 1994\n",
       "\\item 1995\n",
       "\\item 1996\n",
       "\\item 1997\n",
       "\\item 1998\n",
       "\\item 1999\n",
       "\\item 2000\n",
       "\\item 2001\n",
       "\\item 2002\n",
       "\\item 2003\n",
       "\\item 2004\n",
       "\\item 2005\n",
       "\\item 2006\n",
       "\\item 2007\n",
       "\\item 2008\n",
       "\\item 2009\n",
       "\\item 2010\n",
       "\\item 2011\n",
       "\\item 2012\n",
       "\\item 2013\n",
       "\\item 2014\n",
       "\\item 2015\n",
       "\\item 2016\n",
       "\\item 2017\n",
       "\\item 2018\n",
       "\\item 2019\n",
       "\\item 2020\n",
       "\\item 2021\n",
       "\\item 2022\n",
       "\\item 2023\n",
       "\\end{enumerate*}\n"
      ],
      "text/markdown": [
       "1. 1942\n",
       "2. 1943\n",
       "3. 1944\n",
       "4. 1945\n",
       "5. 1946\n",
       "6. 1947\n",
       "7. 1948\n",
       "8. 1949\n",
       "9. 1950\n",
       "10. 1951\n",
       "11. 1952\n",
       "12. 1953\n",
       "13. 1954\n",
       "14. 1955\n",
       "15. 1956\n",
       "16. 1957\n",
       "17. 1958\n",
       "18. 1959\n",
       "19. 1960\n",
       "20. 1961\n",
       "21. 1962\n",
       "22. 1963\n",
       "23. 1964\n",
       "24. 1965\n",
       "25. 1966\n",
       "26. 1967\n",
       "27. 1968\n",
       "28. 1969\n",
       "29. 1970\n",
       "30. 1971\n",
       "31. 1972\n",
       "32. 1973\n",
       "33. 1974\n",
       "34. 1975\n",
       "35. 1976\n",
       "36. 1977\n",
       "37. 1978\n",
       "38. 1979\n",
       "39. 1980\n",
       "40. 1981\n",
       "41. 1982\n",
       "42. 1983\n",
       "43. 1984\n",
       "44. 1985\n",
       "45. 1986\n",
       "46. 1987\n",
       "47. 1988\n",
       "48. 1989\n",
       "49. 1990\n",
       "50. 1991\n",
       "51. 1992\n",
       "52. 1993\n",
       "53. 1994\n",
       "54. 1995\n",
       "55. 1996\n",
       "56. 1997\n",
       "57. 1998\n",
       "58. 1999\n",
       "59. 2000\n",
       "60. 2001\n",
       "61. 2002\n",
       "62. 2003\n",
       "63. 2004\n",
       "64. 2005\n",
       "65. 2006\n",
       "66. 2007\n",
       "67. 2008\n",
       "68. 2009\n",
       "69. 2010\n",
       "70. 2011\n",
       "71. 2012\n",
       "72. 2013\n",
       "73. 2014\n",
       "74. 2015\n",
       "75. 2016\n",
       "76. 2017\n",
       "77. 2018\n",
       "78. 2019\n",
       "79. 2020\n",
       "80. 2021\n",
       "81. 2022\n",
       "82. 2023\n",
       "\n",
       "\n"
      ],
      "text/plain": [
       " [1] 1942 1943 1944 1945 1946 1947 1948 1949 1950 1951 1952 1953 1954 1955 1956\n",
       "[16] 1957 1958 1959 1960 1961 1962 1963 1964 1965 1966 1967 1968 1969 1970 1971\n",
       "[31] 1972 1973 1974 1975 1976 1977 1978 1979 1980 1981 1982 1983 1984 1985 1986\n",
       "[46] 1987 1988 1989 1990 1991 1992 1993 1994 1995 1996 1997 1998 1999 2000 2001\n",
       "[61] 2002 2003 2004 2005 2006 2007 2008 2009 2010 2011 2012 2013 2014 2015 2016\n",
       "[76] 2017 2018 2019 2020 2021 2022 2023"
      ]
     },
     "metadata": {},
     "output_type": "display_data"
    }
   ],
   "source": [
    "unique(dfl$year)"
   ]
  },
  {
   "cell_type": "code",
   "execution_count": 106,
   "metadata": {},
   "outputs": [
    {
     "data": {
      "image/png": "[encoded data removed]",
      "text/plain": [
       "plot without title"
      ]
     },
     "metadata": {
      "image/png": {
       "height": 420,
       "width": 420
      }
     },
     "output_type": "display_data"
    }
   ],
   "source": [
    "ggplot(mondf[mondf$measurement=='sun',], aes(x=month, y=Average)) + geom_line()"
   ]
  },
  {
   "cell_type": "code",
   "execution_count": 107,
   "metadata": {},
   "outputs": [
    {
     "data": {
      "image/png": "[encoded data removed]",
      "text/plain": [
       "plot without title"
      ]
     },
     "metadata": {
      "image/png": {
       "height": 420,
       "width": 420
      }
     },
     "output_type": "display_data"
    }
   ],
   "source": [
    "ggplot(mondf, aes(x=month, y=Average, colour = measurement)) + geom_line(linewidth=1.5, alpha=0.8) +\n",
    "labs(title=\"Weather Measurements in Dublin Airport by Month\",\n",
    "    subtitle=\"What is the seasonal trend?\",\n",
    "    x=\"Month\",\n",
    "    y=\"Measurement\",\n",
    "    color=\"Indicator\") +\n",
    "theme_bw() +\n",
    "theme(\n",
    "    axis.title=element_text()) +\n",
    "scale_x_continuous(breaks=c(1,2,3,4,5,6,7,8,9,10,11,12))"
   ]
  },
  {
   "cell_type": "code",
   "execution_count": 58,
   "metadata": {},
   "outputs": [
    {
     "data": {
      "image/png": "[encoded data removed]",
      "text/plain": [
       "plot without title"
      ]
     },
     "metadata": {
      "image/png": {
       "height": 420,
       "width": 420
      }
     },
     "output_type": "display_data"
    }
   ],
   "source": [
    "ggplot(mondf, aes(x=month, y=Average, fill=measurement)) +\n",
    "\n",
    "geom_bar(stat='identity') +theme_classic() + \n",
    "\n",
    "labs(title=\"Weather Measurements in Dublin Airport by Month\",\n",
    "    subtitle=\"What is the seasonal trend?\",\n",
    "    x=\"Month\",\n",
    "    y=\"Measurement\",\n",
    "    color=\"Indicator\") +\n",
    "theme_bw() +\n",
    "theme(\n",
    "    axis.title=element_text()) +\n",
    "scale_x_continuous(breaks=c(1,2,3,4,5,6,7,8,9,10,11,12))"
   ]
  },
  {
   "cell_type": "code",
   "execution_count": 65,
   "metadata": {},
   "outputs": [
    {
     "data": {
      "image/png": "[encoded data removed]",
      "text/plain": [
       "plot without title"
      ]
     },
     "metadata": {
      "image/png": {
       "height": 420,
       "width": 420
      }
     },
     "output_type": "display_data"
    }
   ],
   "source": [
    "ggplot(mondf, aes(x=month, y=Average, fill=measurement)) +\n",
    "\n",
    "geom_area(stat='identity') +theme_classic() + \n",
    "\n",
    "labs(title=\"Weather Measurements in Dublin Airport by Month\",\n",
    "    subtitle=\"What is the seasonal trend?\",\n",
    "    x=\"Month\",\n",
    "    y=\"Measurement\",\n",
    "    color=\"Indicator\") +\n",
    "theme_bw() +\n",
    "theme(\n",
    "    axis.title=element_text()) +\n",
    "scale_x_continuous(breaks=c(1,2,3,4,5,6,7,8,9,10,11,12))"
   ]
  },
  {
   "cell_type": "code",
   "execution_count": 64,
   "metadata": {},
   "outputs": [
    {
     "data": {
      "image/png": "[encoded data removed]",
      "text/plain": [
       "plot without title"
      ]
     },
     "metadata": {
      "image/png": {
       "height": 420,
       "width": 420
      }
     },
     "output_type": "display_data"
    }
   ],
   "source": [
    "ggplot(mondf, aes(x=month, y=Average)) +\n",
    "\n",
    "    facet_grid(facets = measurement~.) +\n",
    "geom_line() + theme_classic() + \n",
    "\n",
    "labs(title=\"Weather Measurements in Dublin Airport by Month\",\n",
    "    subtitle=\"What is the seasonal trend?\",\n",
    "    x=\"Month\",\n",
    "    y=\"Measurement\",\n",
    "    color=\"Indicator\") +\n",
    "theme_bw() +\n",
    "theme(\n",
    "    axis.title=element_text()) +\n",
    "scale_x_continuous(breaks=c(1,2,3,4,5,6,7,8,9,10,11,12))"
   ]
  }
 ],
 "metadata": {
  "kernelspec": {
   "display_name": "R",
   "language": "R",
   "name": "ir"
  },
  "language_info": {
   "codemirror_mode": "r",
   "file_extension": ".r",
   "mimetype": "text/x-r-source",
   "name": "R",
   "pygments_lexer": "r",
   "version": "4.2.2"
  }
 },
 "nbformat": 4,
 "nbformat_minor": 4
}
