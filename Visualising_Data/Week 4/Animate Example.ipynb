{
 "cells": [
  {
   "cell_type": "markdown",
   "metadata": {},
   "source": [
    "# Visualising animation and interactivity\n",
    "\n",
    "This notebook explores the use of time-transition animation and streamgraphs."
   ]
  },
  {
   "cell_type": "code",
   "execution_count": 1,
   "metadata": {},
   "outputs": [
    {
     "name": "stdout",
     "output_type": "stream",
     "text": [
      "package 'tweenr' successfully unpacked and MD5 sums checked\n"
     ]
    },
    {
     "name": "stderr",
     "output_type": "stream",
     "text": [
      "Warning message:\n",
      "\"cannot remove prior installation of package 'tweenr'\"\n",
      "Warning message in file.copy(savedcopy, lib, recursive = TRUE):\n",
      "\"problem copying C:\\Users\\lukeh\\anaconda3\\envs\\Visdata\\Lib\\R\\library\\00LOCK\\tweenr\\libs\\x64\\tweenr.dll to C:\\Users\\lukeh\\anaconda3\\envs\\Visdata\\Lib\\R\\library\\tweenr\\libs\\x64\\tweenr.dll: Permission denied\"\n",
      "Warning message:\n",
      "\"restored 'tweenr'\"\n"
     ]
    },
    {
     "name": "stdout",
     "output_type": "stream",
     "text": [
      "\n",
      "The downloaded binary packages are in\n",
      "\tC:\\Users\\lukeh\\AppData\\Local\\Temp\\RtmpIxt91W\\downloaded_packages\n"
     ]
    },
    {
     "name": "stderr",
     "output_type": "stream",
     "text": [
      "Loading required package: usethis\n",
      "\n",
      "Skipping install of 'gganimate' from a github remote, the SHA1 (7cd46dc2) has not changed since last install.\n",
      "  Use `force = TRUE` to force installation\n",
      "\n",
      "Skipping install of 'streamgraph' from a github remote, the SHA1 (76f7173e) has not changed since last install.\n",
      "  Use `force = TRUE` to force installation\n",
      "\n"
     ]
    }
   ],
   "source": [
    "install.packages(\"tweenr\")\n",
    "# install.packages(\"gganimate\")\n",
    "library(devtools)\n",
    "devtools::install_github(\"dgrtwo/gganimate\")\n",
    "devtools::install_github(\"hrbrmstr/streamgraph\")"
   ]
  },
  {
   "cell_type": "code",
   "execution_count": 2,
   "metadata": {},
   "outputs": [
    {
     "name": "stderr",
     "output_type": "stream",
     "text": [
      "-- \u001b[1mAttaching packages\u001b[22m --------------------------------------- tidyverse 1.3.2 --\n",
      "\u001b[32mv\u001b[39m \u001b[34mggplot2\u001b[39m 3.4.1      \u001b[32mv\u001b[39m \u001b[34mpurrr  \u001b[39m 1.0.1 \n",
      "\u001b[32mv\u001b[39m \u001b[34mtibble \u001b[39m 3.1.8      \u001b[32mv\u001b[39m \u001b[34mdplyr  \u001b[39m 1.0.10\n",
      "\u001b[32mv\u001b[39m \u001b[34mtidyr  \u001b[39m 1.3.0      \u001b[32mv\u001b[39m \u001b[34mstringr\u001b[39m 1.5.0 \n",
      "\u001b[32mv\u001b[39m \u001b[34mreadr  \u001b[39m 2.1.3      \u001b[32mv\u001b[39m \u001b[34mforcats\u001b[39m 0.5.2 \n",
      "-- \u001b[1mConflicts\u001b[22m ------------------------------------------ tidyverse_conflicts() --\n",
      "\u001b[31mx\u001b[39m \u001b[34mdplyr\u001b[39m::\u001b[32mfilter()\u001b[39m masks \u001b[34mstats\u001b[39m::filter()\n",
      "\u001b[31mx\u001b[39m \u001b[34mdplyr\u001b[39m::\u001b[32mlag()\u001b[39m    masks \u001b[34mstats\u001b[39m::lag()\n",
      "No renderer backend detected. gganimate will default to writing frames to separate files\n",
      "Consider installing:\n",
      "- the `gifski` package for gif output\n",
      "- the `av` package for video output\n",
      "and restarting the R session\n",
      "\n"
     ]
    }
   ],
   "source": [
    "library(tidyverse)\n",
    "library(gganimate)\n",
    "library(streamgraph)"
   ]
  },
  {
   "cell_type": "markdown",
   "metadata": {},
   "source": [
    "### We will use:\n",
    "- Handling multiple dimensions over time\n",
    "    - Stream Graph\n",
    "    - Animation"
   ]
  },
  {
   "cell_type": "code",
   "execution_count": 3,
   "metadata": {},
   "outputs": [
    {
     "name": "stdout",
     "output_type": "stream",
     "text": [
      "'data.frame':\t26354 obs. of  7 variables:\n",
      " $ Year       : int  1978 1978 1978 1978 1978 1978 1978 1978 1978 1978 ...\n",
      " $ Month      : int  10 10 10 11 11 11 11 11 11 11 ...\n",
      " $ Day        : int  26 28 30 1 3 5 7 9 11 13 ...\n",
      " $ Extent     : num  10.2 10.4 10.6 10.7 10.8 ...\n",
      " $ Missing    : num  0 0 0 0 0 0 0 0 0 0 ...\n",
      " $ Source.Data: chr  \" ['ftp://sidads.colorado.edu/pub/DATASETS/nsidc0051_gsfc_nasateam_seaice/final-gsfc/north/daily/1978/nt_1978102\"| __truncated__ \" ['ftp://sidads.colorado.edu/pub/DATASETS/nsidc0051_gsfc_nasateam_seaice/final-gsfc/north/daily/1978/nt_1978102\"| __truncated__ \" ['ftp://sidads.colorado.edu/pub/DATASETS/nsidc0051_gsfc_nasateam_seaice/final-gsfc/north/daily/1978/nt_1978103\"| __truncated__ \" ['ftp://sidads.colorado.edu/pub/DATASETS/nsidc0051_gsfc_nasateam_seaice/final-gsfc/north/daily/1978/nt_1978110\"| __truncated__ ...\n",
      " $ hemisphere : chr  \"north\" \"north\" \"north\" \"north\" ...\n"
     ]
    }
   ],
   "source": [
    "mydata = file.path(\"C:\",\"Users\",\"lukeh\",\"Documents\",\"College\",\"4th-Year\",\"Visualising_Data\")\n",
    "datapath = file.path(mydata,\"seaice.csv\")\n",
    "df <- read.csv(datapath)\n",
    "str(df)"
   ]
  },
  {
   "cell_type": "code",
   "execution_count": 4,
   "metadata": {},
   "outputs": [],
   "source": [
    "df <- subset(df, select= (-c(Source.Data)))"
   ]
  },
  {
   "cell_type": "code",
   "execution_count": 5,
   "metadata": {},
   "outputs": [
    {
     "data": {
      "text/html": [
       "<table class=\"dataframe\">\n",
       "<caption>A data.frame: 6 × 6</caption>\n",
       "<thead>\n",
       "\t<tr><th></th><th scope=col>Year</th><th scope=col>Month</th><th scope=col>Day</th><th scope=col>Extent</th><th scope=col>Missing</th><th scope=col>hemisphere</th></tr>\n",
       "\t<tr><th></th><th scope=col>&lt;int&gt;</th><th scope=col>&lt;int&gt;</th><th scope=col>&lt;int&gt;</th><th scope=col>&lt;dbl&gt;</th><th scope=col>&lt;dbl&gt;</th><th scope=col>&lt;chr&gt;</th></tr>\n",
       "</thead>\n",
       "<tbody>\n",
       "\t<tr><th scope=row>1</th><td>1978</td><td>10</td><td>26</td><td>10.231</td><td>0</td><td>north</td></tr>\n",
       "\t<tr><th scope=row>2</th><td>1978</td><td>10</td><td>28</td><td>10.420</td><td>0</td><td>north</td></tr>\n",
       "\t<tr><th scope=row>3</th><td>1978</td><td>10</td><td>30</td><td>10.557</td><td>0</td><td>north</td></tr>\n",
       "\t<tr><th scope=row>4</th><td>1978</td><td>11</td><td> 1</td><td>10.670</td><td>0</td><td>north</td></tr>\n",
       "\t<tr><th scope=row>5</th><td>1978</td><td>11</td><td> 3</td><td>10.777</td><td>0</td><td>north</td></tr>\n",
       "\t<tr><th scope=row>6</th><td>1978</td><td>11</td><td> 5</td><td>10.968</td><td>0</td><td>north</td></tr>\n",
       "</tbody>\n",
       "</table>\n"
      ],
      "text/latex": [
       "A data.frame: 6 × 6\n",
       "\\begin{tabular}{r|llllll}\n",
       "  & Year & Month & Day & Extent & Missing & hemisphere\\\\\n",
       "  & <int> & <int> & <int> & <dbl> & <dbl> & <chr>\\\\\n",
       "\\hline\n",
       "\t1 & 1978 & 10 & 26 & 10.231 & 0 & north\\\\\n",
       "\t2 & 1978 & 10 & 28 & 10.420 & 0 & north\\\\\n",
       "\t3 & 1978 & 10 & 30 & 10.557 & 0 & north\\\\\n",
       "\t4 & 1978 & 11 &  1 & 10.670 & 0 & north\\\\\n",
       "\t5 & 1978 & 11 &  3 & 10.777 & 0 & north\\\\\n",
       "\t6 & 1978 & 11 &  5 & 10.968 & 0 & north\\\\\n",
       "\\end{tabular}\n"
      ],
      "text/markdown": [
       "\n",
       "A data.frame: 6 × 6\n",
       "\n",
       "| <!--/--> | Year &lt;int&gt; | Month &lt;int&gt; | Day &lt;int&gt; | Extent &lt;dbl&gt; | Missing &lt;dbl&gt; | hemisphere &lt;chr&gt; |\n",
       "|---|---|---|---|---|---|---|\n",
       "| 1 | 1978 | 10 | 26 | 10.231 | 0 | north |\n",
       "| 2 | 1978 | 10 | 28 | 10.420 | 0 | north |\n",
       "| 3 | 1978 | 10 | 30 | 10.557 | 0 | north |\n",
       "| 4 | 1978 | 11 |  1 | 10.670 | 0 | north |\n",
       "| 5 | 1978 | 11 |  3 | 10.777 | 0 | north |\n",
       "| 6 | 1978 | 11 |  5 | 10.968 | 0 | north |\n",
       "\n"
      ],
      "text/plain": [
       "  Year Month Day Extent Missing hemisphere\n",
       "1 1978 10    26  10.231 0       north     \n",
       "2 1978 10    28  10.420 0       north     \n",
       "3 1978 10    30  10.557 0       north     \n",
       "4 1978 11     1  10.670 0       north     \n",
       "5 1978 11     3  10.777 0       north     \n",
       "6 1978 11     5  10.968 0       north     "
      ]
     },
     "metadata": {},
     "output_type": "display_data"
    }
   ],
   "source": [
    "head(df)"
   ]
  },
  {
   "cell_type": "code",
   "execution_count": 6,
   "metadata": {},
   "outputs": [],
   "source": [
    "df <- \n",
    "df %>%\n",
    "group_by(Year, Month, hemisphere) %>%\n",
    "summarise_at (vars(Extent), list(Monthly_Extent=sum))\n",
    "dfice <- df"
   ]
  },
  {
   "cell_type": "code",
   "execution_count": 7,
   "metadata": {},
   "outputs": [
    {
     "data": {
      "text/html": [
       "<table class=\"dataframe\">\n",
       "<caption>A grouped_df: 6 × 4</caption>\n",
       "<thead>\n",
       "\t<tr><th scope=col>Year</th><th scope=col>Month</th><th scope=col>hemisphere</th><th scope=col>Monthly_Extent</th></tr>\n",
       "\t<tr><th scope=col>&lt;int&gt;</th><th scope=col>&lt;int&gt;</th><th scope=col>&lt;chr&gt;</th><th scope=col>&lt;dbl&gt;</th></tr>\n",
       "</thead>\n",
       "<tbody>\n",
       "\t<tr><td>1978</td><td>10</td><td>north</td><td> 31.208</td></tr>\n",
       "\t<tr><td>1978</td><td>10</td><td>south</td><td> 53.097</td></tr>\n",
       "\t<tr><td>1978</td><td>11</td><td>north</td><td>174.677</td></tr>\n",
       "\t<tr><td>1978</td><td>11</td><td>south</td><td>238.446</td></tr>\n",
       "\t<tr><td>1978</td><td>12</td><td>north</td><td>218.673</td></tr>\n",
       "\t<tr><td>1978</td><td>12</td><td>south</td><td>166.324</td></tr>\n",
       "</tbody>\n",
       "</table>\n"
      ],
      "text/latex": [
       "A grouped\\_df: 6 × 4\n",
       "\\begin{tabular}{llll}\n",
       " Year & Month & hemisphere & Monthly\\_Extent\\\\\n",
       " <int> & <int> & <chr> & <dbl>\\\\\n",
       "\\hline\n",
       "\t 1978 & 10 & north &  31.208\\\\\n",
       "\t 1978 & 10 & south &  53.097\\\\\n",
       "\t 1978 & 11 & north & 174.677\\\\\n",
       "\t 1978 & 11 & south & 238.446\\\\\n",
       "\t 1978 & 12 & north & 218.673\\\\\n",
       "\t 1978 & 12 & south & 166.324\\\\\n",
       "\\end{tabular}\n"
      ],
      "text/markdown": [
       "\n",
       "A grouped_df: 6 × 4\n",
       "\n",
       "| Year &lt;int&gt; | Month &lt;int&gt; | hemisphere &lt;chr&gt; | Monthly_Extent &lt;dbl&gt; |\n",
       "|---|---|---|---|\n",
       "| 1978 | 10 | north |  31.208 |\n",
       "| 1978 | 10 | south |  53.097 |\n",
       "| 1978 | 11 | north | 174.677 |\n",
       "| 1978 | 11 | south | 238.446 |\n",
       "| 1978 | 12 | north | 218.673 |\n",
       "| 1978 | 12 | south | 166.324 |\n",
       "\n"
      ],
      "text/plain": [
       "  Year Month hemisphere Monthly_Extent\n",
       "1 1978 10    north       31.208       \n",
       "2 1978 10    south       53.097       \n",
       "3 1978 11    north      174.677       \n",
       "4 1978 11    south      238.446       \n",
       "5 1978 12    north      218.673       \n",
       "6 1978 12    south      166.324       "
      ]
     },
     "metadata": {},
     "output_type": "display_data"
    }
   ],
   "source": [
    "head(dfice)"
   ]
  },
  {
   "cell_type": "code",
   "execution_count": 8,
   "metadata": {},
   "outputs": [
    {
     "data": {
      "text/html": [
       "<style>\n",
       ".list-inline {list-style: none; margin:0; padding: 0}\n",
       ".list-inline>li {display: inline-block}\n",
       ".list-inline>li:not(:last-child)::after {content: \"\\00b7\"; padding: 0 .5ex}\n",
       "</style>\n",
       "<ol class=list-inline><li>'north'</li><li>'south'</li></ol>\n"
      ],
      "text/latex": [
       "\\begin{enumerate*}\n",
       "\\item 'north'\n",
       "\\item 'south'\n",
       "\\end{enumerate*}\n"
      ],
      "text/markdown": [
       "1. 'north'\n",
       "2. 'south'\n",
       "\n",
       "\n"
      ],
      "text/plain": [
       "[1] \"north\" \"south\""
      ]
     },
     "metadata": {},
     "output_type": "display_data"
    },
    {
     "data": {
      "text/html": [
       "<style>\n",
       ".list-inline {list-style: none; margin:0; padding: 0}\n",
       ".list-inline>li {display: inline-block}\n",
       ".list-inline>li:not(:last-child)::after {content: \"\\00b7\"; padding: 0 .5ex}\n",
       "</style>\n",
       "<ol class=list-inline><li>1978</li><li>1979</li><li>1980</li><li>1981</li><li>1982</li><li>1983</li><li>1984</li><li>1985</li><li>1986</li><li>1987</li><li>1988</li><li>1989</li><li>1990</li><li>1991</li><li>1992</li><li>1993</li><li>1994</li><li>1995</li><li>1996</li><li>1997</li><li>1998</li><li>1999</li><li>2000</li><li>2001</li><li>2002</li><li>2003</li><li>2004</li><li>2005</li><li>2006</li><li>2007</li><li>2008</li><li>2009</li><li>2010</li><li>2011</li><li>2012</li><li>2013</li><li>2014</li><li>2015</li><li>2016</li><li>2017</li><li>2018</li><li>2019</li></ol>\n"
      ],
      "text/latex": [
       "\\begin{enumerate*}\n",
       "\\item 1978\n",
       "\\item 1979\n",
       "\\item 1980\n",
       "\\item 1981\n",
       "\\item 1982\n",
       "\\item 1983\n",
       "\\item 1984\n",
       "\\item 1985\n",
       "\\item 1986\n",
       "\\item 1987\n",
       "\\item 1988\n",
       "\\item 1989\n",
       "\\item 1990\n",
       "\\item 1991\n",
       "\\item 1992\n",
       "\\item 1993\n",
       "\\item 1994\n",
       "\\item 1995\n",
       "\\item 1996\n",
       "\\item 1997\n",
       "\\item 1998\n",
       "\\item 1999\n",
       "\\item 2000\n",
       "\\item 2001\n",
       "\\item 2002\n",
       "\\item 2003\n",
       "\\item 2004\n",
       "\\item 2005\n",
       "\\item 2006\n",
       "\\item 2007\n",
       "\\item 2008\n",
       "\\item 2009\n",
       "\\item 2010\n",
       "\\item 2011\n",
       "\\item 2012\n",
       "\\item 2013\n",
       "\\item 2014\n",
       "\\item 2015\n",
       "\\item 2016\n",
       "\\item 2017\n",
       "\\item 2018\n",
       "\\item 2019\n",
       "\\end{enumerate*}\n"
      ],
      "text/markdown": [
       "1. 1978\n",
       "2. 1979\n",
       "3. 1980\n",
       "4. 1981\n",
       "5. 1982\n",
       "6. 1983\n",
       "7. 1984\n",
       "8. 1985\n",
       "9. 1986\n",
       "10. 1987\n",
       "11. 1988\n",
       "12. 1989\n",
       "13. 1990\n",
       "14. 1991\n",
       "15. 1992\n",
       "16. 1993\n",
       "17. 1994\n",
       "18. 1995\n",
       "19. 1996\n",
       "20. 1997\n",
       "21. 1998\n",
       "22. 1999\n",
       "23. 2000\n",
       "24. 2001\n",
       "25. 2002\n",
       "26. 2003\n",
       "27. 2004\n",
       "28. 2005\n",
       "29. 2006\n",
       "30. 2007\n",
       "31. 2008\n",
       "32. 2009\n",
       "33. 2010\n",
       "34. 2011\n",
       "35. 2012\n",
       "36. 2013\n",
       "37. 2014\n",
       "38. 2015\n",
       "39. 2016\n",
       "40. 2017\n",
       "41. 2018\n",
       "42. 2019\n",
       "\n",
       "\n"
      ],
      "text/plain": [
       " [1] 1978 1979 1980 1981 1982 1983 1984 1985 1986 1987 1988 1989 1990 1991 1992\n",
       "[16] 1993 1994 1995 1996 1997 1998 1999 2000 2001 2002 2003 2004 2005 2006 2007\n",
       "[31] 2008 2009 2010 2011 2012 2013 2014 2015 2016 2017 2018 2019"
      ]
     },
     "metadata": {},
     "output_type": "display_data"
    },
    {
     "data": {
      "text/html": [
       "<style>\n",
       ".list-inline {list-style: none; margin:0; padding: 0}\n",
       ".list-inline>li {display: inline-block}\n",
       ".list-inline>li:not(:last-child)::after {content: \"\\00b7\"; padding: 0 .5ex}\n",
       "</style>\n",
       "<ol class=list-inline><li>10</li><li>11</li><li>12</li><li>1</li><li>2</li><li>3</li><li>4</li><li>5</li><li>6</li><li>7</li><li>8</li><li>9</li></ol>\n"
      ],
      "text/latex": [
       "\\begin{enumerate*}\n",
       "\\item 10\n",
       "\\item 11\n",
       "\\item 12\n",
       "\\item 1\n",
       "\\item 2\n",
       "\\item 3\n",
       "\\item 4\n",
       "\\item 5\n",
       "\\item 6\n",
       "\\item 7\n",
       "\\item 8\n",
       "\\item 9\n",
       "\\end{enumerate*}\n"
      ],
      "text/markdown": [
       "1. 10\n",
       "2. 11\n",
       "3. 12\n",
       "4. 1\n",
       "5. 2\n",
       "6. 3\n",
       "7. 4\n",
       "8. 5\n",
       "9. 6\n",
       "10. 7\n",
       "11. 8\n",
       "12. 9\n",
       "\n",
       "\n"
      ],
      "text/plain": [
       " [1] 10 11 12  1  2  3  4  5  6  7  8  9"
      ]
     },
     "metadata": {},
     "output_type": "display_data"
    }
   ],
   "source": [
    "unique(df$hemisphere)\n",
    "unique(df$Year)\n",
    "unique(df$Month)"
   ]
  },
  {
   "cell_type": "code",
   "execution_count": 9,
   "metadata": {},
   "outputs": [
    {
     "data": {
      "image/png": "[encoded data removed]",
      "text/plain": [
       "plot without title"
      ]
     },
     "metadata": {
      "image/png": {
       "height": 420,
       "width": 420
      }
     },
     "output_type": "display_data"
    }
   ],
   "source": [
    "p <- ggplot(dfice[dfice$Year==1979,], aes(x=Month, y= Monthly_Extent, color=hemisphere)) + geom_line(linewidth=2) + theme_bw() + \n",
    "scale_x_continuous(breaks=c(1,2,3,4,5,6,7,8,9,10,11,12)) +\n",
    "labs(x = \"Month\", y = \"Ice Extent\")\n",
    "p\n"
   ]
  },
  {
   "cell_type": "code",
   "execution_count": 10,
   "metadata": {},
   "outputs": [
    {
     "data": {
      "text/html": [
       "<table class=\"dataframe\">\n",
       "<caption>A grouped_df: 6 × 4</caption>\n",
       "<thead>\n",
       "\t<tr><th scope=col>Year</th><th scope=col>Month</th><th scope=col>hemisphere</th><th scope=col>Monthly_Extent</th></tr>\n",
       "\t<tr><th scope=col>&lt;int&gt;</th><th scope=col>&lt;int&gt;</th><th scope=col>&lt;chr&gt;</th><th scope=col>&lt;dbl&gt;</th></tr>\n",
       "</thead>\n",
       "<tbody>\n",
       "\t<tr><td>1978</td><td>10</td><td>north</td><td> 31.208</td></tr>\n",
       "\t<tr><td>1978</td><td>10</td><td>south</td><td> 53.097</td></tr>\n",
       "\t<tr><td>1978</td><td>11</td><td>north</td><td>174.677</td></tr>\n",
       "\t<tr><td>1978</td><td>11</td><td>south</td><td>238.446</td></tr>\n",
       "\t<tr><td>1978</td><td>12</td><td>north</td><td>218.673</td></tr>\n",
       "\t<tr><td>1978</td><td>12</td><td>south</td><td>166.324</td></tr>\n",
       "</tbody>\n",
       "</table>\n"
      ],
      "text/latex": [
       "A grouped\\_df: 6 × 4\n",
       "\\begin{tabular}{llll}\n",
       " Year & Month & hemisphere & Monthly\\_Extent\\\\\n",
       " <int> & <int> & <chr> & <dbl>\\\\\n",
       "\\hline\n",
       "\t 1978 & 10 & north &  31.208\\\\\n",
       "\t 1978 & 10 & south &  53.097\\\\\n",
       "\t 1978 & 11 & north & 174.677\\\\\n",
       "\t 1978 & 11 & south & 238.446\\\\\n",
       "\t 1978 & 12 & north & 218.673\\\\\n",
       "\t 1978 & 12 & south & 166.324\\\\\n",
       "\\end{tabular}\n"
      ],
      "text/markdown": [
       "\n",
       "A grouped_df: 6 × 4\n",
       "\n",
       "| Year &lt;int&gt; | Month &lt;int&gt; | hemisphere &lt;chr&gt; | Monthly_Extent &lt;dbl&gt; |\n",
       "|---|---|---|---|\n",
       "| 1978 | 10 | north |  31.208 |\n",
       "| 1978 | 10 | south |  53.097 |\n",
       "| 1978 | 11 | north | 174.677 |\n",
       "| 1978 | 11 | south | 238.446 |\n",
       "| 1978 | 12 | north | 218.673 |\n",
       "| 1978 | 12 | south | 166.324 |\n",
       "\n"
      ],
      "text/plain": [
       "  Year Month hemisphere Monthly_Extent\n",
       "1 1978 10    north       31.208       \n",
       "2 1978 10    south       53.097       \n",
       "3 1978 11    north      174.677       \n",
       "4 1978 11    south      238.446       \n",
       "5 1978 12    north      218.673       \n",
       "6 1978 12    south      166.324       "
      ]
     },
     "metadata": {},
     "output_type": "display_data"
    }
   ],
   "source": [
    "head(dfice)"
   ]
  },
  {
   "cell_type": "code",
   "execution_count": 11,
   "metadata": {},
   "outputs": [
    {
     "data": {
      "text/html": [
       "<style>\n",
       ".list-inline {list-style: none; margin:0; padding: 0}\n",
       ".list-inline>li {display: inline-block}\n",
       ".list-inline>li:not(:last-child)::after {content: \"\\00b7\"; padding: 0 .5ex}\n",
       "</style>\n",
       "<ol class=list-inline><li>'Year'</li><li>'Month'</li><li>'hemisphere'</li><li>'Monthly_Extent'</li></ol>\n"
      ],
      "text/latex": [
       "\\begin{enumerate*}\n",
       "\\item 'Year'\n",
       "\\item 'Month'\n",
       "\\item 'hemisphere'\n",
       "\\item 'Monthly\\_Extent'\n",
       "\\end{enumerate*}\n"
      ],
      "text/markdown": [
       "1. 'Year'\n",
       "2. 'Month'\n",
       "3. 'hemisphere'\n",
       "4. 'Monthly_Extent'\n",
       "\n",
       "\n"
      ],
      "text/plain": [
       "[1] \"Year\"           \"Month\"          \"hemisphere\"     \"Monthly_Extent\""
      ]
     },
     "metadata": {},
     "output_type": "display_data"
    },
    {
     "data": {
      "text/html": [
       "<style>\n",
       ".list-inline {list-style: none; margin:0; padding: 0}\n",
       ".list-inline>li {display: inline-block}\n",
       ".list-inline>li:not(:last-child)::after {content: \"\\00b7\"; padding: 0 .5ex}\n",
       "</style>\n",
       "<ol class=list-inline><li>'north'</li><li>'south'</li></ol>\n"
      ],
      "text/latex": [
       "\\begin{enumerate*}\n",
       "\\item 'north'\n",
       "\\item 'south'\n",
       "\\end{enumerate*}\n"
      ],
      "text/markdown": [
       "1. 'north'\n",
       "2. 'south'\n",
       "\n",
       "\n"
      ],
      "text/plain": [
       "[1] \"north\" \"south\""
      ]
     },
     "metadata": {},
     "output_type": "display_data"
    }
   ],
   "source": [
    "colnames(dfice)\n",
    "unique(df$hemisphere)"
   ]
  },
  {
   "cell_type": "code",
   "execution_count": 12,
   "metadata": {},
   "outputs": [
    {
     "data": {
      "text/html": [
       "<table class=\"dataframe\">\n",
       "<caption>A grouped_df: 2 × 4</caption>\n",
       "<thead>\n",
       "\t<tr><th scope=col>Year</th><th scope=col>Month</th><th scope=col>hemisphere</th><th scope=col>Monthly_Extent</th></tr>\n",
       "\t<tr><th scope=col>&lt;int&gt;</th><th scope=col>&lt;int&gt;</th><th scope=col>&lt;chr&gt;</th><th scope=col>&lt;dbl&gt;</th></tr>\n",
       "</thead>\n",
       "<tbody>\n",
       "\t<tr><td>1980</td><td>1</td><td>north</td><td>237.790</td></tr>\n",
       "\t<tr><td>1980</td><td>1</td><td>south</td><td> 72.992</td></tr>\n",
       "</tbody>\n",
       "</table>\n"
      ],
      "text/latex": [
       "A grouped\\_df: 2 × 4\n",
       "\\begin{tabular}{llll}\n",
       " Year & Month & hemisphere & Monthly\\_Extent\\\\\n",
       " <int> & <int> & <chr> & <dbl>\\\\\n",
       "\\hline\n",
       "\t 1980 & 1 & north & 237.790\\\\\n",
       "\t 1980 & 1 & south &  72.992\\\\\n",
       "\\end{tabular}\n"
      ],
      "text/markdown": [
       "\n",
       "A grouped_df: 2 × 4\n",
       "\n",
       "| Year &lt;int&gt; | Month &lt;int&gt; | hemisphere &lt;chr&gt; | Monthly_Extent &lt;dbl&gt; |\n",
       "|---|---|---|---|\n",
       "| 1980 | 1 | north | 237.790 |\n",
       "| 1980 | 1 | south |  72.992 |\n",
       "\n"
      ],
      "text/plain": [
       "  Year Month hemisphere Monthly_Extent\n",
       "1 1980 1     north      237.790       \n",
       "2 1980 1     south       72.992       "
      ]
     },
     "metadata": {},
     "output_type": "display_data"
    }
   ],
   "source": [
    "head(dfice[dfice$Year==1980,],2)"
   ]
  },
  {
   "cell_type": "code",
   "execution_count": 22,
   "metadata": {},
   "outputs": [
    {
     "name": "stdout",
     "output_type": "stream",
     "text": [
      "package 'gifski' successfully unpacked and MD5 sums checked\n",
      "\n",
      "The downloaded binary packages are in\n",
      "\tC:\\Users\\lukeh\\AppData\\Local\\Temp\\RtmpIxt91W\\downloaded_packages\n"
     ]
    }
   ],
   "source": [
    "  install.packages(\"gifski\")\n",
    "  library(\"gifski\")"
   ]
  },
  {
   "cell_type": "code",
   "execution_count": 23,
   "metadata": {},
   "outputs": [
    {
     "name": "stderr",
     "output_type": "stream",
     "text": [
      "Warning message:\n",
      "\"file_renderer failed to copy frames to the destination directory\"\n",
      "ERROR while rich displaying an object: Error in loadNamespace(x): there is no package called 'plotly'\n",
      "\n",
      "Traceback:\n",
      "1. tryCatch(withCallingHandlers({\n",
      " .     if (!mime %in% names(repr::mime2repr)) \n",
      " .         stop(\"No repr_* for mimetype \", mime, \" in repr::mime2repr\")\n",
      " .     rpr <- repr::mime2repr[[mime]](obj)\n",
      " .     if (is.null(rpr)) \n",
      " .         return(NULL)\n",
      " .     prepare_content(is.raw(rpr), rpr)\n",
      " . }, error = error_handler), error = outer_handler)\n",
      "2. tryCatchList(expr, classes, parentenv, handlers)\n",
      "3. tryCatchOne(expr, names, parentenv, handlers[[1L]])\n",
      "4. doTryCatch(return(expr), name, parentenv, handler)\n",
      "5. withCallingHandlers({\n",
      " .     if (!mime %in% names(repr::mime2repr)) \n",
      " .         stop(\"No repr_* for mimetype \", mime, \" in repr::mime2repr\")\n",
      " .     rpr <- repr::mime2repr[[mime]](obj)\n",
      " .     if (is.null(rpr)) \n",
      " .         return(NULL)\n",
      " .     prepare_content(is.raw(rpr), rpr)\n",
      " . }, error = error_handler)\n",
      "6. repr::mime2repr[[mime]](obj)\n",
      "7. repr_plotly1.ggplot(obj)\n",
      "8. fromJSON(plotly::plotly_json(obj, jsonedit = FALSE))\n",
      "9. loadNamespace(x)\n",
      "10. withRestarts(stop(cond), retry_loadNamespace = function() NULL)\n",
      "11. withOneRestart(expr, restarts[[1L]])\n",
      "12. doWithOneRestart(return(expr), restart)\n"
     ]
    },
    {
     "data": {
      "text/plain": [
       "  [1] \"./gganim_plot0001.png\" \"./gganim_plot0002.png\" \"./gganim_plot0003.png\"\n",
       "  [4] \"./gganim_plot0004.png\" \"./gganim_plot0005.png\" \"./gganim_plot0006.png\"\n",
       "  [7] \"./gganim_plot0007.png\" \"./gganim_plot0008.png\" \"./gganim_plot0009.png\"\n",
       " [10] \"./gganim_plot0010.png\" \"./gganim_plot0011.png\" \"./gganim_plot0012.png\"\n",
       " [13] \"./gganim_plot0013.png\" \"./gganim_plot0014.png\" \"./gganim_plot0015.png\"\n",
       " [16] \"./gganim_plot0016.png\" \"./gganim_plot0017.png\" \"./gganim_plot0018.png\"\n",
       " [19] \"./gganim_plot0019.png\" \"./gganim_plot0020.png\" \"./gganim_plot0021.png\"\n",
       " [22] \"./gganim_plot0022.png\" \"./gganim_plot0023.png\" \"./gganim_plot0024.png\"\n",
       " [25] \"./gganim_plot0025.png\" \"./gganim_plot0026.png\" \"./gganim_plot0027.png\"\n",
       " [28] \"./gganim_plot0028.png\" \"./gganim_plot0029.png\" \"./gganim_plot0030.png\"\n",
       " [31] \"./gganim_plot0031.png\" \"./gganim_plot0032.png\" \"./gganim_plot0033.png\"\n",
       " [34] \"./gganim_plot0034.png\" \"./gganim_plot0035.png\" \"./gganim_plot0036.png\"\n",
       " [37] \"./gganim_plot0037.png\" \"./gganim_plot0038.png\" \"./gganim_plot0039.png\"\n",
       " [40] \"./gganim_plot0040.png\" \"./gganim_plot0041.png\" \"./gganim_plot0042.png\"\n",
       " [43] \"./gganim_plot0043.png\" \"./gganim_plot0044.png\" \"./gganim_plot0045.png\"\n",
       " [46] \"./gganim_plot0046.png\" \"./gganim_plot0047.png\" \"./gganim_plot0048.png\"\n",
       " [49] \"./gganim_plot0049.png\" \"./gganim_plot0050.png\" \"./gganim_plot0051.png\"\n",
       " [52] \"./gganim_plot0052.png\" \"./gganim_plot0053.png\" \"./gganim_plot0054.png\"\n",
       " [55] \"./gganim_plot0055.png\" \"./gganim_plot0056.png\" \"./gganim_plot0057.png\"\n",
       " [58] \"./gganim_plot0058.png\" \"./gganim_plot0059.png\" \"./gganim_plot0060.png\"\n",
       " [61] \"./gganim_plot0061.png\" \"./gganim_plot0062.png\" \"./gganim_plot0063.png\"\n",
       " [64] \"./gganim_plot0064.png\" \"./gganim_plot0065.png\" \"./gganim_plot0066.png\"\n",
       " [67] \"./gganim_plot0067.png\" \"./gganim_plot0068.png\" \"./gganim_plot0069.png\"\n",
       " [70] \"./gganim_plot0070.png\" \"./gganim_plot0071.png\" \"./gganim_plot0072.png\"\n",
       " [73] \"./gganim_plot0073.png\" \"./gganim_plot0074.png\" \"./gganim_plot0075.png\"\n",
       " [76] \"./gganim_plot0076.png\" \"./gganim_plot0077.png\" \"./gganim_plot0078.png\"\n",
       " [79] \"./gganim_plot0079.png\" \"./gganim_plot0080.png\" \"./gganim_plot0081.png\"\n",
       " [82] \"./gganim_plot0082.png\" \"./gganim_plot0083.png\" \"./gganim_plot0084.png\"\n",
       " [85] \"./gganim_plot0085.png\" \"./gganim_plot0086.png\" \"./gganim_plot0087.png\"\n",
       " [88] \"./gganim_plot0088.png\" \"./gganim_plot0089.png\" \"./gganim_plot0090.png\"\n",
       " [91] \"./gganim_plot0091.png\" \"./gganim_plot0092.png\" \"./gganim_plot0093.png\"\n",
       " [94] \"./gganim_plot0094.png\" \"./gganim_plot0095.png\" \"./gganim_plot0096.png\"\n",
       " [97] \"./gganim_plot0097.png\" \"./gganim_plot0098.png\" \"./gganim_plot0099.png\"\n",
       "[100] \"./gganim_plot0100.png\"\n",
       "attr(,\"frame_vars\")\n",
       "    frame nframes progress frame_time\n",
       "1       1     100     0.01       1978\n",
       "2       2     100     0.02       1978\n",
       "3       3     100     0.03       1979\n",
       "4       4     100     0.04       1979\n",
       "5       5     100     0.05       1980\n",
       "6       6     100     0.06       1980\n",
       "7       7     100     0.07       1980\n",
       "8       8     100     0.08       1981\n",
       "9       9     100     0.09       1981\n",
       "10     10     100     0.10       1982\n",
       "11     11     100     0.11       1982\n",
       "12     12     100     0.12       1983\n",
       "13     13     100     0.13       1983\n",
       "14     14     100     0.14       1983\n",
       "15     15     100     0.15       1984\n",
       "16     16     100     0.16       1984\n",
       "17     17     100     0.17       1985\n",
       "18     18     100     0.18       1985\n",
       "19     19     100     0.19       1985\n",
       "20     20     100     0.20       1986\n",
       "21     21     100     0.21       1986\n",
       "22     22     100     0.22       1987\n",
       "23     23     100     0.23       1987\n",
       "24     24     100     0.24       1988\n",
       "25     25     100     0.25       1988\n",
       "26     26     100     0.26       1988\n",
       "27     27     100     0.27       1989\n",
       "28     28     100     0.28       1989\n",
       "29     29     100     0.29       1990\n",
       "30     30     100     0.30       1990\n",
       "31     31     100     0.31       1990\n",
       "32     32     100     0.32       1991\n",
       "33     33     100     0.33       1991\n",
       "34     34     100     0.34       1992\n",
       "35     35     100     0.35       1992\n",
       "36     36     100     0.36       1992\n",
       "37     37     100     0.37       1993\n",
       "38     38     100     0.38       1993\n",
       "39     39     100     0.39       1994\n",
       "40     40     100     0.40       1994\n",
       "41     41     100     0.41       1995\n",
       "42     42     100     0.42       1995\n",
       "43     43     100     0.43       1995\n",
       "44     44     100     0.44       1996\n",
       "45     45     100     0.45       1996\n",
       "46     46     100     0.46       1997\n",
       "47     47     100     0.47       1997\n",
       "48     48     100     0.48       1997\n",
       "49     49     100     0.49       1998\n",
       "50     50     100     0.50       1998\n",
       "51     51     100     0.51       1999\n",
       "52     52     100     0.52       1999\n",
       "53     53     100     0.53       2000\n",
       "54     54     100     0.54       2000\n",
       "55     55     100     0.55       2000\n",
       "56     56     100     0.56       2001\n",
       "57     57     100     0.57       2001\n",
       "58     58     100     0.58       2002\n",
       "59     59     100     0.59       2002\n",
       "60     60     100     0.60       2002\n",
       "61     61     100     0.61       2003\n",
       "62     62     100     0.62       2003\n",
       "63     63     100     0.63       2004\n",
       "64     64     100     0.64       2004\n",
       "65     65     100     0.65       2005\n",
       "66     66     100     0.66       2005\n",
       "67     67     100     0.67       2005\n",
       "68     68     100     0.68       2006\n",
       "69     69     100     0.69       2006\n",
       "70     70     100     0.70       2007\n",
       "71     71     100     0.71       2007\n",
       "72     72     100     0.72       2007\n",
       "73     73     100     0.73       2008\n",
       "74     74     100     0.74       2008\n",
       "75     75     100     0.75       2009\n",
       "76     76     100     0.76       2009\n",
       "77     77     100     0.77       2009\n",
       "78     78     100     0.78       2010\n",
       "79     79     100     0.79       2010\n",
       "80     80     100     0.80       2011\n",
       "81     81     100     0.81       2011\n",
       "82     82     100     0.82       2012\n",
       "83     83     100     0.83       2012\n",
       "84     84     100     0.84       2012\n",
       "85     85     100     0.85       2013\n",
       "86     86     100     0.86       2013\n",
       "87     87     100     0.87       2014\n",
       "88     88     100     0.88       2014\n",
       "89     89     100     0.89       2014\n",
       "90     90     100     0.90       2015\n",
       "91     91     100     0.91       2015\n",
       "92     92     100     0.92       2016\n",
       "93     93     100     0.93       2016\n",
       "94     94     100     0.94       2017\n",
       "95     95     100     0.95       2017\n",
       "96     96     100     0.96       2017\n",
       "97     97     100     0.97       2018\n",
       "98     98     100     0.98       2018\n",
       "99     99     100     0.99       2019\n",
       "100   100     100     1.00       2019\n",
       "                                                                            frame_source\n",
       "1   C:\\\\Users\\\\lukeh\\\\AppData\\\\Local\\\\Temp\\\\RtmpIxt91W\\\\27e84e8a2db4/gganim_plot0001.png\n",
       "2   C:\\\\Users\\\\lukeh\\\\AppData\\\\Local\\\\Temp\\\\RtmpIxt91W\\\\27e84e8a2db4/gganim_plot0002.png\n",
       "3   C:\\\\Users\\\\lukeh\\\\AppData\\\\Local\\\\Temp\\\\RtmpIxt91W\\\\27e84e8a2db4/gganim_plot0003.png\n",
       "4   C:\\\\Users\\\\lukeh\\\\AppData\\\\Local\\\\Temp\\\\RtmpIxt91W\\\\27e84e8a2db4/gganim_plot0004.png\n",
       "5   C:\\\\Users\\\\lukeh\\\\AppData\\\\Local\\\\Temp\\\\RtmpIxt91W\\\\27e84e8a2db4/gganim_plot0005.png\n",
       "6   C:\\\\Users\\\\lukeh\\\\AppData\\\\Local\\\\Temp\\\\RtmpIxt91W\\\\27e84e8a2db4/gganim_plot0006.png\n",
       "7   C:\\\\Users\\\\lukeh\\\\AppData\\\\Local\\\\Temp\\\\RtmpIxt91W\\\\27e84e8a2db4/gganim_plot0007.png\n",
       "8   C:\\\\Users\\\\lukeh\\\\AppData\\\\Local\\\\Temp\\\\RtmpIxt91W\\\\27e84e8a2db4/gganim_plot0008.png\n",
       "9   C:\\\\Users\\\\lukeh\\\\AppData\\\\Local\\\\Temp\\\\RtmpIxt91W\\\\27e84e8a2db4/gganim_plot0009.png\n",
       "10  C:\\\\Users\\\\lukeh\\\\AppData\\\\Local\\\\Temp\\\\RtmpIxt91W\\\\27e84e8a2db4/gganim_plot0010.png\n",
       "11  C:\\\\Users\\\\lukeh\\\\AppData\\\\Local\\\\Temp\\\\RtmpIxt91W\\\\27e84e8a2db4/gganim_plot0011.png\n",
       "12  C:\\\\Users\\\\lukeh\\\\AppData\\\\Local\\\\Temp\\\\RtmpIxt91W\\\\27e84e8a2db4/gganim_plot0012.png\n",
       "13  C:\\\\Users\\\\lukeh\\\\AppData\\\\Local\\\\Temp\\\\RtmpIxt91W\\\\27e84e8a2db4/gganim_plot0013.png\n",
       "14  C:\\\\Users\\\\lukeh\\\\AppData\\\\Local\\\\Temp\\\\RtmpIxt91W\\\\27e84e8a2db4/gganim_plot0014.png\n",
       "15  C:\\\\Users\\\\lukeh\\\\AppData\\\\Local\\\\Temp\\\\RtmpIxt91W\\\\27e84e8a2db4/gganim_plot0015.png\n",
       "16  C:\\\\Users\\\\lukeh\\\\AppData\\\\Local\\\\Temp\\\\RtmpIxt91W\\\\27e84e8a2db4/gganim_plot0016.png\n",
       "17  C:\\\\Users\\\\lukeh\\\\AppData\\\\Local\\\\Temp\\\\RtmpIxt91W\\\\27e84e8a2db4/gganim_plot0017.png\n",
       "18  C:\\\\Users\\\\lukeh\\\\AppData\\\\Local\\\\Temp\\\\RtmpIxt91W\\\\27e84e8a2db4/gganim_plot0018.png\n",
       "19  C:\\\\Users\\\\lukeh\\\\AppData\\\\Local\\\\Temp\\\\RtmpIxt91W\\\\27e84e8a2db4/gganim_plot0019.png\n",
       "20  C:\\\\Users\\\\lukeh\\\\AppData\\\\Local\\\\Temp\\\\RtmpIxt91W\\\\27e84e8a2db4/gganim_plot0020.png\n",
       "21  C:\\\\Users\\\\lukeh\\\\AppData\\\\Local\\\\Temp\\\\RtmpIxt91W\\\\27e84e8a2db4/gganim_plot0021.png\n",
       "22  C:\\\\Users\\\\lukeh\\\\AppData\\\\Local\\\\Temp\\\\RtmpIxt91W\\\\27e84e8a2db4/gganim_plot0022.png\n",
       "23  C:\\\\Users\\\\lukeh\\\\AppData\\\\Local\\\\Temp\\\\RtmpIxt91W\\\\27e84e8a2db4/gganim_plot0023.png\n",
       "24  C:\\\\Users\\\\lukeh\\\\AppData\\\\Local\\\\Temp\\\\RtmpIxt91W\\\\27e84e8a2db4/gganim_plot0024.png\n",
       "25  C:\\\\Users\\\\lukeh\\\\AppData\\\\Local\\\\Temp\\\\RtmpIxt91W\\\\27e84e8a2db4/gganim_plot0025.png\n",
       "26  C:\\\\Users\\\\lukeh\\\\AppData\\\\Local\\\\Temp\\\\RtmpIxt91W\\\\27e84e8a2db4/gganim_plot0026.png\n",
       "27  C:\\\\Users\\\\lukeh\\\\AppData\\\\Local\\\\Temp\\\\RtmpIxt91W\\\\27e84e8a2db4/gganim_plot0027.png\n",
       "28  C:\\\\Users\\\\lukeh\\\\AppData\\\\Local\\\\Temp\\\\RtmpIxt91W\\\\27e84e8a2db4/gganim_plot0028.png\n",
       "29  C:\\\\Users\\\\lukeh\\\\AppData\\\\Local\\\\Temp\\\\RtmpIxt91W\\\\27e84e8a2db4/gganim_plot0029.png\n",
       "30  C:\\\\Users\\\\lukeh\\\\AppData\\\\Local\\\\Temp\\\\RtmpIxt91W\\\\27e84e8a2db4/gganim_plot0030.png\n",
       "31  C:\\\\Users\\\\lukeh\\\\AppData\\\\Local\\\\Temp\\\\RtmpIxt91W\\\\27e84e8a2db4/gganim_plot0031.png\n",
       "32  C:\\\\Users\\\\lukeh\\\\AppData\\\\Local\\\\Temp\\\\RtmpIxt91W\\\\27e84e8a2db4/gganim_plot0032.png\n",
       "33  C:\\\\Users\\\\lukeh\\\\AppData\\\\Local\\\\Temp\\\\RtmpIxt91W\\\\27e84e8a2db4/gganim_plot0033.png\n",
       "34  C:\\\\Users\\\\lukeh\\\\AppData\\\\Local\\\\Temp\\\\RtmpIxt91W\\\\27e84e8a2db4/gganim_plot0034.png\n",
       "35  C:\\\\Users\\\\lukeh\\\\AppData\\\\Local\\\\Temp\\\\RtmpIxt91W\\\\27e84e8a2db4/gganim_plot0035.png\n",
       "36  C:\\\\Users\\\\lukeh\\\\AppData\\\\Local\\\\Temp\\\\RtmpIxt91W\\\\27e84e8a2db4/gganim_plot0036.png\n",
       "37  C:\\\\Users\\\\lukeh\\\\AppData\\\\Local\\\\Temp\\\\RtmpIxt91W\\\\27e84e8a2db4/gganim_plot0037.png\n",
       "38  C:\\\\Users\\\\lukeh\\\\AppData\\\\Local\\\\Temp\\\\RtmpIxt91W\\\\27e84e8a2db4/gganim_plot0038.png\n",
       "39  C:\\\\Users\\\\lukeh\\\\AppData\\\\Local\\\\Temp\\\\RtmpIxt91W\\\\27e84e8a2db4/gganim_plot0039.png\n",
       "40  C:\\\\Users\\\\lukeh\\\\AppData\\\\Local\\\\Temp\\\\RtmpIxt91W\\\\27e84e8a2db4/gganim_plot0040.png\n",
       "41  C:\\\\Users\\\\lukeh\\\\AppData\\\\Local\\\\Temp\\\\RtmpIxt91W\\\\27e84e8a2db4/gganim_plot0041.png\n",
       "42  C:\\\\Users\\\\lukeh\\\\AppData\\\\Local\\\\Temp\\\\RtmpIxt91W\\\\27e84e8a2db4/gganim_plot0042.png\n",
       "43  C:\\\\Users\\\\lukeh\\\\AppData\\\\Local\\\\Temp\\\\RtmpIxt91W\\\\27e84e8a2db4/gganim_plot0043.png\n",
       "44  C:\\\\Users\\\\lukeh\\\\AppData\\\\Local\\\\Temp\\\\RtmpIxt91W\\\\27e84e8a2db4/gganim_plot0044.png\n",
       "45  C:\\\\Users\\\\lukeh\\\\AppData\\\\Local\\\\Temp\\\\RtmpIxt91W\\\\27e84e8a2db4/gganim_plot0045.png\n",
       "46  C:\\\\Users\\\\lukeh\\\\AppData\\\\Local\\\\Temp\\\\RtmpIxt91W\\\\27e84e8a2db4/gganim_plot0046.png\n",
       "47  C:\\\\Users\\\\lukeh\\\\AppData\\\\Local\\\\Temp\\\\RtmpIxt91W\\\\27e84e8a2db4/gganim_plot0047.png\n",
       "48  C:\\\\Users\\\\lukeh\\\\AppData\\\\Local\\\\Temp\\\\RtmpIxt91W\\\\27e84e8a2db4/gganim_plot0048.png\n",
       "49  C:\\\\Users\\\\lukeh\\\\AppData\\\\Local\\\\Temp\\\\RtmpIxt91W\\\\27e84e8a2db4/gganim_plot0049.png\n",
       "50  C:\\\\Users\\\\lukeh\\\\AppData\\\\Local\\\\Temp\\\\RtmpIxt91W\\\\27e84e8a2db4/gganim_plot0050.png\n",
       "51  C:\\\\Users\\\\lukeh\\\\AppData\\\\Local\\\\Temp\\\\RtmpIxt91W\\\\27e84e8a2db4/gganim_plot0051.png\n",
       "52  C:\\\\Users\\\\lukeh\\\\AppData\\\\Local\\\\Temp\\\\RtmpIxt91W\\\\27e84e8a2db4/gganim_plot0052.png\n",
       "53  C:\\\\Users\\\\lukeh\\\\AppData\\\\Local\\\\Temp\\\\RtmpIxt91W\\\\27e84e8a2db4/gganim_plot0053.png\n",
       "54  C:\\\\Users\\\\lukeh\\\\AppData\\\\Local\\\\Temp\\\\RtmpIxt91W\\\\27e84e8a2db4/gganim_plot0054.png\n",
       "55  C:\\\\Users\\\\lukeh\\\\AppData\\\\Local\\\\Temp\\\\RtmpIxt91W\\\\27e84e8a2db4/gganim_plot0055.png\n",
       "56  C:\\\\Users\\\\lukeh\\\\AppData\\\\Local\\\\Temp\\\\RtmpIxt91W\\\\27e84e8a2db4/gganim_plot0056.png\n",
       "57  C:\\\\Users\\\\lukeh\\\\AppData\\\\Local\\\\Temp\\\\RtmpIxt91W\\\\27e84e8a2db4/gganim_plot0057.png\n",
       "58  C:\\\\Users\\\\lukeh\\\\AppData\\\\Local\\\\Temp\\\\RtmpIxt91W\\\\27e84e8a2db4/gganim_plot0058.png\n",
       "59  C:\\\\Users\\\\lukeh\\\\AppData\\\\Local\\\\Temp\\\\RtmpIxt91W\\\\27e84e8a2db4/gganim_plot0059.png\n",
       "60  C:\\\\Users\\\\lukeh\\\\AppData\\\\Local\\\\Temp\\\\RtmpIxt91W\\\\27e84e8a2db4/gganim_plot0060.png\n",
       "61  C:\\\\Users\\\\lukeh\\\\AppData\\\\Local\\\\Temp\\\\RtmpIxt91W\\\\27e84e8a2db4/gganim_plot0061.png\n",
       "62  C:\\\\Users\\\\lukeh\\\\AppData\\\\Local\\\\Temp\\\\RtmpIxt91W\\\\27e84e8a2db4/gganim_plot0062.png\n",
       "63  C:\\\\Users\\\\lukeh\\\\AppData\\\\Local\\\\Temp\\\\RtmpIxt91W\\\\27e84e8a2db4/gganim_plot0063.png\n",
       "64  C:\\\\Users\\\\lukeh\\\\AppData\\\\Local\\\\Temp\\\\RtmpIxt91W\\\\27e84e8a2db4/gganim_plot0064.png\n",
       "65  C:\\\\Users\\\\lukeh\\\\AppData\\\\Local\\\\Temp\\\\RtmpIxt91W\\\\27e84e8a2db4/gganim_plot0065.png\n",
       "66  C:\\\\Users\\\\lukeh\\\\AppData\\\\Local\\\\Temp\\\\RtmpIxt91W\\\\27e84e8a2db4/gganim_plot0066.png\n",
       "67  C:\\\\Users\\\\lukeh\\\\AppData\\\\Local\\\\Temp\\\\RtmpIxt91W\\\\27e84e8a2db4/gganim_plot0067.png\n",
       "68  C:\\\\Users\\\\lukeh\\\\AppData\\\\Local\\\\Temp\\\\RtmpIxt91W\\\\27e84e8a2db4/gganim_plot0068.png\n",
       "69  C:\\\\Users\\\\lukeh\\\\AppData\\\\Local\\\\Temp\\\\RtmpIxt91W\\\\27e84e8a2db4/gganim_plot0069.png\n",
       "70  C:\\\\Users\\\\lukeh\\\\AppData\\\\Local\\\\Temp\\\\RtmpIxt91W\\\\27e84e8a2db4/gganim_plot0070.png\n",
       "71  C:\\\\Users\\\\lukeh\\\\AppData\\\\Local\\\\Temp\\\\RtmpIxt91W\\\\27e84e8a2db4/gganim_plot0071.png\n",
       "72  C:\\\\Users\\\\lukeh\\\\AppData\\\\Local\\\\Temp\\\\RtmpIxt91W\\\\27e84e8a2db4/gganim_plot0072.png\n",
       "73  C:\\\\Users\\\\lukeh\\\\AppData\\\\Local\\\\Temp\\\\RtmpIxt91W\\\\27e84e8a2db4/gganim_plot0073.png\n",
       "74  C:\\\\Users\\\\lukeh\\\\AppData\\\\Local\\\\Temp\\\\RtmpIxt91W\\\\27e84e8a2db4/gganim_plot0074.png\n",
       "75  C:\\\\Users\\\\lukeh\\\\AppData\\\\Local\\\\Temp\\\\RtmpIxt91W\\\\27e84e8a2db4/gganim_plot0075.png\n",
       "76  C:\\\\Users\\\\lukeh\\\\AppData\\\\Local\\\\Temp\\\\RtmpIxt91W\\\\27e84e8a2db4/gganim_plot0076.png\n",
       "77  C:\\\\Users\\\\lukeh\\\\AppData\\\\Local\\\\Temp\\\\RtmpIxt91W\\\\27e84e8a2db4/gganim_plot0077.png\n",
       "78  C:\\\\Users\\\\lukeh\\\\AppData\\\\Local\\\\Temp\\\\RtmpIxt91W\\\\27e84e8a2db4/gganim_plot0078.png\n",
       "79  C:\\\\Users\\\\lukeh\\\\AppData\\\\Local\\\\Temp\\\\RtmpIxt91W\\\\27e84e8a2db4/gganim_plot0079.png\n",
       "80  C:\\\\Users\\\\lukeh\\\\AppData\\\\Local\\\\Temp\\\\RtmpIxt91W\\\\27e84e8a2db4/gganim_plot0080.png\n",
       "81  C:\\\\Users\\\\lukeh\\\\AppData\\\\Local\\\\Temp\\\\RtmpIxt91W\\\\27e84e8a2db4/gganim_plot0081.png\n",
       "82  C:\\\\Users\\\\lukeh\\\\AppData\\\\Local\\\\Temp\\\\RtmpIxt91W\\\\27e84e8a2db4/gganim_plot0082.png\n",
       "83  C:\\\\Users\\\\lukeh\\\\AppData\\\\Local\\\\Temp\\\\RtmpIxt91W\\\\27e84e8a2db4/gganim_plot0083.png\n",
       "84  C:\\\\Users\\\\lukeh\\\\AppData\\\\Local\\\\Temp\\\\RtmpIxt91W\\\\27e84e8a2db4/gganim_plot0084.png\n",
       "85  C:\\\\Users\\\\lukeh\\\\AppData\\\\Local\\\\Temp\\\\RtmpIxt91W\\\\27e84e8a2db4/gganim_plot0085.png\n",
       "86  C:\\\\Users\\\\lukeh\\\\AppData\\\\Local\\\\Temp\\\\RtmpIxt91W\\\\27e84e8a2db4/gganim_plot0086.png\n",
       "87  C:\\\\Users\\\\lukeh\\\\AppData\\\\Local\\\\Temp\\\\RtmpIxt91W\\\\27e84e8a2db4/gganim_plot0087.png\n",
       "88  C:\\\\Users\\\\lukeh\\\\AppData\\\\Local\\\\Temp\\\\RtmpIxt91W\\\\27e84e8a2db4/gganim_plot0088.png\n",
       "89  C:\\\\Users\\\\lukeh\\\\AppData\\\\Local\\\\Temp\\\\RtmpIxt91W\\\\27e84e8a2db4/gganim_plot0089.png\n",
       "90  C:\\\\Users\\\\lukeh\\\\AppData\\\\Local\\\\Temp\\\\RtmpIxt91W\\\\27e84e8a2db4/gganim_plot0090.png\n",
       "91  C:\\\\Users\\\\lukeh\\\\AppData\\\\Local\\\\Temp\\\\RtmpIxt91W\\\\27e84e8a2db4/gganim_plot0091.png\n",
       "92  C:\\\\Users\\\\lukeh\\\\AppData\\\\Local\\\\Temp\\\\RtmpIxt91W\\\\27e84e8a2db4/gganim_plot0092.png\n",
       "93  C:\\\\Users\\\\lukeh\\\\AppData\\\\Local\\\\Temp\\\\RtmpIxt91W\\\\27e84e8a2db4/gganim_plot0093.png\n",
       "94  C:\\\\Users\\\\lukeh\\\\AppData\\\\Local\\\\Temp\\\\RtmpIxt91W\\\\27e84e8a2db4/gganim_plot0094.png\n",
       "95  C:\\\\Users\\\\lukeh\\\\AppData\\\\Local\\\\Temp\\\\RtmpIxt91W\\\\27e84e8a2db4/gganim_plot0095.png\n",
       "96  C:\\\\Users\\\\lukeh\\\\AppData\\\\Local\\\\Temp\\\\RtmpIxt91W\\\\27e84e8a2db4/gganim_plot0096.png\n",
       "97  C:\\\\Users\\\\lukeh\\\\AppData\\\\Local\\\\Temp\\\\RtmpIxt91W\\\\27e84e8a2db4/gganim_plot0097.png\n",
       "98  C:\\\\Users\\\\lukeh\\\\AppData\\\\Local\\\\Temp\\\\RtmpIxt91W\\\\27e84e8a2db4/gganim_plot0098.png\n",
       "99  C:\\\\Users\\\\lukeh\\\\AppData\\\\Local\\\\Temp\\\\RtmpIxt91W\\\\27e84e8a2db4/gganim_plot0099.png\n",
       "100 C:\\\\Users\\\\lukeh\\\\AppData\\\\Local\\\\Temp\\\\RtmpIxt91W\\\\27e84e8a2db4/gganim_plot0100.png"
      ]
     },
     "metadata": {},
     "output_type": "display_data"
    },
    {
     "ename": "ERROR",
     "evalue": "Error: The animation object does not specify a save_animation method\n",
     "output_type": "error",
     "traceback": [
      "Error: The animation object does not specify a save_animation method\nTraceback:\n",
      "1. anim_save(\"GP5.gif\", animation = last_animation(), renderer = gifski_renderer())",
      "2. save_animation(animation, filename)",
      "3. save_animation.default(animation, filename)",
      "4. stop(\"The animation object does not specify a save_animation method\", \n .     call. = FALSE)"
     ]
    }
   ],
   "source": [
    "options(repr.plot.width=12,repr.plot.height=6)\n",
    "ggplot(dfice, aes(x = Month, y = Monthly_Extent,  color=hemisphere, size=2))+theme_bw() +\n",
    " geom_point(aes(size=2))+\n",
    " guides(size = FALSE)+  \n",
    " labs(subtitle = 'Year: {frame_time}',\n",
    "       title = 'Sea Ice Extents',\n",
    "       x = 'Month', y = 'Ice Extent (10^6 sq km)',  fill='hemisphere')+\n",
    "  transition_time(Year) +\n",
    "scale_x_continuous(breaks=c(1,2,3,4,5,6,7,8,9,10,11,12)) \n",
    "\n",
    "anim_save(\"GP5.gif\", animation = last_animation(), renderer = gifski_renderer())\n",
    "display_gif <- function(raw){\n",
    "    contents <- base64enc::base64encode(raw)\n",
    "    tag <- '<img src=\"data:image/gif;base64,%s\">'\n",
    "    IRdisplay::display_html(sprintf(tag, contents))\n",
    "}\n",
    "display_gif(\"GP5.gif\")"
   ]
  },
  {
   "cell_type": "markdown",
   "metadata": {},
   "source": [
    "# Interactive stream graphs\n",
    "\n",
    " R has a tool and a htmlwidget that allows interactive use of streamgraphs using the babynames dataset.\n",
    " \n",
    " Importantly, this dataset has zero or one entries per name per year, giving the number of children registered with that name.  Streamgraph uses the time (year) on the x-axis, the count (n) on the y-axis (i.e. width, or wt) and uses stacked area colours to show the names.  The filter allows the programmer to specify a range of, in this case, names.  A pop-up box allows the user to select one of the names in the range and this name is highlighted."
   ]
  },
  {
   "cell_type": "code",
   "execution_count": 14,
   "metadata": {},
   "outputs": [
    {
     "ename": "ERROR",
     "evalue": "Error in library(babynames): there is no package called 'babynames'\n",
     "output_type": "error",
     "traceback": [
      "Error in library(babynames): there is no package called 'babynames'\nTraceback:\n",
      "1. library(babynames)"
     ]
    }
   ],
   "source": [
    "#install.packages(\"babynames\")\n",
    "library(babynames)"
   ]
  },
  {
   "cell_type": "code",
   "execution_count": 15,
   "metadata": {},
   "outputs": [
    {
     "ename": "ERROR",
     "evalue": "Error in str(babynames): object 'babynames' not found\n",
     "output_type": "error",
     "traceback": [
      "Error in str(babynames): object 'babynames' not found\nTraceback:\n",
      "1. str(babynames)"
     ]
    }
   ],
   "source": [
    "str(babynames)"
   ]
  },
  {
   "cell_type": "code",
   "execution_count": 16,
   "metadata": {},
   "outputs": [
    {
     "ename": "ERROR",
     "evalue": "Error in filter(., grepl(\"^Pat\", name)): object 'babynames' not found\n",
     "output_type": "error",
     "traceback": [
      "Error in filter(., grepl(\"^Pat\", name)): object 'babynames' not found\nTraceback:\n",
      "1. babynames %>% filter(grepl(\"^Pat\", name)) %>% group_by(year, \n .     name) %>% tally(wt = n) %>% streamgraph(\"name\", \"n\", \"year\", \n .     offset = \"zero\", interpolate = \"linear\") %>% sg_legend(show = TRUE, \n .     label = \"Pat - names: \")",
      "2. sg_legend(., show = TRUE, label = \"Pat - names: \")",
      "3. streamgraph(., \"name\", \"n\", \"year\", offset = \"zero\", interpolate = \"linear\")",
      "4. data.frame(data)",
      "5. tally(., wt = n)",
      "6. group_by(., year, name)",
      "7. filter(., grepl(\"^Pat\", name))"
     ]
    }
   ],
   "source": [
    "babynames %>%\n",
    "  filter(grepl(\"^Pat\", name)) %>%\n",
    "  group_by(year, name) %>%\n",
    "  tally(wt=n) %>%\n",
    "  streamgraph(\"name\", \"n\", \"year\", offset=\"zero\", interpolate=\"linear\") %>%\n",
    "  sg_legend(show=TRUE, label=\"Pat - names: \")"
   ]
  },
  {
   "cell_type": "markdown",
   "metadata": {},
   "source": [
    "### Using ggstream\n",
    "\n",
    "ggstream is a package that allows the user to do static stream charts, which are easier to interpret when there is no possibility for interacting.  The following charts took lists of popular names from 1950, 1980 and 2023.  In each case, the graph is followed by one generated through streamgraph."
   ]
  },
  {
   "cell_type": "code",
   "execution_count": 20,
   "metadata": {},
   "outputs": [
    {
     "ename": "ERROR",
     "evalue": "Error in install.package(babynames): could not find function \"install.package\"\n",
     "output_type": "error",
     "traceback": [
      "Error in install.package(babynames): could not find function \"install.package\"\nTraceback:\n"
     ]
    }
   ],
   "source": [
    "install.package(babynames)"
   ]
  },
  {
   "cell_type": "code",
   "execution_count": 17,
   "metadata": {},
   "outputs": [
    {
     "ename": "ERROR",
     "evalue": "Error in eval(expr, envir, enclos): object 'babynames' not found\n",
     "output_type": "error",
     "traceback": [
      "Error in eval(expr, envir, enclos): object 'babynames' not found\nTraceback:\n"
     ]
    }
   ],
   "source": [
    "list1950 <- c(\"Linda\",\"James\",\"Mary\",\"Robert\",\"Patricia\",\"John\",\"Barbara\",\"Michael\",\"Susan\",\"David\")\n",
    "\n",
    "names1950s <- babynames[babynames$name %in% list1950,]\n",
    "names1950s <-names1950s %>%\n",
    "group_by(name,year) %>%\n",
    "summarise_at(vars(n), list(total=sum))\n",
    "#head(names1950s)\n",
    "ggplot (names1950s, aes(x=year, y=total, fill=name)) + geom_stream()"
   ]
  },
  {
   "cell_type": "code",
   "execution_count": 18,
   "metadata": {},
   "outputs": [
    {
     "ename": "ERROR",
     "evalue": "Error in data.frame(data): object 'names1950s' not found\n",
     "output_type": "error",
     "traceback": [
      "Error in data.frame(data): object 'names1950s' not found\nTraceback:\n",
      "1. names1950s %>% streamgraph(key = \"name\", value = \"total\", date = \"year\") %>% \n .     sg_fill_brewer(\"PuOr\")",
      "2. sg_fill_brewer(., \"PuOr\")",
      "3. streamgraph(., key = \"name\", value = \"total\", date = \"year\")",
      "4. data.frame(data)"
     ]
    }
   ],
   "source": [
    "\n",
    "names1950s%>% \n",
    "  streamgraph(key=\"name\", value=\"total\", date=\"year\") %>%\n",
    "  sg_fill_brewer(\"PuOr\")\n"
   ]
  },
  {
   "cell_type": "code",
   "execution_count": null,
   "metadata": {},
   "outputs": [],
   "source": [
    "list1990 <- c(\"Michael\", \"Jessica\", \"Christopher\", \"Ashley\", \"Matthew\", \"Emily\", \"Joshua\", \"Sarah\", \"Jacob\", \"Samantha\")\n",
    "names1990s <- babynames[babynames$name %in% list1990,]\n",
    "names1990s <-names1990s %>%\n",
    "group_by(name,year) %>%\n",
    "summarise_at(vars(n), list(total=sum))\n",
    "#head(names1990s)\n",
    "names1990s%>% \n",
    "  streamgraph(key=\"name\", value=\"total\", date=\"year\") %>%\n",
    "  sg_fill_brewer(\"PuOr\")"
   ]
  },
  {
   "cell_type": "code",
   "execution_count": null,
   "metadata": {},
   "outputs": [],
   "source": [
    "ggplot (names1990s, aes(x=year, y=total, fill=name)) + geom_stream()"
   ]
  },
  {
   "cell_type": "code",
   "execution_count": null,
   "metadata": {},
   "outputs": [],
   "source": [
    "\n",
    "list2023 <- c(\"Luxury\", \"Maeve\", \"Aurelia\", \"Isla\", \"Luna\", \"Kylian\", \"Theodore\", \"Atticus\", \"Felix\", \"Silas\")\n",
    "names2023 <- babynames[babynames$name %in% list2023,]\n",
    "names2023 <-names2023 %>%\n",
    "group_by(name,year) %>%\n",
    "summarise_at(vars(n), list(total=sum))\n",
    "#head(names2023)\n",
    "ggplot (names2023, aes(x=year, y=total, fill=name)) + geom_stream()"
   ]
  },
  {
   "cell_type": "code",
   "execution_count": null,
   "metadata": {},
   "outputs": [],
   "source": [
    "names2023%>% \n",
    "  streamgraph(key=\"name\", value=\"total\", date=\"year\") %>%\n",
    "  sg_fill_brewer(\"PuOr\")"
   ]
  },
  {
   "cell_type": "code",
   "execution_count": null,
   "metadata": {},
   "outputs": [],
   "source": []
  }
 ],
 "metadata": {
  "kernelspec": {
   "display_name": "R",
   "language": "R",
   "name": "ir"
  },
  "language_info": {
   "codemirror_mode": "r",
   "file_extension": ".r",
   "mimetype": "text/x-r-source",
   "name": "R",
   "pygments_lexer": "r",
   "version": "4.1.3"
  }
 },
 "nbformat": 4,
 "nbformat_minor": 4
}
